{
 "cells": [
  {
   "cell_type": "code",
   "execution_count": 1,
   "metadata": {
    "collapsed": true
   },
   "outputs": [],
   "source": [
    "import pandas as pd\n",
    "import numpy as np\n",
    "import sklearn\n",
    "import seaborn as sns\n",
    "%matplotlib inline\n",
    "import collections\n",
    "import matplotlib\n",
    "import matplotlib.pyplot as plt\n",
    "import numpy as np\n",
    "import pandas as pd\n",
    "import scipy.sparse as sp_sparse\n",
    "import tables\n",
    "import gc\n",
    "import gzip\n",
    "from scipy.sparse import coo_matrix\n",
    "from sklearn.preprocessing import normalize\n",
    "import pickle"
   ]
  },
  {
   "cell_type": "markdown",
   "metadata": {},
   "source": [
    "# Load raw TCCs into memory"
   ]
  },
  {
   "cell_type": "code",
   "execution_count": 3,
   "metadata": {
    "collapsed": true
   },
   "outputs": [],
   "source": [
    "tsvfile_dir = '/home/vasilis/clustering_EQ/10x_DATASETS/MemoryNaive/UTR_TCC/TCC_output_UTR/matrix.tsv'\n",
    "COOinput = pd.read_csv( tsvfile_dir, delimiter='\\t',header=None, dtype=int)\n",
    "\n",
    "A=COOinput.as_matrix()\n",
    "\n",
    "rows,cols,data = A.T"
   ]
  },
  {
   "cell_type": "code",
   "execution_count": 4,
   "metadata": {},
   "outputs": [
    {
     "name": "stdout",
     "output_type": "stream",
     "text": [
      "NUM_OF_CELLS = 31834\n"
     ]
    }
   ],
   "source": [
    "nonzero_ec = np.unique(rows)\n",
    "map_rows = { val:ind for ind,val in enumerate( nonzero_ec ) }\n",
    "map_cols = { val:ind for ind,val in enumerate( np.unique(cols) ) }\n",
    "TCCmatrix   = coo_matrix( (data.astype(float),( [map_rows[r] for r in rows], [map_cols[c] for c in cols]) ) ) \n",
    "\n",
    "NUM_OF_CELLS = TCCmatrix.shape[1]\n",
    "print(\"NUM_OF_CELLS =\", NUM_OF_CELLS)\n",
    "      \n",
    "T = TCCmatrix.tocsr()"
   ]
  },
  {
   "cell_type": "code",
   "execution_count": 5,
   "metadata": {
    "collapsed": true
   },
   "outputs": [],
   "source": [
    "del TCCmatrix,map_cols,map_rows,A,rows,cols,data;\n",
    "_ = gc.collect()"
   ]
  },
  {
   "cell_type": "code",
   "execution_count": 6,
   "metadata": {
    "collapsed": true
   },
   "outputs": [],
   "source": [
    "ecfile_dir = '/home/vasilis/clustering_EQ/10x_DATASETS/MemoryNaive/UTR_TCC/TCC_output_UTR/matrix.ec'\n",
    "eclist=pd.read_csv( ecfile_dir, delimiter='\\t',header=None, dtype=str)\n",
    "eclist=np.array(eclist)"
   ]
  },
  {
   "cell_type": "code",
   "execution_count": 7,
   "metadata": {},
   "outputs": [
    {
     "name": "stdout",
     "output_type": "stream",
     "text": [
      "ACCCAAGATTGGTG-M\n"
     ]
    }
   ],
   "source": [
    "cellfile_dir = '/home/vasilis/clustering_EQ/10x_DATASETS/MemoryNaive/UTR_TCC/TCC_output_UTR/matrix.cells'\n",
    "celllist=pd.read_csv( cellfile_dir, delimiter='\\t',header=None, dtype=str)\n",
    "print(celllist.iloc[123][0][10:-1])"
   ]
  },
  {
   "cell_type": "code",
   "execution_count": 8,
   "metadata": {
    "collapsed": true
   },
   "outputs": [],
   "source": [
    "cellnames=[]\n",
    "for i in range(len(celllist.index)):\n",
    "    cellnames+=[celllist.iloc[i][0][10:-1]]\n",
    "cellnames=np.array(cellnames)"
   ]
  },
  {
   "cell_type": "code",
   "execution_count": 9,
   "metadata": {
    "collapsed": true
   },
   "outputs": [],
   "source": [
    "#Save data\n",
    "with open(\"./TCC_matrix_MNC.dat\", 'wb') as f:\n",
    "    pickle.dump(T,f)\n",
    "with open(\"./nonzero_ec_MNC.dat\", 'wb') as f:\n",
    "    pickle.dump(nonzero_ec,f)\n",
    "with open(\"./eclist_MNC.dat\", 'wb') as f:\n",
    "    pickle.dump(eclist,f)\n",
    "with open(\"./cellnames_MNC.dat\", 'wb') as f:\n",
    "    pickle.dump(cellnames,f)\n",
    "    \n"
   ]
  },
  {
   "cell_type": "markdown",
   "metadata": {},
   "source": [
    "##  Load pickled TCCs"
   ]
  },
  {
   "cell_type": "code",
   "execution_count": 9,
   "metadata": {
    "collapsed": true
   },
   "outputs": [],
   "source": [
    "#Load dataset   \n",
    "with open(\"./TCC_matrix_MNC.dat\", 'rb') as f:\n",
    "    T=pickle.load(f)\n",
    "with open(\"./nonzero_ec_MNC.dat\", 'rb') as f:\n",
    "    nonzero_ec=pickle.load(f)\n",
    "with open(\"./eclist_MNC.dat\", 'rb') as f:\n",
    "    eclist=pickle.load(f)\n",
    "with open(\"./cellnames_MNC.dat\", 'rb') as f:\n",
    "    cellnames=pickle.load(f)"
   ]
  },
  {
   "cell_type": "markdown",
   "metadata": {},
   "source": [
    "### quality control"
   ]
  },
  {
   "cell_type": "code",
   "execution_count": 10,
   "metadata": {},
   "outputs": [
    {
     "name": "stdout",
     "output_type": "stream",
     "text": [
      "median UMIs per cell: 5248.0\n"
     ]
    }
   ],
   "source": [
    "# median umis per cell\n",
    "print(\"median UMIs per cell:\",np.median(np.array((np.sum(T,axis=0))).reshape(1,-1)[0]))"
   ]
  },
  {
   "cell_type": "code",
   "execution_count": 11,
   "metadata": {},
   "outputs": [
    {
     "data": {
      "text/plain": [
       "[<matplotlib.lines.Line2D at 0x7f2903879ef0>]"
      ]
     },
     "execution_count": 11,
     "metadata": {},
     "output_type": "execute_result"
    },
    {
     "data": {
      "image/png": "[encoded data removed]",
      "text/plain": [
       "<matplotlib.figure.Figure at 0x7f2935080978>"
      ]
     },
     "metadata": {},
     "output_type": "display_data"
    }
   ],
   "source": [
    "readspercell=np.array((np.sum(T,axis=0))).reshape(1,-1)[0]\n",
    "plt.semilogy(np.sort(readspercell))"
   ]
  },
  {
   "cell_type": "code",
   "execution_count": 12,
   "metadata": {
    "collapsed": true
   },
   "outputs": [],
   "source": [
    "hi_low=[30000,1000]\n",
    "cells_keep = np.where(readspercell<hi_low[0])[0]\n",
    "idx = np.where(readspercell[cells_keep]>hi_low[1])[0]\n",
    "cells_keep=cells_keep[idx]"
   ]
  },
  {
   "cell_type": "code",
   "execution_count": 13,
   "metadata": {
    "collapsed": true
   },
   "outputs": [],
   "source": [
    "cellnames = cellnames[cells_keep]"
   ]
  },
  {
   "cell_type": "code",
   "execution_count": 14,
   "metadata": {},
   "outputs": [
    {
     "data": {
      "text/plain": [
       "(31831,)"
      ]
     },
     "execution_count": 14,
     "metadata": {},
     "output_type": "execute_result"
    }
   ],
   "source": [
    "cells_keep.shape"
   ]
  },
  {
   "cell_type": "code",
   "execution_count": 15,
   "metadata": {
    "collapsed": true
   },
   "outputs": [],
   "source": [
    "T=T[:,cells_keep]"
   ]
  },
  {
   "cell_type": "markdown",
   "metadata": {},
   "source": [
    "#### ECdict"
   ]
  },
  {
   "cell_type": "code",
   "execution_count": 16,
   "metadata": {},
   "outputs": [
    {
     "name": "stdout",
     "output_type": "stream",
     "text": [
      "NUM_OF_Transcripts = 133229\n"
     ]
    }
   ],
   "source": [
    "EC_dict = {}\n",
    "for i in range(np.shape(eclist)[0]):\n",
    "    EC_dict[i] = [int(x) for x in eclist[i,1].split(',')]\n",
    "    \n",
    "union=set()\n",
    "for i in nonzero_ec:\n",
    "    new = [tx for tx in EC_dict[i] if tx not in union] # filter out previously seen transcripts\n",
    "    union.update(new) \n",
    "union_list=np.sort(list(union)) #union of all transctipt ids seen in nonzero eq.classes\n",
    "NUM_OF_TX_inTCC = len(union)\n",
    "print(\"NUM_OF_Transcripts =\", NUM_OF_TX_inTCC) #number of distinct transcripts in nonzero eq. classes "
   ]
  },
  {
   "cell_type": "code",
   "execution_count": 23,
   "metadata": {
    "collapsed": true
   },
   "outputs": [],
   "source": [
    "path_to_ref='../Homo_sapiens.GRCh38.rel79.cdna.all.utr_mod.fa.gz'\n",
    "\n",
    "ENSG_PRPTC = 'ENSG00000262418'\n",
    "\n",
    "def readENS_ids(path_to_ref):\n",
    "    TX_to_ENST={}\n",
    "    TX_to_ENSG={}\n",
    "    ENSG_isoforms={}\n",
    "    line_cnt=0;\n",
    "    tx_cnt=0;\n",
    "    with gzip.open(path_to_ref) as f:\n",
    "        for line in f:\n",
    "            if line.decode('UTF-8')[0]=='>':\n",
    "                liner=line.decode('UTF-8')\n",
    "                if line_cnt == union_list[tx_cnt]:\n",
    "                    if liner.split(\"ENST\",1)[1][11:].startswith('_utr_mod'):\n",
    "                        TX_to_ENST[union_list[tx_cnt]] = 'ENST'+liner.split(\"ENST\",1)[1][:20]\n",
    "                        TX_to_ENSG[union_list[tx_cnt]] = ENSG_PRPTC\n",
    "                        ENSG_isoforms[TX_to_ENSG[union_list[tx_cnt]]] = ENSG_isoforms.get(TX_to_ENSG[union_list[tx_cnt]], [])\n",
    "                        ENSG_isoforms[TX_to_ENSG[union_list[tx_cnt]]].append(TX_to_ENST[union_list[tx_cnt]])\n",
    "                        tx_cnt+=1 \n",
    "                    else:\n",
    "                        TX_to_ENST[union_list[tx_cnt]] = 'ENST'+liner.split(\"ENST\",1)[1][:11]\n",
    "                        TX_to_ENSG[union_list[tx_cnt]] = 'ENSG'+liner.split(\"ENSG\",1)[1][:11]\n",
    "                        ENSG_isoforms[TX_to_ENSG[union_list[tx_cnt]]] = ENSG_isoforms.get(TX_to_ENSG[union_list[tx_cnt]], [])\n",
    "                        ENSG_isoforms[TX_to_ENSG[union_list[tx_cnt]]].append(TX_to_ENST[union_list[tx_cnt]])\n",
    "                        tx_cnt+=1 \n",
    "                    if tx_cnt==NUM_OF_TX_inTCC: return [TX_to_ENST,TX_to_ENSG,ENSG_isoforms]\n",
    "                line_cnt+=1\n",
    "    return [TX_to_ENST,TX_to_ENSG,ENSG_isoforms]\n",
    "\n",
    "\n",
    "[TX_to_ENST,TX_to_ENSG,ENSG_isoforms]=readENS_ids(path_to_ref)       "
   ]
  },
  {
   "cell_type": "code",
   "execution_count": 24,
   "metadata": {
    "collapsed": true
   },
   "outputs": [],
   "source": [
    "EC_ENST_DICT={}\n",
    "EC_ENSG_DICT={}\n",
    "for ec in nonzero_ec:\n",
    "    EC_ENST_DICT[ec] = [TX_to_ENST[tx] for tx in EC_dict[ec]]    \n",
    "    EC_ENSG_DICT[ec] = list(np.unique([TX_to_ENSG[tx] for tx in EC_dict[ec]])) "
   ]
  },
  {
   "cell_type": "code",
   "execution_count": 25,
   "metadata": {
    "collapsed": true
   },
   "outputs": [],
   "source": [
    "ENST_to_TX = {v: k for k, v in TX_to_ENST.items()}"
   ]
  },
  {
   "cell_type": "code",
   "execution_count": 26,
   "metadata": {
    "collapsed": true
   },
   "outputs": [],
   "source": [
    "#inv_map ; NOTE: genes and transcripts may be associated with multiple ensg accession numbers\n",
    "ENSG_EC_DICT={}\n",
    "for k, v in EC_ENSG_DICT.items():\n",
    "    for vi in v:\n",
    "        ENSG_EC_DICT[vi] = ENSG_EC_DICT.get(vi, [])\n",
    "        ENSG_EC_DICT[vi].append(k)\n",
    "        \n",
    "ENST_EC_DICT={}\n",
    "for k, v in EC_ENST_DICT.items():\n",
    "    for vi in v:\n",
    "        ENST_EC_DICT[vi] = ENST_EC_DICT.get(vi, [])\n",
    "        ENST_EC_DICT[vi].append(k)"
   ]
  },
  {
   "cell_type": "code",
   "execution_count": 27,
   "metadata": {},
   "outputs": [
    {
     "name": "stdout",
     "output_type": "stream",
     "text": [
      "NUM_OF_GENE_IDs = 25940\n"
     ]
    }
   ],
   "source": [
    "all_genes_ids = np.unique(list(TX_to_ENSG.values()))\n",
    "print(\"NUM_OF_GENE_IDs =\", len(all_genes_ids))"
   ]
  },
  {
   "cell_type": "code",
   "execution_count": 28,
   "metadata": {
    "collapsed": true
   },
   "outputs": [],
   "source": [
    "clean_gene_ids=[]\n",
    "\n",
    "for gene in all_genes_ids:\n",
    "    if len(list(np.unique([EC_ENSG_DICT[ec] for ec in ENSG_EC_DICT[gene]]))) == 1:\n",
    "        clean_gene_ids+=[gene]\n",
    "clean_gene_ids=np.array(clean_gene_ids)"
   ]
  },
  {
   "cell_type": "code",
   "execution_count": 29,
   "metadata": {},
   "outputs": [
    {
     "name": "stdout",
     "output_type": "stream",
     "text": [
      "NUM_OF_CLEAN_GENE_IDs = 6234\n"
     ]
    }
   ],
   "source": [
    "print(\"NUM_OF_CLEAN_GENE_IDs =\", len(clean_gene_ids))"
   ]
  },
  {
   "cell_type": "markdown",
   "metadata": {},
   "source": [
    "#### gene names"
   ]
  },
  {
   "cell_type": "code",
   "execution_count": 30,
   "metadata": {},
   "outputs": [
    {
     "name": "stdout",
     "output_type": "stream",
     "text": [
      "querying 1-1000...done.\n",
      "querying 1001-2000...done.\n",
      "querying 2001-3000...done.\n",
      "querying 3001-4000...done.\n",
      "querying 4001-5000...done.\n",
      "querying 5001-6000...done.\n",
      "querying 6001-7000...done.\n",
      "querying 7001-8000...done.\n",
      "querying 8001-9000...done.\n",
      "querying 9001-10000...done.\n",
      "querying 10001-11000...done.\n",
      "querying 11001-12000...done.\n",
      "querying 12001-13000...done.\n",
      "querying 13001-14000...done.\n",
      "querying 14001-15000...done.\n",
      "querying 15001-16000...done.\n",
      "querying 16001-17000...done.\n",
      "querying 17001-18000...done.\n",
      "querying 18001-19000...done.\n",
      "querying 19001-20000...done.\n",
      "querying 20001-21000...done.\n",
      "querying 21001-22000...done.\n",
      "querying 22001-23000...done.\n",
      "querying 23001-24000...done.\n",
      "querying 24001-25000...done.\n",
      "querying 25001-25940...done.\n",
      "Finished.\n",
      "183 input query terms found dup hits:\n",
      "\t[('ENSG00000011454', 2), ('ENSG00000023171', 2), ('ENSG00000058600', 2), ('ENSG00000072195', 2), ('E\n",
      "194 input query terms found no hit:\n",
      "\t['ENSG00000069712', 'ENSG00000116957', 'ENSG00000130201', 'ENSG00000133808', 'ENSG00000150076', 'ENS\n"
     ]
    }
   ],
   "source": [
    "#gene ids to gene names (requires \"pip install mygene\")\n",
    "import mygene\n",
    "mg = mygene.MyGeneInfo()\n",
    "ginfo = mg.querymany(all_genes_ids, scopes='ensembl.gene',returnall=True)\n",
    "\n",
    "with open('ginfo_MNC.pickle', 'wb') as handle:\n",
    "    pickle.dump(ginfo, handle, protocol=pickle.HIGHEST_PROTOCOL)\n",
    "\n",
    "# #LOAD\n",
    "# with open('ginfo_MNC.pickle', 'rb') as handle:\n",
    "#     ginfo = pickle.load(handle)"
   ]
  },
  {
   "cell_type": "code",
   "execution_count": 31,
   "metadata": {
    "collapsed": true
   },
   "outputs": [],
   "source": [
    "missing_names=ginfo['missing']\n",
    "duplicate_names=ginfo['dup']"
   ]
  },
  {
   "cell_type": "code",
   "execution_count": 32,
   "metadata": {
    "collapsed": true
   },
   "outputs": [],
   "source": [
    "#ENSG to Gene-Names\n",
    "all_gene_id_to_names={} #missing are mapped to their ENSG id, Duplicates to a list of names\n",
    "count_exept=0\n",
    "for g in ginfo['out']:\n",
    "    try:\n",
    "        ensg_id=str(g['query'])\n",
    "        all_gene_id_to_names[ensg_id] = all_gene_id_to_names.get(ensg_id, [])\n",
    "        all_gene_id_to_names[ ensg_id].append(str(g['symbol']))                \n",
    "    except KeyError:\n",
    "        count_exept=count_exept+1\n",
    "        all_gene_id_to_names[ str(g['query']) ] = [str(g['query'])]\n",
    "        \n",
    "#Gene-Names to ENSG\n",
    "all_gene_names_to_id={} #missing are mapped to their ENSG id, Duplicates to a list of names\n",
    "count_exept=0\n",
    "for g in ginfo['out']:\n",
    "    try:\n",
    "        gene_name=str(g['symbol'])\n",
    "        all_gene_names_to_id[gene_name] = all_gene_names_to_id.get(gene_name, [])\n",
    "        all_gene_names_to_id[ gene_name].append(str(g['query']))                \n",
    "    except KeyError:\n",
    "        count_exept=count_exept+1\n",
    "        all_gene_names_to_id[ str(g['query']) ] = [str(g['query'])]"
   ]
  },
  {
   "cell_type": "code",
   "execution_count": 33,
   "metadata": {
    "collapsed": true
   },
   "outputs": [],
   "source": [
    "def search_gene(starting_letters):\n",
    "    print(\"SEARCHING: \",starting_letters,\"...\")\n",
    "    for gene in all_genes_ids:\n",
    "        if all_gene_id_to_names[gene][0][:len(starting_letters)] == starting_letters:\n",
    "            print(gene,all_gene_id_to_names[gene])\n",
    "    print(\"DONE\")"
   ]
  },
  {
   "cell_type": "code",
   "execution_count": 34,
   "metadata": {
    "collapsed": true
   },
   "outputs": [],
   "source": [
    "EC_IDX={}\n",
    "for i in range(len(nonzero_ec)):\n",
    "    EC_IDX[nonzero_ec[i]] =i "
   ]
  },
  {
   "cell_type": "markdown",
   "metadata": {},
   "source": [
    "# PTPRC"
   ]
  },
  {
   "cell_type": "code",
   "execution_count": 35,
   "metadata": {},
   "outputs": [
    {
     "data": {
      "text/plain": [
       "['ENSG00000081237', 'ENSG00000262418']"
      ]
     },
     "execution_count": 35,
     "metadata": {},
     "output_type": "execute_result"
    }
   ],
   "source": [
    "gene=\"PTPRC\"\n",
    "all_gene_names_to_id[gene]"
   ]
  },
  {
   "cell_type": "code",
   "execution_count": 37,
   "metadata": {},
   "outputs": [
    {
     "data": {
      "text/plain": [
       "['ENST00000573298',\n",
       " 'ENST00000575923',\n",
       " 'ENST00000573679',\n",
       " 'ENST00000574399',\n",
       " 'ENST00000576833',\n",
       " 'ENST00000573477',\n",
       " 'ENST00000570609',\n",
       " 'ENST00000571847',\n",
       " 'ENST00000574441',\n",
       " 'ENST00000573971',\n",
       " 'ENST00000572593',\n",
       " 'ENST00000574718',\n",
       " 'ENST00000570905',\n",
       " 'ENST00000575803',\n",
       " 'ENST00000442510_utr_mod1',\n",
       " 'ENST00000348564_utr_mod1',\n",
       " 'ENST00000575923_utr_mod2',\n",
       " 'ENST00000573679_utr_mod2',\n",
       " 'ENST00000576833_utr_mod2',\n",
       " 'ENST00000573477_utr_mod2',\n",
       " 'ENST00000574441_utr_mod2',\n",
       " 'ENST00000530727_utr_mod2',\n",
       " 'ENST00000442510_utr_mod2',\n",
       " 'ENST00000367367_utr_mod2',\n",
       " 'ENST00000348564_utr_mod2',\n",
       " 'ENST00000529828_utr_mod2',\n",
       " 'ENST00000442510_utr_mod3',\n",
       " 'ENST00000367367_utr_mod3',\n",
       " 'ENST00000348564_utr_mod3',\n",
       " 'ENST00000529828_utr_mod3',\n",
       " 'ENST00000442510_utr_mod4',\n",
       " 'ENST00000348564_utr_mod4']"
      ]
     },
     "execution_count": 37,
     "metadata": {},
     "output_type": "execute_result"
    }
   ],
   "source": [
    "ENSG_isoforms['ENSG00000262418']"
   ]
  },
  {
   "cell_type": "code",
   "execution_count": 38,
   "metadata": {
    "collapsed": true
   },
   "outputs": [],
   "source": [
    "gene_ecs0=[]\n",
    "for g in all_gene_names_to_id[gene]:\n",
    "    gene_ecs0+=ENSG_EC_DICT[g]\n",
    "gene_ecs0=np.unique(gene_ecs0)"
   ]
  },
  {
   "cell_type": "code",
   "execution_count": 39,
   "metadata": {},
   "outputs": [
    {
     "data": {
      "text/plain": [
       "array([185843, 199837, 211377, 224177, 232679, 238975, 246521, 247041,\n",
       "       250063, 250948, 252827, 260786, 274849, 288032, 297189, 314731,\n",
       "       330794, 364482, 428758, 512173, 572158, 577227, 599469, 599470,\n",
       "       599471, 599472, 599473, 599474, 615896, 615897, 656377, 658951,\n",
       "       658952, 658953, 658954, 658955, 689611, 712851, 713764, 715535,\n",
       "       722169, 745960])"
      ]
     },
     "execution_count": 39,
     "metadata": {},
     "output_type": "execute_result"
    }
   ],
   "source": [
    "gene_ecs0"
   ]
  },
  {
   "cell_type": "code",
   "execution_count": 40,
   "metadata": {
    "collapsed": true
   },
   "outputs": [],
   "source": [
    "ec_counts=[]\n",
    "for ec in gene_ecs0:\n",
    "    ec_counts+=[T[EC_IDX[ec],:].sum()]\n",
    "ec_nnz_cell_counts=[]\n",
    "for ec in gene_ecs0:\n",
    "    ec_nnz_cell_counts+=[T[EC_IDX[ec],:].nnz] \n",
    "    "
   ]
  },
  {
   "cell_type": "code",
   "execution_count": 142,
   "metadata": {},
   "outputs": [
    {
     "data": {
      "image/png": "[encoded data removed]",
      "text/plain": [
       "<matplotlib.figure.Figure at 0x7f27e77481d0>"
      ]
     },
     "metadata": {},
     "output_type": "display_data"
    }
   ],
   "source": [
    "sns.set_style(\"darkgrid\")\n",
    "\n",
    "threshold=0.01*T.shape[1]\n",
    "\n",
    "gene_ecs=gene_ecs0[np.where(np.array(ec_counts)>threshold)[0]]\n",
    "upto=len(gene_ecs)\n",
    "\n",
    "plt.figure(figsize=(8,5))\n",
    "plt.stem(range(len(ec_counts)),np.sort(ec_counts)[::-1],'gray',markerfmt='.')\n",
    "\n",
    "plt.xticks(range(len(ec_counts)),gene_ecs0[np.argsort(ec_counts)[::-1]],rotation='vertical')\n",
    "# plt.xlim([0,len(b)+0.9])\n",
    "\n",
    "plt.stem(range(upto),np.sort(ec_counts)[::-1][:upto])\n",
    "\n",
    "plt.axhline(y=threshold, color='darkred', linestyle='--',linewidth=1)\n",
    "plt.xlabel(\"equivalence classes\",fontsize=16)\n",
    "plt.ylabel(\"umi counts\",fontsize=16)\n",
    "plt.yscale('log')\n",
    "plt.show()"
   ]
  },
  {
   "cell_type": "code",
   "execution_count": 84,
   "metadata": {},
   "outputs": [
    {
     "name": "stdout",
     "output_type": "stream",
     "text": [
      "[185843 599469 599470 599472 599473 615896 615897]\n"
     ]
    }
   ],
   "source": [
    "print(gene_ecs)"
   ]
  },
  {
   "cell_type": "code",
   "execution_count": 143,
   "metadata": {},
   "outputs": [
    {
     "name": "stdout",
     "output_type": "stream",
     "text": [
      "['PTPRC']\n"
     ]
    }
   ],
   "source": [
    "associated_genes=[]\n",
    "for ec in gene_ecs:\n",
    "    associated_genes += [all_gene_id_to_names[ens][0] for ens in EC_ENSG_DICT[ec]]\n",
    "associated_genes=np.unique(associated_genes)\n",
    "print(associated_genes)"
   ]
  },
  {
   "cell_type": "code",
   "execution_count": 144,
   "metadata": {
    "collapsed": true
   },
   "outputs": [],
   "source": [
    "ecidx=np.array([EC_IDX[ec] for ec in gene_ecs])"
   ]
  },
  {
   "cell_type": "code",
   "execution_count": 145,
   "metadata": {},
   "outputs": [
    {
     "data": {
      "text/plain": [
       "array([ 62333, 214260, 214261, 214263, 214264, 223216, 223217])"
      ]
     },
     "execution_count": 145,
     "metadata": {},
     "output_type": "execute_result"
    }
   ],
   "source": [
    "ecidx"
   ]
  },
  {
   "cell_type": "code",
   "execution_count": 146,
   "metadata": {
    "collapsed": true
   },
   "outputs": [],
   "source": [
    "eq_classes=[]\n",
    "for i in ecidx:\n",
    "    tx_indices=EC_dict[nonzero_ec[i]]\n",
    "    tx_ens=[TX_to_ENST[t] for t in tx_indices]\n",
    "    eq_classes+=[tx_ens]"
   ]
  },
  {
   "cell_type": "code",
   "execution_count": 147,
   "metadata": {
    "scrolled": true
   },
   "outputs": [
    {
     "name": "stdout",
     "output_type": "stream",
     "text": [
      "{\n",
      " \"185843\": [\n",
      "  \"ENST00000348564\",\n",
      "  \"ENST00000442510\"\n",
      " ],\n",
      " \"599469\": [\n",
      "  \"ENST00000348564\",\n",
      "  \"ENST00000348564_utr_mod4\",\n",
      "  \"ENST00000442510\",\n",
      "  \"ENST00000442510_utr_mod4\"\n",
      " ],\n",
      " \"599470\": [\n",
      "  \"ENST00000348564\",\n",
      "  \"ENST00000348564_utr_mod1\",\n",
      "  \"ENST00000348564_utr_mod4\",\n",
      "  \"ENST00000442510\",\n",
      "  \"ENST00000442510_utr_mod1\",\n",
      "  \"ENST00000442510_utr_mod4\"\n",
      " ],\n",
      " \"599472\": [\n",
      "  \"ENST00000348564\",\n",
      "  \"ENST00000348564_utr_mod1\",\n",
      "  \"ENST00000348564_utr_mod3\",\n",
      "  \"ENST00000348564_utr_mod4\",\n",
      "  \"ENST00000367367\",\n",
      "  \"ENST00000367367_utr_mod3\",\n",
      "  \"ENST00000442510\",\n",
      "  \"ENST00000442510_utr_mod1\",\n",
      "  \"ENST00000442510_utr_mod3\",\n",
      "  \"ENST00000442510_utr_mod4\",\n",
      "  \"ENST00000529828\",\n",
      "  \"ENST00000529828_utr_mod3\"\n",
      " ],\n",
      " \"599473\": [\n",
      "  \"ENST00000348564\",\n",
      "  \"ENST00000348564_utr_mod1\",\n",
      "  \"ENST00000348564_utr_mod3\",\n",
      "  \"ENST00000348564_utr_mod4\",\n",
      "  \"ENST00000367367\",\n",
      "  \"ENST00000367367_utr_mod3\",\n",
      "  \"ENST00000442510\",\n",
      "  \"ENST00000442510_utr_mod1\",\n",
      "  \"ENST00000442510_utr_mod3\",\n",
      "  \"ENST00000442510_utr_mod4\",\n",
      "  \"ENST00000529828\",\n",
      "  \"ENST00000529828_utr_mod3\",\n",
      "  \"ENST00000530727\"\n",
      " ],\n",
      " \"615896\": [\n",
      "  \"ENST00000348564\",\n",
      "  \"ENST00000348564_utr_mod1\",\n",
      "  \"ENST00000348564_utr_mod2\",\n",
      "  \"ENST00000348564_utr_mod3\",\n",
      "  \"ENST00000348564_utr_mod4\",\n",
      "  \"ENST00000367367\",\n",
      "  \"ENST00000367367_utr_mod2\",\n",
      "  \"ENST00000367367_utr_mod3\",\n",
      "  \"ENST00000442510\",\n",
      "  \"ENST00000442510_utr_mod1\",\n",
      "  \"ENST00000442510_utr_mod2\",\n",
      "  \"ENST00000442510_utr_mod3\",\n",
      "  \"ENST00000442510_utr_mod4\",\n",
      "  \"ENST00000529828\",\n",
      "  \"ENST00000529828_utr_mod2\",\n",
      "  \"ENST00000529828_utr_mod3\",\n",
      "  \"ENST00000530727\",\n",
      "  \"ENST00000530727_utr_mod2\",\n",
      "  \"ENST00000573477\",\n",
      "  \"ENST00000573477_utr_mod2\",\n",
      "  \"ENST00000573679\",\n",
      "  \"ENST00000573679_utr_mod2\",\n",
      "  \"ENST00000574441\",\n",
      "  \"ENST00000574441_utr_mod2\",\n",
      "  \"ENST00000575923\",\n",
      "  \"ENST00000575923_utr_mod2\",\n",
      "  \"ENST00000576833\",\n",
      "  \"ENST00000576833_utr_mod2\"\n",
      " ],\n",
      " \"615897\": [\n",
      "  \"ENST00000348564\",\n",
      "  \"ENST00000348564_utr_mod1\",\n",
      "  \"ENST00000348564_utr_mod2\",\n",
      "  \"ENST00000348564_utr_mod3\",\n",
      "  \"ENST00000348564_utr_mod4\",\n",
      "  \"ENST00000367367\",\n",
      "  \"ENST00000367367_utr_mod2\",\n",
      "  \"ENST00000367367_utr_mod3\",\n",
      "  \"ENST00000367379\",\n",
      "  \"ENST00000442510\",\n",
      "  \"ENST00000442510_utr_mod1\",\n",
      "  \"ENST00000442510_utr_mod2\",\n",
      "  \"ENST00000442510_utr_mod3\",\n",
      "  \"ENST00000442510_utr_mod4\",\n",
      "  \"ENST00000529828\",\n",
      "  \"ENST00000529828_utr_mod2\",\n",
      "  \"ENST00000529828_utr_mod3\",\n",
      "  \"ENST00000530727\",\n",
      "  \"ENST00000530727_utr_mod2\",\n",
      "  \"ENST00000573298\",\n",
      "  \"ENST00000573477\",\n",
      "  \"ENST00000573477_utr_mod2\",\n",
      "  \"ENST00000573679\",\n",
      "  \"ENST00000573679_utr_mod2\",\n",
      "  \"ENST00000574441\",\n",
      "  \"ENST00000574441_utr_mod2\",\n",
      "  \"ENST00000575923\",\n",
      "  \"ENST00000575923_utr_mod2\",\n",
      "  \"ENST00000576833\",\n",
      "  \"ENST00000576833_utr_mod2\"\n",
      " ]\n",
      "}\n"
     ]
    }
   ],
   "source": [
    "import json\n",
    "eq_dict={}\n",
    "for i in range(len(eq_classes)):\n",
    "    eq_dict[str(gene_ecs[i])] = list(np.sort(eq_classes[i]))\n",
    "print(json.dumps(eq_dict, indent=1))"
   ]
  },
  {
   "cell_type": "markdown",
   "metadata": {},
   "source": [
    "# LogR"
   ]
  },
  {
   "cell_type": "code",
   "execution_count": 148,
   "metadata": {
    "collapsed": true
   },
   "outputs": [],
   "source": [
    "from sklearn.linear_model import LogisticRegression\n",
    "from sklearn.metrics import log_loss\n",
    "import statsmodels.api as sm\n",
    "from scipy import stats\n",
    "stats.chisqprob = lambda chisq, df: stats.chi2.sf(chisq, df)\n",
    "import math"
   ]
  },
  {
   "cell_type": "code",
   "execution_count": 149,
   "metadata": {
    "collapsed": true
   },
   "outputs": [],
   "source": [
    "labels=[]\n",
    "for name in cellnames:\n",
    "    if name[-1]=='N':\n",
    "        labels+=[0]\n",
    "    elif name[-1]=='M':\n",
    "        labels+=[1]\n",
    "    else:\n",
    "        labels+=[2]\n",
    "labels=np.array(labels)"
   ]
  },
  {
   "cell_type": "code",
   "execution_count": 150,
   "metadata": {
    "collapsed": true
   },
   "outputs": [],
   "source": [
    "def logr_ecidx(ecidx,X1,X2):\n",
    "    \n",
    "    N1=X1.shape[0]\n",
    "    N2=X2.shape[0]\n",
    "    logr_labels = np.concatenate((np.ones(N1),np.zeros(N2)),axis=0)\n",
    "    logr = LogisticRegression()\n",
    "    p_of_1=N1/float(N1+N2)\n",
    "    llnull=(N1+N2)*(p_of_1*np.log(p_of_1) + (1-p_of_1)*np.log(1-p_of_1))\n",
    "    k=len(ecidx)\n",
    "    \n",
    "    X1_ecidx=X1[:,ecidx].todense()\n",
    "    X2_ecidx=X2[:,ecidx].todense()\n",
    "    c=np.concatenate([X1_ecidx,X2_ecidx])\n",
    "    #c=np.concatenate([X1[:,ecidx],X2[:,ecidx]])\n",
    "    logr.fit(c,logr_labels)\n",
    "    pred=np.array(logr.predict_proba(c)[:,1])\n",
    "    gene_score=log_loss(logr_labels,pred)\n",
    "    llf=-gene_score*(N1+N2)\n",
    "    llr=llf-llnull\n",
    "    llr_pval = 1-stats.chi2.cdf(2*llr,k)\n",
    "    \n",
    "    return [logr,llr_pval]"
   ]
  },
  {
   "cell_type": "code",
   "execution_count": 151,
   "metadata": {
    "collapsed": true
   },
   "outputs": [],
   "source": [
    "X=T.T"
   ]
  },
  {
   "cell_type": "code",
   "execution_count": 152,
   "metadata": {},
   "outputs": [
    {
     "name": "stdout",
     "output_type": "stream",
     "text": [
      "naive cells:  9923\n",
      "mem cells:  9994\n",
      "cyto cells:  11914\n"
     ]
    }
   ],
   "source": [
    "X_naive=X[np.squeeze(labels==0),:]\n",
    "X_mem=X[np.squeeze(labels==1),:]\n",
    "X_cyto=X[np.squeeze(labels==2),:]\n",
    "\n",
    "\n",
    "\n",
    "\n",
    "print(\"naive cells: \",X_naive.shape[0])\n",
    "print(\"mem cells: \",X_mem.shape[0])\n",
    "print(\"cyto cells: \",X_cyto.shape[0])"
   ]
  },
  {
   "cell_type": "code",
   "execution_count": null,
   "metadata": {
    "collapsed": true
   },
   "outputs": [],
   "source": []
  },
  {
   "cell_type": "code",
   "execution_count": 153,
   "metadata": {
    "collapsed": true
   },
   "outputs": [],
   "source": [
    "np.random.seed(0)\n",
    "samples=3000\n",
    "\n",
    "randperm1=np.random.permutation(X_naive.shape[0])\n",
    "randperm2=np.random.permutation(X_mem.shape[0])\n",
    "randperm3=np.random.permutation(X_cyto.shape[0])"
   ]
  },
  {
   "cell_type": "code",
   "execution_count": 154,
   "metadata": {
    "collapsed": true
   },
   "outputs": [],
   "source": [
    "sns.set_style(\"white\")"
   ]
  },
  {
   "cell_type": "code",
   "execution_count": 155,
   "metadata": {},
   "outputs": [
    {
     "name": "stdout",
     "output_type": "stream",
     "text": [
      "(3000, 342642)\n",
      "(3000, 342642)\n",
      "pval= 1.5254861502778105e-05\n"
     ]
    },
    {
     "data": {
      "image/png": "[encoded data removed]",
      "text/plain": [
       "<matplotlib.figure.Figure at 0x7f27e7aac6d8>"
      ]
     },
     "metadata": {},
     "output_type": "display_data"
    },
    {
     "data": {
      "image/png": "[encoded data removed]",
      "text/plain": [
       "<matplotlib.figure.Figure at 0x7f27e7c92198>"
      ]
     },
     "metadata": {},
     "output_type": "display_data"
    }
   ],
   "source": [
    "#positive control \n",
    "\n",
    "X1=X_naive[randperm1[:samples],:]\n",
    "X2=X_mem[randperm2[:samples],:]\n",
    "\n",
    "\n",
    "print(X1.shape)\n",
    "print(X2.shape)\n",
    "\n",
    "N1=X1.shape[0]\n",
    "N2=X2.shape[0]\n",
    "\n",
    "\n",
    "A=logr_ecidx(ecidx,X1,X2)\n",
    "print('pval=',A[1])\n",
    "\n",
    "\n",
    "X1_ecidx=X1[:,ecidx].todense()\n",
    "X2_ecidx=X2[:,ecidx].todense()\n",
    "\n",
    "P1=pd.DataFrame(X1_ecidx,columns=nonzero_ec[ecidx])\n",
    "P1['cluster'] = 'CD4+/CD45RA+/CD25- Naive T-cells'\n",
    "P2=pd.DataFrame(X2_ecidx,columns=nonzero_ec[ecidx])\n",
    "P2['cluster'] = 'CD4+/CD45RO+ Memory T-cells'\n",
    "P=P1.append(P2)\n",
    "df = pd.melt(P,  id_vars='cluster')\n",
    "\n",
    "plt.figure(figsize=(8,5))\n",
    "ax=sns.barplot(x='variable', y='value', hue='cluster',palette=[\"#FF1493\", \"#6495ED\"], data=df)\n",
    "ax.set(xlabel='Equivalence Classes', ylabel='mean counts (TCCs)')\n",
    "plt.title(gene)\n",
    "plt.setp(ax.get_legend().get_texts(), fontsize='13') \n",
    "plt.setp(ax.get_legend().get_title(), fontsize='0')\n",
    "plt.show()\n",
    "\n",
    "\n",
    "Gexp1=np.array(X1_ecidx.T.sum(axis=0))[0]\n",
    "Gexp2=np.array(X2_ecidx.T.sum(axis=0))[0]\n",
    "\n",
    "P1=pd.DataFrame(Gexp1.T,)\n",
    "P1['cluster'] = 'CD4+/CD45RA+/CD25- Naive T-cells'\n",
    "P2=pd.DataFrame(Gexp2.T)\n",
    "P2['cluster'] = 'CD4+/CD45RO+ Memory T-cells'\n",
    "P=P1.append(P2)\n",
    "df = pd.melt(P,  id_vars='cluster')\n",
    "\n",
    "plt.figure(figsize=(1,5))\n",
    "ax=sns.barplot(x='variable', y='value', hue='cluster',palette=[\"#FF1493\", \"#6495ED\"], data=df)\n",
    "ax.set(xlabel='', ylabel='mean counts (Gene)')\n",
    "ax.legend_.remove()\n",
    "plt.title(gene)\n",
    "plt.show()"
   ]
  },
  {
   "cell_type": "code",
   "execution_count": 156,
   "metadata": {},
   "outputs": [
    {
     "name": "stdout",
     "output_type": "stream",
     "text": [
      "Optimization terminated successfully.\n",
      "         Current function value: 0.690289\n",
      "         Iterations 5\n",
      "                           Logit Regression Results                           \n",
      "==============================================================================\n",
      "Dep. Variable:                      y   No. Observations:                 6000\n",
      "Model:                          Logit   Df Residuals:                     5992\n",
      "Method:                           MLE   Df Model:                            7\n",
      "Date:                Fri, 22 Jun 2018   Pseudo R-squ.:                0.004124\n",
      "Time:                        10:04:59   Log-Likelihood:                -4141.7\n",
      "converged:                       True   LL-Null:                       -4158.9\n",
      "                                        LLR p-value:                 1.512e-05\n",
      "==============================================================================\n",
      "                 coef    std err          z      P>|z|      [0.025      0.975]\n",
      "------------------------------------------------------------------------------\n",
      "const          0.0165      0.028      0.592      0.554      -0.038       0.071\n",
      "x1            -0.2808      0.102     -2.758      0.006      -0.480      -0.081\n",
      "x2            -0.4428      0.146     -3.026      0.002      -0.730      -0.156\n",
      "x3            -0.1354      0.090     -1.512      0.131      -0.311       0.040\n",
      "x4             0.1270      0.155      0.820      0.412      -0.177       0.431\n",
      "x5             0.0029      0.199      0.015      0.988      -0.387       0.392\n",
      "x6             0.5341      0.290      1.843      0.065      -0.034       1.102\n",
      "x7             0.1058      0.228      0.464      0.643      -0.341       0.553\n",
      "==============================================================================\n",
      "           chi2                P>chi2  df constraint\n",
      "const  0.350204    0.5539978788421449              8\n",
      "x1     7.606746  0.005815031300632632              8\n",
      "x2     9.154380  0.002481234291337665              8\n",
      "x3     2.285196   0.13061366403095828              8\n",
      "x4     0.671819    0.4124180227303277              8\n",
      "x5     0.000211     0.988411932986294              8\n",
      "x6     3.395870   0.06535988132315024              8\n",
      "x7     0.215313    0.6426345895842505              8\n"
     ]
    },
    {
     "data": {
      "text/plain": [
       "<Container object of 3 artists>"
      ]
     },
     "execution_count": 156,
     "metadata": {},
     "output_type": "execute_result"
    },
    {
     "data": {
      "image/png": "[encoded data removed]",
      "text/plain": [
       "<matplotlib.figure.Figure at 0x7f27e3b16da0>"
      ]
     },
     "metadata": {},
     "output_type": "display_data"
    }
   ],
   "source": [
    "N1=X1.shape[0]\n",
    "N2=X2.shape[0]\n",
    "logr_labels = np.concatenate((np.ones(N1),np.zeros(N2)),axis=0)\n",
    "\n",
    "X1_ecidx=X1[:,ecidx].todense()\n",
    "X2_ecidx=X2[:,ecidx].todense()\n",
    "c=np.concatenate([X1_ecidx,X2_ecidx])\n",
    "c=np.concatenate([np.ones((N1+N2,1)),c],axis=1)\n",
    "logit = sm.Logit( logr_labels,c)\n",
    "\n",
    "\n",
    "# fit the model\n",
    "result = logit.fit()\n",
    "print( result.summary())\n",
    "print(result.wald_test_terms())\n",
    "plt.stem(np.log(result.pvalues))"
   ]
  },
  {
   "cell_type": "code",
   "execution_count": 157,
   "metadata": {},
   "outputs": [
    {
     "name": "stdout",
     "output_type": "stream",
     "text": [
      "(3000, 342642)\n",
      "(3000, 342642)\n",
      "pval= 0.7540008694063847\n"
     ]
    },
    {
     "data": {
      "image/png": "[encoded data removed]",
      "text/plain": [
       "<matplotlib.figure.Figure at 0x7f27e7f549e8>"
      ]
     },
     "metadata": {},
     "output_type": "display_data"
    },
    {
     "data": {
      "image/png": "[encoded data removed]",
      "text/plain": [
       "<matplotlib.figure.Figure at 0x7f27e87dd828>"
      ]
     },
     "metadata": {},
     "output_type": "display_data"
    }
   ],
   "source": [
    "#positive control \n",
    "\n",
    "X1=X_naive[randperm1[:samples],:]\n",
    "X2=X_cyto[randperm3[:samples],:]\n",
    "\n",
    "\n",
    "print(X1.shape)\n",
    "print(X2.shape)\n",
    "\n",
    "N1=X1.shape[0]\n",
    "N2=X2.shape[0]\n",
    "\n",
    "\n",
    "A=logr_ecidx(ecidx,X1,X2)\n",
    "print('pval=',A[1])\n",
    "\n",
    "\n",
    "X1_ecidx=X1[:,ecidx].todense()\n",
    "X2_ecidx=X2[:,ecidx].todense()\n",
    "\n",
    "P1=pd.DataFrame(X1_ecidx,columns=nonzero_ec[ecidx])\n",
    "P1['cluster'] = 'CD4+/CD45RA+/CD25- Naive T-cells'\n",
    "P2=pd.DataFrame(X2_ecidx,columns=nonzero_ec[ecidx])\n",
    "P2['cluster'] = 'CD8+/CD45RA+ Naive Cytotoxic T-cells'\n",
    "P=P1.append(P2)\n",
    "df = pd.melt(P,  id_vars='cluster')\n",
    "\n",
    "plt.figure(figsize=(8,5))\n",
    "ax=sns.barplot(x='variable', y='value', hue='cluster',palette=[\"#FF1493\", \"#66dd5c\"], data=df)\n",
    "ax.set(xlabel='Equivalence Classes', ylabel='mean counts (TCCs)')\n",
    "plt.title(gene)\n",
    "plt.setp(ax.get_legend().get_texts(), fontsize='13') \n",
    "plt.setp(ax.get_legend().get_title(), fontsize='0')\n",
    "plt.show()\n",
    "\n",
    "\n",
    "Gexp1=np.array(X1_ecidx.T.sum(axis=0))[0]\n",
    "Gexp2=np.array(X2_ecidx.T.sum(axis=0))[0]\n",
    "\n",
    "P1=pd.DataFrame(Gexp1.T,)\n",
    "P1['cluster'] = 'CD4+/CD45RA+/CD25- Naive T-cells'\n",
    "P2=pd.DataFrame(Gexp2.T)\n",
    "P2['cluster'] = 'CD8+/CD45RA+ Naive Cytotoxic T-cells'\n",
    "P=P1.append(P2)\n",
    "df = pd.melt(P,  id_vars='cluster')\n",
    "\n",
    "plt.figure(figsize=(1,5))\n",
    "ax=sns.barplot(x='variable', y='value', hue='cluster',palette=[\"#FF1493\", \"#66dd5c\"], data=df)\n",
    "ax.set(xlabel='', ylabel='mean counts (Gene)')\n",
    "ax.legend_.remove()\n",
    "plt.title(gene)\n",
    "plt.show()"
   ]
  },
  {
   "cell_type": "code",
   "execution_count": 158,
   "metadata": {},
   "outputs": [
    {
     "name": "stdout",
     "output_type": "stream",
     "text": [
      "Optimization terminated successfully.\n",
      "         Current function value: 0.692795\n",
      "         Iterations 4\n",
      "                           Logit Regression Results                           \n",
      "==============================================================================\n",
      "Dep. Variable:                      y   No. Observations:                 6000\n",
      "Model:                          Logit   Df Residuals:                     5992\n",
      "Method:                           MLE   Df Model:                            7\n",
      "Date:                Fri, 22 Jun 2018   Pseudo R-squ.:               0.0005076\n",
      "Time:                        10:05:01   Log-Likelihood:                -4156.8\n",
      "converged:                       True   LL-Null:                       -4158.9\n",
      "                                        LLR p-value:                    0.7538\n",
      "==============================================================================\n",
      "                 coef    std err          z      P>|z|      [0.025      0.975]\n",
      "------------------------------------------------------------------------------\n",
      "const         -0.0046      0.028     -0.164      0.870      -0.059       0.050\n",
      "x1            -0.0193      0.108     -0.179      0.858      -0.231       0.193\n",
      "x2             0.0448      0.163      0.275      0.784      -0.275       0.365\n",
      "x3            -0.0480      0.096     -0.500      0.617      -0.236       0.140\n",
      "x4            -0.0659      0.136     -0.484      0.628      -0.333       0.201\n",
      "x5             0.0864      0.181      0.477      0.633      -0.268       0.441\n",
      "x6             0.1271      0.253      0.503      0.615      -0.368       0.623\n",
      "x7             0.1887      0.220      0.858      0.391      -0.242       0.620\n",
      "==============================================================================\n",
      "           chi2               P>chi2  df constraint\n",
      "const  0.026936   0.8696341555314738              8\n",
      "x1     0.031978   0.8580752092178283              8\n",
      "x2     0.075417   0.7836067343051736              8\n",
      "x3     0.250067   0.6170282216060332              8\n",
      "x4     0.234164   0.6284533303527537              8\n",
      "x5     0.227707   0.6332293378314664              8\n",
      "x6     0.252714   0.6151706713330503              8\n",
      "x7     0.736324  0.39084101234623425              8\n"
     ]
    },
    {
     "data": {
      "text/plain": [
       "<Container object of 3 artists>"
      ]
     },
     "execution_count": 158,
     "metadata": {},
     "output_type": "execute_result"
    },
    {
     "data": {
      "image/png": "[encoded data removed]",
      "text/plain": [
       "<matplotlib.figure.Figure at 0x7f27e88cc6d8>"
      ]
     },
     "metadata": {},
     "output_type": "display_data"
    }
   ],
   "source": [
    "N1=X1.shape[0]\n",
    "N2=X2.shape[0]\n",
    "logr_labels = np.concatenate((np.ones(N1),np.zeros(N2)),axis=0)\n",
    "\n",
    "X1_ecidx=X1[:,ecidx].todense()\n",
    "X2_ecidx=X2[:,ecidx].todense()\n",
    "c=np.concatenate([X1_ecidx,X2_ecidx])\n",
    "c=np.concatenate([np.ones((N1+N2,1)),c],axis=1)\n",
    "logit = sm.Logit( logr_labels,c)\n",
    "\n",
    "\n",
    "# fit the model\n",
    "result = logit.fit()\n",
    "print( result.summary())\n",
    "print(result.wald_test_terms())\n",
    "plt.stem(np.log(result.pvalues))"
   ]
  },
  {
   "cell_type": "code",
   "execution_count": 159,
   "metadata": {},
   "outputs": [
    {
     "name": "stdout",
     "output_type": "stream",
     "text": [
      "(3000, 342642)\n",
      "(3000, 342642)\n",
      "pval= 0.00048420219651168495\n"
     ]
    },
    {
     "data": {
      "image/png": "[encoded data removed]",
      "text/plain": [
       "<matplotlib.figure.Figure at 0x7f27e74d1e48>"
      ]
     },
     "metadata": {},
     "output_type": "display_data"
    },
    {
     "data": {
      "image/png": "[encoded data removed]",
      "text/plain": [
       "<matplotlib.figure.Figure at 0x7f27e889d828>"
      ]
     },
     "metadata": {},
     "output_type": "display_data"
    }
   ],
   "source": [
    "#positive control \n",
    "\n",
    "X1=X_cyto[randperm3[:samples],:]\n",
    "X2=X_mem[randperm2[:samples],:]\n",
    "\n",
    "\n",
    "\n",
    "print(X1.shape)\n",
    "print(X2.shape)\n",
    "\n",
    "N1=X1.shape[0]\n",
    "N2=X2.shape[0]\n",
    "\n",
    "\n",
    "A=logr_ecidx(ecidx,X1,X2)\n",
    "print('pval=',A[1])\n",
    "\n",
    "\n",
    "X1_ecidx=X1[:,ecidx].todense()\n",
    "X2_ecidx=X2[:,ecidx].todense()\n",
    "\n",
    "P1=pd.DataFrame(X1_ecidx,columns=nonzero_ec[ecidx])\n",
    "P1['cluster'] = 'CD8+/CD45RA+ Naive Cytotoxic T-cells'\n",
    "P2=pd.DataFrame(X2_ecidx,columns=nonzero_ec[ecidx])\n",
    "P2['cluster'] = 'CD4+/CD45RO+ Memory T-cells'\n",
    "P=P1.append(P2)\n",
    "df = pd.melt(P,  id_vars='cluster')\n",
    "\n",
    "plt.figure(figsize=(8,5))\n",
    "ax=sns.barplot(x='variable', y='value', hue='cluster',palette=[\"#66dd5c\",\"#6495ED\"], data=df)\n",
    "ax.set(xlabel='Equivalence Classes', ylabel='mean counts (TCCs)')\n",
    "plt.title(gene)\n",
    "plt.setp(ax.get_legend().get_texts(), fontsize='13') \n",
    "plt.setp(ax.get_legend().get_title(), fontsize='0')\n",
    "plt.show()\n",
    "\n",
    "\n",
    "Gexp1=np.array(X1_ecidx.T.sum(axis=0))[0]\n",
    "Gexp2=np.array(X2_ecidx.T.sum(axis=0))[0]\n",
    "\n",
    "P1=pd.DataFrame(Gexp1.T,)\n",
    "P1['cluster'] = 'CD8+/CD45RA+ Naive Cytotoxic T-cells'\n",
    "P2=pd.DataFrame(Gexp2.T)\n",
    "P2['cluster'] = 'CD4+/CD45RO+ Memory T-cells'\n",
    "P=P1.append(P2)\n",
    "df = pd.melt(P,  id_vars='cluster')\n",
    "\n",
    "plt.figure(figsize=(1,5))\n",
    "ax=sns.barplot(x='variable', y='value', hue='cluster',palette=[\"#66dd5c\",\"#6495ED\"], data=df)\n",
    "ax.set(xlabel='', ylabel='mean counts (Gene)')\n",
    "ax.legend_.remove()\n",
    "plt.title(gene)\n",
    "plt.show()"
   ]
  },
  {
   "cell_type": "code",
   "execution_count": 160,
   "metadata": {},
   "outputs": [
    {
     "name": "stdout",
     "output_type": "stream",
     "text": [
      "Optimization terminated successfully.\n",
      "         Current function value: 0.690971\n",
      "         Iterations 4\n",
      "                           Logit Regression Results                           \n",
      "==============================================================================\n",
      "Dep. Variable:                      y   No. Observations:                 6000\n",
      "Model:                          Logit   Df Residuals:                     5992\n",
      "Method:                           MLE   Df Model:                            7\n",
      "Date:                Fri, 22 Jun 2018   Pseudo R-squ.:                0.003140\n",
      "Time:                        10:05:04   Log-Likelihood:                -4145.8\n",
      "converged:                       True   LL-Null:                       -4158.9\n",
      "                                        LLR p-value:                 0.0004794\n",
      "==============================================================================\n",
      "                 coef    std err          z      P>|z|      [0.025      0.975]\n",
      "------------------------------------------------------------------------------\n",
      "const          0.0200      0.028      0.716      0.474      -0.035       0.075\n",
      "x1            -0.2585      0.101     -2.568      0.010      -0.456      -0.061\n",
      "x2            -0.4925      0.149     -3.306      0.001      -0.785      -0.201\n",
      "x3            -0.0945      0.089     -1.061      0.288      -0.269       0.080\n",
      "x4             0.2006      0.148      1.357      0.175      -0.089       0.490\n",
      "x5            -0.0938      0.193     -0.486      0.627      -0.472       0.285\n",
      "x6             0.4397      0.310      1.419      0.156      -0.168       1.047\n",
      "x7            -0.0452      0.245     -0.184      0.854      -0.526       0.435\n",
      "==============================================================================\n",
      "            chi2                 P>chi2  df constraint\n",
      "const   0.512448    0.47408091189400103              8\n",
      "x1      6.597021   0.010214952404803508              8\n",
      "x2     10.927660  0.0009473906270750115              8\n",
      "x3      1.126701     0.2884801192658911              8\n",
      "x4      1.840305    0.17491514831535293              8\n",
      "x5      0.235822     0.6272402215775065              8\n",
      "x6      2.013227    0.15593331720052309              8\n",
      "x7      0.033969     0.8537732607542214              8\n"
     ]
    },
    {
     "data": {
      "text/plain": [
       "<Container object of 3 artists>"
      ]
     },
     "execution_count": 160,
     "metadata": {},
     "output_type": "execute_result"
    },
    {
     "data": {
      "image/png": "[encoded data removed]",
      "text/plain": [
       "<matplotlib.figure.Figure at 0x7f27e8b04438>"
      ]
     },
     "metadata": {},
     "output_type": "display_data"
    }
   ],
   "source": [
    "N1=X1.shape[0]\n",
    "N2=X2.shape[0]\n",
    "logr_labels = np.concatenate((np.ones(N1),np.zeros(N2)),axis=0)\n",
    "\n",
    "X1_ecidx=X1[:,ecidx].todense()\n",
    "X2_ecidx=X2[:,ecidx].todense()\n",
    "c=np.concatenate([X1_ecidx,X2_ecidx])\n",
    "c=np.concatenate([np.ones((N1+N2,1)),c],axis=1)\n",
    "logit = sm.Logit( logr_labels,c)\n",
    "\n",
    "\n",
    "# fit the model\n",
    "result = logit.fit()\n",
    "print( result.summary())\n",
    "print(result.wald_test_terms())\n",
    "plt.stem(np.log(result.pvalues))"
   ]
  },
  {
   "cell_type": "code",
   "execution_count": null,
   "metadata": {
    "collapsed": true
   },
   "outputs": [],
   "source": []
  },
  {
   "cell_type": "code",
   "execution_count": null,
   "metadata": {
    "collapsed": true
   },
   "outputs": [],
   "source": []
  },
  {
   "cell_type": "code",
   "execution_count": null,
   "metadata": {
    "collapsed": true
   },
   "outputs": [],
   "source": []
  },
  {
   "cell_type": "code",
   "execution_count": null,
   "metadata": {
    "collapsed": true
   },
   "outputs": [],
   "source": []
  },
  {
   "cell_type": "code",
   "execution_count": 55,
   "metadata": {
    "collapsed": true
   },
   "outputs": [],
   "source": [
    "from scipy.stats import ttest_ind\n",
    "\n",
    "def ttest_ecidx(ecidx,X1,X2):\n",
    "    \n",
    "    N1=X1.shape[0]\n",
    "    N2=X2.shape[0]\n",
    "    logr_labels = np.concatenate((np.ones(N1),np.zeros(N2)),axis=0)\n",
    "    \n",
    "    k=len(ecidx)\n",
    "    \n",
    "    X1_ecidx=X1[:,ecidx].todense()\n",
    "    X2_ecidx=X2[:,ecidx].todense()\n",
    "    \n",
    "    pvals=[]\n",
    "    for j in range(k):\n",
    "        a=X1_ecidx[:,j]\n",
    "        b=X2_ecidx[:,j]\n",
    "        [o,p]=ttest_ind(a,b,equal_var=False)\n",
    "        pvals+=[p]\n",
    "    pval=np.min([1,np.min(np.array(pvals))*k])\n",
    "    \n",
    "    \n",
    "    return pval"
   ]
  },
  {
   "cell_type": "markdown",
   "metadata": {},
   "source": [
    "### Mem-Naive"
   ]
  },
  {
   "cell_type": "code",
   "execution_count": 56,
   "metadata": {
    "scrolled": true
   },
   "outputs": [
    {
     "name": "stdout",
     "output_type": "stream",
     "text": [
      "0 \t logr pval= 9.164955242280115e-06 \t sepLR pval= 0.0003191484297788705 \t ttest pval= 0.00034778523159686493\n",
      "1 \t logr pval= 9.131709235776775e-06 \t sepLR pval= 5.837464455149544e-07 \t ttest pval= 6.861267877877658e-07\n",
      "2 \t logr pval= 0.00014809400277682183 \t sepLR pval= 0.003206780079689664 \t ttest pval= 0.0037718168632925363\n",
      "3 \t logr pval= 0.0004290464992247056 \t sepLR pval= 0.0076379459672890615 \t ttest pval= 0.00853549513523547\n",
      "4 \t logr pval= 8.154019632722331e-06 \t sepLR pval= 3.570212550008112e-05 \t ttest pval= 5.883217771593073e-05\n",
      "5 \t logr pval= 0.13061808231607452 \t sepLR pval= 0.3778712042555341 \t ttest pval= 0.38202381730088913\n",
      "6 \t logr pval= 5.0075341206934354e-08 \t sepLR pval= 1.6655098595830253e-05 \t ttest pval= 1.862028967144264e-05\n",
      "7 \t logr pval= 0.00018663101900817658 \t sepLR pval= 0.01612637845899645 \t ttest pval= 0.01686636618097294\n",
      "8 \t logr pval= 0.03081099399778786 \t sepLR pval= 0.021629614503863026 \t ttest pval= 0.02225744677725744\n",
      "9 \t logr pval= 0.00021199702341156978 \t sepLR pval= 0.005040016928797519 \t ttest pval= 0.005379098191186101\n",
      "10 \t logr pval= 0.004207044433375384 \t sepLR pval= 0.006674648435180508 \t ttest pval= 0.00690910168535327\n",
      "11 \t logr pval= 0.00039411839472125454 \t sepLR pval= 0.00946653965858324 \t ttest pval= 0.010338283824013413\n",
      "12 \t logr pval= 0.00024437849354264074 \t sepLR pval= 0.006462134433942057 \t ttest pval= 0.006987430427689639\n",
      "13 \t logr pval= 8.108727855860032e-05 \t sepLR pval= 0.001133382444840958 \t ttest pval= 0.001398594239214345\n",
      "14 \t logr pval= 2.8716203080980662e-06 \t sepLR pval= 0.0027053547557044366 \t ttest pval= 0.002834813274682494\n",
      "15 \t logr pval= 0.005017413951065919 \t sepLR pval= 0.010338526000314263 \t ttest pval= 0.01208986467902153\n",
      "16 \t logr pval= 8.78239595225594e-06 \t sepLR pval= 0.00038087517943663496 \t ttest pval= 0.0005132929655630395\n",
      "17 \t logr pval= 5.196573184429454e-06 \t sepLR pval= 0.006227878764290651 \t ttest pval= 0.007056653424702316\n",
      "18 \t logr pval= 0.00016456749056437125 \t sepLR pval= 0.010294374723795241 \t ttest pval= 0.011239224180338058\n",
      "19 \t logr pval= 0.01048122024850906 \t sepLR pval= 0.14531850565037885 \t ttest pval= 0.14771361995143856\n",
      "20 \t logr pval= 4.844654931634995e-05 \t sepLR pval= 0.0001535905462424214 \t ttest pval= 0.00017701379170794403\n",
      "21 \t logr pval= 3.1591208229375667e-06 \t sepLR pval= 0.00013508190607525172 \t ttest pval= 0.00016803349981577497\n",
      "22 \t logr pval= 0.0011465423426713084 \t sepLR pval= 0.012520459562731623 \t ttest pval= 0.01281410890668716\n",
      "23 \t logr pval= 1.4108868311213385e-05 \t sepLR pval= 0.002098065857265574 \t ttest pval= 0.0030279452822719556\n",
      "24 \t logr pval= 1.9572255965827345e-05 \t sepLR pval= 1.8109360656382023e-05 \t ttest pval= 2.4298941208870963e-05\n",
      "25 \t logr pval= 4.804608813024913e-07 \t sepLR pval= 0.0015632721125494742 \t ttest pval= 0.0016778121197028183\n",
      "26 \t logr pval= 0.0006289759739462886 \t sepLR pval= 0.004506165541337648 \t ttest pval= 0.004940963070863404\n",
      "27 \t logr pval= 0.025219607425876145 \t sepLR pval= 0.04283181830382854 \t ttest pval= 0.05147032680086389\n",
      "28 \t logr pval= 5.1040642636501765e-05 \t sepLR pval= 0.002595332430368247 \t ttest pval= 0.002909957635684164\n",
      "29 \t logr pval= 0.0020862607536532574 \t sepLR pval= 0.025198477829071475 \t ttest pval= 0.02655325670113129\n",
      "30 \t logr pval= 1.8208559434684801e-06 \t sepLR pval= 0.00033730122222452863 \t ttest pval= 0.0004862148203637522\n",
      "31 \t logr pval= 0.000721482840014942 \t sepLR pval= 0.001884323683276068 \t ttest pval= 0.0021316058546339395\n",
      "32 \t logr pval= 1.0789561941670911e-05 \t sepLR pval= 0.003753071416941811 \t ttest pval= 0.004454135338461443\n",
      "33 \t logr pval= 9.502698368357709e-05 \t sepLR pval= 0.003572405355945052 \t ttest pval= 0.004091442196826048\n",
      "34 \t logr pval= 7.317149773533593e-06 \t sepLR pval= 0.0006418069887305089 \t ttest pval= 0.0009803606203391071\n",
      "35 \t logr pval= 5.633821878769929e-05 \t sepLR pval= 0.002253257758488947 \t ttest pval= 0.002523264156574792\n",
      "36 \t logr pval= 1.2577887598896886e-05 \t sepLR pval= 0.003923864892591333 \t ttest pval= 0.004435466098763557\n",
      "37 \t logr pval= 0.00014104954073623777 \t sepLR pval= 0.013140727530924878 \t ttest pval= 0.013860596922628138\n",
      "38 \t logr pval= 0.0008973955937698896 \t sepLR pval= 0.0006469161907699528 \t ttest pval= 0.0007432005565694318\n",
      "39 \t logr pval= 5.637399032853985e-05 \t sepLR pval= 0.00781873445886716 \t ttest pval= 0.010682025484030603\n",
      "40 \t logr pval= 4.678255351953098e-05 \t sepLR pval= 0.008338520575531083 \t ttest pval= 0.008937179475751266\n",
      "41 \t logr pval= 0.0050610992643117525 \t sepLR pval= 0.0029607014481587424 \t ttest pval= 0.00405913213960011\n",
      "42 \t logr pval= 0.0006787533283010294 \t sepLR pval= 0.0026684358916945206 \t ttest pval= 0.003071518591105745\n",
      "43 \t logr pval= 0.00018296580295940057 \t sepLR pval= 0.007611359409272711 \t ttest pval= 0.008453939217500884\n",
      "44 \t logr pval= 1.1136634892050523e-06 \t sepLR pval= 0.0008241031485592965 \t ttest pval= 0.0008731513568972801\n",
      "45 \t logr pval= 2.5528908292327124e-05 \t sepLR pval= 0.005549218750324103 \t ttest pval= 0.006505112743457355\n",
      "46 \t logr pval= 9.65453823209561e-06 \t sepLR pval= 0.0011709170927568513 \t ttest pval= 0.001235637090151507\n",
      "47 \t logr pval= 2.828341061356099e-08 \t sepLR pval= 0.00010119847975398333 \t ttest pval= 0.0001439853967016504\n",
      "48 \t logr pval= 1.3741350979312728e-07 \t sepLR pval= 1.6589548547107924e-06 \t ttest pval= 2.0336365407448332e-06\n",
      "49 \t logr pval= 0.26354236653130125 \t sepLR pval= 0.2877635912723512 \t ttest pval= 0.2983385345834687\n",
      "50 \t logr pval= 4.1782099199361156e-06 \t sepLR pval= 2.185296918766344e-05 \t ttest pval= 2.95454611123932e-05\n",
      "51 \t logr pval= 0.00023769402700990483 \t sepLR pval= 0.021107939529102393 \t ttest pval= 0.02277083232353843\n",
      "52 \t logr pval= 0.00021309178151962538 \t sepLR pval= 0.007860228304193195 \t ttest pval= 0.008548414001995082\n",
      "53 \t logr pval= 3.2771483549076663e-07 \t sepLR pval= 4.0576328101726844e-05 \t ttest pval= 5.846963738533563e-05\n",
      "54 \t logr pval= 0.005337677441297983 \t sepLR pval= 0.0185267741471985 \t ttest pval= 0.01898393116914817\n",
      "55 \t logr pval= 0.005173997027843491 \t sepLR pval= 0.02697607118155554 \t ttest pval= 0.027584145025206053\n",
      "56 \t logr pval= 0.0027700679217348423 \t sepLR pval= 0.009154745126652264 \t ttest pval= 0.009774425204733855\n",
      "57 \t logr pval= 4.211026655642769e-05 \t sepLR pval= 0.002658312578182831 \t ttest pval= 0.0030370544490521314\n",
      "58 \t logr pval= 0.0008559464291409968 \t sepLR pval= 0.042508715341258774 \t ttest pval= 0.043354387454823465\n",
      "59 \t logr pval= 0.00014369589672524885 \t sepLR pval= 0.007229763169112391 \t ttest pval= 0.008396463565358623\n",
      "60 \t logr pval= 7.12040377449652e-05 \t sepLR pval= 0.00039030990386434983 \t ttest pval= 0.0005194723230470732\n",
      "61 \t logr pval= 0.001259143632992732 \t sepLR pval= 0.0019610933746708747 \t ttest pval= 0.002154859186172167\n",
      "62 \t logr pval= 0.003720790379383332 \t sepLR pval= 0.011883186625576636 \t ttest pval= 0.012776312336071665\n",
      "63 \t logr pval= 9.893931820281754e-05 \t sepLR pval= 0.0037557446062262967 \t ttest pval= 0.004986273473238816\n",
      "64 \t logr pval= 2.856382431226656e-05 \t sepLR pval= 0.00026083420242883903 \t ttest pval= 0.00031345500576630207\n",
      "65 \t logr pval= 0.013518633638339272 \t sepLR pval= 0.05848964689810365 \t ttest pval= 0.06180679035892546\n",
      "66 \t logr pval= 0.00020779978643681307 \t sepLR pval= 0.002401150917983208 \t ttest pval= 0.002502355781245556\n",
      "67 \t logr pval= 1.0221274405752823e-06 \t sepLR pval= 0.00037797211707313316 \t ttest pval= 0.00041628123784523825\n",
      "68 \t logr pval= 0.0001892044915605684 \t sepLR pval= 0.011667203298766582 \t ttest pval= 0.013674514661481054\n",
      "69 \t logr pval= 0.0028064378630374698 \t sepLR pval= 0.006432557973306885 \t ttest pval= 0.007162655578145258\n",
      "70 \t logr pval= 4.203795435542279e-05 \t sepLR pval= 0.0016676943307296632 \t ttest pval= 0.0020094472770311863\n",
      "71 \t logr pval= 0.0007857380211608866 \t sepLR pval= 0.013572099425115725 \t ttest pval= 0.015880099138246267\n",
      "72 \t logr pval= 4.594303024241242e-06 \t sepLR pval= 0.0038418416446923676 \t ttest pval= 0.004270850163172085\n",
      "73 \t logr pval= 3.432592038277171e-05 \t sepLR pval= 0.002590960697849032 \t ttest pval= 0.002944365508515902\n",
      "74 \t logr pval= 5.4321855615824255e-05 \t sepLR pval= 0.001365414339455362 \t ttest pval= 0.0014281523129948074\n",
      "75 \t logr pval= 1.872419286286231e-07 \t sepLR pval= 1.4899860418804423e-06 \t ttest pval= 1.876144522125881e-06\n"
     ]
    },
    {
     "name": "stdout",
     "output_type": "stream",
     "text": [
      "76 \t logr pval= 0.0001620944957180237 \t sepLR pval= 0.012361533525636514 \t ttest pval= 0.012699897301309718\n",
      "77 \t logr pval= 0.04279826741942394 \t sepLR pval= 0.01969381191455455 \t ttest pval= 0.02054184375930221\n",
      "78 \t logr pval= 1.8021271475099354e-07 \t sepLR pval= 4.329063901131747e-06 \t ttest pval= 5.366295533229349e-06\n",
      "79 \t logr pval= 6.146101079906874e-05 \t sepLR pval= 0.0028043589367281463 \t ttest pval= 0.003199614448732558\n",
      "80 \t logr pval= 0.003363615411195675 \t sepLR pval= 0.002501295855633856 \t ttest pval= 0.003749989454779457\n",
      "81 \t logr pval= 7.183364443485996e-05 \t sepLR pval= 0.00014125442617285433 \t ttest pval= 0.00015436202371171825\n",
      "82 \t logr pval= 1.3152821347506283e-05 \t sepLR pval= 7.590181838412757e-05 \t ttest pval= 8.263622669342686e-05\n",
      "83 \t logr pval= 2.8101754284359792e-05 \t sepLR pval= 0.0001877169597573891 \t ttest pval= 0.00022097947088584803\n",
      "84 \t logr pval= 0.08391505274448108 \t sepLR pval= 0.1452620700363909 \t ttest pval= 0.14796169650920313\n",
      "85 \t logr pval= 1.4345749435040744e-06 \t sepLR pval= 0.00012253855295552007 \t ttest pval= 0.00013309774681135865\n",
      "86 \t logr pval= 0.0038231407761460945 \t sepLR pval= 0.12122577878865659 \t ttest pval= 0.12231462029317164\n",
      "87 \t logr pval= 0.00011555010914543473 \t sepLR pval= 0.003370838898336892 \t ttest pval= 0.0036675988494488145\n",
      "88 \t logr pval= 0.004839599611213163 \t sepLR pval= 0.019577142540924908 \t ttest pval= 0.020149375430082713\n",
      "89 \t logr pval= 0.02952151682907389 \t sepLR pval= 0.0984008135455604 \t ttest pval= 0.1030329872680771\n",
      "90 \t logr pval= 1.419823386306085e-06 \t sepLR pval= 0.0010336584366066326 \t ttest pval= 0.001393267196413307\n",
      "91 \t logr pval= 1.1519497129519607e-06 \t sepLR pval= 0.00014496500851846061 \t ttest pval= 0.0001682661964711329\n",
      "92 \t logr pval= 0.015277054868659712 \t sepLR pval= 0.02643627741872423 \t ttest pval= 0.027917168267515995\n",
      "93 \t logr pval= 0.0004725718948662694 \t sepLR pval= 0.002810360794832212 \t ttest pval= 0.00295391341260979\n",
      "94 \t logr pval= 0.0023382831229527 \t sepLR pval= 0.02710083668474994 \t ttest pval= 0.027714691674660452\n",
      "95 \t logr pval= 1.0084050957037682e-05 \t sepLR pval= 6.145767791609913e-05 \t ttest pval= 8.085218669882775e-05\n",
      "96 \t logr pval= 1.3979485652737544e-05 \t sepLR pval= 0.0015787926229960947 \t ttest pval= 0.0018209313364299885\n",
      "97 \t logr pval= 0.002378645546682545 \t sepLR pval= 0.006521634375562635 \t ttest pval= 0.007408420512814299\n",
      "98 \t logr pval= 0.00013044140206530663 \t sepLR pval= 0.004693002119836698 \t ttest pval= 0.00489619035497579\n",
      "99 \t logr pval= 0.005208003698176422 \t sepLR pval= 0.0019965629254314887 \t ttest pval= 0.0022290066994555195\n",
      "100 \t logr pval= 0.003318131751507525 \t sepLR pval= 0.0018460864759927142 \t ttest pval= 0.0020794104047934334\n",
      "101 \t logr pval= 0.0006617482098080218 \t sepLR pval= 0.001718311292247976 \t ttest pval= 0.0019205771919928595\n",
      "102 \t logr pval= 2.585470726401695e-10 \t sepLR pval= 4.459405404055872e-06 \t ttest pval= 5.320919159731412e-06\n",
      "103 \t logr pval= 0.0009495565553009344 \t sepLR pval= 0.005837757620174022 \t ttest pval= 0.007289153234506468\n",
      "104 \t logr pval= 0.00010145778260672866 \t sepLR pval= 0.0014719231840009117 \t ttest pval= 0.0017511905146544112\n",
      "105 \t logr pval= 5.2445841093096135e-05 \t sepLR pval= 0.008595643303471734 \t ttest pval= 0.009582918201082154\n",
      "106 \t logr pval= 0.0005439159402703675 \t sepLR pval= 0.04220494488960613 \t ttest pval= 0.04614701459483556\n",
      "107 \t logr pval= 0.0002480091986404309 \t sepLR pval= 0.03507953278529774 \t ttest pval= 0.035853465949843094\n",
      "108 \t logr pval= 0.0008743726285008746 \t sepLR pval= 0.0025961497862200256 \t ttest pval= 0.0029620957035524295\n",
      "109 \t logr pval= 1.9592700762682824e-05 \t sepLR pval= 0.0011008574435608098 \t ttest pval= 0.0012878373422692965\n",
      "110 \t logr pval= 0.00040270103971584703 \t sepLR pval= 0.022060909169484333 \t ttest pval= 0.023732739198600167\n",
      "111 \t logr pval= 0.004432109230803616 \t sepLR pval= 0.11823689790898839 \t ttest pval= 0.1254118862880771\n",
      "112 \t logr pval= 0.000233894604358853 \t sepLR pval= 0.0035894114570320657 \t ttest pval= 0.0037214689550186166\n",
      "113 \t logr pval= 0.00013378553252263448 \t sepLR pval= 0.005930971011948616 \t ttest pval= 0.006105513358871383\n",
      "114 \t logr pval= 0.0010763264377549042 \t sepLR pval= 0.01865927498764175 \t ttest pval= 0.02040778577643483\n",
      "115 \t logr pval= 2.4149701399744927e-06 \t sepLR pval= 0.008628395632836572 \t ttest pval= 0.008899496829506269\n",
      "116 \t logr pval= 2.6057831092884953e-07 \t sepLR pval= 7.017518071306128e-06 \t ttest pval= 9.940977745354901e-06\n",
      "117 \t logr pval= 0.002708107665367887 \t sepLR pval= 0.0039912016360937885 \t ttest pval= 0.004539777863201553\n",
      "118 \t logr pval= 2.6964436034782047e-05 \t sepLR pval= 0.005626881620778512 \t ttest pval= 0.0076078658447320605\n",
      "119 \t logr pval= 0.0005889390430329211 \t sepLR pval= 0.01893516886904356 \t ttest pval= 0.02041613934780539\n",
      "120 \t logr pval= 0.0004602068317273167 \t sepLR pval= 0.0045732230802797424 \t ttest pval= 0.005158428458484402\n",
      "121 \t logr pval= 0.0002323817087785951 \t sepLR pval= 0.00015221322855396568 \t ttest pval= 0.00016588816337580748\n",
      "122 \t logr pval= 0.0009705785570663927 \t sepLR pval= 0.0008915713068359254 \t ttest pval= 0.0011282322124701654\n",
      "123 \t logr pval= 2.846515597931809e-05 \t sepLR pval= 0.000735736540365739 \t ttest pval= 0.0010605289589031696\n",
      "124 \t logr pval= 0.0015532736386932866 \t sepLR pval= 0.002166976326854253 \t ttest pval= 0.0022905660468145565\n",
      "125 \t logr pval= 1.0143239317361719e-06 \t sepLR pval= 7.902616805532947e-05 \t ttest pval= 0.00010980045080001956\n",
      "126 \t logr pval= 5.5964194056734584e-08 \t sepLR pval= 0.0008626310962822625 \t ttest pval= 0.0009997420575001315\n",
      "127 \t logr pval= 0.00010963739834835007 \t sepLR pval= 0.0013266945608486624 \t ttest pval= 0.0015083206985607258\n",
      "128 \t logr pval= 0.09555338663780255 \t sepLR pval= 0.3117514402167135 \t ttest pval= 0.3169452885272499\n",
      "129 \t logr pval= 9.881353297824802e-07 \t sepLR pval= 6.951262198517938e-06 \t ttest pval= 9.736470435761184e-06\n",
      "130 \t logr pval= 6.8333702792910955e-06 \t sepLR pval= 0.0009025194311572671 \t ttest pval= 0.0015741744586125319\n",
      "131 \t logr pval= 0.00039335866042145007 \t sepLR pval= 0.0009841205183541701 \t ttest pval= 0.0015665988826493507\n",
      "132 \t logr pval= 0.0022070499824199397 \t sepLR pval= 0.006317946007133091 \t ttest pval= 0.00663627740802207\n",
      "133 \t logr pval= 1.5330042841710245e-05 \t sepLR pval= 0.00020404191000711336 \t ttest pval= 0.0002578073220398142\n",
      "134 \t logr pval= 7.465531551842375e-06 \t sepLR pval= 0.0020999827922160152 \t ttest pval= 0.003434552637476185\n",
      "135 \t logr pval= 7.350373509740216e-06 \t sepLR pval= 0.00013690368128771446 \t ttest pval= 0.00015539606002123733\n",
      "136 \t logr pval= 0.0003105796705822339 \t sepLR pval= 0.0037797063469128256 \t ttest pval= 0.003916951736823597\n",
      "137 \t logr pval= 0.0005646567791792734 \t sepLR pval= 0.0011545852106203958 \t ttest pval= 0.0015088602537045945\n",
      "138 \t logr pval= 8.340314233845625e-05 \t sepLR pval= 5.1043627667168856e-05 \t ttest pval= 6.495983237641196e-05\n",
      "139 \t logr pval= 0.00010246695429350083 \t sepLR pval= 0.0009758465059337418 \t ttest pval= 0.0010624888928898032\n",
      "140 \t logr pval= 0.00013484161809584894 \t sepLR pval= 0.0002795440609373312 \t ttest pval= 0.00030695600795699524\n",
      "141 \t logr pval= 1.538574452175645e-06 \t sepLR pval= 0.0012141864374154432 \t ttest pval= 0.001383854550880047\n",
      "142 \t logr pval= 0.0014995808997874116 \t sepLR pval= 0.021201030293595102 \t ttest pval= 0.02624069103975108\n",
      "143 \t logr pval= 1.3280288041483956e-06 \t sepLR pval= 1.2862958581494333e-05 \t ttest pval= 1.4377893353184344e-05\n",
      "144 \t logr pval= 3.834925851542437e-06 \t sepLR pval= 0.0008361779526891988 \t ttest pval= 0.0009113427926668697\n",
      "145 \t logr pval= 0.006756494913527145 \t sepLR pval= 0.023647353669010385 \t ttest pval= 0.024491328091128188\n",
      "146 \t logr pval= 0.00508278285019137 \t sepLR pval= 0.02321695658258227 \t ttest pval= 0.024257386039727193\n",
      "147 \t logr pval= 0.009577761056524858 \t sepLR pval= 0.0764231243172031 \t ttest pval= 0.07982516011990855\n",
      "148 \t logr pval= 0.011939831173126692 \t sepLR pval= 0.05986972749221098 \t ttest pval= 0.06452883062467239\n",
      "149 \t logr pval= 1.3784411906692107e-05 \t sepLR pval= 0.0023935929609961715 \t ttest pval= 0.002765437828042156\n",
      "150 \t logr pval= 8.100493665397224e-05 \t sepLR pval= 6.733322680185783e-05 \t ttest pval= 7.597748107828216e-05\n"
     ]
    },
    {
     "name": "stdout",
     "output_type": "stream",
     "text": [
      "151 \t logr pval= 1.6370756000139153e-05 \t sepLR pval= 0.004359572329714179 \t ttest pval= 0.004662920450157182\n",
      "152 \t logr pval= 6.345000364138542e-05 \t sepLR pval= 0.007471965889036758 \t ttest pval= 0.007806141274307705\n",
      "153 \t logr pval= 0.00014137999372021426 \t sepLR pval= 0.029869461012080212 \t ttest pval= 0.03253281460201937\n",
      "154 \t logr pval= 0.00034043719656007276 \t sepLR pval= 0.008368314967601154 \t ttest pval= 0.00926650232727452\n",
      "155 \t logr pval= 8.901893293744578e-05 \t sepLR pval= 0.002176317361612501 \t ttest pval= 0.002355656948680542\n",
      "156 \t logr pval= 1.428831043481793e-07 \t sepLR pval= 6.275182233317356e-05 \t ttest pval= 6.86306762007e-05\n",
      "157 \t logr pval= 0.0014205219201965935 \t sepLR pval= 0.004696244994123577 \t ttest pval= 0.005072952530090043\n",
      "158 \t logr pval= 0.007817823804434743 \t sepLR pval= 0.006321435309396217 \t ttest pval= 0.006570150952749549\n",
      "159 \t logr pval= 0.016807040364074433 \t sepLR pval= 0.1567152170239593 \t ttest pval= 0.1628002197872283\n",
      "160 \t logr pval= 0.08363207746207058 \t sepLR pval= 0.27792240692682857 \t ttest pval= 0.291657434182601\n",
      "161 \t logr pval= 4.58640063620841e-05 \t sepLR pval= 1.8894930642665564e-05 \t ttest pval= 2.1149844575069993e-05\n",
      "162 \t logr pval= 1.0631882262135406e-05 \t sepLR pval= 0.0009071473478615699 \t ttest pval= 0.001325409235879376\n",
      "163 \t logr pval= 0.0008840697942410491 \t sepLR pval= 0.005222669023749904 \t ttest pval= 0.005751638714375515\n",
      "164 \t logr pval= 0.000702612579426054 \t sepLR pval= 0.010750752710811606 \t ttest pval= 0.011879703644492099\n",
      "165 \t logr pval= 1.965083581301208e-06 \t sepLR pval= 0.0001865308477694283 \t ttest pval= 0.00023106034094674864\n",
      "166 \t logr pval= 8.462277705467702e-05 \t sepLR pval= 0.026843656214310285 \t ttest pval= 0.030055475430794155\n",
      "167 \t logr pval= 7.495806620960721e-06 \t sepLR pval= 0.0021985979813843315 \t ttest pval= 0.002459852282402157\n",
      "168 \t logr pval= 4.3432719506575346e-05 \t sepLR pval= 0.0005796618396018971 \t ttest pval= 0.0006198389451699941\n",
      "169 \t logr pval= 0.0006585790524921142 \t sepLR pval= 0.007931388529065497 \t ttest pval= 0.008466005857373853\n",
      "170 \t logr pval= 5.1083930536766076e-06 \t sepLR pval= 0.005531234993396139 \t ttest pval= 0.0063155285105861965\n",
      "171 \t logr pval= 0.03277414293908898 \t sepLR pval= 0.024980915135314197 \t ttest pval= 0.031970401790188084\n",
      "172 \t logr pval= 1.4797668731469926e-06 \t sepLR pval= 5.523329567047597e-06 \t ttest pval= 6.332706312892758e-06\n",
      "173 \t logr pval= 0.02274039930583438 \t sepLR pval= 0.1244065304376849 \t ttest pval= 0.12762246948368383\n",
      "174 \t logr pval= 0.0004829259668601704 \t sepLR pval= 0.00018741855414849962 \t ttest pval= 0.00020818175263920692\n",
      "175 \t logr pval= 0.0012711586880582715 \t sepLR pval= 0.021830222747983408 \t ttest pval= 0.02331270853015865\n",
      "176 \t logr pval= 0.0015576470350521232 \t sepLR pval= 0.04661022218429722 \t ttest pval= 0.054415702447480174\n",
      "177 \t logr pval= 9.35067025026326e-05 \t sepLR pval= 0.00010948204596750166 \t ttest pval= 0.00011981867571252701\n",
      "178 \t logr pval= 0.00010818823012337386 \t sepLR pval= 0.000458446945067692 \t ttest pval= 0.000554282825601384\n",
      "179 \t logr pval= 0.000590643229776866 \t sepLR pval= 0.037241433593347195 \t ttest pval= 0.03797917246128846\n",
      "180 \t logr pval= 1.1806170872596944e-05 \t sepLR pval= 1.3840320779445747e-06 \t ttest pval= 1.6259832239158637e-06\n",
      "181 \t logr pval= 0.002762158632337197 \t sepLR pval= 0.005794778670479617 \t ttest pval= 0.0064789057441120065\n",
      "182 \t logr pval= 0.00229288943909034 \t sepLR pval= 0.02321896844544502 \t ttest pval= 0.02451303651708319\n",
      "183 \t logr pval= 5.455841483925639e-06 \t sepLR pval= 2.9547291880982485e-06 \t ttest pval= 4.020369529153749e-06\n",
      "184 \t logr pval= 0.0002809394812833821 \t sepLR pval= 0.002897533371448602 \t ttest pval= 0.003438048885059589\n",
      "185 \t logr pval= 2.0248958486179802e-05 \t sepLR pval= 1.5223049820711765e-06 \t ttest pval= 2.3212727275240114e-06\n",
      "186 \t logr pval= 2.0570849504908395e-06 \t sepLR pval= 0.0007723644548165431 \t ttest pval= 0.0008696218573495161\n",
      "187 \t logr pval= 0.00013377412717408 \t sepLR pval= 0.00010572063722480429 \t ttest pval= 0.0001152278359546237\n",
      "188 \t logr pval= 6.565271356173685e-05 \t sepLR pval= 0.0016068251624667962 \t ttest pval= 0.001824658513253961\n",
      "189 \t logr pval= 2.6746099649033184e-05 \t sepLR pval= 5.048557606546211e-05 \t ttest pval= 5.649221660339901e-05\n",
      "190 \t logr pval= 0.01157137209029424 \t sepLR pval= 0.01011506783851257 \t ttest pval= 0.010364105588436914\n",
      "191 \t logr pval= 8.889512781440345e-08 \t sepLR pval= 5.414308954554414e-05 \t ttest pval= 6.104338308089808e-05\n",
      "192 \t logr pval= 0.00012209576326038807 \t sepLR pval= 0.0037527889248175628 \t ttest pval= 0.004053505052811539\n",
      "193 \t logr pval= 1.804366423507897e-05 \t sepLR pval= 4.350525330765187e-06 \t ttest pval= 6.48715784585988e-06\n",
      "194 \t logr pval= 0.0016687288238674824 \t sepLR pval= 0.007044569937924905 \t ttest pval= 0.007256756576913327\n",
      "195 \t logr pval= 1.624148311396567e-07 \t sepLR pval= 4.170912095036172e-05 \t ttest pval= 0.00010030327013892512\n",
      "196 \t logr pval= 7.87280447819283e-05 \t sepLR pval= 0.0010606255224236971 \t ttest pval= 0.0012139792095374248\n",
      "197 \t logr pval= 1.2552781718633277e-05 \t sepLR pval= 6.801233413122887e-07 \t ttest pval= 8.87165245474498e-07\n",
      "198 \t logr pval= 0.030616508457739666 \t sepLR pval= 0.2149324828778686 \t ttest pval= 0.21868713766181103\n",
      "199 \t logr pval= 0.0022805976066951894 \t sepLR pval= 0.0019568347266240016 \t ttest pval= 0.002210097733298127\n",
      "\n",
      " logR Avg. p-value:  0.005471962685961309\n",
      "\n",
      " seplogR Avg. p-value:  0.018870684512133428\n",
      "\n",
      " ttest Avg. p-value:  0.019837246286757655\n"
     ]
    }
   ],
   "source": [
    "np.random.seed(0)\n",
    "samples=3000\n",
    "carlo=200\n",
    "pvals=[]\n",
    "pvals_t_test=[]\n",
    "pvals_sep_logR=[]\n",
    "for monte in range(carlo):\n",
    "    randperm1A=np.random.permutation(X_naive.shape[0])\n",
    "    randperm2A=np.random.permutation(X_mem.shape[0])\n",
    "    #positive control \n",
    "\n",
    "    X1=X_naive[randperm1A[:samples],:]\n",
    "    X2=X_mem[randperm2A[:samples],:]\n",
    "\n",
    "\n",
    "    # print(X1.shape)\n",
    "    # print(X2.shape)\n",
    "\n",
    "    N1=X1.shape[0]\n",
    "    N2=X2.shape[0]\n",
    "\n",
    "\n",
    "    A=logr_ecidx(ecidx,X1,X2)\n",
    "    \n",
    "    pvals+=[A[1]]\n",
    "    tpval=ttest_ecidx(ecidx,X1,X2)\n",
    "    pvals_t_test+=[tpval]\n",
    "    \n",
    "    \n",
    "    \n",
    "    \n",
    "    pvals_tmp=[]\n",
    "    for j in ecidx:\n",
    "        B=logr_ecidx([j],X1,X2)\n",
    "        pvals_tmp+=[B[1]]\n",
    "    pval_sep=np.min([1,np.min(np.array(pvals_tmp))*len(ecidx)])\n",
    "    pvals_sep_logR+=[pval_sep]\n",
    "    \n",
    "    print(monte,'\\t logr pval=',A[1],'\\t sepLR pval=',pval_sep,'\\t ttest pval=',tpval)\n",
    "    \n",
    "    \n",
    "print(\"\\n logR Avg. p-value: \",np.mean(pvals))\n",
    "print(\"\\n seplogR Avg. p-value: \",np.mean(pvals_sep_logR))\n",
    "print(\"\\n ttest Avg. p-value: \",np.mean(pvals_t_test))"
   ]
  },
  {
   "cell_type": "code",
   "execution_count": 57,
   "metadata": {},
   "outputs": [
    {
     "data": {
      "text/plain": [
       "<matplotlib.axes._subplots.AxesSubplot at 0x7f1255a854a8>"
      ]
     },
     "execution_count": 57,
     "metadata": {},
     "output_type": "execute_result"
    },
    {
     "data": {
      "image/png": "[encoded data removed]",
      "text/plain": [
       "<matplotlib.figure.Figure at 0x7f1256cd98d0>"
      ]
     },
     "metadata": {},
     "output_type": "display_data"
    }
   ],
   "source": [
    "pvals_t_test1=pvals_t_test\n",
    "pvals_sep_logR1=pvals_sep_logR\n",
    "pvals1=pvals\n",
    "\n",
    "sns.distplot(-np.log10(pvals_sep_logR1))\n",
    "sns.distplot(-np.log10(pvals1))\n",
    "# sns.distplot(-np.log10(pvals_t_test1),hist=False,color='k')"
   ]
  },
  {
   "cell_type": "markdown",
   "metadata": {},
   "source": [
    "### Cyto-Mem"
   ]
  },
  {
   "cell_type": "code",
   "execution_count": 58,
   "metadata": {
    "scrolled": true
   },
   "outputs": [
    {
     "name": "stdout",
     "output_type": "stream",
     "text": [
      "0 \t logr pval= 2.7329784812013536e-05 \t sepLR pval= 0.0006096265708371851 \t ttest pval= 0.0008424315641669658\n",
      "1 \t logr pval= 0.0018591570982944283 \t sepLR pval= 0.00841189525664221 \t ttest pval= 0.009059589864991786\n",
      "2 \t logr pval= 1.2153200820153032e-05 \t sepLR pval= 0.0006626042501037821 \t ttest pval= 0.0007233412243527805\n",
      "3 \t logr pval= 2.049849770036083e-06 \t sepLR pval= 0.00012007382632051034 \t ttest pval= 0.00017053990128578934\n",
      "4 \t logr pval= 0.00028397128374590963 \t sepLR pval= 0.01009200581781855 \t ttest pval= 0.011748967925027025\n",
      "5 \t logr pval= 2.6473091004453053e-05 \t sepLR pval= 0.001666725070846642 \t ttest pval= 0.0022665297922481067\n",
      "6 \t logr pval= 5.5010241239883406e-05 \t sepLR pval= 0.0005629880585833469 \t ttest pval= 0.000597762781373485\n",
      "7 \t logr pval= 0.00032402358629046724 \t sepLR pval= 0.0016969588633032329 \t ttest pval= 0.0017645029731523357\n",
      "8 \t logr pval= 0.009336972824486645 \t sepLR pval= 0.011289996786688294 \t ttest pval= 0.011811938313249759\n",
      "9 \t logr pval= 0.017775778421052824 \t sepLR pval= 0.1023828278500607 \t ttest pval= 0.1040820289904513\n",
      "10 \t logr pval= 0.0056254029292956975 \t sepLR pval= 0.09559999967161625 \t ttest pval= 0.0990935944484976\n",
      "11 \t logr pval= 4.091803640249303e-06 \t sepLR pval= 0.00015758994713144236 \t ttest pval= 0.0001937843354551809\n",
      "12 \t logr pval= 0.0013803973893451449 \t sepLR pval= 0.004198676142505797 \t ttest pval= 0.004352316818456993\n",
      "13 \t logr pval= 0.00037375752282531316 \t sepLR pval= 0.0014376078023904393 \t ttest pval= 0.0016145523257778318\n",
      "14 \t logr pval= 0.0008803124112198857 \t sepLR pval= 0.012756791446508653 \t ttest pval= 0.013624264917460107\n",
      "15 \t logr pval= 0.00013442430711141373 \t sepLR pval= 0.0032539723982716318 \t ttest pval= 0.003661551685214776\n",
      "16 \t logr pval= 9.073639173351467e-08 \t sepLR pval= 0.0002764007353535103 \t ttest pval= 0.00045990525153193594\n",
      "17 \t logr pval= 3.4529771709146395e-05 \t sepLR pval= 0.0021755835933985335 \t ttest pval= 0.002254601909443101\n",
      "18 \t logr pval= 0.0016273855734326714 \t sepLR pval= 0.014105589757716919 \t ttest pval= 0.016108660574526402\n",
      "19 \t logr pval= 0.00047453228905502964 \t sepLR pval= 0.0007621493417940828 \t ttest pval= 0.0010741208416550753\n",
      "20 \t logr pval= 6.313809254687719e-05 \t sepLR pval= 0.004011822844126267 \t ttest pval= 0.006169340357447699\n",
      "21 \t logr pval= 0.002418881320840116 \t sepLR pval= 0.002511722024120089 \t ttest pval= 0.0027958408466990745\n",
      "22 \t logr pval= 0.004121333843381869 \t sepLR pval= 0.017762740490297357 \t ttest pval= 0.020328603454925737\n",
      "23 \t logr pval= 2.5555488941231275e-05 \t sepLR pval= 0.0005294602296841422 \t ttest pval= 0.0005626826301876889\n",
      "24 \t logr pval= 1.9491953233030657e-05 \t sepLR pval= 0.00018801096758824798 \t ttest pval= 0.00020302966617703348\n",
      "25 \t logr pval= 8.372568140346814e-06 \t sepLR pval= 0.00025622632478750074 \t ttest pval= 0.000374168180848411\n",
      "26 \t logr pval= 0.026913411475462445 \t sepLR pval= 0.08522080482349426 \t ttest pval= 0.08611426178659635\n",
      "27 \t logr pval= 2.199099458088938e-09 \t sepLR pval= 5.333034729659847e-05 \t ttest pval= 5.886644947294023e-05\n",
      "28 \t logr pval= 0.025053109914840777 \t sepLR pval= 0.0322046326549299 \t ttest pval= 0.0335557217800254\n",
      "29 \t logr pval= 2.4595661473059138e-05 \t sepLR pval= 0.0014160027653141727 \t ttest pval= 0.001649682468482761\n",
      "30 \t logr pval= 1.9119762393327022e-06 \t sepLR pval= 6.805814789079268e-05 \t ttest pval= 7.390812503523814e-05\n",
      "31 \t logr pval= 9.675435892253503e-06 \t sepLR pval= 0.0016429801424459045 \t ttest pval= 0.0017828555911310366\n",
      "32 \t logr pval= 2.9687063178851503e-06 \t sepLR pval= 0.00026002035542527224 \t ttest pval= 0.0003356513554817521\n",
      "33 \t logr pval= 7.764131837073585e-05 \t sepLR pval= 0.0016459141066155203 \t ttest pval= 0.0017786330266160826\n",
      "34 \t logr pval= 1.3554852077102275e-05 \t sepLR pval= 0.00016174886064634908 \t ttest pval= 0.00041787157476562805\n",
      "35 \t logr pval= 0.00020870239150572178 \t sepLR pval= 0.0010689859721331185 \t ttest pval= 0.001443955900670806\n",
      "36 \t logr pval= 5.004763243665611e-05 \t sepLR pval= 0.0019408311001010148 \t ttest pval= 0.0025342446080927707\n",
      "37 \t logr pval= 0.004008246494369261 \t sepLR pval= 0.1220997452004402 \t ttest pval= 0.15394857257082634\n",
      "38 \t logr pval= 0.0009841224168459783 \t sepLR pval= 0.004330895014100333 \t ttest pval= 0.004779743161160832\n",
      "39 \t logr pval= 0.009842906390538975 \t sepLR pval= 0.055807477428267194 \t ttest pval= 0.056474487074299425\n",
      "40 \t logr pval= 0.026862986201400152 \t sepLR pval= 0.08826965342916238 \t ttest pval= 0.0979441109263543\n",
      "41 \t logr pval= 0.0046363701290418335 \t sepLR pval= 0.03874589584271293 \t ttest pval= 0.04050014251682019\n",
      "42 \t logr pval= 4.688825131560215e-05 \t sepLR pval= 0.0020413817140041424 \t ttest pval= 0.0021346039461881557\n",
      "43 \t logr pval= 2.940728591815933e-05 \t sepLR pval= 4.207153173896305e-05 \t ttest pval= 5.2750139317956844e-05\n",
      "44 \t logr pval= 2.3285322440669276e-05 \t sepLR pval= 2.9245769911812047e-05 \t ttest pval= 5.42880790433574e-05\n",
      "45 \t logr pval= 0.00013238734385911943 \t sepLR pval= 0.0038947093966957835 \t ttest pval= 0.004056208521863275\n",
      "46 \t logr pval= 0.013002277876673851 \t sepLR pval= 0.01811427643516972 \t ttest pval= 0.01925291257144671\n",
      "47 \t logr pval= 6.285668077543605e-05 \t sepLR pval= 9.776389100368821e-05 \t ttest pval= 0.00015482448090009903\n",
      "48 \t logr pval= 5.230703647995938e-09 \t sepLR pval= 0.00019122145846983685 \t ttest pval= 0.00029121585598167237\n",
      "49 \t logr pval= 0.007380830945413086 \t sepLR pval= 0.002433924060547099 \t ttest pval= 0.002530945584566261\n",
      "50 \t logr pval= 8.765776255537094e-05 \t sepLR pval= 0.003467035556692921 \t ttest pval= 0.00369153794051899\n",
      "51 \t logr pval= 0.0017684896563957553 \t sepLR pval= 0.01546484925182745 \t ttest pval= 0.01741077581600063\n",
      "52 \t logr pval= 0.0035315957912913643 \t sepLR pval= 0.009997000018396984 \t ttest pval= 0.010914710663994904\n",
      "53 \t logr pval= 0.0014652335722986631 \t sepLR pval= 0.00327055043944402 \t ttest pval= 0.0036133930451752523\n",
      "54 \t logr pval= 0.004191359743691003 \t sepLR pval= 0.011203294018977905 \t ttest pval= 0.012717830452673266\n",
      "55 \t logr pval= 0.0026326103109689525 \t sepLR pval= 0.016386572839989677 \t ttest pval= 0.016792046408318145\n",
      "56 \t logr pval= 0.00013334371827111724 \t sepLR pval= 3.1992469015529323e-05 \t ttest pval= 3.567708179152944e-05\n",
      "57 \t logr pval= 0.0030977649574004396 \t sepLR pval= 0.01542953664467106 \t ttest pval= 0.01727609743415147\n",
      "58 \t logr pval= 5.909470853660004e-06 \t sepLR pval= 7.324569003119841e-05 \t ttest pval= 0.00011458650035131384\n",
      "59 \t logr pval= 0.023472021318000635 \t sepLR pval= 0.021621729371974263 \t ttest pval= 0.023913456577869505\n",
      "60 \t logr pval= 0.0032278407833217226 \t sepLR pval= 0.006291498903675086 \t ttest pval= 0.00703052285126095\n",
      "61 \t logr pval= 0.00019730102723303222 \t sepLR pval= 0.0010378479349909542 \t ttest pval= 0.00118765684063258\n",
      "62 \t logr pval= 0.00033356200461798213 \t sepLR pval= 0.0002831068347051158 \t ttest pval= 0.0004004084286859293\n",
      "63 \t logr pval= 0.00019423006435137502 \t sepLR pval= 0.009023070340019257 \t ttest pval= 0.010318691475386044\n",
      "64 \t logr pval= 0.0013837491229728993 \t sepLR pval= 0.006111925252535122 \t ttest pval= 0.006487453883059125\n",
      "65 \t logr pval= 0.013826222438869218 \t sepLR pval= 0.09542790320509842 \t ttest pval= 0.09638166924724018\n",
      "66 \t logr pval= 1.0145888239776468e-05 \t sepLR pval= 0.0003681438581975005 \t ttest pval= 0.00043363560623881553\n",
      "67 \t logr pval= 4.488848112660371e-06 \t sepLR pval= 0.00023833121667138357 \t ttest pval= 0.00033589901569418116\n",
      "68 \t logr pval= 0.00016836191057312266 \t sepLR pval= 0.00015997997936234576 \t ttest pval= 0.0002533555803742534\n",
      "69 \t logr pval= 0.017515885594352132 \t sepLR pval= 0.02719245983299068 \t ttest pval= 0.027747246857684267\n",
      "70 \t logr pval= 9.712865955968653e-09 \t sepLR pval= 3.295352800214424e-05 \t ttest pval= 4.3411938554434016e-05\n",
      "71 \t logr pval= 0.005983464273755623 \t sepLR pval= 0.0038813633818229887 \t ttest pval= 0.003998705245905994\n",
      "72 \t logr pval= 4.686485203908575e-06 \t sepLR pval= 0.0010607511519995505 \t ttest pval= 0.001414343799580228\n",
      "73 \t logr pval= 1.2927162687081939e-05 \t sepLR pval= 0.0008915713068367026 \t ttest pval= 0.0011277413643158163\n",
      "74 \t logr pval= 2.94530186227826e-05 \t sepLR pval= 0.005104435140104613 \t ttest pval= 0.006107635042026143\n",
      "75 \t logr pval= 1.1485430048918666e-05 \t sepLR pval= 0.001465266761349615 \t ttest pval= 0.0018719446748284214\n"
     ]
    },
    {
     "name": "stdout",
     "output_type": "stream",
     "text": [
      "76 \t logr pval= 0.0006908688185098821 \t sepLR pval= 0.031138209019799468 \t ttest pval= 0.03362389331505512\n",
      "77 \t logr pval= 0.0005765451918745557 \t sepLR pval= 0.00035736778556239024 \t ttest pval= 0.000527955843111807\n",
      "78 \t logr pval= 0.00045581107327763437 \t sepLR pval= 0.0042940390424190955 \t ttest pval= 0.005219317101642528\n",
      "79 \t logr pval= 0.012796160526133193 \t sepLR pval= 0.03724779831231739 \t ttest pval= 0.03792375969650374\n",
      "80 \t logr pval= 0.015365327787565386 \t sepLR pval= 0.08056509266218559 \t ttest pval= 0.09015885736043708\n",
      "81 \t logr pval= 2.6807936194805926e-05 \t sepLR pval= 9.270739227729141e-05 \t ttest pval= 0.00010331118076832857\n",
      "82 \t logr pval= 0.0008724752468091124 \t sepLR pval= 0.027780899960757055 \t ttest pval= 0.02995398125916307\n",
      "83 \t logr pval= 0.0014081524594201644 \t sepLR pval= 0.008609678676382515 \t ttest pval= 0.009010627829482646\n",
      "84 \t logr pval= 2.9557219155540437e-06 \t sepLR pval= 0.0001946166880685274 \t ttest pval= 0.00024650316779895005\n",
      "85 \t logr pval= 1.3812473231844535e-07 \t sepLR pval= 0.00012391453696247723 \t ttest pval= 0.00018211499990387518\n",
      "86 \t logr pval= 2.0031504427309166e-05 \t sepLR pval= 0.0009869570197240662 \t ttest pval= 0.001282780675276639\n",
      "87 \t logr pval= 0.008800670343211858 \t sepLR pval= 0.017487200040480655 \t ttest pval= 0.01848963076277882\n",
      "88 \t logr pval= 1.0044555669441735e-06 \t sepLR pval= 7.087104218850282e-05 \t ttest pval= 0.00012079311313009589\n",
      "89 \t logr pval= 5.22207237629857e-06 \t sepLR pval= 0.0009099568969288541 \t ttest pval= 0.0009569527048426794\n",
      "90 \t logr pval= 0.0009110867738297834 \t sepLR pval= 0.0011816042944152727 \t ttest pval= 0.001250256610182596\n",
      "91 \t logr pval= 1.7878399631854336e-06 \t sepLR pval= 0.0001728562170798531 \t ttest pval= 0.0001863094221891746\n",
      "92 \t logr pval= 0.01324424468982155 \t sepLR pval= 0.058882737782719685 \t ttest pval= 0.06269585226618284\n",
      "93 \t logr pval= 3.3007062650858288e-06 \t sepLR pval= 0.00031635777497152073 \t ttest pval= 0.0006177944876012912\n",
      "94 \t logr pval= 0.00041011423032277783 \t sepLR pval= 0.010923134294624881 \t ttest pval= 0.011786448613433842\n",
      "95 \t logr pval= 0.01949997869570763 \t sepLR pval= 0.02423804842919297 \t ttest pval= 0.02460648608141093\n",
      "96 \t logr pval= 0.00666685373869047 \t sepLR pval= 0.042266427437170795 \t ttest pval= 0.04279007301134587\n",
      "97 \t logr pval= 0.00015679860548523106 \t sepLR pval= 0.0006684817842371737 \t ttest pval= 0.0007321323131774306\n",
      "98 \t logr pval= 0.0017306261722001004 \t sepLR pval= 0.018558502633860274 \t ttest pval= 0.019376631202749035\n",
      "99 \t logr pval= 0.02349510751036421 \t sepLR pval= 0.07126946276038493 \t ttest pval= 0.07816173773070248\n",
      "100 \t logr pval= 0.0005858216714912379 \t sepLR pval= 0.0015243313787892676 \t ttest pval= 0.0015857606934420417\n",
      "101 \t logr pval= 0.00010511259921053284 \t sepLR pval= 0.0007782084370072662 \t ttest pval= 0.0014264390141876088\n",
      "102 \t logr pval= 5.8169789564854746e-05 \t sepLR pval= 0.0027874200477322475 \t ttest pval= 0.003569967588882298\n",
      "103 \t logr pval= 0.003484231987636366 \t sepLR pval= 0.10311784742755215 \t ttest pval= 0.10403952191030176\n",
      "104 \t logr pval= 0.0001450000543110619 \t sepLR pval= 0.0014338621553343645 \t ttest pval= 0.0023771271969257055\n",
      "105 \t logr pval= 3.651525311954007e-05 \t sepLR pval= 0.0008923741642807848 \t ttest pval= 0.0010295561478391112\n",
      "106 \t logr pval= 2.2672355688424517e-06 \t sepLR pval= 9.604323120915303e-06 \t ttest pval= 1.0811197549191283e-05\n",
      "107 \t logr pval= 0.003500077872731988 \t sepLR pval= 0.018853776123673227 \t ttest pval= 0.021432853337601147\n",
      "108 \t logr pval= 0.009553789802158819 \t sepLR pval= 0.04652138723151211 \t ttest pval= 0.04915670393885599\n",
      "109 \t logr pval= 4.878208471059686e-06 \t sepLR pval= 0.0005787062647868435 \t ttest pval= 0.0008102283226128944\n",
      "110 \t logr pval= 0.009023721477082636 \t sepLR pval= 0.08640438695131925 \t ttest pval= 0.09327979152933083\n",
      "111 \t logr pval= 0.0011913472449043283 \t sepLR pval= 0.003021547889228482 \t ttest pval= 0.003637238806273353\n",
      "112 \t logr pval= 0.000610167507692938 \t sepLR pval= 0.002309105996842864 \t ttest pval= 0.0033890331542024443\n",
      "113 \t logr pval= 1.509186417969488e-05 \t sepLR pval= 0.003372786742799727 \t ttest pval= 0.005229149341238566\n",
      "114 \t logr pval= 1.0089373261412682e-05 \t sepLR pval= 0.001218474602926456 \t ttest pval= 0.001405627125349364\n",
      "115 \t logr pval= 1.655209936346491e-05 \t sepLR pval= 0.00019177574939210906 \t ttest pval= 0.0002286470570009857\n",
      "116 \t logr pval= 1.9547449062740085e-05 \t sepLR pval= 0.0013048149266838838 \t ttest pval= 0.0013891651372844806\n",
      "117 \t logr pval= 0.0008664610865052325 \t sepLR pval= 0.01993933977829554 \t ttest pval= 0.020364651975567832\n",
      "118 \t logr pval= 8.296258535633871e-05 \t sepLR pval= 0.0005888417190212936 \t ttest pval= 0.0007187421472246873\n",
      "119 \t logr pval= 3.2379994189257744e-06 \t sepLR pval= 0.0005994043692688633 \t ttest pval= 0.0010547069060383913\n",
      "120 \t logr pval= 0.020653455785245023 \t sepLR pval= 0.09576576544274629 \t ttest pval= 0.09657550064422335\n",
      "121 \t logr pval= 5.904864729178172e-06 \t sepLR pval= 2.74397600386056e-05 \t ttest pval= 3.0048792073085107e-05\n",
      "122 \t logr pval= 2.387591325425653e-06 \t sepLR pval= 6.472920614175592e-06 \t ttest pval= 7.402757624706881e-06\n",
      "123 \t logr pval= 0.00016158086730466703 \t sepLR pval= 0.009687770588309608 \t ttest pval= 0.010545527485930111\n",
      "124 \t logr pval= 0.04067030005750627 \t sepLR pval= 0.04781893945702509 \t ttest pval= 0.05429290404381215\n",
      "125 \t logr pval= 0.0012634439105000395 \t sepLR pval= 0.002004398939584817 \t ttest pval= 0.003105043809692167\n",
      "126 \t logr pval= 0.0005305983064092246 \t sepLR pval= 0.00494852002978019 \t ttest pval= 0.005126689499222245\n",
      "127 \t logr pval= 0.0005304627440543275 \t sepLR pval= 0.06540983542096346 \t ttest pval= 0.07198697762364976\n",
      "128 \t logr pval= 1.445379678755021e-05 \t sepLR pval= 5.185791402195772e-05 \t ttest pval= 8.43294360266577e-05\n",
      "129 \t logr pval= 0.004428296739911408 \t sepLR pval= 0.007184178157479626 \t ttest pval= 0.009187336922759649\n",
      "130 \t logr pval= 6.959336907397251e-05 \t sepLR pval= 0.0028441508515270053 \t ttest pval= 0.0036897943815775293\n",
      "131 \t logr pval= 0.008328433208777408 \t sepLR pval= 0.009463714737516393 \t ttest pval= 0.00971849532253291\n",
      "132 \t logr pval= 0.0014040747296133471 \t sepLR pval= 0.022714569074658297 \t ttest pval= 0.02396188679007161\n",
      "133 \t logr pval= 0.00011126061931010511 \t sepLR pval= 0.0008206153547966055 \t ttest pval= 0.0008668495597548683\n",
      "134 \t logr pval= 0.0012997872631617113 \t sepLR pval= 0.007076023055746394 \t ttest pval= 0.007451239423780687\n",
      "135 \t logr pval= 8.020162345356852e-07 \t sepLR pval= 1.6993009007815196e-05 \t ttest pval= 3.3524659605743925e-05\n",
      "136 \t logr pval= 0.004064494726210621 \t sepLR pval= 0.0029844013695718985 \t ttest pval= 0.0037167381172167864\n",
      "137 \t logr pval= 0.003595232115949476 \t sepLR pval= 0.01631884814410378 \t ttest pval= 0.016903853831884152\n",
      "138 \t logr pval= 3.0687466858525525e-05 \t sepLR pval= 0.00031884157158534876 \t ttest pval= 0.00045137049694924796\n",
      "139 \t logr pval= 1.4201328661922474e-05 \t sepLR pval= 0.0012682325777542136 \t ttest pval= 0.0013260346217961441\n",
      "140 \t logr pval= 0.0010578018749453078 \t sepLR pval= 0.002246422432820805 \t ttest pval= 0.0023370922138205743\n",
      "141 \t logr pval= 0.00031373560278935564 \t sepLR pval= 0.012975682762104368 \t ttest pval= 0.013334859898382529\n",
      "142 \t logr pval= 2.7988454109895144e-08 \t sepLR pval= 0.00011838865237656648 \t ttest pval= 0.00020227114538365397\n",
      "143 \t logr pval= 0.0015721131470439742 \t sepLR pval= 0.0026698278605306047 \t ttest pval= 0.0029706624657756683\n",
      "144 \t logr pval= 0.00024488487635654366 \t sepLR pval= 0.00018594249997294643 \t ttest pval= 0.00020529080447304797\n",
      "145 \t logr pval= 1.1555682463137984e-06 \t sepLR pval= 5.027115644362645e-05 \t ttest pval= 6.463295862894685e-05\n",
      "146 \t logr pval= 2.51054382360838e-06 \t sepLR pval= 0.00018607961430827658 \t ttest pval= 0.00028759334057517353\n",
      "147 \t logr pval= 0.00011645494901746378 \t sepLR pval= 0.0009338127214748582 \t ttest pval= 0.0015677759539411808\n",
      "148 \t logr pval= 0.004963636643897984 \t sepLR pval= 0.011139304583350884 \t ttest pval= 0.01139392676983711\n",
      "149 \t logr pval= 0.00031089041431220377 \t sepLR pval= 0.0005288574230885024 \t ttest pval= 0.0005552826327233175\n",
      "150 \t logr pval= 5.628558393577787e-05 \t sepLR pval= 0.0017380299580773695 \t ttest pval= 0.0018178960658266558\n"
     ]
    },
    {
     "name": "stdout",
     "output_type": "stream",
     "text": [
      "151 \t logr pval= 0.0001680450106084086 \t sepLR pval= 0.012061400072501671 \t ttest pval= 0.012863012681657453\n",
      "152 \t logr pval= 0.036489601838385344 \t sepLR pval= 0.05317242089013685 \t ttest pval= 0.05402620955257836\n",
      "153 \t logr pval= 1.9298181789251245e-05 \t sepLR pval= 0.00166636438319967 \t ttest pval= 0.002180049505657724\n",
      "154 \t logr pval= 0.0008554961298582464 \t sepLR pval= 0.018926753537371943 \t ttest pval= 0.022102223427609872\n",
      "155 \t logr pval= 4.3438957098018705e-08 \t sepLR pval= 0.00031493465179477376 \t ttest pval= 0.0006862380569361395\n",
      "156 \t logr pval= 0.010542569011286362 \t sepLR pval= 0.04330329014525114 \t ttest pval= 0.044399247672799104\n",
      "157 \t logr pval= 0.0031555118882778954 \t sepLR pval= 0.006313111114174319 \t ttest pval= 0.009255365730821842\n",
      "158 \t logr pval= 0.0034446493250060994 \t sepLR pval= 0.010303316056601619 \t ttest pval= 0.010520461250458843\n",
      "159 \t logr pval= 0.0027947981849936188 \t sepLR pval= 0.0030642442865216335 \t ttest pval= 0.0046366157196815125\n",
      "160 \t logr pval= 0.0012149189673728022 \t sepLR pval= 0.012032414164071747 \t ttest pval= 0.01407465598112812\n",
      "161 \t logr pval= 0.00027150255795005407 \t sepLR pval= 0.00011805544614573726 \t ttest pval= 0.00015047613241115767\n",
      "162 \t logr pval= 0.002462404352406966 \t sepLR pval= 0.09221546184890561 \t ttest pval= 0.09344786334128276\n",
      "163 \t logr pval= 9.592978829231491e-05 \t sepLR pval= 0.00425680382851501 \t ttest pval= 0.0045153039753349725\n",
      "164 \t logr pval= 3.188068944393052e-06 \t sepLR pval= 0.00043552616315656323 \t ttest pval= 0.0005814859727234513\n",
      "165 \t logr pval= 3.2533138660806316e-07 \t sepLR pval= 0.0001822000427720294 \t ttest pval= 0.00019735767652723918\n",
      "166 \t logr pval= 0.0002745208777941155 \t sepLR pval= 0.0028739530903675314 \t ttest pval= 0.0030604048162338653\n",
      "167 \t logr pval= 1.2615587328457245e-05 \t sepLR pval= 8.84764539952343e-05 \t ttest pval= 0.00010199862508038312\n",
      "168 \t logr pval= 1.1819349633235277e-05 \t sepLR pval= 0.0003364186830204785 \t ttest pval= 0.00048474887478047984\n",
      "169 \t logr pval= 0.009606216985819316 \t sepLR pval= 0.0157823337368187 \t ttest pval= 0.016689202014220104\n",
      "170 \t logr pval= 0.03268984519993967 \t sepLR pval= 0.09559781290709979 \t ttest pval= 0.10047063612373179\n",
      "171 \t logr pval= 9.176973061464366e-06 \t sepLR pval= 4.336306941743473e-06 \t ttest pval= 4.926028286261268e-06\n",
      "172 \t logr pval= 7.387280883952574e-05 \t sepLR pval= 1.6813210296784398e-05 \t ttest pval= 3.142102039731485e-05\n",
      "173 \t logr pval= 1.7788481032621206e-06 \t sepLR pval= 0.003267010330808784 \t ttest pval= 0.0037368238992238683\n",
      "174 \t logr pval= 0.003299123352708655 \t sepLR pval= 0.06301450328598801 \t ttest pval= 0.06774222117537658\n",
      "175 \t logr pval= 0.002894540184655625 \t sepLR pval= 0.005914413380755601 \t ttest pval= 0.007967579759392496\n",
      "176 \t logr pval= 1.7369164907465873e-06 \t sepLR pval= 0.0003513709589892944 \t ttest pval= 0.0006826549966020305\n",
      "177 \t logr pval= 0.0024353594362876985 \t sepLR pval= 0.009547260983504113 \t ttest pval= 0.010337791476981847\n",
      "178 \t logr pval= 0.00043129264745056517 \t sepLR pval= 1.8400432034715308e-05 \t ttest pval= 2.0980862173211357e-05\n",
      "179 \t logr pval= 4.930077587916859e-05 \t sepLR pval= 0.0005054347509085844 \t ttest pval= 0.00083479499739812\n",
      "180 \t logr pval= 0.00011308412364730014 \t sepLR pval= 0.023027744423267715 \t ttest pval= 0.024253962675929833\n",
      "181 \t logr pval= 5.856967187989337e-05 \t sepLR pval= 0.0016055284257164848 \t ttest pval= 0.0016974689696350985\n",
      "182 \t logr pval= 6.717078023799061e-07 \t sepLR pval= 1.1237027890298457e-05 \t ttest pval= 2.0836260964395616e-05\n",
      "183 \t logr pval= 0.0008671876933866729 \t sepLR pval= 0.00024654345514207865 \t ttest pval= 0.00027480246023298127\n",
      "184 \t logr pval= 2.053342932428759e-05 \t sepLR pval= 9.915427415840838e-05 \t ttest pval= 0.00015570102962339866\n",
      "185 \t logr pval= 0.011593034378116651 \t sepLR pval= 0.0032993482083636394 \t ttest pval= 0.004172688732175312\n",
      "186 \t logr pval= 0.000834688380971893 \t sepLR pval= 0.022135797784148203 \t ttest pval= 0.0265614014295437\n",
      "187 \t logr pval= 0.004429023776555963 \t sepLR pval= 0.03241430289322034 \t ttest pval= 0.03289413190180178\n",
      "188 \t logr pval= 0.00967644256861211 \t sepLR pval= 0.04102860144472231 \t ttest pval= 0.04398523640300768\n",
      "189 \t logr pval= 3.768271694681857e-08 \t sepLR pval= 7.039238195227782e-06 \t ttest pval= 7.88515896943946e-06\n",
      "190 \t logr pval= 0.0008757409380334424 \t sepLR pval= 0.009742976543428927 \t ttest pval= 0.010021113626113798\n",
      "191 \t logr pval= 0.0003030186824771741 \t sepLR pval= 0.005182538857533836 \t ttest pval= 0.008012289077329557\n",
      "192 \t logr pval= 0.004684556755093938 \t sepLR pval= 0.012051637502551005 \t ttest pval= 0.01599092330423116\n",
      "193 \t logr pval= 0.0008680790309366637 \t sepLR pval= 0.0015933148366290562 \t ttest pval= 0.0016615238896557514\n",
      "194 \t logr pval= 0.011552881571933682 \t sepLR pval= 0.012095687064655136 \t ttest pval= 0.012462844844727372\n",
      "195 \t logr pval= 0.012791797937579563 \t sepLR pval= 0.035707396123634605 \t ttest pval= 0.03627400760060623\n",
      "196 \t logr pval= 6.807482846316049e-07 \t sepLR pval= 8.87937901689062e-05 \t ttest pval= 0.00015404661930318889\n",
      "197 \t logr pval= 0.00037499613243408003 \t sepLR pval= 0.007184178157479626 \t ttest pval= 0.009187336922759649\n",
      "198 \t logr pval= 2.2538121249859877e-05 \t sepLR pval= 0.0004299876213802456 \t ttest pval= 0.0005009663153853433\n",
      "199 \t logr pval= 0.0012935684703021533 \t sepLR pval= 0.010372865594922231 \t ttest pval= 0.011888815359427507\n",
      "\n",
      " logR Avg. p-value:  0.003277496427451218\n",
      "\n",
      " seplogR Avg. p-value:  0.01376038323330956\n",
      "\n",
      " ttest Avg. p-value:  0.014826995165585484\n"
     ]
    }
   ],
   "source": [
    "np.random.seed(0)\n",
    "samples=3000\n",
    "carlo=200\n",
    "pvals=[]\n",
    "pvals_t_test=[]\n",
    "pvals_sep_logR=[]\n",
    "for monte in range(carlo):\n",
    "    randperm1A=np.random.permutation(X_cyto.shape[0])\n",
    "    randperm2A=np.random.permutation(X_mem.shape[0])\n",
    "    #positive control \n",
    "\n",
    "    X1=X_cyto[randperm1A[:samples],:]\n",
    "    X2=X_mem[randperm2A[:samples],:]\n",
    "\n",
    "\n",
    "    # print(X1.shape)\n",
    "    # print(X2.shape)\n",
    "\n",
    "    N1=X1.shape[0]\n",
    "    N2=X2.shape[0]\n",
    "\n",
    "\n",
    "    A=logr_ecidx(ecidx,X1,X2)\n",
    "    \n",
    "    pvals+=[A[1]]\n",
    "    tpval=ttest_ecidx(ecidx,X1,X2)\n",
    "    pvals_t_test+=[tpval]\n",
    "    \n",
    "    \n",
    "    \n",
    "    \n",
    "    pvals_tmp=[]\n",
    "    for j in ecidx:\n",
    "        B=logr_ecidx([j],X1,X2)\n",
    "        pvals_tmp+=[B[1]]\n",
    "    pval_sep=np.min([1,np.min(np.array(pvals_tmp))*len(ecidx)])\n",
    "    pvals_sep_logR+=[pval_sep]\n",
    "    \n",
    "    print(monte,'\\t logr pval=',A[1],'\\t sepLR pval=',pval_sep,'\\t ttest pval=',tpval)\n",
    "    \n",
    "    \n",
    "print(\"\\n logR Avg. p-value: \",np.mean(pvals))\n",
    "print(\"\\n seplogR Avg. p-value: \",np.mean(pvals_sep_logR))\n",
    "print(\"\\n ttest Avg. p-value: \",np.mean(pvals_t_test))"
   ]
  },
  {
   "cell_type": "code",
   "execution_count": 59,
   "metadata": {},
   "outputs": [
    {
     "data": {
      "text/plain": [
       "<matplotlib.axes._subplots.AxesSubplot at 0x7f1256bb8e10>"
      ]
     },
     "execution_count": 59,
     "metadata": {},
     "output_type": "execute_result"
    },
    {
     "data": {
      "image/png": "[encoded data removed]",
      "text/plain": [
       "<matplotlib.figure.Figure at 0x7f1256c66780>"
      ]
     },
     "metadata": {},
     "output_type": "display_data"
    }
   ],
   "source": [
    "pvals_t_test2=pvals_t_test\n",
    "pvals_sep_logR2=pvals_sep_logR\n",
    "pvals2=pvals\n",
    "\n",
    "sns.distplot(-np.log10(pvals_sep_logR2),bins=10)\n",
    "sns.distplot(-np.log10(pvals2),bins=10)"
   ]
  },
  {
   "cell_type": "markdown",
   "metadata": {},
   "source": [
    "### Naive-Cyto"
   ]
  },
  {
   "cell_type": "code",
   "execution_count": 60,
   "metadata": {
    "scrolled": true
   },
   "outputs": [
    {
     "name": "stdout",
     "output_type": "stream",
     "text": [
      "0 \t logr pval= 0.5750259554504038 \t sepLR pval= 1.0 \t ttest pval= 1.0\n",
      "1 \t logr pval= 0.19044778265908846 \t sepLR pval= 0.08599318675790724 \t ttest pval= 0.09158680040577645\n",
      "2 \t logr pval= 0.003937693366518169 \t sepLR pval= 0.002654425405940075 \t ttest pval= 0.0040896871768939256\n",
      "3 \t logr pval= 0.7398189382797997 \t sepLR pval= 0.8603785980425247 \t ttest pval= 0.8639660922940926\n",
      "4 \t logr pval= 0.484117148015188 \t sepLR pval= 1.0 \t ttest pval= 1.0\n",
      "5 \t logr pval= 0.0008477705133504987 \t sepLR pval= 0.0025929073009145487 \t ttest pval= 0.0027970176760915492\n",
      "6 \t logr pval= 0.1269289458257261 \t sepLR pval= 0.13762496745469266 \t ttest pval= 0.13960414140572724\n",
      "7 \t logr pval= 0.389194543337801 \t sepLR pval= 1.0 \t ttest pval= 1.0\n",
      "8 \t logr pval= 0.8479782094255849 \t sepLR pval= 1.0 \t ttest pval= 1.0\n",
      "9 \t logr pval= 0.48100634586487645 \t sepLR pval= 0.2854197517241155 \t ttest pval= 0.2927366556626627\n",
      "10 \t logr pval= 0.006305122159464216 \t sepLR pval= 0.011013361484032314 \t ttest pval= 0.011590590817185742\n",
      "11 \t logr pval= 0.04714808920342417 \t sepLR pval= 0.05986972749221098 \t ttest pval= 0.06452883062467239\n",
      "12 \t logr pval= 0.036476769873942994 \t sepLR pval= 0.07964982865636616 \t ttest pval= 0.09201194244339954\n",
      "13 \t logr pval= 0.9601952476648921 \t sepLR pval= 1.0 \t ttest pval= 1.0\n",
      "14 \t logr pval= 0.12461061379592786 \t sepLR pval= 0.04379301421333104 \t ttest pval= 0.04837620553752217\n",
      "15 \t logr pval= 0.028988066517438682 \t sepLR pval= 0.027745286850537565 \t ttest pval= 0.028693878781141484\n",
      "16 \t logr pval= 0.02326889467853277 \t sepLR pval= 0.007869879511446132 \t ttest pval= 0.00839946865326975\n",
      "17 \t logr pval= 0.0780261357084816 \t sepLR pval= 0.01939486602520446 \t ttest pval= 0.020893453145451855\n",
      "18 \t logr pval= 0.5463126207089622 \t sepLR pval= 0.5797961517408682 \t ttest pval= 0.5841240735575712\n",
      "19 \t logr pval= 0.04193755433623014 \t sepLR pval= 0.24600218805369567 \t ttest pval= 0.2518452948915091\n",
      "20 \t logr pval= 0.003602503307994054 \t sepLR pval= 0.04899420421778711 \t ttest pval= 0.054152475811280854\n",
      "21 \t logr pval= 0.13710219486956698 \t sepLR pval= 0.17826224854562867 \t ttest pval= 0.18237350262360108\n",
      "22 \t logr pval= 0.290868232577592 \t sepLR pval= 0.3208471849488215 \t ttest pval= 0.32652204814648844\n",
      "23 \t logr pval= 0.25632339474045707 \t sepLR pval= 0.3912645861356083 \t ttest pval= 0.39933508239350435\n",
      "24 \t logr pval= 0.8523074115585714 \t sepLR pval= 1.0 \t ttest pval= 1.0\n",
      "25 \t logr pval= 0.14044029442132588 \t sepLR pval= 0.4494175589535394 \t ttest pval= 0.45263822467340936\n",
      "26 \t logr pval= 0.44012413874906464 \t sepLR pval= 0.5364764542278297 \t ttest pval= 0.5405973168125413\n",
      "27 \t logr pval= 0.4805277209749288 \t sepLR pval= 0.813690725179719 \t ttest pval= 0.8135343298409714\n",
      "28 \t logr pval= 0.01986259457410333 \t sepLR pval= 0.008140449962032115 \t ttest pval= 0.010046441901047462\n",
      "29 \t logr pval= 0.0956195953334048 \t sepLR pval= 0.032189024364503216 \t ttest pval= 0.033495537634868996\n",
      "30 \t logr pval= 0.09225261027137943 \t sepLR pval= 0.17671032310808343 \t ttest pval= 0.1793610255058585\n",
      "31 \t logr pval= 0.0451764011072191 \t sepLR pval= 0.010054743907813801 \t ttest pval= 0.012090734612422546\n",
      "32 \t logr pval= 0.3728387867875653 \t sepLR pval= 0.30910578238760344 \t ttest pval= 0.31266310384449875\n",
      "33 \t logr pval= 0.030840399699832988 \t sepLR pval= 0.01414659287741682 \t ttest pval= 0.017067380946325882\n",
      "34 \t logr pval= 0.03703793309627135 \t sepLR pval= 0.17631654143458086 \t ttest pval= 0.17863693891609064\n",
      "35 \t logr pval= 0.1061172199912761 \t sepLR pval= 0.31072778991472294 \t ttest pval= 0.3148695277800007\n",
      "36 \t logr pval= 0.24149520511199318 \t sepLR pval= 0.2877184132742374 \t ttest pval= 0.29361334182619725\n",
      "37 \t logr pval= 0.0677443605822321 \t sepLR pval= 0.14653523589898754 \t ttest pval= 0.1526584842485077\n",
      "38 \t logr pval= 0.08740562289447973 \t sepLR pval= 0.048808439178789076 \t ttest pval= 0.05042722909036267\n",
      "39 \t logr pval= 0.8058491722385039 \t sepLR pval= 1.0 \t ttest pval= 1.0\n",
      "40 \t logr pval= 0.07226581131526799 \t sepLR pval= 0.037434410282539576 \t ttest pval= 0.03863339129297705\n",
      "41 \t logr pval= 0.03788854152734278 \t sepLR pval= 0.03187082513841899 \t ttest pval= 0.03310983124829342\n",
      "42 \t logr pval= 0.3889112810287556 \t sepLR pval= 0.7837330968456225 \t ttest pval= 0.7896007594109333\n",
      "43 \t logr pval= 0.07930804743861741 \t sepLR pval= 0.26752227282231766 \t ttest pval= 0.27331027812275915\n",
      "44 \t logr pval= 0.0283627846014457 \t sepLR pval= 0.206695618699396 \t ttest pval= 0.20813335103632036\n",
      "45 \t logr pval= 0.04418465099780666 \t sepLR pval= 0.10229983480038485 \t ttest pval= 0.10417534710935857\n",
      "46 \t logr pval= 0.010103582075504547 \t sepLR pval= 0.0632282708556069 \t ttest pval= 0.06500262137318127\n",
      "47 \t logr pval= 0.041717027281330754 \t sepLR pval= 0.026884354513115882 \t ttest pval= 0.02803425268167752\n",
      "48 \t logr pval= 0.03864030484098735 \t sepLR pval= 0.03420119989157511 \t ttest pval= 0.035538485896609844\n",
      "49 \t logr pval= 0.20559328724899484 \t sepLR pval= 0.05743680128399631 \t ttest pval= 0.05918608339221297\n",
      "50 \t logr pval= 0.009053896401503558 \t sepLR pval= 0.048598019504874856 \t ttest pval= 0.05116114102185888\n",
      "51 \t logr pval= 0.13678197723804453 \t sepLR pval= 0.18319324003846926 \t ttest pval= 0.19315855257343897\n",
      "52 \t logr pval= 0.04730331944876054 \t sepLR pval= 0.0828874399406273 \t ttest pval= 0.09180520069935104\n",
      "53 \t logr pval= 0.2954973961924656 \t sepLR pval= 0.5854455241396245 \t ttest pval= 0.5889546410804647\n",
      "54 \t logr pval= 0.7928556775289152 \t sepLR pval= 1.0 \t ttest pval= 1.0\n",
      "55 \t logr pval= 0.6124300938180745 \t sepLR pval= 0.8374820553706631 \t ttest pval= 0.843107994539391\n",
      "56 \t logr pval= 0.0009482581342866725 \t sepLR pval= 6.550935171745209e-05 \t ttest pval= 8.00088908013109e-05\n",
      "57 \t logr pval= 0.00951830764408923 \t sepLR pval= 0.049869197568504164 \t ttest pval= 0.054027857859229575\n",
      "58 \t logr pval= 0.026022002595589955 \t sepLR pval= 0.05693827815188668 \t ttest pval= 0.061839775623161494\n",
      "59 \t logr pval= 0.0028890311362772536 \t sepLR pval= 0.02910745371090062 \t ttest pval= 0.03034113447238533\n",
      "60 \t logr pval= 0.09879796888195391 \t sepLR pval= 0.5574092890303903 \t ttest pval= 0.5662724261544371\n",
      "61 \t logr pval= 0.00030122075778848956 \t sepLR pval= 0.0027988512356929007 \t ttest pval= 0.0032305174343656637\n",
      "62 \t logr pval= 0.35761968398085076 \t sepLR pval= 0.44976070243553423 \t ttest pval= 0.45659657650238317\n",
      "63 \t logr pval= 0.025812094067805158 \t sepLR pval= 0.0036871545506347303 \t ttest pval= 0.0039813246353877\n",
      "64 \t logr pval= 0.14228088765386637 \t sepLR pval= 0.08139743706602331 \t ttest pval= 0.0833852420482462\n",
      "65 \t logr pval= 0.044129382745122125 \t sepLR pval= 0.10384752209757597 \t ttest pval= 0.10594365109886057\n",
      "66 \t logr pval= 0.0044254542185434564 \t sepLR pval= 0.007493172844937335 \t ttest pval= 0.0082393480516563\n",
      "67 \t logr pval= 0.0793836081285445 \t sepLR pval= 0.1794971872845037 \t ttest pval= 0.18564766825176462\n",
      "68 \t logr pval= 0.37213260900151623 \t sepLR pval= 0.6126619841831644 \t ttest pval= 0.6204332933655228\n",
      "69 \t logr pval= 0.01906803020679615 \t sepLR pval= 0.016428745479298845 \t ttest pval= 0.01720636678902691\n",
      "70 \t logr pval= 0.12842673823583917 \t sepLR pval= 0.2510298863910819 \t ttest pval= 0.25410920892940947\n",
      "71 \t logr pval= 0.005281506418440274 \t sepLR pval= 0.0223758608454403 \t ttest pval= 0.024124859323532928\n",
      "72 \t logr pval= 0.9578042723794036 \t sepLR pval= 1.0 \t ttest pval= 1.0\n",
      "73 \t logr pval= 0.00976111106853672 \t sepLR pval= 0.033737983965517415 \t ttest pval= 0.037196466863131106\n",
      "74 \t logr pval= 0.34873630079807594 \t sepLR pval= 1.0 \t ttest pval= 1.0\n",
      "75 \t logr pval= 0.45929035660503037 \t sepLR pval= 0.8263645523284262 \t ttest pval= 0.8326635655527808\n",
      "76 \t logr pval= 0.19727828164938543 \t sepLR pval= 0.23777398085370705 \t ttest pval= 0.24211209732561542\n",
      "77 \t logr pval= 0.004058242558937386 \t sepLR pval= 0.03172760204354785 \t ttest pval= 0.03537948340790305\n",
      "78 \t logr pval= 0.032848181082522965 \t sepLR pval= 0.19598336460867216 \t ttest pval= 0.19879039325564118\n",
      "79 \t logr pval= 0.6134016955751342 \t sepLR pval= 0.44427527051299354 \t ttest pval= 0.44710511745186615\n",
      "80 \t logr pval= 0.5910048411623563 \t sepLR pval= 1.0 \t ttest pval= 1.0\n",
      "81 \t logr pval= 0.0766700237665845 \t sepLR pval= 0.10732451981667801 \t ttest pval= 0.10982407862229485\n",
      "82 \t logr pval= 0.4191342196332425 \t sepLR pval= 0.9926107585085683 \t ttest pval= 1.0\n"
     ]
    },
    {
     "name": "stdout",
     "output_type": "stream",
     "text": [
      "83 \t logr pval= 0.08421034444080422 \t sepLR pval= 0.18176504836187757 \t ttest pval= 0.18613057932101726\n",
      "84 \t logr pval= 0.3229127724975973 \t sepLR pval= 1.0 \t ttest pval= 1.0\n",
      "85 \t logr pval= 0.0019028772743350242 \t sepLR pval= 0.018010468688075987 \t ttest pval= 0.021006418525535288\n",
      "86 \t logr pval= 0.0007684772775167215 \t sepLR pval= 0.022470955720270247 \t ttest pval= 0.024383999203690977\n",
      "87 \t logr pval= 0.6412899761032769 \t sepLR pval= 1.0 \t ttest pval= 1.0\n",
      "88 \t logr pval= 0.8729649062758376 \t sepLR pval= 1.0 \t ttest pval= 1.0\n",
      "89 \t logr pval= 0.05214163616723011 \t sepLR pval= 0.28565729084434144 \t ttest pval= 0.29146902916146444\n",
      "90 \t logr pval= 0.06499279380561129 \t sepLR pval= 0.04616401237108647 \t ttest pval= 0.04837360477923433\n",
      "91 \t logr pval= 0.24681602409609482 \t sepLR pval= 0.26208741711628003 \t ttest pval= 0.2678298858337307\n",
      "92 \t logr pval= 0.8428920541733345 \t sepLR pval= 1.0 \t ttest pval= 1.0\n",
      "93 \t logr pval= 0.20626516123992544 \t sepLR pval= 0.4315843919912302 \t ttest pval= 0.4401577132054785\n",
      "94 \t logr pval= 0.4014744778115804 \t sepLR pval= 0.3505188042736087 \t ttest pval= 0.3559729932447762\n",
      "95 \t logr pval= 0.34772832309079116 \t sepLR pval= 0.5948686974480724 \t ttest pval= 0.6012032361120925\n",
      "96 \t logr pval= 0.030378404441176232 \t sepLR pval= 0.1806151637192579 \t ttest pval= 0.1972212625707109\n",
      "97 \t logr pval= 0.23380493327412188 \t sepLR pval= 0.21751777498184355 \t ttest pval= 0.2204826596722866\n",
      "98 \t logr pval= 0.00841390645144735 \t sepLR pval= 0.0722341424355909 \t ttest pval= 0.0767550591160398\n",
      "99 \t logr pval= 0.42864877585222616 \t sepLR pval= 0.1210741245395961 \t ttest pval= 0.12341473239845815\n",
      "100 \t logr pval= 0.030033967441825182 \t sepLR pval= 0.025760231353859964 \t ttest pval= 0.030148959577410216\n",
      "101 \t logr pval= 0.3780982250733791 \t sepLR pval= 0.2332413279570965 \t ttest pval= 0.2390669717086733\n",
      "102 \t logr pval= 0.08064669067775065 \t sepLR pval= 0.4041652312139611 \t ttest pval= 0.40749127017088493\n",
      "103 \t logr pval= 0.8953799226669102 \t sepLR pval= 1.0 \t ttest pval= 1.0\n",
      "104 \t logr pval= 0.00021865449350966237 \t sepLR pval= 0.0010034583212669146 \t ttest pval= 0.0011421532697354474\n",
      "105 \t logr pval= 0.08245562648372418 \t sepLR pval= 0.3177966633453829 \t ttest pval= 0.3344303024198339\n",
      "106 \t logr pval= 0.40931788688848614 \t sepLR pval= 0.3284729134981972 \t ttest pval= 0.3370300672497958\n",
      "107 \t logr pval= 0.0012841578805787845 \t sepLR pval= 0.0002176247934652098 \t ttest pval= 0.0002822364656490772\n",
      "108 \t logr pval= 0.17773276054916165 \t sepLR pval= 0.28531281548622134 \t ttest pval= 0.2895113479234282\n",
      "109 \t logr pval= 0.014441909518309926 \t sepLR pval= 0.02528419525870995 \t ttest pval= 0.026136284031268987\n",
      "110 \t logr pval= 0.617921507384778 \t sepLR pval= 0.4005407106592829 \t ttest pval= 0.406140590974356\n",
      "111 \t logr pval= 0.04059118515729088 \t sepLR pval= 0.1256261278069042 \t ttest pval= 0.1311956215554187\n",
      "112 \t logr pval= 0.3003476647914819 \t sepLR pval= 0.5894925943467214 \t ttest pval= 0.5934034217681216\n",
      "113 \t logr pval= 0.3206941560733547 \t sepLR pval= 0.27085957483019896 \t ttest pval= 0.2737526919573836\n",
      "114 \t logr pval= 0.027933879230180092 \t sepLR pval= 0.04609033064037604 \t ttest pval= 0.05249087506006359\n",
      "115 \t logr pval= 0.15400898243219063 \t sepLR pval= 0.09183988437305302 \t ttest pval= 0.09556931037944338\n",
      "116 \t logr pval= 0.0035401460694841624 \t sepLR pval= 0.012421294664805571 \t ttest pval= 0.013535768678693985\n",
      "117 \t logr pval= 0.16262764237703808 \t sepLR pval= 0.09927434658955958 \t ttest pval= 0.10426387006212377\n",
      "118 \t logr pval= 0.26137564119392986 \t sepLR pval= 0.20129638204196532 \t ttest pval= 0.20421073936486844\n",
      "119 \t logr pval= 0.5888732301729834 \t sepLR pval= 0.8574971829839285 \t ttest pval= 0.8605708108264242\n",
      "120 \t logr pval= 0.3563187950479264 \t sepLR pval= 1.0 \t ttest pval= 1.0\n",
      "121 \t logr pval= 0.07056292678375575 \t sepLR pval= 0.026843656214310285 \t ttest pval= 0.030055475430794155\n",
      "122 \t logr pval= 0.012971818412374048 \t sepLR pval= 0.001120354482002095 \t ttest pval= 0.0012636572712737407\n",
      "123 \t logr pval= 0.05684371684212197 \t sepLR pval= 0.017433515657112153 \t ttest pval= 0.019185973978293882\n",
      "124 \t logr pval= 0.17811146437058445 \t sepLR pval= 0.44257077961535796 \t ttest pval= 0.4505256578387469\n",
      "125 \t logr pval= 0.01335345377988495 \t sepLR pval= 0.006719361502770527 \t ttest pval= 0.007183133720555755\n",
      "126 \t logr pval= 0.015510703355172795 \t sepLR pval= 0.24838306169737345 \t ttest pval= 0.2578008522109355\n",
      "127 \t logr pval= 0.38792686712844016 \t sepLR pval= 1.0 \t ttest pval= 1.0\n",
      "128 \t logr pval= 0.688696817835028 \t sepLR pval= 0.2750579871152353 \t ttest pval= 0.2779093590010018\n",
      "129 \t logr pval= 0.2242933049386311 \t sepLR pval= 0.40562695194492926 \t ttest pval= 0.4108354367248189\n",
      "130 \t logr pval= 0.2531959138681572 \t sepLR pval= 0.4565468708714161 \t ttest pval= 0.46251482164803276\n",
      "131 \t logr pval= 0.03072659544200851 \t sepLR pval= 0.015362528509453188 \t ttest pval= 0.01654629729486083\n",
      "132 \t logr pval= 0.01016184112680818 \t sepLR pval= 0.004840262634117631 \t ttest pval= 0.005588678596611352\n",
      "133 \t logr pval= 0.12351577175509143 \t sepLR pval= 0.19183144773957228 \t ttest pval= 0.19462441873054567\n",
      "134 \t logr pval= 0.03589879775607541 \t sepLR pval= 0.06586677525065243 \t ttest pval= 0.06803230984779758\n",
      "135 \t logr pval= 0.15354675107766347 \t sepLR pval= 0.12608718588934276 \t ttest pval= 0.13515799939085393\n",
      "136 \t logr pval= 0.001623267949681484 \t sepLR pval= 0.014567033318239386 \t ttest pval= 0.015213296406699925\n",
      "137 \t logr pval= 0.1196401086932658 \t sepLR pval= 0.02798704267761276 \t ttest pval= 0.02921850357159289\n",
      "138 \t logr pval= 0.11019674454110917 \t sepLR pval= 0.05094321092553966 \t ttest pval= 0.0528256302203233\n",
      "139 \t logr pval= 0.3286325375278327 \t sepLR pval= 0.2969575747248261 \t ttest pval= 0.30018806540927884\n",
      "140 \t logr pval= 0.298017977886599 \t sepLR pval= 0.2436068319335546 \t ttest pval= 0.24664705612388554\n",
      "141 \t logr pval= 0.2653711948753861 \t sepLR pval= 0.1290056768599438 \t ttest pval= 0.13487161452253568\n",
      "142 \t logr pval= 0.012987252541596828 \t sepLR pval= 0.13273656365992936 \t ttest pval= 0.13435894662705636\n",
      "143 \t logr pval= 0.7919138785062825 \t sepLR pval= 1.0 \t ttest pval= 1.0\n",
      "144 \t logr pval= 0.2129253005571654 \t sepLR pval= 0.13460245718502306 \t ttest pval= 0.1374814227486754\n",
      "145 \t logr pval= 0.1299130157280043 \t sepLR pval= 0.43282371217994287 \t ttest pval= 0.4359535147384135\n",
      "146 \t logr pval= 0.41755513877047146 \t sepLR pval= 0.6598647938819867 \t ttest pval= 0.6623393367628863\n",
      "147 \t logr pval= 0.015498016797949377 \t sepLR pval= 0.0071793772114080445 \t ttest pval= 0.008933653121253075\n",
      "148 \t logr pval= 0.08780788386438942 \t sepLR pval= 0.12562612780664306 \t ttest pval= 0.1311956215554187\n",
      "149 \t logr pval= 0.02039109084478452 \t sepLR pval= 0.07181045246286477 \t ttest pval= 0.07494221027736142\n",
      "150 \t logr pval= 0.0014143260537927693 \t sepLR pval= 0.000978260865323266 \t ttest pval= 0.0010950424689435876\n",
      "151 \t logr pval= 0.029785467274053512 \t sepLR pval= 0.17290693881242758 \t ttest pval= 0.17758034197161726\n",
      "152 \t logr pval= 0.0006763733154873108 \t sepLR pval= 0.0008009848556158605 \t ttest pval= 0.0009010111008255407\n",
      "153 \t logr pval= 0.27151451537367643 \t sepLR pval= 0.3640808927753272 \t ttest pval= 0.3672038558334477\n",
      "154 \t logr pval= 0.0064174449352578655 \t sepLR pval= 0.0019669356469728116 \t ttest pval= 0.002144574116785215\n",
      "155 \t logr pval= 0.27948995914871333 \t sepLR pval= 0.1837426245140934 \t ttest pval= 0.18741442253194315\n",
      "156 \t logr pval= 0.13547127437754303 \t sepLR pval= 0.19877842579780802 \t ttest pval= 0.20134575710184086\n",
      "157 \t logr pval= 0.008492517804672972 \t sepLR pval= 0.002124853479941402 \t ttest pval= 0.002332268521315944\n",
      "158 \t logr pval= 0.5624655679137212 \t sepLR pval= 0.5425432897780545 \t ttest pval= 0.5444565519846976\n",
      "159 \t logr pval= 0.09318982282546051 \t sepLR pval= 0.03223504381612308 \t ttest pval= 0.033387977519016905\n",
      "160 \t logr pval= 0.036813724660403 \t sepLR pval= 0.18671586798749495 \t ttest pval= 0.19279262999026678\n",
      "161 \t logr pval= 0.09784791390076841 \t sepLR pval= 0.12687053578564444 \t ttest pval= 0.13067012875604553\n",
      "162 \t logr pval= 0.1409125227023047 \t sepLR pval= 0.18286050106528007 \t ttest pval= 0.18585542853650208\n",
      "163 \t logr pval= 0.49952064601906254 \t sepLR pval= 0.396399417902771 \t ttest pval= 0.39984088615340235\n"
     ]
    },
    {
     "name": "stdout",
     "output_type": "stream",
     "text": [
      "164 \t logr pval= 0.07904808951837794 \t sepLR pval= 0.04793009463271325 \t ttest pval= 0.04971740403070987\n",
      "165 \t logr pval= 0.43133461126589523 \t sepLR pval= 0.15928612290591804 \t ttest pval= 0.16216694649587182\n",
      "166 \t logr pval= 0.2936007437546235 \t sepLR pval= 0.4371090755012358 \t ttest pval= 0.4421755610428286\n",
      "167 \t logr pval= 0.08604841837942279 \t sepLR pval= 0.145263379377077 \t ttest pval= 0.147551565691965\n",
      "168 \t logr pval= 0.12586645983080447 \t sepLR pval= 0.007797337991703457 \t ttest pval= 0.008294428365557978\n",
      "169 \t logr pval= 0.3234710138767075 \t sepLR pval= 0.07738493240140532 \t ttest pval= 0.08303599531640782\n",
      "170 \t logr pval= 0.26377251568147253 \t sepLR pval= 0.10120904122859031 \t ttest pval= 0.10459891938932092\n",
      "171 \t logr pval= 0.412722357436471 \t sepLR pval= 0.1298408773452423 \t ttest pval= 0.1334712976937605\n",
      "172 \t logr pval= 0.04860639823910784 \t sepLR pval= 0.04037030962385746 \t ttest pval= 0.04531290127598603\n",
      "173 \t logr pval= 0.14440190861296964 \t sepLR pval= 0.2126644581319076 \t ttest pval= 0.22041095766260327\n",
      "174 \t logr pval= 0.19663341887846442 \t sepLR pval= 0.16465143326253062 \t ttest pval= 0.1689953538588294\n",
      "175 \t logr pval= 0.0042537636070655305 \t sepLR pval= 0.004735700880926341 \t ttest pval= 0.004906502891471214\n",
      "176 \t logr pval= 0.40572222644050693 \t sepLR pval= 0.7008934545673264 \t ttest pval= 0.7043719126738639\n",
      "177 \t logr pval= 0.10057917884364997 \t sepLR pval= 0.01688258462835379 \t ttest pval= 0.017796871137682736\n",
      "178 \t logr pval= 0.09527274431920896 \t sepLR pval= 0.08758725562225278 \t ttest pval= 0.0926009327314551\n",
      "179 \t logr pval= 0.0046370636498455076 \t sepLR pval= 0.026923600616870824 \t ttest pval= 0.02780094654762178\n",
      "180 \t logr pval= 0.01397656530869451 \t sepLR pval= 0.008865248616046761 \t ttest pval= 0.009367111440343537\n",
      "181 \t logr pval= 0.24320206437479586 \t sepLR pval= 0.16422436083977343 \t ttest pval= 0.16888300562847502\n",
      "182 \t logr pval= 0.04443173036786996 \t sepLR pval= 0.06076349442878992 \t ttest pval= 0.06222601781698241\n",
      "183 \t logr pval= 0.09783404912523808 \t sepLR pval= 0.06740884251166757 \t ttest pval= 0.07275649990438901\n",
      "184 \t logr pval= 0.0007963762811752373 \t sepLR pval= 9.179274637127754e-05 \t ttest pval= 0.00011142306290384959\n",
      "185 \t logr pval= 0.14611062999097246 \t sepLR pval= 0.16043165535493875 \t ttest pval= 0.16436353427069764\n",
      "186 \t logr pval= 0.03993440454458552 \t sepLR pval= 0.10626507235324101 \t ttest pval= 0.1117447987959306\n",
      "187 \t logr pval= 0.030343881041166254 \t sepLR pval= 0.008915768585261885 \t ttest pval= 0.009847084210632445\n",
      "188 \t logr pval= 0.020342683761171765 \t sepLR pval= 0.12170564136928586 \t ttest pval= 0.1241850140155829\n",
      "189 \t logr pval= 0.05884351777136276 \t sepLR pval= 0.06587190544685251 \t ttest pval= 0.06756971933376002\n",
      "190 \t logr pval= 0.26812500864359246 \t sepLR pval= 0.38847789859946824 \t ttest pval= 0.39243870694848315\n",
      "191 \t logr pval= 0.00043393465991026225 \t sepLR pval= 0.004168006319783091 \t ttest pval= 0.004511682772976991\n",
      "192 \t logr pval= 0.002998576556792032 \t sepLR pval= 0.001787649103459299 \t ttest pval= 0.0020486912867291084\n",
      "193 \t logr pval= 0.0033359780351140955 \t sepLR pval= 0.026843656214310285 \t ttest pval= 0.030055475430794155\n",
      "194 \t logr pval= 0.5320311047379539 \t sepLR pval= 0.48358570074242024 \t ttest pval= 0.48792398246995755\n",
      "195 \t logr pval= 0.08536578528739724 \t sepLR pval= 0.02877014640854547 \t ttest pval= 0.029821066419853392\n",
      "196 \t logr pval= 0.4762340639527892 \t sepLR pval= 0.5242361888957858 \t ttest pval= 0.5312588915433752\n",
      "197 \t logr pval= 0.04947229730578173 \t sepLR pval= 0.08758725562234293 \t ttest pval= 0.0926009327314551\n",
      "198 \t logr pval= 0.2535261558999643 \t sepLR pval= 0.10459168388232276 \t ttest pval= 0.10688295551228597\n",
      "199 \t logr pval= 0.17537154141707467 \t sepLR pval= 0.3505188042736087 \t ttest pval= 0.3559729932447762\n",
      "\n",
      " logR Avg. p-value:  0.20342981098240073\n",
      "\n",
      " seplogR Avg. p-value:  0.2679184572447322\n",
      "\n",
      " ttest Avg. p-value:  0.27115867811830374\n"
     ]
    }
   ],
   "source": [
    "np.random.seed(0)\n",
    "samples=3000\n",
    "carlo=200\n",
    "pvals=[]\n",
    "pvals_t_test=[]\n",
    "pvals_sep_logR=[]\n",
    "for monte in range(carlo):\n",
    "    randperm1A=np.random.permutation(X_naive.shape[0])\n",
    "    randperm2A=np.random.permutation(X_cyto.shape[0])\n",
    "    #positive control \n",
    "\n",
    "    X1=X_naive[randperm1A[:samples],:]\n",
    "    X2=X_cyto[randperm2A[:samples],:]\n",
    "\n",
    "\n",
    "    # print(X1.shape)\n",
    "    # print(X2.shape)\n",
    "\n",
    "    N1=X1.shape[0]\n",
    "    N2=X2.shape[0]\n",
    "\n",
    "\n",
    "    A=logr_ecidx(ecidx,X1,X2)\n",
    "    \n",
    "    pvals+=[A[1]]\n",
    "    tpval=ttest_ecidx(ecidx,X1,X2)\n",
    "    pvals_t_test+=[tpval]\n",
    "    \n",
    "    \n",
    "    \n",
    "    \n",
    "    pvals_tmp=[]\n",
    "    for j in ecidx:\n",
    "        B=logr_ecidx([j],X1,X2)\n",
    "        pvals_tmp+=[B[1]]\n",
    "    pval_sep=np.min([1,np.min(np.array(pvals_tmp))*len(ecidx)])\n",
    "    pvals_sep_logR+=[pval_sep]\n",
    "    \n",
    "    print(monte,'\\t logr pval=',A[1],'\\t sepLR pval=',pval_sep,'\\t ttest pval=',tpval)\n",
    "    \n",
    "    \n",
    "print(\"\\n logR Avg. p-value: \",np.mean(pvals))\n",
    "print(\"\\n seplogR Avg. p-value: \",np.mean(pvals_sep_logR))\n",
    "print(\"\\n ttest Avg. p-value: \",np.mean(pvals_t_test))"
   ]
  },
  {
   "cell_type": "code",
   "execution_count": 61,
   "metadata": {},
   "outputs": [
    {
     "data": {
      "text/plain": [
       "<matplotlib.axes._subplots.AxesSubplot at 0x7f1256b10ba8>"
      ]
     },
     "execution_count": 61,
     "metadata": {},
     "output_type": "execute_result"
    },
    {
     "data": {
      "image/png": "[encoded data removed]",
      "text/plain": [
       "<matplotlib.figure.Figure at 0x7f1256b6b978>"
      ]
     },
     "metadata": {},
     "output_type": "display_data"
    }
   ],
   "source": [
    "pvals_t_test3=pvals_t_test\n",
    "pvals_sep_logR3=pvals_sep_logR\n",
    "pvals3=pvals\n",
    "\n",
    "sns.distplot(-np.log10(pvals_sep_logR3))\n",
    "sns.distplot(-np.log10(pvals3))"
   ]
  },
  {
   "cell_type": "code",
   "execution_count": null,
   "metadata": {
    "collapsed": true
   },
   "outputs": [],
   "source": []
  }
 ],
 "metadata": {
  "kernelspec": {
   "display_name": "py36",
   "language": "python",
   "name": "python3"
  },
  "language_info": {
   "codemirror_mode": {
    "name": "ipython",
    "version": 3
   },
   "file_extension": ".py",
   "mimetype": "text/x-python",
   "name": "python",
   "nbconvert_exporter": "python",
   "pygments_lexer": "ipython3",
   "version": "3.6.2"
  }
 },
 "nbformat": 4,
 "nbformat_minor": 2
}
