{
 "cells": [
  {
   "cell_type": "code",
   "execution_count": 1,
   "metadata": {
    "collapsed": true
   },
   "outputs": [],
   "source": [
    "import pandas as pd\n",
    "import numpy as np\n",
    "import sklearn\n",
    "import seaborn as sns\n",
    "%matplotlib inline\n",
    "import collections\n",
    "import matplotlib\n",
    "import matplotlib.pyplot as plt\n",
    "import numpy as np\n",
    "import pandas as pd\n",
    "import scipy.sparse as sp_sparse\n",
    "import tables\n",
    "import gc\n",
    "import gzip\n",
    "from scipy.sparse import coo_matrix\n",
    "from sklearn.preprocessing import normalize\n",
    "import pickle"
   ]
  },
  {
   "cell_type": "markdown",
   "metadata": {},
   "source": [
    "# Load raw TCCs into memory"
   ]
  },
  {
   "cell_type": "code",
   "execution_count": 2,
   "metadata": {
    "collapsed": true
   },
   "outputs": [],
   "source": [
    "# tsvfile_dir = '/home/vasilis/clustering_EQ/10x_DATASETS/MemoryNaive/UTR_TCC/TCC_output_UTR/matrix.tsv'\n",
    "# COOinput = pd.read_csv( tsvfile_dir, delimiter='\\t',header=None, dtype=int)\n",
    "\n",
    "# A=COOinput.as_matrix()\n",
    "\n",
    "# rows,cols,data = A.T"
   ]
  },
  {
   "cell_type": "code",
   "execution_count": 3,
   "metadata": {
    "collapsed": true
   },
   "outputs": [],
   "source": [
    "# nonzero_ec = np.unique(rows)\n",
    "# map_rows = { val:ind for ind,val in enumerate( nonzero_ec ) }\n",
    "# map_cols = { val:ind for ind,val in enumerate( np.unique(cols) ) }\n",
    "# TCCmatrix   = coo_matrix( (data.astype(float),( [map_rows[r] for r in rows], [map_cols[c] for c in cols]) ) ) \n",
    "\n",
    "# NUM_OF_CELLS = TCCmatrix.shape[1]\n",
    "# print(\"NUM_OF_CELLS =\", NUM_OF_CELLS)\n",
    "      \n",
    "# T = TCCmatrix.tocsr()"
   ]
  },
  {
   "cell_type": "code",
   "execution_count": 4,
   "metadata": {
    "collapsed": true
   },
   "outputs": [],
   "source": [
    "# del TCCmatrix,map_cols,map_rows,A,rows,cols,data;\n",
    "# _ = gc.collect()"
   ]
  },
  {
   "cell_type": "code",
   "execution_count": 5,
   "metadata": {
    "collapsed": true
   },
   "outputs": [],
   "source": [
    "# ecfile_dir = '/home/vasilis/clustering_EQ/10x_DATASETS/MemoryNaive/UTR_TCC/TCC_output_UTR/matrix.ec'\n",
    "# eclist=pd.read_csv( ecfile_dir, delimiter='\\t',header=None, dtype=str)\n",
    "# eclist=np.array(eclist)"
   ]
  },
  {
   "cell_type": "code",
   "execution_count": 6,
   "metadata": {
    "collapsed": true
   },
   "outputs": [],
   "source": [
    "# cellfile_dir = '/home/vasilis/clustering_EQ/10x_DATASETS/MemoryNaive/UTR_TCC/TCC_output_UTR/matrix.cells'\n",
    "# celllist=pd.read_csv( cellfile_dir, delimiter='\\t',header=None, dtype=str)\n",
    "# print(celllist.iloc[123][0][10:-1])"
   ]
  },
  {
   "cell_type": "code",
   "execution_count": 7,
   "metadata": {
    "collapsed": true
   },
   "outputs": [],
   "source": [
    "# cellnames=[]\n",
    "# for i in range(len(celllist.index)):\n",
    "#     cellnames+=[celllist.iloc[i][0][10:-1]]\n",
    "# cellnames=np.array(cellnames)"
   ]
  },
  {
   "cell_type": "code",
   "execution_count": 8,
   "metadata": {
    "collapsed": true
   },
   "outputs": [],
   "source": [
    "# #Save data\n",
    "# with open(\"./TCC_matrix_MNC.dat\", 'wb') as f:\n",
    "#     pickle.dump(T,f)\n",
    "# with open(\"./nonzero_ec_MNC.dat\", 'wb') as f:\n",
    "#     pickle.dump(nonzero_ec,f)\n",
    "# with open(\"./eclist_MNC.dat\", 'wb') as f:\n",
    "#     pickle.dump(eclist,f)\n",
    "# with open(\"./cellnames_MNC.dat\", 'wb') as f:\n",
    "#     pickle.dump(cellnames,f)\n",
    "    \n"
   ]
  },
  {
   "cell_type": "markdown",
   "metadata": {},
   "source": [
    "##  Load pickled TCCs"
   ]
  },
  {
   "cell_type": "code",
   "execution_count": 9,
   "metadata": {
    "collapsed": true
   },
   "outputs": [],
   "source": [
    "#Load dataset   \n",
    "with open(\"./TCC_matrix_MNC.dat\", 'rb') as f:\n",
    "    T=pickle.load(f)\n",
    "with open(\"./nonzero_ec_MNC.dat\", 'rb') as f:\n",
    "    nonzero_ec=pickle.load(f)\n",
    "with open(\"./eclist_MNC.dat\", 'rb') as f:\n",
    "    eclist=pickle.load(f)\n",
    "with open(\"./cellnames_MNC.dat\", 'rb') as f:\n",
    "    cellnames=pickle.load(f)"
   ]
  },
  {
   "cell_type": "markdown",
   "metadata": {},
   "source": [
    "### quality control"
   ]
  },
  {
   "cell_type": "code",
   "execution_count": 10,
   "metadata": {},
   "outputs": [
    {
     "name": "stdout",
     "output_type": "stream",
     "text": [
      "median UMIs per cell: 5248.0\n"
     ]
    }
   ],
   "source": [
    "# median umis per cell\n",
    "print(\"median UMIs per cell:\",np.median(np.array((np.sum(T,axis=0))).reshape(1,-1)[0]))"
   ]
  },
  {
   "cell_type": "code",
   "execution_count": 11,
   "metadata": {},
   "outputs": [
    {
     "data": {
      "text/plain": [
       "[<matplotlib.lines.Line2D at 0x7f1a3bdee7b8>]"
      ]
     },
     "execution_count": 11,
     "metadata": {},
     "output_type": "execute_result"
    },
    {
     "data": {
      "image/png": "[encoded data removed]",
      "text/plain": [
       "<matplotlib.figure.Figure at 0x7f1a4349ce80>"
      ]
     },
     "metadata": {},
     "output_type": "display_data"
    }
   ],
   "source": [
    "readspercell=np.array((np.sum(T,axis=0))).reshape(1,-1)[0]\n",
    "plt.semilogy(np.sort(readspercell))"
   ]
  },
  {
   "cell_type": "code",
   "execution_count": 12,
   "metadata": {
    "collapsed": true
   },
   "outputs": [],
   "source": [
    "hi_low=[30000,1000]\n",
    "cells_keep = np.where(readspercell<hi_low[0])[0]\n",
    "idx = np.where(readspercell[cells_keep]>hi_low[1])[0]\n",
    "cells_keep=cells_keep[idx]"
   ]
  },
  {
   "cell_type": "code",
   "execution_count": 13,
   "metadata": {
    "collapsed": true
   },
   "outputs": [],
   "source": [
    "cellnames = cellnames[cells_keep]"
   ]
  },
  {
   "cell_type": "code",
   "execution_count": 14,
   "metadata": {},
   "outputs": [
    {
     "data": {
      "text/plain": [
       "(31831,)"
      ]
     },
     "execution_count": 14,
     "metadata": {},
     "output_type": "execute_result"
    }
   ],
   "source": [
    "cells_keep.shape"
   ]
  },
  {
   "cell_type": "code",
   "execution_count": 15,
   "metadata": {
    "collapsed": true
   },
   "outputs": [],
   "source": [
    "T=T[:,cells_keep]"
   ]
  },
  {
   "cell_type": "markdown",
   "metadata": {},
   "source": [
    "#### ECdict"
   ]
  },
  {
   "cell_type": "code",
   "execution_count": 16,
   "metadata": {},
   "outputs": [
    {
     "name": "stdout",
     "output_type": "stream",
     "text": [
      "NUM_OF_Transcripts = 133229\n"
     ]
    }
   ],
   "source": [
    "EC_dict = {}\n",
    "for i in range(np.shape(eclist)[0]):\n",
    "    EC_dict[i] = [int(x) for x in eclist[i,1].split(',')]\n",
    "    \n",
    "union=set()\n",
    "for i in nonzero_ec:\n",
    "    new = [tx for tx in EC_dict[i] if tx not in union] # filter out previously seen transcripts\n",
    "    union.update(new) \n",
    "union_list=np.sort(list(union)) #union of all transctipt ids seen in nonzero eq.classes\n",
    "NUM_OF_TX_inTCC = len(union)\n",
    "print(\"NUM_OF_Transcripts =\", NUM_OF_TX_inTCC) #number of distinct transcripts in nonzero eq. classes "
   ]
  },
  {
   "cell_type": "code",
   "execution_count": 17,
   "metadata": {
    "collapsed": true
   },
   "outputs": [],
   "source": [
    "path_to_ref='./Homo_sapiens.GRCh38.rel79.cdna.all.utr_mod.fa.gz'\n",
    "\n",
    "ENSG_PRPTC = 'ENSG00000262418'\n",
    "\n",
    "def readENS_ids(path_to_ref):\n",
    "    TX_to_ENST={}\n",
    "    TX_to_ENSG={}\n",
    "    ENSG_isoforms={}\n",
    "    line_cnt=0;\n",
    "    tx_cnt=0;\n",
    "    with gzip.open(path_to_ref) as f:\n",
    "        for line in f:\n",
    "            if line.decode('UTF-8')[0]=='>':\n",
    "                liner=line.decode('UTF-8')\n",
    "                if line_cnt == union_list[tx_cnt]:\n",
    "                    if liner.split(\"ENST\",1)[1][11:].startswith('_utr_mod'):\n",
    "                        TX_to_ENST[union_list[tx_cnt]] = 'ENST'+liner.split(\"ENST\",1)[1][:20]\n",
    "                        TX_to_ENSG[union_list[tx_cnt]] = ENSG_PRPTC\n",
    "                        ENSG_isoforms[TX_to_ENSG[union_list[tx_cnt]]] = ENSG_isoforms.get(TX_to_ENSG[union_list[tx_cnt]], [])\n",
    "                        ENSG_isoforms[TX_to_ENSG[union_list[tx_cnt]]].append(TX_to_ENST[union_list[tx_cnt]])\n",
    "                        tx_cnt+=1 \n",
    "                    else:\n",
    "                        TX_to_ENST[union_list[tx_cnt]] = 'ENST'+liner.split(\"ENST\",1)[1][:11]\n",
    "                        TX_to_ENSG[union_list[tx_cnt]] = 'ENSG'+liner.split(\"ENSG\",1)[1][:11]\n",
    "                        ENSG_isoforms[TX_to_ENSG[union_list[tx_cnt]]] = ENSG_isoforms.get(TX_to_ENSG[union_list[tx_cnt]], [])\n",
    "                        ENSG_isoforms[TX_to_ENSG[union_list[tx_cnt]]].append(TX_to_ENST[union_list[tx_cnt]])\n",
    "                        tx_cnt+=1 \n",
    "                    if tx_cnt==NUM_OF_TX_inTCC: return [TX_to_ENST,TX_to_ENSG,ENSG_isoforms]\n",
    "                line_cnt+=1\n",
    "    return [TX_to_ENST,TX_to_ENSG,ENSG_isoforms]\n",
    "\n",
    "\n",
    "[TX_to_ENST,TX_to_ENSG,ENSG_isoforms]=readENS_ids(path_to_ref)       "
   ]
  },
  {
   "cell_type": "code",
   "execution_count": 18,
   "metadata": {
    "collapsed": true
   },
   "outputs": [],
   "source": [
    "EC_ENST_DICT={}\n",
    "EC_ENSG_DICT={}\n",
    "for ec in nonzero_ec:\n",
    "    EC_ENST_DICT[ec] = [TX_to_ENST[tx] for tx in EC_dict[ec]]    \n",
    "    EC_ENSG_DICT[ec] = list(np.unique([TX_to_ENSG[tx] for tx in EC_dict[ec]])) "
   ]
  },
  {
   "cell_type": "code",
   "execution_count": 19,
   "metadata": {
    "collapsed": true
   },
   "outputs": [],
   "source": [
    "ENST_to_TX = {v: k for k, v in TX_to_ENST.items()}"
   ]
  },
  {
   "cell_type": "code",
   "execution_count": 20,
   "metadata": {
    "collapsed": true
   },
   "outputs": [],
   "source": [
    "#inv_map ; NOTE: genes and transcripts may be associated with multiple ensg accession numbers\n",
    "ENSG_EC_DICT={}\n",
    "for k, v in EC_ENSG_DICT.items():\n",
    "    for vi in v:\n",
    "        ENSG_EC_DICT[vi] = ENSG_EC_DICT.get(vi, [])\n",
    "        ENSG_EC_DICT[vi].append(k)\n",
    "        \n",
    "ENST_EC_DICT={}\n",
    "for k, v in EC_ENST_DICT.items():\n",
    "    for vi in v:\n",
    "        ENST_EC_DICT[vi] = ENST_EC_DICT.get(vi, [])\n",
    "        ENST_EC_DICT[vi].append(k)"
   ]
  },
  {
   "cell_type": "code",
   "execution_count": 21,
   "metadata": {},
   "outputs": [
    {
     "name": "stdout",
     "output_type": "stream",
     "text": [
      "NUM_OF_GENE_IDs = 25940\n"
     ]
    }
   ],
   "source": [
    "all_genes_ids = np.unique(list(TX_to_ENSG.values()))\n",
    "print(\"NUM_OF_GENE_IDs =\", len(all_genes_ids))"
   ]
  },
  {
   "cell_type": "code",
   "execution_count": 22,
   "metadata": {
    "collapsed": true
   },
   "outputs": [],
   "source": [
    "clean_gene_ids=[]\n",
    "\n",
    "for gene in all_genes_ids:\n",
    "    if len(list(np.unique([EC_ENSG_DICT[ec] for ec in ENSG_EC_DICT[gene]]))) == 1:\n",
    "        clean_gene_ids+=[gene]\n",
    "clean_gene_ids=np.array(clean_gene_ids)"
   ]
  },
  {
   "cell_type": "code",
   "execution_count": 23,
   "metadata": {},
   "outputs": [
    {
     "name": "stdout",
     "output_type": "stream",
     "text": [
      "NUM_OF_CLEAN_GENE_IDs = 6234\n"
     ]
    }
   ],
   "source": [
    "print(\"NUM_OF_CLEAN_GENE_IDs =\", len(clean_gene_ids))"
   ]
  },
  {
   "cell_type": "markdown",
   "metadata": {},
   "source": [
    "#### gene names"
   ]
  },
  {
   "cell_type": "code",
   "execution_count": 24,
   "metadata": {
    "collapsed": true
   },
   "outputs": [],
   "source": [
    "# #gene ids to gene names (requires \"pip install mygene\")\n",
    "# import mygene\n",
    "# mg = mygene.MyGeneInfo()\n",
    "# ginfo = mg.querymany(all_genes_ids, scopes='ensembl.gene',returnall=True)\n",
    "\n",
    "# with open('ginfo_MNC.pickle', 'wb') as handle:\n",
    "#     pickle.dump(ginfo, handle, protocol=pickle.HIGHEST_PROTOCOL)\n",
    "\n",
    "#LOAD\n",
    "with open('./ginfo_MNC.pickle', 'rb') as handle:\n",
    "    ginfo = pickle.load(handle)"
   ]
  },
  {
   "cell_type": "code",
   "execution_count": 25,
   "metadata": {
    "collapsed": true
   },
   "outputs": [],
   "source": [
    "missing_names=ginfo['missing']\n",
    "duplicate_names=ginfo['dup']"
   ]
  },
  {
   "cell_type": "code",
   "execution_count": 26,
   "metadata": {
    "collapsed": true
   },
   "outputs": [],
   "source": [
    "#ENSG to Gene-Names\n",
    "all_gene_id_to_names={} #missing are mapped to their ENSG id, Duplicates to a list of names\n",
    "count_exept=0\n",
    "for g in ginfo['out']:\n",
    "    try:\n",
    "        ensg_id=str(g['query'])\n",
    "        all_gene_id_to_names[ensg_id] = all_gene_id_to_names.get(ensg_id, [])\n",
    "        all_gene_id_to_names[ ensg_id].append(str(g['symbol']))                \n",
    "    except KeyError:\n",
    "        count_exept=count_exept+1\n",
    "        all_gene_id_to_names[ str(g['query']) ] = [str(g['query'])]\n",
    "        \n",
    "#Gene-Names to ENSG\n",
    "all_gene_names_to_id={} #missing are mapped to their ENSG id, Duplicates to a list of names\n",
    "count_exept=0\n",
    "for g in ginfo['out']:\n",
    "    try:\n",
    "        gene_name=str(g['symbol'])\n",
    "        all_gene_names_to_id[gene_name] = all_gene_names_to_id.get(gene_name, [])\n",
    "        all_gene_names_to_id[ gene_name].append(str(g['query']))                \n",
    "    except KeyError:\n",
    "        count_exept=count_exept+1\n",
    "        all_gene_names_to_id[ str(g['query']) ] = [str(g['query'])]"
   ]
  },
  {
   "cell_type": "code",
   "execution_count": 27,
   "metadata": {
    "collapsed": true
   },
   "outputs": [],
   "source": [
    "def search_gene(starting_letters):\n",
    "    print(\"SEARCHING: \",starting_letters,\"...\")\n",
    "    for gene in all_genes_ids:\n",
    "        if all_gene_id_to_names[gene][0][:len(starting_letters)] == starting_letters:\n",
    "            print(gene,all_gene_id_to_names[gene])\n",
    "    print(\"DONE\")"
   ]
  },
  {
   "cell_type": "code",
   "execution_count": 28,
   "metadata": {
    "collapsed": true
   },
   "outputs": [],
   "source": [
    "EC_IDX={}\n",
    "for i in range(len(nonzero_ec)):\n",
    "    EC_IDX[nonzero_ec[i]] =i "
   ]
  },
  {
   "cell_type": "markdown",
   "metadata": {},
   "source": [
    "# PTPRC"
   ]
  },
  {
   "cell_type": "code",
   "execution_count": 29,
   "metadata": {},
   "outputs": [
    {
     "data": {
      "text/plain": [
       "['ENSG00000081237', 'ENSG00000262418']"
      ]
     },
     "execution_count": 29,
     "metadata": {},
     "output_type": "execute_result"
    }
   ],
   "source": [
    "gene=\"PTPRC\"\n",
    "all_gene_names_to_id[gene]"
   ]
  },
  {
   "cell_type": "code",
   "execution_count": 30,
   "metadata": {},
   "outputs": [
    {
     "data": {
      "text/plain": [
       "['ENST00000573298',\n",
       " 'ENST00000575923',\n",
       " 'ENST00000573679',\n",
       " 'ENST00000574399',\n",
       " 'ENST00000576833',\n",
       " 'ENST00000573477',\n",
       " 'ENST00000570609',\n",
       " 'ENST00000571847',\n",
       " 'ENST00000574441',\n",
       " 'ENST00000573971',\n",
       " 'ENST00000572593',\n",
       " 'ENST00000574718',\n",
       " 'ENST00000570905',\n",
       " 'ENST00000575803',\n",
       " 'ENST00000442510_utr_mod1',\n",
       " 'ENST00000348564_utr_mod1',\n",
       " 'ENST00000575923_utr_mod2',\n",
       " 'ENST00000573679_utr_mod2',\n",
       " 'ENST00000576833_utr_mod2',\n",
       " 'ENST00000573477_utr_mod2',\n",
       " 'ENST00000574441_utr_mod2',\n",
       " 'ENST00000530727_utr_mod2',\n",
       " 'ENST00000442510_utr_mod2',\n",
       " 'ENST00000367367_utr_mod2',\n",
       " 'ENST00000348564_utr_mod2',\n",
       " 'ENST00000529828_utr_mod2',\n",
       " 'ENST00000442510_utr_mod3',\n",
       " 'ENST00000367367_utr_mod3',\n",
       " 'ENST00000348564_utr_mod3',\n",
       " 'ENST00000529828_utr_mod3',\n",
       " 'ENST00000442510_utr_mod4',\n",
       " 'ENST00000348564_utr_mod4']"
      ]
     },
     "execution_count": 30,
     "metadata": {},
     "output_type": "execute_result"
    }
   ],
   "source": [
    "ENSG_isoforms['ENSG00000262418']"
   ]
  },
  {
   "cell_type": "code",
   "execution_count": 31,
   "metadata": {
    "collapsed": true
   },
   "outputs": [],
   "source": [
    "gene_ecs0=[]\n",
    "for g in all_gene_names_to_id[gene]:\n",
    "    gene_ecs0+=ENSG_EC_DICT[g]\n",
    "gene_ecs0=np.unique(gene_ecs0)"
   ]
  },
  {
   "cell_type": "code",
   "execution_count": 32,
   "metadata": {},
   "outputs": [
    {
     "data": {
      "text/plain": [
       "array([185843, 199837, 211377, 224177, 232679, 238975, 246521, 247041,\n",
       "       250063, 250948, 252827, 260786, 274849, 288032, 297189, 314731,\n",
       "       330794, 364482, 428758, 512173, 572158, 577227, 599469, 599470,\n",
       "       599471, 599472, 599473, 599474, 615896, 615897, 656377, 658951,\n",
       "       658952, 658953, 658954, 658955, 689611, 712851, 713764, 715535,\n",
       "       722169, 745960])"
      ]
     },
     "execution_count": 32,
     "metadata": {},
     "output_type": "execute_result"
    }
   ],
   "source": [
    "gene_ecs0"
   ]
  },
  {
   "cell_type": "code",
   "execution_count": 33,
   "metadata": {
    "collapsed": true
   },
   "outputs": [],
   "source": [
    "ec_counts=[]\n",
    "for ec in gene_ecs0:\n",
    "    ec_counts+=[T[EC_IDX[ec],:].sum()]\n",
    "ec_nnz_cell_counts=[]\n",
    "for ec in gene_ecs0:\n",
    "    ec_nnz_cell_counts+=[T[EC_IDX[ec],:].nnz] \n",
    "    "
   ]
  },
  {
   "cell_type": "code",
   "execution_count": 34,
   "metadata": {},
   "outputs": [
    {
     "data": {
      "image/png": "[encoded data removed]",
      "text/plain": [
       "<matplotlib.figure.Figure at 0x7f19ef2b3048>"
      ]
     },
     "metadata": {},
     "output_type": "display_data"
    }
   ],
   "source": [
    "sns.set_style(\"darkgrid\")\n",
    "\n",
    "threshold=0.01*T.shape[1]\n",
    "\n",
    "gene_ecs=gene_ecs0[np.where(np.array(ec_counts)>threshold)[0]]\n",
    "upto=len(gene_ecs)\n",
    "\n",
    "plt.figure(figsize=(8,5))\n",
    "plt.stem(range(len(ec_counts)),np.sort(ec_counts)[::-1],'gray',markerfmt='.')\n",
    "\n",
    "plt.xticks(range(len(ec_counts)),gene_ecs0[np.argsort(ec_counts)[::-1]],rotation='vertical')\n",
    "# plt.xlim([0,len(b)+0.9])\n",
    "\n",
    "plt.stem(range(upto),np.sort(ec_counts)[::-1][:upto])\n",
    "\n",
    "plt.axhline(y=threshold, color='darkred', linestyle='--',linewidth=1)\n",
    "plt.xlabel(\"equivalence classes\",fontsize=16)\n",
    "plt.ylabel(\"umi counts\",fontsize=16)\n",
    "plt.yscale('log')\n",
    "plt.show()"
   ]
  },
  {
   "cell_type": "code",
   "execution_count": 35,
   "metadata": {},
   "outputs": [
    {
     "name": "stdout",
     "output_type": "stream",
     "text": [
      "[185843 599469 599470 599472 599473 615896 615897]\n"
     ]
    }
   ],
   "source": [
    "print(gene_ecs)"
   ]
  },
  {
   "cell_type": "code",
   "execution_count": 36,
   "metadata": {},
   "outputs": [
    {
     "name": "stdout",
     "output_type": "stream",
     "text": [
      "['PTPRC']\n"
     ]
    }
   ],
   "source": [
    "associated_genes=[]\n",
    "for ec in gene_ecs:\n",
    "    associated_genes += [all_gene_id_to_names[ens][0] for ens in EC_ENSG_DICT[ec]]\n",
    "associated_genes=np.unique(associated_genes)\n",
    "print(associated_genes)"
   ]
  },
  {
   "cell_type": "code",
   "execution_count": 37,
   "metadata": {
    "collapsed": true
   },
   "outputs": [],
   "source": [
    "ecidx=np.array([EC_IDX[ec] for ec in gene_ecs])"
   ]
  },
  {
   "cell_type": "code",
   "execution_count": 38,
   "metadata": {},
   "outputs": [
    {
     "data": {
      "text/plain": [
       "array([ 62333, 214260, 214261, 214263, 214264, 223216, 223217])"
      ]
     },
     "execution_count": 38,
     "metadata": {},
     "output_type": "execute_result"
    }
   ],
   "source": [
    "ecidx"
   ]
  },
  {
   "cell_type": "code",
   "execution_count": 39,
   "metadata": {
    "collapsed": true
   },
   "outputs": [],
   "source": [
    "eq_classes=[]\n",
    "for i in ecidx:\n",
    "    tx_indices=EC_dict[nonzero_ec[i]]\n",
    "    tx_ens=[TX_to_ENST[t] for t in tx_indices]\n",
    "    eq_classes+=[tx_ens]"
   ]
  },
  {
   "cell_type": "code",
   "execution_count": 40,
   "metadata": {
    "scrolled": true
   },
   "outputs": [
    {
     "name": "stdout",
     "output_type": "stream",
     "text": [
      "{\n",
      " \"185843\": [\n",
      "  \"ENST00000348564\",\n",
      "  \"ENST00000442510\"\n",
      " ],\n",
      " \"599469\": [\n",
      "  \"ENST00000348564\",\n",
      "  \"ENST00000348564_utr_mod4\",\n",
      "  \"ENST00000442510\",\n",
      "  \"ENST00000442510_utr_mod4\"\n",
      " ],\n",
      " \"599470\": [\n",
      "  \"ENST00000348564\",\n",
      "  \"ENST00000348564_utr_mod1\",\n",
      "  \"ENST00000348564_utr_mod4\",\n",
      "  \"ENST00000442510\",\n",
      "  \"ENST00000442510_utr_mod1\",\n",
      "  \"ENST00000442510_utr_mod4\"\n",
      " ],\n",
      " \"599472\": [\n",
      "  \"ENST00000348564\",\n",
      "  \"ENST00000348564_utr_mod1\",\n",
      "  \"ENST00000348564_utr_mod3\",\n",
      "  \"ENST00000348564_utr_mod4\",\n",
      "  \"ENST00000367367\",\n",
      "  \"ENST00000367367_utr_mod3\",\n",
      "  \"ENST00000442510\",\n",
      "  \"ENST00000442510_utr_mod1\",\n",
      "  \"ENST00000442510_utr_mod3\",\n",
      "  \"ENST00000442510_utr_mod4\",\n",
      "  \"ENST00000529828\",\n",
      "  \"ENST00000529828_utr_mod3\"\n",
      " ],\n",
      " \"599473\": [\n",
      "  \"ENST00000348564\",\n",
      "  \"ENST00000348564_utr_mod1\",\n",
      "  \"ENST00000348564_utr_mod3\",\n",
      "  \"ENST00000348564_utr_mod4\",\n",
      "  \"ENST00000367367\",\n",
      "  \"ENST00000367367_utr_mod3\",\n",
      "  \"ENST00000442510\",\n",
      "  \"ENST00000442510_utr_mod1\",\n",
      "  \"ENST00000442510_utr_mod3\",\n",
      "  \"ENST00000442510_utr_mod4\",\n",
      "  \"ENST00000529828\",\n",
      "  \"ENST00000529828_utr_mod3\",\n",
      "  \"ENST00000530727\"\n",
      " ],\n",
      " \"615896\": [\n",
      "  \"ENST00000348564\",\n",
      "  \"ENST00000348564_utr_mod1\",\n",
      "  \"ENST00000348564_utr_mod2\",\n",
      "  \"ENST00000348564_utr_mod3\",\n",
      "  \"ENST00000348564_utr_mod4\",\n",
      "  \"ENST00000367367\",\n",
      "  \"ENST00000367367_utr_mod2\",\n",
      "  \"ENST00000367367_utr_mod3\",\n",
      "  \"ENST00000442510\",\n",
      "  \"ENST00000442510_utr_mod1\",\n",
      "  \"ENST00000442510_utr_mod2\",\n",
      "  \"ENST00000442510_utr_mod3\",\n",
      "  \"ENST00000442510_utr_mod4\",\n",
      "  \"ENST00000529828\",\n",
      "  \"ENST00000529828_utr_mod2\",\n",
      "  \"ENST00000529828_utr_mod3\",\n",
      "  \"ENST00000530727\",\n",
      "  \"ENST00000530727_utr_mod2\",\n",
      "  \"ENST00000573477\",\n",
      "  \"ENST00000573477_utr_mod2\",\n",
      "  \"ENST00000573679\",\n",
      "  \"ENST00000573679_utr_mod2\",\n",
      "  \"ENST00000574441\",\n",
      "  \"ENST00000574441_utr_mod2\",\n",
      "  \"ENST00000575923\",\n",
      "  \"ENST00000575923_utr_mod2\",\n",
      "  \"ENST00000576833\",\n",
      "  \"ENST00000576833_utr_mod2\"\n",
      " ],\n",
      " \"615897\": [\n",
      "  \"ENST00000348564\",\n",
      "  \"ENST00000348564_utr_mod1\",\n",
      "  \"ENST00000348564_utr_mod2\",\n",
      "  \"ENST00000348564_utr_mod3\",\n",
      "  \"ENST00000348564_utr_mod4\",\n",
      "  \"ENST00000367367\",\n",
      "  \"ENST00000367367_utr_mod2\",\n",
      "  \"ENST00000367367_utr_mod3\",\n",
      "  \"ENST00000367379\",\n",
      "  \"ENST00000442510\",\n",
      "  \"ENST00000442510_utr_mod1\",\n",
      "  \"ENST00000442510_utr_mod2\",\n",
      "  \"ENST00000442510_utr_mod3\",\n",
      "  \"ENST00000442510_utr_mod4\",\n",
      "  \"ENST00000529828\",\n",
      "  \"ENST00000529828_utr_mod2\",\n",
      "  \"ENST00000529828_utr_mod3\",\n",
      "  \"ENST00000530727\",\n",
      "  \"ENST00000530727_utr_mod2\",\n",
      "  \"ENST00000573298\",\n",
      "  \"ENST00000573477\",\n",
      "  \"ENST00000573477_utr_mod2\",\n",
      "  \"ENST00000573679\",\n",
      "  \"ENST00000573679_utr_mod2\",\n",
      "  \"ENST00000574441\",\n",
      "  \"ENST00000574441_utr_mod2\",\n",
      "  \"ENST00000575923\",\n",
      "  \"ENST00000575923_utr_mod2\",\n",
      "  \"ENST00000576833\",\n",
      "  \"ENST00000576833_utr_mod2\"\n",
      " ]\n",
      "}\n"
     ]
    }
   ],
   "source": [
    "import json\n",
    "eq_dict={}\n",
    "for i in range(len(eq_classes)):\n",
    "    eq_dict[str(gene_ecs[i])] = list(np.sort(eq_classes[i]))\n",
    "print(json.dumps(eq_dict, indent=1))"
   ]
  },
  {
   "cell_type": "markdown",
   "metadata": {},
   "source": [
    "# LogR"
   ]
  },
  {
   "cell_type": "code",
   "execution_count": 41,
   "metadata": {
    "collapsed": true
   },
   "outputs": [],
   "source": [
    "from sklearn.linear_model import LogisticRegression\n",
    "from sklearn.metrics import log_loss\n",
    "import statsmodels.api as sm\n",
    "from scipy import stats\n",
    "stats.chisqprob = lambda chisq, df: stats.chi2.sf(chisq, df)\n",
    "import math"
   ]
  },
  {
   "cell_type": "code",
   "execution_count": 42,
   "metadata": {
    "collapsed": true
   },
   "outputs": [],
   "source": [
    "labels=[]\n",
    "for name in cellnames:\n",
    "    if name[-1]=='N':\n",
    "        labels+=[0]\n",
    "    elif name[-1]=='M':\n",
    "        labels+=[1]\n",
    "    else:\n",
    "        labels+=[2]\n",
    "labels=np.array(labels)"
   ]
  },
  {
   "cell_type": "code",
   "execution_count": 43,
   "metadata": {
    "collapsed": true
   },
   "outputs": [],
   "source": [
    "def logr_ecidx(ecidx,X1,X2):\n",
    "    \n",
    "    N1=X1.shape[0]\n",
    "    N2=X2.shape[0]\n",
    "    logr_labels = np.concatenate((np.ones(N1),np.zeros(N2)),axis=0)\n",
    "    logr = LogisticRegression()\n",
    "    p_of_1=N1/float(N1+N2)\n",
    "    llnull=(N1+N2)*(p_of_1*np.log(p_of_1) + (1-p_of_1)*np.log(1-p_of_1))\n",
    "    k=len(ecidx)\n",
    "    \n",
    "    X1_ecidx=X1[:,ecidx].todense()\n",
    "    X2_ecidx=X2[:,ecidx].todense()\n",
    "    c=np.concatenate([X1_ecidx,X2_ecidx])\n",
    "    #c=np.concatenate([X1[:,ecidx],X2[:,ecidx]])\n",
    "    logr.fit(c,logr_labels)\n",
    "    pred=np.array(logr.predict_proba(c)[:,1])\n",
    "    gene_score=log_loss(logr_labels,pred)\n",
    "    llf=-gene_score*(N1+N2)\n",
    "    llr=llf-llnull\n",
    "    llr_pval = 1-stats.chi2.cdf(2*llr,k)\n",
    "    \n",
    "    return [logr,llr_pval]"
   ]
  },
  {
   "cell_type": "code",
   "execution_count": 44,
   "metadata": {
    "collapsed": true
   },
   "outputs": [],
   "source": [
    "X=T.T"
   ]
  },
  {
   "cell_type": "code",
   "execution_count": 45,
   "metadata": {},
   "outputs": [
    {
     "name": "stdout",
     "output_type": "stream",
     "text": [
      "naive cells:  9923\n",
      "mem cells:  9994\n",
      "cyto cells:  11914\n"
     ]
    }
   ],
   "source": [
    "X_naive=X[np.squeeze(labels==0),:]\n",
    "X_mem=X[np.squeeze(labels==1),:]\n",
    "X_cyto=X[np.squeeze(labels==2),:]\n",
    "\n",
    "\n",
    "\n",
    "\n",
    "print(\"naive cells: \",X_naive.shape[0])\n",
    "print(\"mem cells: \",X_mem.shape[0])\n",
    "print(\"cyto cells: \",X_cyto.shape[0])"
   ]
  },
  {
   "cell_type": "code",
   "execution_count": null,
   "metadata": {
    "collapsed": true
   },
   "outputs": [],
   "source": []
  },
  {
   "cell_type": "code",
   "execution_count": 46,
   "metadata": {
    "collapsed": true
   },
   "outputs": [],
   "source": [
    "np.random.seed(0)\n",
    "samples=3000\n",
    "\n",
    "randperm1=np.random.permutation(X_naive.shape[0])\n",
    "randperm2=np.random.permutation(X_mem.shape[0])\n",
    "randperm3=np.random.permutation(X_cyto.shape[0])"
   ]
  },
  {
   "cell_type": "code",
   "execution_count": 47,
   "metadata": {
    "collapsed": true
   },
   "outputs": [],
   "source": [
    "sns.set_style(\"white\")"
   ]
  },
  {
   "cell_type": "code",
   "execution_count": 48,
   "metadata": {},
   "outputs": [
    {
     "name": "stdout",
     "output_type": "stream",
     "text": [
      "(3000, 342642)\n",
      "(3000, 342642)\n",
      "pval= 1.52548615028e-05\n"
     ]
    },
    {
     "data": {
      "image/png": "[encoded data removed]",
      "text/plain": [
       "<matplotlib.figure.Figure at 0x7f1a825ec6d8>"
      ]
     },
     "metadata": {},
     "output_type": "display_data"
    },
    {
     "data": {
      "image/png": "[encoded data removed]",
      "text/plain": [
       "<matplotlib.figure.Figure at 0x7f1a7e1c4d30>"
      ]
     },
     "metadata": {},
     "output_type": "display_data"
    },
    {
     "data": {
      "image/png": "[encoded data removed]",
      "text/plain": [
       "<matplotlib.figure.Figure at 0x7f19eefa6358>"
      ]
     },
     "metadata": {},
     "output_type": "display_data"
    }
   ],
   "source": [
    "#positive control \n",
    "\n",
    "X1=X_naive[randperm1[:samples],:]\n",
    "X2=X_mem[randperm2[:samples],:]\n",
    "\n",
    "\n",
    "print(X1.shape)\n",
    "print(X2.shape)\n",
    "\n",
    "N1=X1.shape[0]\n",
    "N2=X2.shape[0]\n",
    "\n",
    "\n",
    "A=logr_ecidx(ecidx,X1,X2)\n",
    "print('pval=',A[1])\n",
    "\n",
    "\n",
    "X1_ecidx=X1[:,ecidx].todense()\n",
    "X2_ecidx=X2[:,ecidx].todense()\n",
    "\n",
    "\n",
    "E_naive_mean = np.array(np.mean(X1[:,ecidx],axis=0))[0]\n",
    "E_mem_mean = np.array(np.mean(X2[:,ecidx],axis=0))[0]\n",
    "\n",
    "P1=pd.DataFrame(X1_ecidx,columns=nonzero_ec[ecidx])\n",
    "P1['cluster'] = 'CD4+/CD45RA+/CD25- Naive T-cells'\n",
    "P2=pd.DataFrame(X2_ecidx,columns=nonzero_ec[ecidx])\n",
    "P2['cluster'] = 'CD4+/CD45RO+ Memory T-cells'\n",
    "P=P1.append(P2)\n",
    "df = pd.melt(P,  id_vars='cluster')\n",
    "\n",
    "plt.figure(figsize=(8,5))\n",
    "ax=sns.barplot(x='variable', y='value', hue='cluster',palette=[\"#FF1493\", \"#6495ED\"], data=df)\n",
    "ax.set(xlabel='Equivalence Classes', ylabel='mean counts (TCCs)')\n",
    "plt.title(gene)\n",
    "plt.setp(ax.get_legend().get_texts(), fontsize='13') \n",
    "plt.setp(ax.get_legend().get_title(), fontsize='0')\n",
    "plt.show()\n",
    "\n",
    "\n",
    "Gexp1=np.array(X1_ecidx.T.sum(axis=0))[0]\n",
    "Gexp2=np.array(X2_ecidx.T.sum(axis=0))[0]\n",
    "\n",
    "G_naive_mean = np.mean(Gexp1)\n",
    "G_mem_mean = np.mean(Gexp2)\n",
    "\n",
    "P1=pd.DataFrame(Gexp1.T,)\n",
    "P1['cluster'] = 'CD4+/CD45RA+/CD25- Naive T-cells'\n",
    "P2=pd.DataFrame(Gexp2.T)\n",
    "P2['cluster'] = 'CD4+/CD45RO+ Memory T-cells'\n",
    "P=P1.append(P2)\n",
    "df = pd.melt(P,  id_vars='cluster')\n",
    "\n",
    "plt.figure(figsize=(1,5))\n",
    "ax=sns.barplot(x='variable', y='value', hue='cluster',palette=[\"#FF1493\", \"#6495ED\"], data=df)\n",
    "ax.set(xlabel='', ylabel='mean counts (Gene)')\n",
    "ax.legend_.remove()\n",
    "plt.title(gene)\n",
    "plt.show()\n",
    "\n",
    "\n",
    "A1=np.array(np.dot(X1_ecidx,-A[0].coef_[0]))[0]\n",
    "A2=np.array(np.dot(X2_ecidx,-A[0].coef_[0]))[0]\n",
    "\n",
    "P1=pd.DataFrame(A1.T,)\n",
    "P1['cluster'] = 'CD4+/CD45RA+/CD25- Naive T-cells'\n",
    "P2=pd.DataFrame(A2.T)\n",
    "P2['cluster'] = 'CD4+/CD45RO+ Memory T-cells'\n",
    "P=P1.append(P2)\n",
    "df = pd.melt(P,  id_vars='cluster')\n",
    "\n",
    "plt.figure(figsize=(1,5))\n",
    "ax=sns.barplot(x='variable', y='value', hue='cluster',palette=[\"#FF1493\", \"#6495ED\"], data=df)\n",
    "ax.set(xlabel='', ylabel='')\n",
    "ax.legend_.remove()\n",
    "plt.title(\"LogR\")\n",
    "plt.show()\n"
   ]
  },
  {
   "cell_type": "code",
   "execution_count": 49,
   "metadata": {},
   "outputs": [
    {
     "name": "stdout",
     "output_type": "stream",
     "text": [
      "Optimization terminated successfully.\n",
      "         Current function value: 0.690289\n",
      "         Iterations 5\n",
      "                           Logit Regression Results                           \n",
      "==============================================================================\n",
      "Dep. Variable:                      y   No. Observations:                 6000\n",
      "Model:                          Logit   Df Residuals:                     5992\n",
      "Method:                           MLE   Df Model:                            7\n",
      "Date:                Mon, 05 Nov 2018   Pseudo R-squ.:                0.004124\n",
      "Time:                        15:52:06   Log-Likelihood:                -4141.7\n",
      "converged:                       True   LL-Null:                       -4158.9\n",
      "                                        LLR p-value:                 1.512e-05\n",
      "==============================================================================\n",
      "                 coef    std err          z      P>|z|      [0.025      0.975]\n",
      "------------------------------------------------------------------------------\n",
      "const          0.0165      0.028      0.592      0.554      -0.038       0.071\n",
      "x1            -0.2808      0.102     -2.758      0.006      -0.480      -0.081\n",
      "x2            -0.4428      0.146     -3.026      0.002      -0.730      -0.156\n",
      "x3            -0.1354      0.090     -1.512      0.131      -0.311       0.040\n",
      "x4             0.1270      0.155      0.820      0.412      -0.177       0.431\n",
      "x5             0.0029      0.199      0.015      0.988      -0.387       0.392\n",
      "x6             0.5341      0.290      1.843      0.065      -0.034       1.102\n",
      "x7             0.1058      0.228      0.464      0.643      -0.341       0.553\n",
      "==============================================================================\n",
      "           chi2                P>chi2  df constraint\n",
      "const  0.350204    0.5539978788421427              8\n",
      "x1     7.606746   0.00581503130063261              8\n",
      "x2     9.154380  0.002481234291337663              8\n",
      "x3     2.285196   0.13061366403095828              8\n",
      "x4     0.671819    0.4124180227303288              8\n",
      "x5     0.000211    0.9884119329862928              8\n",
      "x6     3.395870   0.06535988132315018              8\n",
      "x7     0.215313    0.6426345895842505              8\n"
     ]
    },
    {
     "data": {
      "text/plain": [
       "<Container object of 3 artists>"
      ]
     },
     "execution_count": 49,
     "metadata": {},
     "output_type": "execute_result"
    },
    {
     "data": {
      "image/png": "[encoded data removed]",
      "text/plain": [
       "<matplotlib.figure.Figure at 0x7f19ef03ab38>"
      ]
     },
     "metadata": {},
     "output_type": "display_data"
    }
   ],
   "source": [
    "N1=X1.shape[0]\n",
    "N2=X2.shape[0]\n",
    "logr_labels = np.concatenate((np.ones(N1),np.zeros(N2)),axis=0)\n",
    "\n",
    "X1_ecidx=X1[:,ecidx].todense()\n",
    "X2_ecidx=X2[:,ecidx].todense()\n",
    "c=np.concatenate([X1_ecidx,X2_ecidx])\n",
    "c=np.concatenate([np.ones((N1+N2,1)),c],axis=1)\n",
    "logit = sm.Logit( logr_labels,c)\n",
    "\n",
    "\n",
    "# fit the model\n",
    "result = logit.fit()\n",
    "print( result.summary())\n",
    "print(result.wald_test_terms())\n",
    "plt.stem(np.log(result.pvalues))"
   ]
  },
  {
   "cell_type": "code",
   "execution_count": 50,
   "metadata": {},
   "outputs": [
    {
     "name": "stdout",
     "output_type": "stream",
     "text": [
      "(3000, 342642)\n",
      "(3000, 342642)\n",
      "pval= 0.754000869406\n"
     ]
    },
    {
     "data": {
      "image/png": "[encoded data removed]",
      "text/plain": [
       "<matplotlib.figure.Figure at 0x7f19eef9cf60>"
      ]
     },
     "metadata": {},
     "output_type": "display_data"
    },
    {
     "data": {
      "image/png": "[encoded data removed]",
      "text/plain": [
       "<matplotlib.figure.Figure at 0x7f19e769ab38>"
      ]
     },
     "metadata": {},
     "output_type": "display_data"
    },
    {
     "data": {
      "image/png": "[encoded data removed]",
      "text/plain": [
       "<matplotlib.figure.Figure at 0x7f19e8b8aa20>"
      ]
     },
     "metadata": {},
     "output_type": "display_data"
    }
   ],
   "source": [
    "#negative control \n",
    "\n",
    "X1=X_naive[randperm1[:samples],:]\n",
    "X2=X_cyto[randperm3[:samples],:]\n",
    "\n",
    "\n",
    "print(X1.shape)\n",
    "print(X2.shape)\n",
    "\n",
    "N1=X1.shape[0]\n",
    "N2=X2.shape[0]\n",
    "\n",
    "\n",
    "A=logr_ecidx(ecidx,X1,X2)\n",
    "print('pval=',A[1])\n",
    "\n",
    "\n",
    "X1_ecidx=X1[:,ecidx].todense()\n",
    "X2_ecidx=X2[:,ecidx].todense()\n",
    "\n",
    "\n",
    "E_cyto_mean = np.array(np.mean(X2[:,ecidx],axis=0))[0]\n",
    "\n",
    "P1=pd.DataFrame(X1_ecidx,columns=nonzero_ec[ecidx])\n",
    "P1['cluster'] = 'CD4+/CD45RA+/CD25- Naive T-cells'\n",
    "P2=pd.DataFrame(X2_ecidx,columns=nonzero_ec[ecidx])\n",
    "P2['cluster'] = 'CD8+/CD45RA+ Naive Cytotoxic T-cells'\n",
    "P=P1.append(P2)\n",
    "df = pd.melt(P,  id_vars='cluster')\n",
    "\n",
    "plt.figure(figsize=(8,5))\n",
    "ax=sns.barplot(x='variable', y='value', hue='cluster',palette=[\"#FF1493\", \"#66dd5c\"], data=df)\n",
    "ax.set(xlabel='Equivalence Classes', ylabel='mean counts (TCCs)')\n",
    "plt.title(gene)\n",
    "plt.setp(ax.get_legend().get_texts(), fontsize='13') \n",
    "plt.setp(ax.get_legend().get_title(), fontsize='0')\n",
    "plt.show()\n",
    "\n",
    "\n",
    "Gexp1=np.array(X1_ecidx.T.sum(axis=0))[0]\n",
    "Gexp2=np.array(X2_ecidx.T.sum(axis=0))[0]\n",
    "\n",
    "G_cyto_mean = np.mean(Gexp2)\n",
    "\n",
    "P1=pd.DataFrame(Gexp1.T,)\n",
    "P1['cluster'] = 'CD4+/CD45RA+/CD25- Naive T-cells'\n",
    "P2=pd.DataFrame(Gexp2.T)\n",
    "P2['cluster'] = 'CD8+/CD45RA+ Naive Cytotoxic T-cells'\n",
    "P=P1.append(P2)\n",
    "df = pd.melt(P,  id_vars='cluster')\n",
    "\n",
    "plt.figure(figsize=(1,5))\n",
    "ax=sns.barplot(x='variable', y='value', hue='cluster',palette=[\"#FF1493\", \"#66dd5c\"], data=df)\n",
    "ax.set(xlabel='', ylabel='mean counts (Gene)')\n",
    "ax.legend_.remove()\n",
    "plt.title(gene)\n",
    "plt.show()\n",
    "\n",
    "\n",
    "A1=np.array(np.dot(X1_ecidx,A[0].coef_[0]))[0]\n",
    "A2=np.array(np.dot(X2_ecidx,A[0].coef_[0]))[0]\n",
    "\n",
    "P1=pd.DataFrame(A1.T,)\n",
    "P1['cluster'] = 'CD4+/CD45RA+/CD25- Naive T-cells'\n",
    "P2=pd.DataFrame(A2.T)\n",
    "P2['cluster'] = 'CD8+/CD45RA+ Naive Cytotoxic T-cells'\n",
    "P=P1.append(P2)\n",
    "df = pd.melt(P,  id_vars='cluster')\n",
    "\n",
    "\n",
    "plt.figure(figsize=(1,5))\n",
    "ax=sns.barplot(x='variable', y='value', hue='cluster',palette=[\"#FF1493\", \"#66dd5c\"], data=df)\n",
    "ax.set(xlabel='', ylabel='')\n",
    "ax.legend_.remove()\n",
    "plt.title(\"LogR\")\n",
    "plt.show()"
   ]
  },
  {
   "cell_type": "code",
   "execution_count": 51,
   "metadata": {},
   "outputs": [
    {
     "name": "stdout",
     "output_type": "stream",
     "text": [
      "Optimization terminated successfully.\n",
      "         Current function value: 0.692795\n",
      "         Iterations 4\n",
      "                           Logit Regression Results                           \n",
      "==============================================================================\n",
      "Dep. Variable:                      y   No. Observations:                 6000\n",
      "Model:                          Logit   Df Residuals:                     5992\n",
      "Method:                           MLE   Df Model:                            7\n",
      "Date:                Mon, 05 Nov 2018   Pseudo R-squ.:               0.0005076\n",
      "Time:                        15:52:09   Log-Likelihood:                -4156.8\n",
      "converged:                       True   LL-Null:                       -4158.9\n",
      "                                        LLR p-value:                    0.7538\n",
      "==============================================================================\n",
      "                 coef    std err          z      P>|z|      [0.025      0.975]\n",
      "------------------------------------------------------------------------------\n",
      "const         -0.0046      0.028     -0.164      0.870      -0.059       0.050\n",
      "x1            -0.0193      0.108     -0.179      0.858      -0.231       0.193\n",
      "x2             0.0448      0.163      0.275      0.784      -0.275       0.365\n",
      "x3            -0.0480      0.096     -0.500      0.617      -0.236       0.140\n",
      "x4            -0.0659      0.136     -0.484      0.628      -0.333       0.201\n",
      "x5             0.0864      0.181      0.477      0.633      -0.268       0.441\n",
      "x6             0.1271      0.253      0.503      0.615      -0.368       0.623\n",
      "x7             0.1887      0.220      0.858      0.391      -0.242       0.620\n",
      "==============================================================================\n",
      "           chi2              P>chi2  df constraint\n",
      "const  0.026936   0.869634155531474              8\n",
      "x1     0.031978  0.8580752092178284              8\n",
      "x2     0.075417  0.7836067343051736              8\n",
      "x3     0.250067  0.6170282216060332              8\n",
      "x4     0.234164  0.6284533303527549              8\n",
      "x5     0.227707  0.6332293378314686              8\n",
      "x6     0.252714    0.61517067133305              8\n",
      "x7     0.736324  0.3908410123462345              8\n"
     ]
    },
    {
     "data": {
      "text/plain": [
       "<Container object of 3 artists>"
      ]
     },
     "execution_count": 51,
     "metadata": {},
     "output_type": "execute_result"
    },
    {
     "data": {
      "image/png": "[encoded data removed]",
      "text/plain": [
       "<matplotlib.figure.Figure at 0x7f1990760cc0>"
      ]
     },
     "metadata": {},
     "output_type": "display_data"
    }
   ],
   "source": [
    "N1=X1.shape[0]\n",
    "N2=X2.shape[0]\n",
    "logr_labels = np.concatenate((np.ones(N1),np.zeros(N2)),axis=0)\n",
    "\n",
    "X1_ecidx=X1[:,ecidx].todense()\n",
    "X2_ecidx=X2[:,ecidx].todense()\n",
    "c=np.concatenate([X1_ecidx,X2_ecidx])\n",
    "c=np.concatenate([np.ones((N1+N2,1)),c],axis=1)\n",
    "logit = sm.Logit( logr_labels,c)\n",
    "\n",
    "\n",
    "# fit the model\n",
    "result = logit.fit()\n",
    "print( result.summary())\n",
    "print(result.wald_test_terms())\n",
    "plt.stem(np.log(result.pvalues))"
   ]
  },
  {
   "cell_type": "code",
   "execution_count": 52,
   "metadata": {},
   "outputs": [
    {
     "name": "stdout",
     "output_type": "stream",
     "text": [
      "(3000, 342642)\n",
      "(3000, 342642)\n",
      "pval= 0.000484202196512\n"
     ]
    },
    {
     "data": {
      "image/png": "[encoded data removed]",
      "text/plain": [
       "<matplotlib.figure.Figure at 0x7f19907f7c18>"
      ]
     },
     "metadata": {},
     "output_type": "display_data"
    },
    {
     "data": {
      "image/png": "[encoded data removed]",
      "text/plain": [
       "<matplotlib.figure.Figure at 0x7f19e8b2d588>"
      ]
     },
     "metadata": {},
     "output_type": "display_data"
    },
    {
     "data": {
      "image/png": "[encoded data removed]",
      "text/plain": [
       "<matplotlib.figure.Figure at 0x7f1990260630>"
      ]
     },
     "metadata": {},
     "output_type": "display_data"
    }
   ],
   "source": [
    "#positive control \n",
    "\n",
    "X1=X_cyto[randperm3[:samples],:]\n",
    "X2=X_mem[randperm2[:samples],:]\n",
    "\n",
    "\n",
    "\n",
    "print(X1.shape)\n",
    "print(X2.shape)\n",
    "\n",
    "N1=X1.shape[0]\n",
    "N2=X2.shape[0]\n",
    "\n",
    "\n",
    "A=logr_ecidx(ecidx,X1,X2)\n",
    "print('pval=',A[1])\n",
    "\n",
    "\n",
    "X1_ecidx=X1[:,ecidx].todense()\n",
    "X2_ecidx=X2[:,ecidx].todense()\n",
    "\n",
    "P1=pd.DataFrame(X1_ecidx,columns=nonzero_ec[ecidx])\n",
    "P1['cluster'] = 'CD8+/CD45RA+ Naive Cytotoxic T-cells'\n",
    "P2=pd.DataFrame(X2_ecidx,columns=nonzero_ec[ecidx])\n",
    "P2['cluster'] = 'CD4+/CD45RO+ Memory T-cells'\n",
    "P=P1.append(P2)\n",
    "df = pd.melt(P,  id_vars='cluster')\n",
    "\n",
    "plt.figure(figsize=(8,5))\n",
    "ax=sns.barplot(x='variable', y='value', hue='cluster',palette=[\"#66dd5c\",\"#6495ED\"], data=df)\n",
    "ax.set(xlabel='Equivalence Classes', ylabel='mean counts (TCCs)')\n",
    "plt.title(gene)\n",
    "plt.setp(ax.get_legend().get_texts(), fontsize='13') \n",
    "plt.setp(ax.get_legend().get_title(), fontsize='0')\n",
    "plt.show()\n",
    "\n",
    "\n",
    "Gexp1=np.array(X1_ecidx.T.sum(axis=0))[0]\n",
    "Gexp2=np.array(X2_ecidx.T.sum(axis=0))[0]\n",
    "\n",
    "P1=pd.DataFrame(Gexp1.T,)\n",
    "P1['cluster'] = 'CD8+/CD45RA+ Naive Cytotoxic T-cells'\n",
    "P2=pd.DataFrame(Gexp2.T)\n",
    "P2['cluster'] = 'CD4+/CD45RO+ Memory T-cells'\n",
    "P=P1.append(P2)\n",
    "df = pd.melt(P,  id_vars='cluster')\n",
    "\n",
    "plt.figure(figsize=(1,5))\n",
    "ax=sns.barplot(x='variable', y='value', hue='cluster',palette=[\"#66dd5c\",\"#6495ED\"], data=df)\n",
    "ax.set(xlabel='', ylabel='mean counts (Gene)')\n",
    "ax.legend_.remove()\n",
    "plt.title(gene)\n",
    "plt.show()\n",
    "\n",
    "\n",
    "A1=np.array(np.dot(X1_ecidx,-A[0].coef_[0]))[0]\n",
    "A2=np.array(np.dot(X2_ecidx,-A[0].coef_[0]))[0]\n",
    "\n",
    "P1=pd.DataFrame(A1.T,)\n",
    "P1['cluster'] = 'CD8+/CD45RA+ Naive Cytotoxic T-cells'\n",
    "P2=pd.DataFrame(A2.T)\n",
    "P2['cluster'] = 'CD4+/CD45RO+ Memory T-cells'\n",
    "P=P1.append(P2)\n",
    "df = pd.melt(P,  id_vars='cluster')\n",
    "\n",
    "\n",
    "plt.figure(figsize=(1,5))\n",
    "ax=sns.barplot(x='variable', y='value', hue='cluster',palette=[\"#66dd5c\",\"#6495ED\"], data=df)\n",
    "ax.set(xlabel='', ylabel='')\n",
    "ax.legend_.remove()\n",
    "plt.title(\"LogR\")\n",
    "plt.show()"
   ]
  },
  {
   "cell_type": "code",
   "execution_count": 53,
   "metadata": {},
   "outputs": [
    {
     "name": "stdout",
     "output_type": "stream",
     "text": [
      "Optimization terminated successfully.\n",
      "         Current function value: 0.690971\n",
      "         Iterations 4\n",
      "                           Logit Regression Results                           \n",
      "==============================================================================\n",
      "Dep. Variable:                      y   No. Observations:                 6000\n",
      "Model:                          Logit   Df Residuals:                     5992\n",
      "Method:                           MLE   Df Model:                            7\n",
      "Date:                Mon, 05 Nov 2018   Pseudo R-squ.:                0.003140\n",
      "Time:                        15:52:12   Log-Likelihood:                -4145.8\n",
      "converged:                       True   LL-Null:                       -4158.9\n",
      "                                        LLR p-value:                 0.0004794\n",
      "==============================================================================\n",
      "                 coef    std err          z      P>|z|      [0.025      0.975]\n",
      "------------------------------------------------------------------------------\n",
      "const          0.0200      0.028      0.716      0.474      -0.035       0.075\n",
      "x1            -0.2585      0.101     -2.568      0.010      -0.456      -0.061\n",
      "x2            -0.4925      0.149     -3.306      0.001      -0.785      -0.201\n",
      "x3            -0.0945      0.089     -1.061      0.288      -0.269       0.080\n",
      "x4             0.2006      0.148      1.357      0.175      -0.089       0.490\n",
      "x5            -0.0938      0.193     -0.486      0.627      -0.472       0.285\n",
      "x6             0.4397      0.310      1.419      0.156      -0.168       1.047\n",
      "x7            -0.0452      0.245     -0.184      0.854      -0.526       0.435\n",
      "==============================================================================\n",
      "            chi2                 P>chi2  df constraint\n",
      "const   0.512448    0.47408091189400325              8\n",
      "x1      6.597021    0.01021495240480349              8\n",
      "x2     10.927660  0.0009473906270750161              8\n",
      "x3      1.126701     0.2884801192658915              8\n",
      "x4      1.840305     0.1749151483153532              8\n",
      "x5      0.235822     0.6272402215775075              8\n",
      "x6      2.013227     0.1559333172005229              8\n",
      "x7      0.033969     0.8537732607542209              8\n"
     ]
    },
    {
     "data": {
      "text/plain": [
       "<Container object of 3 artists>"
      ]
     },
     "execution_count": 53,
     "metadata": {},
     "output_type": "execute_result"
    },
    {
     "data": {
      "image/png": "[encoded data removed]",
      "text/plain": [
       "<matplotlib.figure.Figure at 0x7f19e893bac8>"
      ]
     },
     "metadata": {},
     "output_type": "display_data"
    }
   ],
   "source": [
    "N1=X1.shape[0]\n",
    "N2=X2.shape[0]\n",
    "logr_labels = np.concatenate((np.ones(N1),np.zeros(N2)),axis=0)\n",
    "\n",
    "X1_ecidx=X1[:,ecidx].todense()\n",
    "X2_ecidx=X2[:,ecidx].todense()\n",
    "c=np.concatenate([X1_ecidx,X2_ecidx])\n",
    "c=np.concatenate([np.ones((N1+N2,1)),c],axis=1)\n",
    "logit = sm.Logit( logr_labels,c)\n",
    "\n",
    "\n",
    "# fit the model\n",
    "result = logit.fit()\n",
    "print( result.summary())\n",
    "print(result.wald_test_terms())\n",
    "plt.stem(np.log(result.pvalues))"
   ]
  },
  {
   "cell_type": "code",
   "execution_count": null,
   "metadata": {
    "collapsed": true
   },
   "outputs": [],
   "source": []
  },
  {
   "cell_type": "code",
   "execution_count": 54,
   "metadata": {
    "collapsed": true
   },
   "outputs": [],
   "source": [
    "from scipy.stats import ttest_ind\n",
    "\n",
    "def ttest_ecidx(ecidx,X1,X2):\n",
    "    \n",
    "    N1=X1.shape[0]\n",
    "    N2=X2.shape[0]\n",
    "    logr_labels = np.concatenate((np.ones(N1),np.zeros(N2)),axis=0)\n",
    "    \n",
    "    k=len(ecidx)\n",
    "    \n",
    "    X1_ecidx=X1[:,ecidx].todense()\n",
    "    X2_ecidx=X2[:,ecidx].todense()\n",
    "    \n",
    "    pvals=[]\n",
    "    for j in range(k):\n",
    "        a=X1_ecidx[:,j]\n",
    "        b=X2_ecidx[:,j]\n",
    "        [o,p]=ttest_ind(a,b,equal_var=False)\n",
    "        pvals+=[p]\n",
    "    pval=np.min([1,np.min(np.array(pvals))*k])\n",
    "    g1=np.sum(X1_ecidx,axis=1)\n",
    "    g2=np.sum(X2_ecidx,axis=1)\n",
    "    [o,gene_pval]=ttest_ind(g1,g2,equal_var=False)\n",
    "    all_pvals=np.array([np.min([1,k*p]) for p in pvals])\n",
    "    return pval,all_pvals,gene_pval[0]\n",
    "\n",
    "\n",
    "def logr_gene(ecidx,X1,X2):\n",
    "    \n",
    "    N1=X1.shape[0]\n",
    "    N2=X2.shape[0]\n",
    "    logr_labels = np.concatenate((np.ones(N1),np.zeros(N2)),axis=0)\n",
    "    logr = LogisticRegression()\n",
    "    p_of_1=N1/float(N1+N2)\n",
    "    llnull=(N1+N2)*(p_of_1*np.log(p_of_1) + (1-p_of_1)*np.log(1-p_of_1))\n",
    "  \n",
    "    k=1\n",
    "    \n",
    "    X1_ecidx=X1[:,ecidx].todense()\n",
    "    X2_ecidx=X2[:,ecidx].todense()\n",
    "    \n",
    "    g1=np.sum(X1_ecidx,axis=1)\n",
    "    g2=np.sum(X2_ecidx,axis=1)\n",
    "    \n",
    "    c=np.concatenate([g1,g2])\n",
    "    logr.fit(c,logr_labels)\n",
    "    pred=np.array(logr.predict_proba(c)[:,1])\n",
    "    gene_score=log_loss(logr_labels,pred)\n",
    "    llf=-gene_score*(N1+N2)\n",
    "    llr=llf-llnull\n",
    "    llr_pval = 1-stats.chi2.cdf(2*llr,k)\n",
    "    \n",
    "    return [logr,llr_pval]\n",
    "\n",
    "\n",
    "def logr_indep(ecidx,X1,X2):\n",
    "    pvals_tmp=[]\n",
    "    for j in ecidx:\n",
    "        B=logr_ecidx([j],X1,X2)\n",
    "        pvals_tmp+=[B[1]]\n",
    "    pval_sep=np.min([1,np.min(np.array(pvals_tmp))*len(ecidx)])\n",
    "    all_pvals=np.array([np.min([1,p*len(ecidx)]) for p in pvals_tmp])\n",
    "    \n",
    "    return [all_pvals,pval_sep]"
   ]
  },
  {
   "cell_type": "code",
   "execution_count": 55,
   "metadata": {},
   "outputs": [
    {
     "name": "stdout",
     "output_type": "stream",
     "text": [
      "--------mem/naive----------\n",
      "-log10_GENE-pval= 0.0666850840998\n",
      "-log10_LOGR-pval= 4.81659173092\n",
      "-log10_INDT-pval_min= 2.49990486822\n",
      "-log10_INDT-pvals=\n",
      " [ 1.57162171  2.074573   -0.         -0.         -0.          2.49990487\n",
      "  1.66164603]\n",
      "--------cyto/mem----------\n",
      "-log10_GENE-pval= 0.399791662363\n",
      "-log10_LOGR-pval= 3.31497324478\n",
      "-log10_INDT-pval_min= 2.48767869752\n",
      "-log10_INDT-pvals=\n",
      " [ 1.26420756  2.4876787  -0.          0.00644869 -0.          0.44557253\n",
      " -0.        ]\n",
      "--------naive/cyto----------\n",
      "-log10_GENE-pval= 0.285517257903\n",
      "-log10_LOGR-pval= 0.122628153363\n",
      "-log10_INDT-pval_min= 0.322907578562\n",
      "-log10_INDT-pvals=\n",
      " [-0.         -0.         -0.         -0.         -0.          0.19309513\n",
      "  0.32290758]\n"
     ]
    }
   ],
   "source": [
    "print('--------mem/naive----------')\n",
    "X1=X_naive[randperm1[:samples],:]\n",
    "X2=X_mem[randperm2[:samples],:]\n",
    "aA1=logr_ecidx(ecidx,X1,X2)\n",
    "bB1=logr_gene(ecidx,X1,X2)\n",
    "cC1=logr_indep(ecidx,X1,X2)\n",
    "print('-log10_GENE-pval=',-np.log10(bB1[1]))\n",
    "print('-log10_LOGR-pval=',-np.log10(aA1[1]))\n",
    "print('-log10_INDT-pval_min=',-np.log10(cC1[1]))\n",
    "print('-log10_INDT-pvals=\\n',-np.log10(cC1[0]))\n",
    "\n",
    "print('--------cyto/mem----------')\n",
    "X1=X_cyto[randperm3[:samples],:]\n",
    "X2=X_mem[randperm2[:samples],:]\n",
    "aA2=logr_ecidx(ecidx,X1,X2)\n",
    "bB2=logr_gene(ecidx,X1,X2)\n",
    "cC2=logr_indep(ecidx,X1,X2)\n",
    "print('-log10_GENE-pval=',-np.log10(bB2[1]))\n",
    "print('-log10_LOGR-pval=',-np.log10(aA2[1]))\n",
    "print('-log10_INDT-pval_min=',-np.log10(cC2[1]))\n",
    "print('-log10_INDT-pvals=\\n',-np.log10(cC2[0]))\n",
    "\n",
    "print('--------naive/cyto----------')\n",
    "X1=X_naive[randperm1[:samples],:]\n",
    "X2=X_cyto[randperm3[:samples],:]\n",
    "aA3=logr_ecidx(ecidx,X1,X2)\n",
    "bB3=logr_gene(ecidx,X1,X2)\n",
    "cC3=logr_indep(ecidx,X1,X2)\n",
    "print('-log10_GENE-pval=',-np.log10(bB3[1]))\n",
    "print('-log10_LOGR-pval=',-np.log10(aA3[1]))\n",
    "print('-log10_INDT-pval_min=',-np.log10(cC3[1]))\n",
    "print('-log10_INDT-pvals=\\n',-np.log10(cC3[0]))"
   ]
  },
  {
   "cell_type": "markdown",
   "metadata": {},
   "source": [
    "### Mem-Naive"
   ]
  },
  {
   "cell_type": "code",
   "execution_count": 56,
   "metadata": {
    "scrolled": true
   },
   "outputs": [
    {
     "name": "stdout",
     "output_type": "stream",
     "text": [
      "0 \t logr pval= 1.52548615028e-05 \t sepLR pval= 0.00316297042987 \t gene pval= 0.857659526446\n",
      "1 \t logr pval= 3.00988314939e-07 \t sepLR pval= 9.82497143065e-06 \t gene pval= 0.015819322548\n",
      "2 \t logr pval= 0.000797282359983 \t sepLR pval= 0.0033206356944 \t gene pval= 0.430484195121\n",
      "3 \t logr pval= 0.00193657061075 \t sepLR pval= 0.00297757884027 \t gene pval= 0.530587723242\n",
      "4 \t logr pval= 5.84031887296e-08 \t sepLR pval= 4.85048847931e-06 \t gene pval= 0.571611642549\n",
      "5 \t logr pval= 0.00431977734966 \t sepLR pval= 0.000557937636943 \t gene pval= 0.816142507559\n",
      "6 \t logr pval= 4.24891864703e-06 \t sepLR pval= 0.00239033271958 \t gene pval= 0.219834011899\n",
      "7 \t logr pval= 0.000155641986426 \t sepLR pval= 0.00241570662808 \t gene pval= 0.713326996223\n",
      "8 \t logr pval= 0.0162235460874 \t sepLR pval= 0.00943144864064 \t gene pval= 0.318098385174\n",
      "9 \t logr pval= 7.76268255317e-05 \t sepLR pval= 0.000611324867363 \t gene pval= 0.525419596758\n",
      "10 \t logr pval= 0.000295948377094 \t sepLR pval= 0.000248994047999 \t gene pval= 0.386409634272\n",
      "11 \t logr pval= 9.94999658023e-05 \t sepLR pval= 8.46710431527e-05 \t gene pval= 0.127420246095\n",
      "12 \t logr pval= 0.00815972859882 \t sepLR pval= 0.0144542635126 \t gene pval= 0.0969409187319\n",
      "13 \t logr pval= 0.000717516336812 \t sepLR pval= 0.0247622710393 \t gene pval= 0.641239638517\n",
      "14 \t logr pval= 0.000530841188758 \t sepLR pval= 0.022218480464 \t gene pval= 0.492942372694\n",
      "15 \t logr pval= 0.000951171741693 \t sepLR pval= 0.00906623543684 \t gene pval= 0.263587101655\n",
      "16 \t logr pval= 3.38778527971e-05 \t sepLR pval= 0.000125101184181 \t gene pval= 0.597073447619\n",
      "17 \t logr pval= 0.00303309428075 \t sepLR pval= 0.00735206989883 \t gene pval= 0.844508911832\n",
      "18 \t logr pval= 0.000253238773348 \t sepLR pval= 0.00799919682351 \t gene pval= 0.931480113273\n",
      "19 \t logr pval= 0.0298743357968 \t sepLR pval= 0.0432808124331 \t gene pval= 0.736390546279\n",
      "20 \t logr pval= 0.000142312610472 \t sepLR pval= 0.00362587651314 \t gene pval= 0.681594892491\n",
      "21 \t logr pval= 0.000418656963116 \t sepLR pval= 0.000461854906228 \t gene pval= 0.914515521335\n",
      "22 \t logr pval= 0.0164248515575 \t sepLR pval= 0.0537759802476 \t gene pval= 0.829827119581\n",
      "23 \t logr pval= 0.0175870888327 \t sepLR pval= 0.0600294119157 \t gene pval= 0.615889045084\n",
      "24 \t logr pval= 0.00147078607126 \t sepLR pval= 0.00151872609123 \t gene pval= 0.0526844361336\n",
      "25 \t logr pval= 8.40440020836e-05 \t sepLR pval= 0.00119203016202 \t gene pval= 0.756216614782\n",
      "26 \t logr pval= 0.000433410245853 \t sepLR pval= 0.0303706291217 \t gene pval= 0.740888871297\n",
      "27 \t logr pval= 0.00792786450695 \t sepLR pval= 0.0107456354565 \t gene pval= 0.349119608557\n",
      "28 \t logr pval= 7.62331792759e-06 \t sepLR pval= 0.000166637688292 \t gene pval= 0.0108884163031\n",
      "29 \t logr pval= 0.000616110865165 \t sepLR pval= 0.0048198067046 \t gene pval= 0.564874360276\n",
      "30 \t logr pval= 1.2843680039e-05 \t sepLR pval= 0.0020432168726 \t gene pval= 0.526763600619\n",
      "31 \t logr pval= 0.0156631691169 \t sepLR pval= 0.00886536904648 \t gene pval= 0.917900636695\n",
      "32 \t logr pval= 0.000422019500383 \t sepLR pval= 0.00829754221669 \t gene pval= 0.407536289434\n",
      "33 \t logr pval= 8.26553496416e-05 \t sepLR pval= 0.00125895761248 \t gene pval= 0.30903332308\n",
      "34 \t logr pval= 6.81245806724e-05 \t sepLR pval= 0.000496695639311 \t gene pval= 0.0826920805896\n",
      "35 \t logr pval= 3.26103368065e-05 \t sepLR pval= 1.92482029038e-06 \t gene pval= 0.219139038823\n",
      "36 \t logr pval= 1.84507842154e-05 \t sepLR pval= 0.00219658705224 \t gene pval= 0.322830219495\n",
      "37 \t logr pval= 0.00111623423506 \t sepLR pval= 0.0113302577394 \t gene pval= 0.957994500649\n",
      "38 \t logr pval= 8.11305354431e-06 \t sepLR pval= 7.12468792995e-05 \t gene pval= 0.466377410936\n",
      "39 \t logr pval= 0.00823808123724 \t sepLR pval= 0.00109215155327 \t gene pval= 0.0994166893769\n",
      "40 \t logr pval= 0.00169838847315 \t sepLR pval= 0.00342469875942 \t gene pval= 0.449770406845\n",
      "41 \t logr pval= 0.0318876615288 \t sepLR pval= 0.0219509265109 \t gene pval= 0.587812741999\n",
      "42 \t logr pval= 0.00144474895197 \t sepLR pval= 0.000817113029644 \t gene pval= 0.405494759879\n",
      "43 \t logr pval= 2.3926772178e-06 \t sepLR pval= 7.74638571754e-05 \t gene pval= 0.683445416676\n",
      "44 \t logr pval= 3.95962284501e-05 \t sepLR pval= 0.00476913905951 \t gene pval= 0.752771997199\n",
      "45 \t logr pval= 0.00206446108429 \t sepLR pval= 0.00765430895573 \t gene pval= 0.944746736814\n",
      "46 \t logr pval= 0.000761274768277 \t sepLR pval= 0.00328964445169 \t gene pval= 0.360392396496\n",
      "47 \t logr pval= 1.02646351595e-05 \t sepLR pval= 0.000735946768951 \t gene pval= 0.282914826955\n",
      "48 \t logr pval= 9.29654679671e-06 \t sepLR pval= 0.00119241912415 \t gene pval= 0.0394137487941\n",
      "49 \t logr pval= 0.140778337942 \t sepLR pval= 0.0123039632725 \t gene pval= 0.564007938028\n",
      "50 \t logr pval= 0.000322705575497 \t sepLR pval= 0.01695691108 \t gene pval= 0.355468757823\n",
      "51 \t logr pval= 0.0408159006407 \t sepLR pval= 0.107921728951 \t gene pval= 0.491886138945\n",
      "52 \t logr pval= 0.00115647743733 \t sepLR pval= 0.0199671527371 \t gene pval= 0.152141934431\n",
      "53 \t logr pval= 0.000376453343924 \t sepLR pval= 0.000907088649245 \t gene pval= 0.177898140632\n",
      "54 \t logr pval= 0.000257867202717 \t sepLR pval= 0.00187729710214 \t gene pval= 0.183703580475\n",
      "55 \t logr pval= 0.000734861877798 \t sepLR pval= 0.00312964186711 \t gene pval= 0.605542713571\n",
      "56 \t logr pval= 8.1488462279e-05 \t sepLR pval= 0.00754515157882 \t gene pval= 0.944418711943\n",
      "57 \t logr pval= 7.68336349025e-05 \t sepLR pval= 3.56606995997e-05 \t gene pval= 0.218163446871\n",
      "58 \t logr pval= 7.45957991956e-05 \t sepLR pval= 0.00010125323895 \t gene pval= 0.699792769215\n",
      "59 \t logr pval= 0.000166303869801 \t sepLR pval= 0.000170891584808 \t gene pval= 0.26108464136\n",
      "60 \t logr pval= 0.000604844427783 \t sepLR pval= 0.00415848335221 \t gene pval= 0.915676435533\n",
      "61 \t logr pval= 0.0344725530235 \t sepLR pval= 0.0151631779305 \t gene pval= 0.268513740489\n",
      "62 \t logr pval= 5.2885677956e-05 \t sepLR pval= 1.28608395348e-05 \t gene pval= 0.0198398913262\n",
      "63 \t logr pval= 1.63322321292e-05 \t sepLR pval= 0.00442126414505 \t gene pval= 0.820525705896\n",
      "64 \t logr pval= 0.00688132514703 \t sepLR pval= 0.00960635704298 \t gene pval= 0.175222199143\n",
      "65 \t logr pval= 0.00723989183436 \t sepLR pval= 0.0458209689485 \t gene pval= 0.0516052931833\n",
      "66 \t logr pval= 0.00516285420111 \t sepLR pval= 0.0119909929748 \t gene pval= 0.672349065876\n",
      "67 \t logr pval= 7.06585164101e-06 \t sepLR pval= 7.42275489291e-05 \t gene pval= 0.638848586438\n",
      "68 \t logr pval= 0.0141144308205 \t sepLR pval= 0.0125200309983 \t gene pval= 0.0844219569707\n",
      "69 \t logr pval= 0.0472626743137 \t sepLR pval= 0.0889623001019 \t gene pval= 0.874007870752\n",
      "70 \t logr pval= 0.00173559173195 \t sepLR pval= 0.00276729609091 \t gene pval= 0.829711755155\n",
      "71 \t logr pval= 0.00203875350719 \t sepLR pval= 0.00106053964086 \t gene pval= 0.972888387874\n",
      "72 \t logr pval= 0.00405083906165 \t sepLR pval= 0.00439458427574 \t gene pval= 0.0908367077759\n",
      "73 \t logr pval= 0.000155918141383 \t sepLR pval= 2.43430973118e-05 \t gene pval= 0.200475104914\n",
      "74 \t logr pval= 6.14223129441e-05 \t sepLR pval= 0.000537309785931 \t gene pval= 0.941380562443\n",
      "75 \t logr pval= 7.05674548906e-07 \t sepLR pval= 1.091081713e-05 \t gene pval= 0.0966936667845\n",
      "76 \t logr pval= 0.000885697087307 \t sepLR pval= 0.00841443469611 \t gene pval= 0.985674194755\n",
      "77 \t logr pval= 0.1990078353 \t sepLR pval= 0.0382237611345 \t gene pval= 0.200409884591\n",
      "78 \t logr pval= 1.0087331459e-07 \t sepLR pval= 5.50557755719e-07 \t gene pval= 0.0288129427771\n",
      "79 \t logr pval= 0.00307559801484 \t sepLR pval= 0.0173151532196 \t gene pval= 0.32542010069\n",
      "80 \t logr pval= 0.609124328838 \t sepLR pval= 0.848016374546 \t gene pval= 0.410364677979\n",
      "81 \t logr pval= 0.0114488696889 \t sepLR pval= 0.00234862795976 \t gene pval= 0.181296690423\n",
      "82 \t logr pval= 0.000860303902295 \t sepLR pval= 3.47993984388e-05 \t gene pval= 0.0660530944562\n",
      "83 \t logr pval= 0.000767885394107 \t sepLR pval= 0.00063681985931 \t gene pval= 0.041790489444\n",
      "84 \t logr pval= 0.0293884112433 \t sepLR pval= 0.0293165476224 \t gene pval= 0.889367187901\n",
      "85 \t logr pval= 3.07678912692e-05 \t sepLR pval= 0.00267173633118 \t gene pval= 0.634700120611\n",
      "86 \t logr pval= 0.0145158302438 \t sepLR pval= 0.0406522288232 \t gene pval= 0.543893393919\n",
      "87 \t logr pval= 0.000131905067479 \t sepLR pval= 0.025883583259 \t gene pval= 0.33154838374\n",
      "88 \t logr pval= 0.00381630236178 \t sepLR pval= 0.0503809939391 \t gene pval= 0.215857489539\n"
     ]
    },
    {
     "name": "stdout",
     "output_type": "stream",
     "text": [
      "89 \t logr pval= 0.0162242247727 \t sepLR pval= 0.0193907850386 \t gene pval= 0.827422182906\n",
      "90 \t logr pval= 0.00195810010113 \t sepLR pval= 0.00997489243187 \t gene pval= 0.741638476313\n",
      "91 \t logr pval= 9.90449452226e-05 \t sepLR pval= 0.00199475696159 \t gene pval= 0.103827053095\n",
      "92 \t logr pval= 0.0253754875747 \t sepLR pval= 0.00734099142708 \t gene pval= 0.461865400793\n",
      "93 \t logr pval= 0.00568455625094 \t sepLR pval= 0.0220895025826 \t gene pval= 0.171990587278\n",
      "94 \t logr pval= 0.0169318295023 \t sepLR pval= 0.0101444598134 \t gene pval= 0.344683312794\n",
      "95 \t logr pval= 2.23184359194e-06 \t sepLR pval= 5.84484699357e-05 \t gene pval= 0.351131898843\n",
      "96 \t logr pval= 0.000147800717148 \t sepLR pval= 0.000273941172085 \t gene pval= 0.223107850177\n",
      "97 \t logr pval= 0.0102726353789 \t sepLR pval= 0.0239007622405 \t gene pval= 0.305775884476\n",
      "98 \t logr pval= 0.00214654181836 \t sepLR pval= 0.00197484951419 \t gene pval= 0.733624844414\n",
      "99 \t logr pval= 0.0121562123251 \t sepLR pval= 0.00771183644058 \t gene pval= 0.0525071993071\n",
      "100 \t logr pval= 0.00177474714393 \t sepLR pval= 0.00122543968886 \t gene pval= 0.169183107172\n",
      "101 \t logr pval= 0.000446697369618 \t sepLR pval= 0.000220534986769 \t gene pval= 0.295464068439\n",
      "102 \t logr pval= 4.57610388471e-08 \t sepLR pval= 0.00142054445772 \t gene pval= 0.852525163986\n",
      "103 \t logr pval= 0.000974976063312 \t sepLR pval= 0.0191427914366 \t gene pval= 0.847789191068\n",
      "104 \t logr pval= 0.0004350478956 \t sepLR pval= 0.0156595766224 \t gene pval= 0.375607573212\n",
      "105 \t logr pval= 0.000582507054524 \t sepLR pval= 0.00785164825048 \t gene pval= 0.502261052059\n",
      "106 \t logr pval= 0.0983637734379 \t sepLR pval= 0.0413264115935 \t gene pval= 0.314557710079\n",
      "107 \t logr pval= 0.00191350491872 \t sepLR pval= 0.0135361100754 \t gene pval= 0.628571152564\n",
      "108 \t logr pval= 0.00258647666272 \t sepLR pval= 0.000811970661695 \t gene pval= 0.0321303401273\n",
      "109 \t logr pval= 0.000346038820408 \t sepLR pval= 0.00458684808157 \t gene pval= 0.349193468218\n",
      "110 \t logr pval= 0.00804945836473 \t sepLR pval= 0.00786278263915 \t gene pval= 0.809942384941\n",
      "111 \t logr pval= 0.17280389443 \t sepLR pval= 0.304375908088 \t gene pval= 0.588862015794\n",
      "112 \t logr pval= 0.00410761800202 \t sepLR pval= 0.00666252508874 \t gene pval= 0.986006699174\n",
      "113 \t logr pval= 3.09756382249e-05 \t sepLR pval= 8.34592722154e-06 \t gene pval= 0.385016507963\n",
      "114 \t logr pval= 2.74548033868e-05 \t sepLR pval= 2.77349188315e-05 \t gene pval= 0.412135032566\n",
      "115 \t logr pval= 0.000146595231925 \t sepLR pval= 0.00172602819256 \t gene pval= 0.67912074072\n",
      "116 \t logr pval= 5.79257627074e-05 \t sepLR pval= 0.00666502625712 \t gene pval= 0.958383219089\n",
      "117 \t logr pval= 0.0170786574452 \t sepLR pval= 0.0197310446397 \t gene pval= 0.247154253334\n",
      "118 \t logr pval= 0.00366602547974 \t sepLR pval= 0.038810467339 \t gene pval= 0.740230696649\n",
      "119 \t logr pval= 0.0136674260963 \t sepLR pval= 0.0376911954264 \t gene pval= 0.845148443206\n",
      "120 \t logr pval= 5.04194466155e-06 \t sepLR pval= 1.88716100815e-05 \t gene pval= 0.539333066897\n",
      "121 \t logr pval= 0.00124197954004 \t sepLR pval= 0.000574621145117 \t gene pval= 0.0140265544733\n",
      "122 \t logr pval= 0.00358516955977 \t sepLR pval= 0.014535631423 \t gene pval= 0.147517061575\n",
      "123 \t logr pval= 0.0158542391286 \t sepLR pval= 0.0283839054698 \t gene pval= 0.239262288777\n",
      "124 \t logr pval= 0.00531856346427 \t sepLR pval= 0.136622653647 \t gene pval= 0.74171996048\n",
      "125 \t logr pval= 6.54426094677e-05 \t sepLR pval= 0.00221442513546 \t gene pval= 0.539070455165\n",
      "126 \t logr pval= 1.17917100051e-06 \t sepLR pval= 0.0028137053809 \t gene pval= 0.309637988027\n",
      "127 \t logr pval= 0.00411178294497 \t sepLR pval= 0.106400597476 \t gene pval= 0.0681768530903\n",
      "128 \t logr pval= 0.13183135925 \t sepLR pval= 0.274279197339 \t gene pval= 0.535614492685\n",
      "129 \t logr pval= 1.22889435183e-06 \t sepLR pval= 6.52336611283e-05 \t gene pval= 0.475197658605\n",
      "130 \t logr pval= 0.00257124505536 \t sepLR pval= 0.0036596948625 \t gene pval= 0.20796372089\n",
      "131 \t logr pval= 0.00555678452211 \t sepLR pval= 0.00126933575471 \t gene pval= 0.648639264051\n",
      "132 \t logr pval= 2.69184720552e-05 \t sepLR pval= 5.00031984296e-06 \t gene pval= 0.218507189678\n",
      "133 \t logr pval= 9.45235909022e-06 \t sepLR pval= 8.59066596713e-05 \t gene pval= 0.530087381742\n",
      "134 \t logr pval= 0.000237311199 \t sepLR pval= 0.0173513823518 \t gene pval= 0.250105055624\n",
      "135 \t logr pval= 6.71382484585e-06 \t sepLR pval= 7.72671833765e-05 \t gene pval= 0.280434048356\n",
      "136 \t logr pval= 0.00595590032641 \t sepLR pval= 0.00780425817319 \t gene pval= 0.412331132447\n",
      "137 \t logr pval= 0.000658322719396 \t sepLR pval= 0.00348495275262 \t gene pval= 0.419913905857\n",
      "138 \t logr pval= 0.000401603009589 \t sepLR pval= 0.000219998350316 \t gene pval= 0.0269527779076\n",
      "139 \t logr pval= 0.000400275112436 \t sepLR pval= 0.000474198434978 \t gene pval= 0.0410694589965\n",
      "140 \t logr pval= 0.000123600812362 \t sepLR pval= 0.000307048182546 \t gene pval= 0.513525153602\n",
      "141 \t logr pval= 0.000114732865037 \t sepLR pval= 0.0030381004546 \t gene pval= 0.904015729114\n",
      "142 \t logr pval= 0.00332782922559 \t sepLR pval= 0.00382104499692 \t gene pval= 0.456523852998\n",
      "143 \t logr pval= 1.67830466663e-05 \t sepLR pval= 0.000221021293489 \t gene pval= 0.246031792551\n",
      "144 \t logr pval= 7.77002119898e-05 \t sepLR pval= 0.000180286201051 \t gene pval= 0.1878185077\n",
      "145 \t logr pval= 0.00893465580769 \t sepLR pval= 0.0232186758136 \t gene pval= 0.0522124057217\n",
      "146 \t logr pval= 0.00316561546725 \t sepLR pval= 0.00016705257851 \t gene pval= 0.26600020236\n",
      "147 \t logr pval= 0.0148265272799 \t sepLR pval= 0.00345818377684 \t gene pval= 0.556600864932\n",
      "148 \t logr pval= 0.0536349951579 \t sepLR pval= 0.0300261517843 \t gene pval= 0.866509126758\n",
      "149 \t logr pval= 0.0266364516521 \t sepLR pval= 0.0535878833768 \t gene pval= 0.765153427953\n",
      "150 \t logr pval= 5.10764200756e-06 \t sepLR pval= 4.63168551901e-06 \t gene pval= 0.301465007765\n",
      "151 \t logr pval= 0.000273611202581 \t sepLR pval= 0.0229172015405 \t gene pval= 0.774129687983\n",
      "152 \t logr pval= 0.000315065750623 \t sepLR pval= 0.00412988309094 \t gene pval= 0.929126418276\n",
      "153 \t logr pval= 0.00270912733141 \t sepLR pval= 0.00988287048427 \t gene pval= 0.388998629064\n",
      "154 \t logr pval= 0.000867880073369 \t sepLR pval= 0.00689910667641 \t gene pval= 0.610708288779\n",
      "155 \t logr pval= 0.000194649300564 \t sepLR pval= 0.000341136318789 \t gene pval= 0.796772805334\n",
      "156 \t logr pval= 6.53187838725e-05 \t sepLR pval= 0.00808208846795 \t gene pval= 0.747374512206\n",
      "157 \t logr pval= 0.00386264921571 \t sepLR pval= 0.0172214061249 \t gene pval= 0.310780165141\n",
      "158 \t logr pval= 0.0148531638568 \t sepLR pval= 0.0103424155502 \t gene pval= 0.0609386242025\n",
      "159 \t logr pval= 7.01722516567e-05 \t sepLR pval= 1.66160311754e-06 \t gene pval= 0.287010127461\n",
      "160 \t logr pval= 0.0512373958147 \t sepLR pval= 0.163112189919 \t gene pval= 0.524229691631\n",
      "161 \t logr pval= 0.000135929731449 \t sepLR pval= 0.000281302105229 \t gene pval= 0.0822336115426\n",
      "162 \t logr pval= 2.91909889049e-05 \t sepLR pval= 0.000907147347862 \t gene pval= 0.232049982378\n",
      "163 \t logr pval= 0.00121711398448 \t sepLR pval= 0.000738205260166 \t gene pval= 0.888510510421\n",
      "164 \t logr pval= 0.00141433803845 \t sepLR pval= 0.0117888930911 \t gene pval= 0.275163672909\n",
      "165 \t logr pval= 0.000194209570775 \t sepLR pval= 6.83824331038e-05 \t gene pval= 0.117684889388\n",
      "166 \t logr pval= 0.000968767565283 \t sepLR pval= 0.0100969176298 \t gene pval= 0.591059831862\n",
      "167 \t logr pval= 0.000475820958555 \t sepLR pval= 0.0175065666286 \t gene pval= 0.421188481385\n",
      "168 \t logr pval= 0.0119484928523 \t sepLR pval= 0.00111342934307 \t gene pval= 0.0454501191442\n",
      "169 \t logr pval= 0.0716874293937 \t sepLR pval= 0.0787839270978 \t gene pval= 0.537602170148\n",
      "170 \t logr pval= 4.05465082139e-05 \t sepLR pval= 0.000309326151226 \t gene pval= 0.690002070636\n",
      "171 \t logr pval= 0.0864091792597 \t sepLR pval= 0.0566029470447 \t gene pval= 0.986315704496\n",
      "172 \t logr pval= 1.16220422541e-06 \t sepLR pval= 0.000613955509277 \t gene pval= 0.0711859604322\n",
      "173 \t logr pval= 0.0168186802225 \t sepLR pval= 0.04095313027 \t gene pval= 0.81337550015\n",
      "174 \t logr pval= 0.00129227061579 \t sepLR pval= 0.00374200245112 \t gene pval= 0.10900347978\n",
      "175 \t logr pval= 0.00328668960926 \t sepLR pval= 0.00344827440675 \t gene pval= 0.389706167163\n",
      "176 \t logr pval= 0.0102873292338 \t sepLR pval= 0.0122073012906 \t gene pval= 0.57398530918\n",
      "177 \t logr pval= 4.07174288106e-05 \t sepLR pval= 6.53522720254e-05 \t gene pval= 0.65118073749\n"
     ]
    },
    {
     "name": "stdout",
     "output_type": "stream",
     "text": [
      "178 \t logr pval= 0.000103087984248 \t sepLR pval= 0.000396661739228 \t gene pval= 0.551924029672\n",
      "179 \t logr pval= 0.00619997010022 \t sepLR pval= 0.0117568481325 \t gene pval= 0.858733321894\n",
      "180 \t logr pval= 2.51925770123e-06 \t sepLR pval= 0.000800990019028 \t gene pval= 0.545591282979\n",
      "181 \t logr pval= 6.91280375311e-05 \t sepLR pval= 3.97525408518e-05 \t gene pval= 0.0586254647589\n",
      "182 \t logr pval= 0.00114813717314 \t sepLR pval= 0.0050838124467 \t gene pval= 0.248034084408\n",
      "183 \t logr pval= 0.000675198883712 \t sepLR pval= 0.00246663258143 \t gene pval= 0.0888866097213\n",
      "184 \t logr pval= 0.00148181496534 \t sepLR pval= 0.0228741200324 \t gene pval= 0.110930596164\n",
      "185 \t logr pval= 2.63188343866e-05 \t sepLR pval= 7.46285063269e-05 \t gene pval= 0.0827932726699\n",
      "186 \t logr pval= 1.10442837745e-05 \t sepLR pval= 0.00278190849209 \t gene pval= 0.791938254145\n",
      "187 \t logr pval= 0.000182614937216 \t sepLR pval= 0.000362583679953 \t gene pval= 0.616239341989\n",
      "188 \t logr pval= 0.000430178427344 \t sepLR pval= 0.0532534223772 \t gene pval= 0.243159899371\n",
      "189 \t logr pval= 0.000241423186176 \t sepLR pval= 0.00169211236425 \t gene pval= 0.254718138848\n",
      "190 \t logr pval= 0.0536234965198 \t sepLR pval= 0.0733660243019 \t gene pval= 0.524896766165\n",
      "191 \t logr pval= 5.4177602733e-06 \t sepLR pval= 8.97901483876e-06 \t gene pval= 0.321487008508\n",
      "192 \t logr pval= 6.64739077356e-05 \t sepLR pval= 0.00234052462529 \t gene pval= 0.775819505885\n",
      "193 \t logr pval= 4.82325967192e-05 \t sepLR pval= 0.000258765998308 \t gene pval= 0.0146873546775\n",
      "194 \t logr pval= 0.00433959811538 \t sepLR pval= 0.00391391249129 \t gene pval= 0.569679106495\n",
      "195 \t logr pval= 0.000219072149108 \t sepLR pval= 0.00535856092429 \t gene pval= 0.540105943039\n",
      "196 \t logr pval= 7.91013687858e-05 \t sepLR pval= 0.000167051511985 \t gene pval= 0.509227594101\n",
      "197 \t logr pval= 2.68153392838e-05 \t sepLR pval= 6.14173566584e-05 \t gene pval= 0.000379092481477\n",
      "198 \t logr pval= 0.0363408227419 \t sepLR pval= 0.0132475745713 \t gene pval= 0.901604547471\n",
      "199 \t logr pval= 0.000997487054303 \t sepLR pval= 0.00021915420732 \t gene pval= 0.223618992539\n",
      "\n",
      " logR Avg. p-value:  0.0122585216298\n",
      "\n",
      " seplogR Avg. p-value:  0.0193616822051\n",
      "\n",
      " gene Avg. p-value:  0.452246690772\n"
     ]
    }
   ],
   "source": [
    "np.random.seed(0)\n",
    "samples=3000\n",
    "carlo=200\n",
    "pvals=[]\n",
    "pvals_t_test=[]\n",
    "pvals_sep_logR=[]\n",
    "pvals_t_test_gene=[]\n",
    "pvals_logr_gene=[]\n",
    "for monte in range(carlo):\n",
    "    randperm1A=np.random.permutation(X_naive.shape[0])\n",
    "    randperm2A=np.random.permutation(X_mem.shape[0])\n",
    "    #positive control \n",
    "\n",
    "    X1=X_naive[randperm1A[:samples],:]\n",
    "    X2=X_mem[randperm2A[:samples],:]\n",
    "\n",
    "\n",
    "    # print(X1.shape)\n",
    "    # print(X2.shape)\n",
    "\n",
    "    N1=X1.shape[0]\n",
    "    N2=X2.shape[0]\n",
    "\n",
    "\n",
    "    A=logr_ecidx(ecidx,X1,X2)\n",
    "    \n",
    "    pvals+=[A[1]]\n",
    "    tpval=ttest_ecidx(ecidx,X1,X2)\n",
    "    pvals_t_test+=[tpval[0]]\n",
    "    pvals_t_test_gene+=[tpval[2]]\n",
    "    \n",
    "    Ag=logr_gene(ecidx,X1,X2)\n",
    "    pvals_logr_gene+=[Ag[1]]\n",
    "    \n",
    "    \n",
    "    \n",
    "    \n",
    "    pvals_tmp=[]\n",
    "    for j in ecidx:\n",
    "        B=logr_ecidx([j],X1,X2)\n",
    "        pvals_tmp+=[B[1]]\n",
    "    pval_sep=np.min([1,np.min(np.array(pvals_tmp))*len(ecidx)])\n",
    "    pvals_sep_logR+=[pval_sep]\n",
    "    \n",
    "    print(monte,'\\t logr pval=',A[1],'\\t sepLR pval=',pval_sep,'\\t gene pval=',Ag[1])\n",
    "    \n",
    "    \n",
    "print(\"\\n logR Avg. p-value: \",np.mean(pvals))\n",
    "print(\"\\n seplogR Avg. p-value: \",np.mean(pvals_sep_logR))\n",
    "print(\"\\n gene Avg. p-value: \",np.mean(pvals_logr_gene))"
   ]
  },
  {
   "cell_type": "code",
   "execution_count": 57,
   "metadata": {},
   "outputs": [
    {
     "ename": "NameError",
     "evalue": "name 'pvals_sep_logR1' is not defined",
     "output_type": "error",
     "traceback": [
      "\u001b[0;31m---------------------------------------------------------------------------\u001b[0m",
      "\u001b[0;31mNameError\u001b[0m                                 Traceback (most recent call last)",
      "\u001b[0;32m<ipython-input-57-06d5d9baf2fc>\u001b[0m in \u001b[0;36m<module>\u001b[0;34m()\u001b[0m\n\u001b[1;32m      9\u001b[0m \u001b[0max\u001b[0m\u001b[0;34m=\u001b[0m\u001b[0msns\u001b[0m\u001b[0;34m.\u001b[0m\u001b[0mdistplot\u001b[0m\u001b[0;34m(\u001b[0m\u001b[0;34m-\u001b[0m\u001b[0mnp\u001b[0m\u001b[0;34m.\u001b[0m\u001b[0mlog10\u001b[0m\u001b[0;34m(\u001b[0m\u001b[0mpvals_t_test_gene1\u001b[0m\u001b[0;34m)\u001b[0m\u001b[0;34m,\u001b[0m\u001b[0mhist\u001b[0m\u001b[0;34m=\u001b[0m\u001b[0;32mTrue\u001b[0m\u001b[0;34m,\u001b[0m\u001b[0mcolor\u001b[0m\u001b[0;34m=\u001b[0m\u001b[0;34m'lightcoral'\u001b[0m\u001b[0;34m,\u001b[0m\u001b[0;34m)\u001b[0m\u001b[0;34m\u001b[0m\u001b[0m\n\u001b[1;32m     10\u001b[0m \u001b[0;34m\u001b[0m\u001b[0m\n\u001b[0;32m---> 11\u001b[0;31m \u001b[0msns\u001b[0m\u001b[0;34m.\u001b[0m\u001b[0mdistplot\u001b[0m\u001b[0;34m(\u001b[0m\u001b[0;34m-\u001b[0m\u001b[0mnp\u001b[0m\u001b[0;34m.\u001b[0m\u001b[0mlog10\u001b[0m\u001b[0;34m(\u001b[0m\u001b[0mpvals_sep_logR1\u001b[0m\u001b[0;34m)\u001b[0m\u001b[0;34m)\u001b[0m\u001b[0;34m\u001b[0m\u001b[0m\n\u001b[0m\u001b[1;32m     12\u001b[0m \u001b[0msns\u001b[0m\u001b[0;34m.\u001b[0m\u001b[0mdistplot\u001b[0m\u001b[0;34m(\u001b[0m\u001b[0;34m-\u001b[0m\u001b[0mnp\u001b[0m\u001b[0;34m.\u001b[0m\u001b[0mlog10\u001b[0m\u001b[0;34m(\u001b[0m\u001b[0mpvals1\u001b[0m\u001b[0;34m)\u001b[0m\u001b[0;34m)\u001b[0m\u001b[0;34m\u001b[0m\u001b[0m\n\u001b[1;32m     13\u001b[0m \u001b[0;31m# sns.distplot(-np.log10(pvals_t_test1),hist=False,color='k')\u001b[0m\u001b[0;34m\u001b[0m\u001b[0;34m\u001b[0m\u001b[0m\n",
      "\u001b[0;31mNameError\u001b[0m: name 'pvals_sep_logR1' is not defined"
     ]
    },
    {
     "data": {
      "image/png": "[encoded data removed]",
      "text/plain": [
       "<matplotlib.figure.Figure at 0x7f19e89f9da0>"
      ]
     },
     "metadata": {},
     "output_type": "display_data"
    }
   ],
   "source": [
    "# pvals_t_test1=pvals_t_test\n",
    "# pvals_sep_logR1=pvals_sep_logR\n",
    "# pvals1=pvals\n",
    "\n",
    "plt.figure()\n",
    "pvals_t_test_gene1=pvals_t_test_gene\n",
    "pvals_logr_gene1=pvals_logr_gene\n",
    "# sns.distplot(-np.log10(pvals_t_test_gene1),hist=True,color='r')\n",
    "ax=sns.distplot(-np.log10(pvals_t_test_gene1),hist=True,color='lightcoral',)\n",
    "\n",
    "sns.distplot(-np.log10(pvals_sep_logR1))\n",
    "sns.distplot(-np.log10(pvals1))\n",
    "# sns.distplot(-np.log10(pvals_t_test1),hist=False,color='k')\n",
    "\n",
    "\n",
    "yy=ax.get_ylim()\n",
    "plt.vlines(-np.log10(bB1[1]),ymin=yy[0],ymax=yy[1],color='r',linestyles='--')\n",
    "plt.vlines(-np.log10(cC1[1]),ymin=yy[0],ymax=yy[1],color='royalblue',linestyles='--')\n",
    "plt.vlines(-np.log10(aA1[1]),ymin=yy[0],ymax=yy[1],color='darkorange',linestyles='--')\n",
    "\n",
    "plt.ylim(yy)\n",
    "plt.xlim([-0.05,10])\n",
    "\n",
    "plt.show()"
   ]
  },
  {
   "cell_type": "markdown",
   "metadata": {},
   "source": [
    "### Cyto-Mem"
   ]
  },
  {
   "cell_type": "code",
   "execution_count": null,
   "metadata": {
    "collapsed": true,
    "scrolled": true
   },
   "outputs": [],
   "source": [
    "np.random.seed(0)\n",
    "samples=3000\n",
    "carlo=200\n",
    "pvals=[]\n",
    "pvals_t_test=[]\n",
    "pvals_sep_logR=[]\n",
    "for monte in range(carlo):\n",
    "    randperm1A=np.random.permutation(X_cyto.shape[0])\n",
    "    randperm2A=np.random.permutation(X_mem.shape[0])\n",
    "    #positive control \n",
    "\n",
    "    X1=X_cyto[randperm1A[:samples],:]\n",
    "    X2=X_mem[randperm2A[:samples],:]\n",
    "\n",
    "\n",
    "    # print(X1.shape)\n",
    "    # print(X2.shape)\n",
    "\n",
    "    N1=X1.shape[0]\n",
    "    N2=X2.shape[0]\n",
    "\n",
    "\n",
    "    A=logr_ecidx(ecidx,X1,X2)\n",
    "    \n",
    "    pvals+=[A[1]]\n",
    "    tpval=ttest_ecidx(ecidx,X1,X2)\n",
    "    pvals_t_test+=[tpval[0]]\n",
    "    pvals_t_test_gene+=[tpval[2]]\n",
    "    \n",
    "    Ag=logr_gene(ecidx,X1,X2)\n",
    "    pvals_logr_gene+=[Ag[1]]\n",
    "    \n",
    "    \n",
    "    \n",
    "    \n",
    "    pvals_tmp=[]\n",
    "    for j in ecidx:\n",
    "        B=logr_ecidx([j],X1,X2)\n",
    "        pvals_tmp+=[B[1]]\n",
    "    pval_sep=np.min([1,np.min(np.array(pvals_tmp))*len(ecidx)])\n",
    "    pvals_sep_logR+=[pval_sep]\n",
    "    \n",
    "    print(monte,'\\t logr pval=',A[1],'\\t sepLR pval=',pval_sep,'\\t gene pval=',Ag[1])\n",
    "    \n",
    "    \n",
    "print(\"\\n logR Avg. p-value: \",np.mean(pvals))\n",
    "print(\"\\n seplogR Avg. p-value: \",np.mean(pvals_sep_logR))\n",
    "print(\"\\n gene Avg. p-value: \",np.mean(pvals_logr_gene))"
   ]
  },
  {
   "cell_type": "code",
   "execution_count": null,
   "metadata": {
    "collapsed": true
   },
   "outputs": [],
   "source": [
    "# pvals_t_test2=pvals_t_test\n",
    "# pvals_sep_logR2=pvals_sep_logR\n",
    "# pvals2=pvals\n",
    "\n",
    "plt.figure()\n",
    "pvals_t_test_gene2=pvals_t_test_gene\n",
    "pvals_logr_gene2=pvals_logr_gene\n",
    "# sns.distplot(-np.log10(pvals_t_test_gene2),hist=True,color='r')\n",
    "sns.distplot(-np.log10(pvals_t_test_gene2),hist=True,color='lightcoral',)\n",
    "\n",
    "sns.distplot(-np.log10(pvals_sep_logR2))\n",
    "sns.distplot(-np.log10(pvals2))\n",
    "# sns.distplot(-np.log10(pvals_t_test2),hist=False,color='k')\n",
    "\n",
    "\n",
    "yy=ax.get_ylim()\n",
    "plt.vlines(-np.log10(bB2[1]),ymin=yy[0],ymax=yy[1],color='r',linestyles='--')\n",
    "plt.vlines(-np.log10(cC2[1]),ymin=yy[0],ymax=yy[1],color='royalblue',linestyles='--')\n",
    "plt.vlines(-np.log10(aA2[1]),ymin=yy[0],ymax=yy[1],color='darkorange',linestyles='--')\n",
    "\n",
    "plt.ylim(yy)\n",
    "plt.xlim([-0.05,10])\n",
    "\n",
    "plt.show()"
   ]
  },
  {
   "cell_type": "markdown",
   "metadata": {},
   "source": [
    "### Naive-Cyto"
   ]
  },
  {
   "cell_type": "code",
   "execution_count": null,
   "metadata": {
    "collapsed": true,
    "scrolled": true
   },
   "outputs": [],
   "source": [
    "np.random.seed(0)\n",
    "samples=3000\n",
    "carlo=200\n",
    "pvals=[]\n",
    "pvals_t_test=[]\n",
    "pvals_sep_logR=[]\n",
    "for monte in range(carlo):\n",
    "    randperm1A=np.random.permutation(X_naive.shape[0])\n",
    "    randperm2A=np.random.permutation(X_cyto.shape[0])\n",
    "    #positive control \n",
    "\n",
    "    X1=X_naive[randperm1A[:samples],:]\n",
    "    X2=X_cyto[randperm2A[:samples],:]\n",
    "\n",
    "\n",
    "    # print(X1.shape)\n",
    "    # print(X2.shape)\n",
    "\n",
    "    N1=X1.shape[0]\n",
    "    N2=X2.shape[0]\n",
    "\n",
    "\n",
    "    A=logr_ecidx(ecidx,X1,X2)\n",
    "    \n",
    "    pvals+=[A[1]]\n",
    "    tpval=ttest_ecidx(ecidx,X1,X2)\n",
    "    pvals_t_test+=[tpval[0]]\n",
    "    pvals_t_test_gene+=[tpval[2]]\n",
    "    \n",
    "    Ag=logr_gene(ecidx,X1,X2)\n",
    "    pvals_logr_gene+=[Ag[1]]\n",
    "    \n",
    "    \n",
    "    \n",
    "    \n",
    "    pvals_tmp=[]\n",
    "    for j in ecidx:\n",
    "        B=logr_ecidx([j],X1,X2)\n",
    "        pvals_tmp+=[B[1]]\n",
    "    pval_sep=np.min([1,np.min(np.array(pvals_tmp))*len(ecidx)])\n",
    "    pvals_sep_logR+=[pval_sep]\n",
    "    \n",
    "    print(monte,'\\t logr pval=',A[1],'\\t sepLR pval=',pval_sep,'\\t gene pval=',Ag[1])\n",
    "    \n",
    "    \n",
    "print(\"\\n logR Avg. p-value: \",np.mean(pvals))\n",
    "print(\"\\n seplogR Avg. p-value: \",np.mean(pvals_sep_logR))\n",
    "print(\"\\n gene Avg. p-value: \",np.mean(pvals_logr_gene))"
   ]
  },
  {
   "cell_type": "code",
   "execution_count": null,
   "metadata": {
    "collapsed": true,
    "scrolled": true
   },
   "outputs": [],
   "source": [
    "# pvals_t_test3=pvals_t_test\n",
    "# pvals_sep_logR3=pvals_sep_logR\n",
    "# pvals3=pvals\n",
    "\n",
    "plt.figure()\n",
    "pvals_t_test_gene3=pvals_t_test_gene\n",
    "pvals_logr_gene3=pvals_logr_gene\n",
    "# sns.distplot(-np.log10(pvals_t_test_gene3),hist=True,color='r')\n",
    "sns.distplot(-np.log10(pvals_t_test_gene3),hist=True,color='lightcoral',)\n",
    "\n",
    "sns.distplot(-np.log10(pvals_sep_logR3))\n",
    "sns.distplot(-np.log10(pvals3))\n",
    "# sns.distplot(-np.log10(pvals_t_test3),hist=False,color='k')\n",
    "\n",
    "\n",
    "yy=ax.get_ylim()\n",
    "plt.vlines(-np.log10(bB3[1]),ymin=yy[0],ymax=yy[1],color='r',linestyles='--')\n",
    "plt.vlines(-np.log10(cC3[1]),ymin=yy[0],ymax=yy[1],color='royalblue',linestyles='--')\n",
    "plt.vlines(-np.log10(aA3[1]),ymin=yy[0],ymax=yy[1],color='darkorange',linestyles='--')\n",
    "\n",
    "plt.ylim(yy)\n",
    "plt.xlim([-0.05,10])\n",
    "\n",
    "plt.show()"
   ]
  },
  {
   "cell_type": "code",
   "execution_count": null,
   "metadata": {
    "collapsed": true
   },
   "outputs": [],
   "source": []
  }
 ],
 "metadata": {
  "kernelspec": {
   "display_name": "py36",
   "language": "python",
   "name": "python3"
  },
  "language_info": {
   "codemirror_mode": {
    "name": "ipython",
    "version": 3
   },
   "file_extension": ".py",
   "mimetype": "text/x-python",
   "name": "python",
   "nbconvert_exporter": "python",
   "pygments_lexer": "ipython3",
   "version": "3.6.2"
  }
 },
 "nbformat": 4,
 "nbformat_minor": 2
}
