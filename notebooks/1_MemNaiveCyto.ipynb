{
 "cells": [
  {
   "cell_type": "code",
   "execution_count": 1,
   "metadata": {
    "collapsed": true
   },
   "outputs": [],
   "source": [
    "import pandas as pd\n",
    "import numpy as np\n",
    "import sklearn\n",
    "import seaborn as sns\n",
    "%matplotlib inline\n",
    "import collections\n",
    "import matplotlib\n",
    "import matplotlib.pyplot as plt\n",
    "import numpy as np\n",
    "import pandas as pd\n",
    "import scipy.sparse as sp_sparse\n",
    "import tables\n",
    "import gc\n",
    "import gzip\n",
    "from scipy.sparse import coo_matrix\n",
    "from sklearn.preprocessing import normalize\n",
    "import pickle"
   ]
  },
  {
   "cell_type": "markdown",
   "metadata": {},
   "source": [
    "# Load raw TCCs into memory"
   ]
  },
  {
   "cell_type": "code",
   "execution_count": 2,
   "metadata": {
    "collapsed": true
   },
   "outputs": [],
   "source": [
    "# tsvfile_dir = '/home/vasilis/clustering_EQ/10x_DATASETS/MemoryNaive/TCC_output/matrix.tsv'\n",
    "# COOinput = pd.read_csv( tsvfile_dir, delimiter='\\t',header=None, dtype=int)\n",
    "\n",
    "# A=COOinput.as_matrix()\n",
    "\n",
    "# rows,cols,data = A.T"
   ]
  },
  {
   "cell_type": "code",
   "execution_count": 3,
   "metadata": {
    "collapsed": true
   },
   "outputs": [],
   "source": [
    "# nonzero_ec = np.unique(rows)\n",
    "# map_rows = { val:ind for ind,val in enumerate( nonzero_ec ) }\n",
    "# map_cols = { val:ind for ind,val in enumerate( np.unique(cols) ) }\n",
    "# TCCmatrix   = coo_matrix( (data.astype(float),( [map_rows[r] for r in rows], [map_cols[c] for c in cols]) ) ) \n",
    "\n",
    "# NUM_OF_CELLS = TCCmatrix.shape[1]\n",
    "# print(\"NUM_OF_CELLS =\", NUM_OF_CELLS)\n",
    "      \n",
    "# T = TCCmatrix.tocsr()\n",
    "# # T_norm = normalize(T, norm='l1', axis=0) \n",
    "# # T_normT = T_norm.transpose()"
   ]
  },
  {
   "cell_type": "code",
   "execution_count": 4,
   "metadata": {
    "collapsed": true
   },
   "outputs": [],
   "source": [
    "\n",
    "# del TCCmatrix,map_cols,map_rows,A,rows,cols,data;\n",
    "# _ = gc.collect()"
   ]
  },
  {
   "cell_type": "code",
   "execution_count": 5,
   "metadata": {
    "collapsed": true
   },
   "outputs": [],
   "source": [
    "# ecfile_dir = '/home/vasilis/clustering_EQ/10x_DATASETS/MemoryNaive/TCC_output/matrix.ec'\n",
    "# eclist=pd.read_csv( ecfile_dir, delimiter='\\t',header=None, dtype=str)\n",
    "# eclist=np.array(eclist)"
   ]
  },
  {
   "cell_type": "code",
   "execution_count": 6,
   "metadata": {
    "collapsed": true
   },
   "outputs": [],
   "source": [
    "# cellfile_dir = '/home/vasilis/clustering_EQ/10x_DATASETS/MemoryNaive/TCC_output/matrix.cells'\n",
    "# celllist=pd.read_csv( cellfile_dir, delimiter='\\t',header=None, dtype=str)\n",
    "# print(celllist.iloc[123][0][10:-1])"
   ]
  },
  {
   "cell_type": "code",
   "execution_count": 7,
   "metadata": {
    "collapsed": true
   },
   "outputs": [],
   "source": [
    "# cellnames=[]\n",
    "# for i in range(len(celllist.index)):\n",
    "#     cellnames+=[celllist.iloc[i][0][10:-1]]\n",
    "# cellnames=np.array(cellnames)"
   ]
  },
  {
   "cell_type": "code",
   "execution_count": 8,
   "metadata": {
    "collapsed": true
   },
   "outputs": [],
   "source": [
    "# #Save data\n",
    "# with open(\"./TCC_matrix_MNC_0.dat\", 'wb') as f:\n",
    "#     pickle.dump(T,f)\n",
    "# with open(\"./nonzero_ec_MNC_0.dat\", 'wb') as f:\n",
    "#     pickle.dump(nonzero_ec,f)\n",
    "# with open(\"./eclist_MNC_0.dat\", 'wb') as f:\n",
    "#     pickle.dump(eclist,f)\n",
    "# with open(\"./cellnames_MNC_0.dat\", 'wb') as f:\n",
    "#     pickle.dump(cellnames,f)\n",
    "    \n"
   ]
  },
  {
   "cell_type": "markdown",
   "metadata": {},
   "source": [
    "##  Load pickled TCCs"
   ]
  },
  {
   "cell_type": "code",
   "execution_count": 9,
   "metadata": {
    "collapsed": true
   },
   "outputs": [],
   "source": [
    "#Load dataset   \n",
    "with open(\"./TCC_matrix_MNC_0.dat\", 'rb') as f:\n",
    "    T=pickle.load(f)\n",
    "with open(\"./nonzero_ec_MNC_0.dat\", 'rb') as f:\n",
    "    nonzero_ec=pickle.load(f)\n",
    "with open(\"./eclist_MNC_0.dat\", 'rb') as f:\n",
    "    eclist=pickle.load(f)\n",
    "with open(\"./cellnames_MNC_0.dat\", 'rb') as f:\n",
    "    cellnames=pickle.load(f)\n",
    "    \n",
    "# T_norm = normalize(T, norm='l1', axis=0)\n",
    "# T_normT = T_norm.T   "
   ]
  },
  {
   "cell_type": "markdown",
   "metadata": {},
   "source": [
    "### quality control"
   ]
  },
  {
   "cell_type": "code",
   "execution_count": 10,
   "metadata": {},
   "outputs": [
    {
     "name": "stdout",
     "output_type": "stream",
     "text": [
      "median UMIs per cell: 5248.0\n"
     ]
    }
   ],
   "source": [
    "# median umis per cell\n",
    "print(\"median UMIs per cell:\",np.median(np.array((np.sum(T,axis=0))).reshape(1,-1)[0]))"
   ]
  },
  {
   "cell_type": "code",
   "execution_count": 11,
   "metadata": {},
   "outputs": [
    {
     "data": {
      "text/plain": [
       "[<matplotlib.lines.Line2D at 0x7fd1f0f06f28>]"
      ]
     },
     "execution_count": 11,
     "metadata": {},
     "output_type": "execute_result"
    },
    {
     "data": {
      "image/png": "[encoded data removed]",
      "text/plain": [
       "<matplotlib.figure.Figure at 0x7fd2301ec0b8>"
      ]
     },
     "metadata": {},
     "output_type": "display_data"
    }
   ],
   "source": [
    "readspercell=np.array((np.sum(T,axis=0))).reshape(1,-1)[0]\n",
    "plt.semilogy(np.sort(readspercell))"
   ]
  },
  {
   "cell_type": "code",
   "execution_count": 12,
   "metadata": {
    "collapsed": true
   },
   "outputs": [],
   "source": [
    "hi_low=[30000,1000]\n",
    "cells_keep = np.where(readspercell<hi_low[0])[0]\n",
    "idx = np.where(readspercell[cells_keep]>hi_low[1])[0]\n",
    "cells_keep=cells_keep[idx]"
   ]
  },
  {
   "cell_type": "code",
   "execution_count": 13,
   "metadata": {
    "collapsed": true
   },
   "outputs": [],
   "source": [
    "cellnames = cellnames[cells_keep]"
   ]
  },
  {
   "cell_type": "code",
   "execution_count": 14,
   "metadata": {},
   "outputs": [
    {
     "data": {
      "text/plain": [
       "(31831,)"
      ]
     },
     "execution_count": 14,
     "metadata": {},
     "output_type": "execute_result"
    }
   ],
   "source": [
    "cells_keep.shape"
   ]
  },
  {
   "cell_type": "code",
   "execution_count": 15,
   "metadata": {
    "collapsed": true
   },
   "outputs": [],
   "source": [
    "T=T[:,cells_keep]"
   ]
  },
  {
   "cell_type": "markdown",
   "metadata": {},
   "source": [
    "#### ECdict"
   ]
  },
  {
   "cell_type": "code",
   "execution_count": 16,
   "metadata": {},
   "outputs": [
    {
     "name": "stdout",
     "output_type": "stream",
     "text": [
      "NUM_OF_Transcripts = 133211\n"
     ]
    }
   ],
   "source": [
    "EC_dict = {}\n",
    "for i in range(np.shape(eclist)[0]):\n",
    "    EC_dict[i] = [int(x) for x in eclist[i,1].split(',')]\n",
    "    \n",
    "union=set()\n",
    "for i in nonzero_ec:\n",
    "    new = [tx for tx in EC_dict[i] if tx not in union] # filter out previously seen transcripts\n",
    "    union.update(new) \n",
    "union_list=np.sort(list(union)) #union of all transctipt ids seen in nonzero eq.classes\n",
    "NUM_OF_TX_inTCC = len(union)\n",
    "print(\"NUM_OF_Transcripts =\", NUM_OF_TX_inTCC) #number of distinct transcripts in nonzero eq. classes "
   ]
  },
  {
   "cell_type": "code",
   "execution_count": 17,
   "metadata": {
    "collapsed": true
   },
   "outputs": [],
   "source": [
    "path_to_ref='/home/vasilis/clustering_EQ/Human_reference/Homo_sapiens.GRCh38.rel79.cdna.all.fa.gz'\n",
    "\n",
    "def readENS_ids(path_to_ref):\n",
    "    TX_to_ENST={}\n",
    "    TX_to_ENSG={}\n",
    "    ENSG_isoforms={}\n",
    "    line_cnt=0;\n",
    "    tx_cnt=0;\n",
    "    with gzip.open(path_to_ref) as f:\n",
    "        for line in f:\n",
    "            if line.decode('UTF-8')[0]=='>':\n",
    "                liner=line.decode('UTF-8')\n",
    "                if line_cnt == union_list[tx_cnt]:\n",
    "                    TX_to_ENST[union_list[tx_cnt]] = 'ENST'+liner.split(\"ENST\",1)[1][:11]\n",
    "                    TX_to_ENSG[union_list[tx_cnt]] = 'ENSG'+liner.split(\"ENSG\",1)[1][:11]\n",
    "                    ENSG_isoforms[TX_to_ENSG[union_list[tx_cnt]]] = ENSG_isoforms.get(TX_to_ENSG[union_list[tx_cnt]], [])\n",
    "                    ENSG_isoforms[TX_to_ENSG[union_list[tx_cnt]]].append(TX_to_ENST[union_list[tx_cnt]])\n",
    "                    tx_cnt+=1 \n",
    "                    if tx_cnt==NUM_OF_TX_inTCC: return [TX_to_ENST,TX_to_ENSG,ENSG_isoforms]\n",
    "                line_cnt+=1\n",
    "    return [TX_to_ENST,TX_to_ENSG,ENSG_isoforms]\n",
    "\n",
    "\n",
    "[TX_to_ENST,TX_to_ENSG,ENSG_isoforms]=readENS_ids(path_to_ref)       "
   ]
  },
  {
   "cell_type": "code",
   "execution_count": 18,
   "metadata": {
    "collapsed": true
   },
   "outputs": [],
   "source": [
    "EC_ENST_DICT={}\n",
    "EC_ENSG_DICT={}\n",
    "for ec in nonzero_ec:\n",
    "    EC_ENST_DICT[ec] = [TX_to_ENST[tx] for tx in EC_dict[ec]]    \n",
    "    EC_ENSG_DICT[ec] = list(np.unique([TX_to_ENSG[tx] for tx in EC_dict[ec]])) "
   ]
  },
  {
   "cell_type": "code",
   "execution_count": 19,
   "metadata": {
    "collapsed": true
   },
   "outputs": [],
   "source": [
    "ENST_to_TX = {v: k for k, v in TX_to_ENST.items()}"
   ]
  },
  {
   "cell_type": "code",
   "execution_count": 20,
   "metadata": {
    "collapsed": true
   },
   "outputs": [],
   "source": [
    "#inv_map ; NOTE: genes and transcripts may be associated with multiple ensg accession numbers\n",
    "ENSG_EC_DICT={}\n",
    "for k, v in EC_ENSG_DICT.items():\n",
    "    for vi in v:\n",
    "        ENSG_EC_DICT[vi] = ENSG_EC_DICT.get(vi, [])\n",
    "        ENSG_EC_DICT[vi].append(k)\n",
    "        \n",
    "ENST_EC_DICT={}\n",
    "for k, v in EC_ENST_DICT.items():\n",
    "    for vi in v:\n",
    "        ENST_EC_DICT[vi] = ENST_EC_DICT.get(vi, [])\n",
    "        ENST_EC_DICT[vi].append(k)"
   ]
  },
  {
   "cell_type": "code",
   "execution_count": 21,
   "metadata": {},
   "outputs": [
    {
     "name": "stdout",
     "output_type": "stream",
     "text": [
      "NUM_OF_GENE_IDs = 25940\n"
     ]
    }
   ],
   "source": [
    "all_genes_ids = np.unique(list(TX_to_ENSG.values()))\n",
    "print(\"NUM_OF_GENE_IDs =\", len(all_genes_ids))"
   ]
  },
  {
   "cell_type": "code",
   "execution_count": 22,
   "metadata": {
    "collapsed": true
   },
   "outputs": [],
   "source": [
    "clean_gene_ids=[]\n",
    "\n",
    "for gene in all_genes_ids:\n",
    "    if len(list(np.unique([EC_ENSG_DICT[ec] for ec in ENSG_EC_DICT[gene]]))) == 1:\n",
    "        clean_gene_ids+=[gene]\n",
    "clean_gene_ids=np.array(clean_gene_ids)"
   ]
  },
  {
   "cell_type": "code",
   "execution_count": 23,
   "metadata": {},
   "outputs": [
    {
     "name": "stdout",
     "output_type": "stream",
     "text": [
      "NUM_OF_CLEAN_GENE_IDs = 6234\n"
     ]
    }
   ],
   "source": [
    "print(\"NUM_OF_CLEAN_GENE_IDs =\", len(clean_gene_ids))"
   ]
  },
  {
   "cell_type": "markdown",
   "metadata": {},
   "source": [
    "#### gene names"
   ]
  },
  {
   "cell_type": "code",
   "execution_count": 24,
   "metadata": {
    "collapsed": true
   },
   "outputs": [],
   "source": [
    "# #gene ids to gene names (requires \"pip install mygene\")\n",
    "# import mygene\n",
    "# mg = mygene.MyGeneInfo()\n",
    "# ginfo = mg.querymany(all_genes_ids, scopes='ensembl.gene',returnall=True)\n",
    "\n",
    "# with open('ginfo_MNC_0.pickle', 'wb') as handle:\n",
    "#     pickle.dump(ginfo, handle, protocol=pickle.HIGHEST_PROTOCOL)\n",
    "\n",
    "#LOAD\n",
    "with open('./ginfo_MNC_0.pickle', 'rb') as handle:\n",
    "    ginfo = pickle.load(handle)"
   ]
  },
  {
   "cell_type": "code",
   "execution_count": 25,
   "metadata": {
    "collapsed": true
   },
   "outputs": [],
   "source": [
    "missing_names=ginfo['missing']\n",
    "duplicate_names=ginfo['dup']"
   ]
  },
  {
   "cell_type": "code",
   "execution_count": 26,
   "metadata": {
    "collapsed": true
   },
   "outputs": [],
   "source": [
    "#ENSG to Gene-Names\n",
    "all_gene_id_to_names={} #missing are mapped to their ENSG id, Duplicates to a list of names\n",
    "count_exept=0\n",
    "for g in ginfo['out']:\n",
    "    try:\n",
    "        ensg_id=str(g['query'])\n",
    "        all_gene_id_to_names[ensg_id] = all_gene_id_to_names.get(ensg_id, [])\n",
    "        all_gene_id_to_names[ ensg_id].append(str(g['symbol']))                \n",
    "    except KeyError:\n",
    "        count_exept=count_exept+1\n",
    "        all_gene_id_to_names[ str(g['query']) ] = [str(g['query'])]\n",
    "        \n",
    "#Gene-Names to ENSG\n",
    "all_gene_names_to_id={} #missing are mapped to their ENSG id, Duplicates to a list of names\n",
    "count_exept=0\n",
    "for g in ginfo['out']:\n",
    "    try:\n",
    "        gene_name=str(g['symbol'])\n",
    "        all_gene_names_to_id[gene_name] = all_gene_names_to_id.get(gene_name, [])\n",
    "        all_gene_names_to_id[ gene_name].append(str(g['query']))                \n",
    "    except KeyError:\n",
    "        count_exept=count_exept+1\n",
    "        all_gene_names_to_id[ str(g['query']) ] = [str(g['query'])]"
   ]
  },
  {
   "cell_type": "code",
   "execution_count": 27,
   "metadata": {
    "collapsed": true
   },
   "outputs": [],
   "source": [
    "def search_gene(starting_letters):\n",
    "    print(\"SEARCHING: \",starting_letters,\"...\")\n",
    "    for gene in all_genes_ids:\n",
    "        if all_gene_id_to_names[gene][0][:len(starting_letters)] == starting_letters:\n",
    "            print(gene,all_gene_id_to_names[gene])\n",
    "    print(\"DONE\")"
   ]
  },
  {
   "cell_type": "code",
   "execution_count": 28,
   "metadata": {
    "collapsed": true
   },
   "outputs": [],
   "source": [
    "EC_IDX={}\n",
    "for i in range(len(nonzero_ec)):\n",
    "    EC_IDX[nonzero_ec[i]] =i "
   ]
  },
  {
   "cell_type": "markdown",
   "metadata": {},
   "source": [
    "# PTPRC"
   ]
  },
  {
   "cell_type": "code",
   "execution_count": 29,
   "metadata": {},
   "outputs": [
    {
     "data": {
      "text/plain": [
       "['ENSG00000081237', 'ENSG00000262418']"
      ]
     },
     "execution_count": 29,
     "metadata": {},
     "output_type": "execute_result"
    }
   ],
   "source": [
    "gene=\"PTPRC\"\n",
    "all_gene_names_to_id[gene]"
   ]
  },
  {
   "cell_type": "code",
   "execution_count": 30,
   "metadata": {
    "collapsed": true
   },
   "outputs": [],
   "source": [
    "gene_ecs0=[]\n",
    "for g in all_gene_names_to_id[gene]:\n",
    "    gene_ecs0+=ENSG_EC_DICT[g]\n",
    "gene_ecs0=np.unique(gene_ecs0)"
   ]
  },
  {
   "cell_type": "code",
   "execution_count": 31,
   "metadata": {},
   "outputs": [
    {
     "data": {
      "text/plain": [
       "array([185825, 199819, 211359, 224159, 232661, 238957, 246503, 247023,\n",
       "       250045, 250930, 252809, 260768, 274831, 288014, 297171, 314713,\n",
       "       330776, 364464, 428740, 512155, 572140, 577209, 599451, 599452,\n",
       "       599453, 615875, 656355, 658929, 658930, 658931, 658932, 658933,\n",
       "       689589, 712829, 713742, 715513, 722147, 745938])"
      ]
     },
     "execution_count": 31,
     "metadata": {},
     "output_type": "execute_result"
    }
   ],
   "source": [
    "gene_ecs0"
   ]
  },
  {
   "cell_type": "code",
   "execution_count": 32,
   "metadata": {
    "collapsed": true
   },
   "outputs": [],
   "source": [
    "ec_counts=[]\n",
    "for ec in gene_ecs0:\n",
    "    ec_counts+=[T[EC_IDX[ec],:].sum()]\n",
    "ec_nnz_cell_counts=[]\n",
    "for ec in gene_ecs0:\n",
    "    ec_nnz_cell_counts+=[T[EC_IDX[ec],:].nnz] \n",
    "    "
   ]
  },
  {
   "cell_type": "code",
   "execution_count": 33,
   "metadata": {},
   "outputs": [
    {
     "data": {
      "image/png": "[encoded data removed]",
      "text/plain": [
       "<matplotlib.figure.Figure at 0x7fd1a5ae9f28>"
      ]
     },
     "metadata": {},
     "output_type": "display_data"
    }
   ],
   "source": [
    "sns.set_style(\"darkgrid\")\n",
    "\n",
    "threshold=0.0025*T.shape[1]\n",
    "\n",
    "gene_ecs=gene_ecs0[np.where(np.array(ec_counts)>threshold)[0]]\n",
    "upto=len(gene_ecs)\n",
    "\n",
    "plt.figure(figsize=(8,5))\n",
    "plt.stem(range(len(ec_counts)),np.sort(ec_counts)[::-1],'gray',markerfmt='.')\n",
    "\n",
    "plt.xticks(range(len(ec_counts)),gene_ecs0[np.argsort(ec_counts)[::-1]],rotation='vertical')\n",
    "# plt.xlim([0,len(b)+0.9])\n",
    "\n",
    "plt.stem(range(upto),np.sort(ec_counts)[::-1][:upto])\n",
    "\n",
    "plt.axhline(y=threshold, color='darkred', linestyle='--',linewidth=1)\n",
    "plt.xlabel(\"equivalence classes\",fontsize=16)\n",
    "plt.ylabel(\"umi counts\",fontsize=16)\n",
    "plt.yscale('log')\n",
    "plt.show()"
   ]
  },
  {
   "cell_type": "code",
   "execution_count": 34,
   "metadata": {},
   "outputs": [
    {
     "name": "stdout",
     "output_type": "stream",
     "text": [
      "[185825 199819 211359 599451 599452 599453 615875]\n"
     ]
    }
   ],
   "source": [
    "print(gene_ecs)"
   ]
  },
  {
   "cell_type": "code",
   "execution_count": 35,
   "metadata": {},
   "outputs": [
    {
     "name": "stdout",
     "output_type": "stream",
     "text": [
      "['PTPRC']\n"
     ]
    }
   ],
   "source": [
    "associated_genes=[]\n",
    "for ec in gene_ecs:\n",
    "    associated_genes += [all_gene_id_to_names[ens][0] for ens in EC_ENSG_DICT[ec]]\n",
    "associated_genes=np.unique(associated_genes)\n",
    "print(associated_genes)"
   ]
  },
  {
   "cell_type": "code",
   "execution_count": 36,
   "metadata": {
    "collapsed": true
   },
   "outputs": [],
   "source": [
    "ecidx=np.array([EC_IDX[ec] for ec in gene_ecs])"
   ]
  },
  {
   "cell_type": "code",
   "execution_count": 37,
   "metadata": {},
   "outputs": [
    {
     "data": {
      "text/plain": [
       "array([ 62333,  69896,  76094, 214260, 214261, 214262, 223213])"
      ]
     },
     "execution_count": 37,
     "metadata": {},
     "output_type": "execute_result"
    }
   ],
   "source": [
    "ecidx"
   ]
  },
  {
   "cell_type": "code",
   "execution_count": 38,
   "metadata": {
    "collapsed": true
   },
   "outputs": [],
   "source": [
    "eq_classes=[]\n",
    "for i in ecidx:\n",
    "    tx_indices=EC_dict[nonzero_ec[i]]\n",
    "    tx_ens=[TX_to_ENST[t] for t in tx_indices]\n",
    "    eq_classes+=[tx_ens]"
   ]
  },
  {
   "cell_type": "code",
   "execution_count": 39,
   "metadata": {
    "scrolled": true
   },
   "outputs": [
    {
     "name": "stdout",
     "output_type": "stream",
     "text": [
      "{\n",
      " \"62333\": [\n",
      "  \"ENST00000348564\",\n",
      "  \"ENST00000442510\"\n",
      " ],\n",
      " \"69896\": [\n",
      "  \"ENST00000348564\",\n",
      "  \"ENST00000367367\",\n",
      "  \"ENST00000442510\",\n",
      "  \"ENST00000529828\",\n",
      "  \"ENST00000530727\",\n",
      "  \"ENST00000573477\",\n",
      "  \"ENST00000573679\",\n",
      "  \"ENST00000574441\",\n",
      "  \"ENST00000575923\",\n",
      "  \"ENST00000576833\"\n",
      " ],\n",
      " \"76094\": [\n",
      "  \"ENST00000413409\",\n",
      "  \"ENST00000571847\"\n",
      " ],\n",
      " \"214260\": [\n",
      "  \"ENST00000348564\",\n",
      "  \"ENST00000367367\",\n",
      "  \"ENST00000442510\",\n",
      "  \"ENST00000529828\"\n",
      " ],\n",
      " \"214261\": [\n",
      "  \"ENST00000348564\",\n",
      "  \"ENST00000367367\",\n",
      "  \"ENST00000442510\",\n",
      "  \"ENST00000529828\",\n",
      "  \"ENST00000530727\"\n",
      " ],\n",
      " \"214262\": [\n",
      "  \"ENST00000348564\",\n",
      "  \"ENST00000367367\",\n",
      "  \"ENST00000442510\",\n",
      "  \"ENST00000491302\",\n",
      "  \"ENST00000529828\",\n",
      "  \"ENST00000530727\",\n",
      "  \"ENST00000573477\",\n",
      "  \"ENST00000573679\",\n",
      "  \"ENST00000574441\",\n",
      "  \"ENST00000575803\",\n",
      "  \"ENST00000575923\",\n",
      "  \"ENST00000576833\"\n",
      " ],\n",
      " \"223213\": [\n",
      "  \"ENST00000348564\",\n",
      "  \"ENST00000367367\",\n",
      "  \"ENST00000367379\",\n",
      "  \"ENST00000442510\",\n",
      "  \"ENST00000529828\",\n",
      "  \"ENST00000530727\",\n",
      "  \"ENST00000573298\",\n",
      "  \"ENST00000573477\",\n",
      "  \"ENST00000573679\",\n",
      "  \"ENST00000574441\",\n",
      "  \"ENST00000575923\",\n",
      "  \"ENST00000576833\"\n",
      " ]\n",
      "}\n"
     ]
    }
   ],
   "source": [
    "import json\n",
    "eq_dict={}\n",
    "for i in range(len(eq_classes)):\n",
    "    eq_dict[str(ecidx[i])] = list(np.sort(eq_classes[i]))\n",
    "print(json.dumps(eq_dict, indent=1))"
   ]
  },
  {
   "cell_type": "markdown",
   "metadata": {},
   "source": [
    "# LogR"
   ]
  },
  {
   "cell_type": "code",
   "execution_count": 40,
   "metadata": {
    "collapsed": true
   },
   "outputs": [],
   "source": [
    "from sklearn.linear_model import LogisticRegression\n",
    "from sklearn.metrics import log_loss\n",
    "import statsmodels.api as sm\n",
    "from scipy import stats\n",
    "stats.chisqprob = lambda chisq, df: stats.chi2.sf(chisq, df)\n",
    "import math"
   ]
  },
  {
   "cell_type": "code",
   "execution_count": 41,
   "metadata": {
    "collapsed": true
   },
   "outputs": [],
   "source": [
    "labels=[]\n",
    "for name in cellnames:\n",
    "    if name[-1]=='N':\n",
    "        labels+=[0]\n",
    "    elif name[-1]=='M':\n",
    "        labels+=[1]\n",
    "    else:\n",
    "        labels+=[2]\n",
    "labels=np.array(labels)"
   ]
  },
  {
   "cell_type": "code",
   "execution_count": 42,
   "metadata": {
    "collapsed": true
   },
   "outputs": [],
   "source": [
    "def logr_ecidx(ecidx,X1,X2):\n",
    "    \n",
    "    N1=X1.shape[0]\n",
    "    N2=X2.shape[0]\n",
    "    logr_labels = np.concatenate((np.ones(N1),np.zeros(N2)),axis=0)\n",
    "    logr = LogisticRegression()\n",
    "    p_of_1=N1/float(N1+N2)\n",
    "    llnull=(N1+N2)*(p_of_1*np.log(p_of_1) + (1-p_of_1)*np.log(1-p_of_1))\n",
    "    k=len(ecidx)\n",
    "    \n",
    "    X1_ecidx=X1[:,ecidx].todense()\n",
    "    X2_ecidx=X2[:,ecidx].todense()\n",
    "    c=np.concatenate([X1_ecidx,X2_ecidx])\n",
    "    #c=np.concatenate([X1[:,ecidx],X2[:,ecidx]])\n",
    "    logr.fit(c,logr_labels)\n",
    "    pred=np.array(logr.predict_proba(c)[:,1])\n",
    "    gene_score=log_loss(logr_labels,pred)\n",
    "    llf=-gene_score*(N1+N2)\n",
    "    llr=llf-llnull\n",
    "    llr_pval = 1-stats.chi2.cdf(2*llr,k)\n",
    "    \n",
    "    return [logr,llr_pval]"
   ]
  },
  {
   "cell_type": "code",
   "execution_count": 43,
   "metadata": {
    "collapsed": true
   },
   "outputs": [],
   "source": [
    "X=T.T"
   ]
  },
  {
   "cell_type": "code",
   "execution_count": 44,
   "metadata": {},
   "outputs": [
    {
     "name": "stdout",
     "output_type": "stream",
     "text": [
      "naive cells:  9923\n",
      "mem cells:  9994\n",
      "cyto cells:  11914\n"
     ]
    }
   ],
   "source": [
    "X_naive=X[np.squeeze(labels==0),:]\n",
    "X_mem=X[np.squeeze(labels==1),:]\n",
    "X_cyto=X[np.squeeze(labels==2),:]\n",
    "\n",
    "\n",
    "\n",
    "\n",
    "print(\"naive cells: \",X_naive.shape[0])\n",
    "print(\"mem cells: \",X_mem.shape[0])\n",
    "print(\"cyto cells: \",X_cyto.shape[0])"
   ]
  },
  {
   "cell_type": "code",
   "execution_count": null,
   "metadata": {
    "collapsed": true
   },
   "outputs": [],
   "source": []
  },
  {
   "cell_type": "code",
   "execution_count": 45,
   "metadata": {
    "collapsed": true
   },
   "outputs": [],
   "source": [
    "np.random.seed(0)\n",
    "samples=3000\n",
    "\n",
    "randperm1=np.random.permutation(X_naive.shape[0])\n",
    "randperm2=np.random.permutation(X_mem.shape[0])\n",
    "randperm3=np.random.permutation(X_cyto.shape[0])"
   ]
  },
  {
   "cell_type": "code",
   "execution_count": 46,
   "metadata": {
    "collapsed": true
   },
   "outputs": [],
   "source": [
    "sns.set_style(\"white\")"
   ]
  },
  {
   "cell_type": "code",
   "execution_count": 47,
   "metadata": {},
   "outputs": [
    {
     "name": "stdout",
     "output_type": "stream",
     "text": [
      "(3000, 342638)\n",
      "(3000, 342638)\n",
      "pval= 9.16495524228e-06\n"
     ]
    },
    {
     "data": {
      "image/png": "[encoded data removed]",
      "text/plain": [
       "<matplotlib.figure.Figure at 0x7fd2377676d8>"
      ]
     },
     "metadata": {},
     "output_type": "display_data"
    },
    {
     "data": {
      "image/png": "[encoded data removed]",
      "text/plain": [
       "<matplotlib.figure.Figure at 0x7fd233340ef0>"
      ]
     },
     "metadata": {},
     "output_type": "display_data"
    },
    {
     "data": {
      "image/png": "[encoded data removed]",
      "text/plain": [
       "<matplotlib.figure.Figure at 0x7fd23334b438>"
      ]
     },
     "metadata": {},
     "output_type": "display_data"
    }
   ],
   "source": [
    "#positive control \n",
    "\n",
    "X1=X_naive[randperm1[:samples],:]\n",
    "X2=X_mem[randperm2[:samples],:]\n",
    "\n",
    "\n",
    "print(X1.shape)\n",
    "print(X2.shape)\n",
    "\n",
    "N1=X1.shape[0]\n",
    "N2=X2.shape[0]\n",
    "\n",
    "\n",
    "A=logr_ecidx(ecidx,X1,X2)\n",
    "print('pval=',A[1])\n",
    "\n",
    "\n",
    "X1_ecidx=X1[:,ecidx].todense()\n",
    "X2_ecidx=X2[:,ecidx].todense()\n",
    "\n",
    "\n",
    "E_naive_mean = np.array(np.mean(X1[:,ecidx],axis=0))[0]\n",
    "E_mem_mean = np.array(np.mean(X2[:,ecidx],axis=0))[0]\n",
    "\n",
    "P1=pd.DataFrame(X1_ecidx,columns=nonzero_ec[ecidx])\n",
    "P1['cluster'] = 'CD4+/CD45RA+/CD25- Naive T-cells'\n",
    "P2=pd.DataFrame(X2_ecidx,columns=nonzero_ec[ecidx])\n",
    "P2['cluster'] = 'CD4+/CD45RO+ Memory T-cells'\n",
    "P=P1.append(P2)\n",
    "df = pd.melt(P,  id_vars='cluster')\n",
    "\n",
    "plt.figure(figsize=(8,5))\n",
    "ax=sns.barplot(x='variable', y='value', hue='cluster',palette=[\"#FF1493\", \"#6495ED\"], data=df)\n",
    "ax.set(xlabel='Equivalence Classes', ylabel='mean counts (TCCs)')\n",
    "plt.title(gene)\n",
    "plt.setp(ax.get_legend().get_texts(), fontsize='13') \n",
    "plt.setp(ax.get_legend().get_title(), fontsize='0')\n",
    "plt.show()\n",
    "\n",
    "\n",
    "Gexp1=np.array(X1_ecidx.T.sum(axis=0))[0]\n",
    "Gexp2=np.array(X2_ecidx.T.sum(axis=0))[0]\n",
    "\n",
    "G_naive_mean = np.mean(Gexp1)\n",
    "G_mem_mean = np.mean(Gexp2)\n",
    "\n",
    "P1=pd.DataFrame(Gexp1.T,)\n",
    "P1['cluster'] = 'CD4+/CD45RA+/CD25- Naive T-cells'\n",
    "P2=pd.DataFrame(Gexp2.T)\n",
    "P2['cluster'] = 'CD4+/CD45RO+ Memory T-cells'\n",
    "P=P1.append(P2)\n",
    "df = pd.melt(P,  id_vars='cluster')\n",
    "\n",
    "plt.figure(figsize=(1,5))\n",
    "ax=sns.barplot(x='variable', y='value', hue='cluster',palette=[\"#FF1493\", \"#6495ED\"], data=df)\n",
    "ax.set(xlabel='', ylabel='mean counts (Gene)')\n",
    "ax.legend_.remove()\n",
    "plt.title(gene)\n",
    "plt.show()\n",
    "\n",
    "\n",
    "A1=np.array(np.dot(X1_ecidx,-A[0].coef_[0]))[0]\n",
    "A2=np.array(np.dot(X2_ecidx,-A[0].coef_[0]))[0]\n",
    "\n",
    "P1=pd.DataFrame(A1.T,)\n",
    "P1['cluster'] = 'CD4+/CD45RA+/CD25- Naive T-cells'\n",
    "P2=pd.DataFrame(A2.T)\n",
    "P2['cluster'] = 'CD4+/CD45RO+ Memory T-cells'\n",
    "P=P1.append(P2)\n",
    "df = pd.melt(P,  id_vars='cluster')\n",
    "\n",
    "plt.figure(figsize=(1,5))\n",
    "ax=sns.barplot(x='variable', y='value', hue='cluster',palette=[\"#FF1493\", \"#6495ED\"], data=df)\n",
    "ax.set(xlabel='', ylabel='')\n",
    "ax.legend_.remove()\n",
    "plt.title(\"LogR\")\n",
    "plt.show()\n"
   ]
  },
  {
   "cell_type": "code",
   "execution_count": 48,
   "metadata": {},
   "outputs": [
    {
     "name": "stdout",
     "output_type": "stream",
     "text": [
      "Optimization terminated successfully.\n",
      "         Current function value: 0.690189\n",
      "         Iterations 5\n",
      "                           Logit Regression Results                           \n",
      "==============================================================================\n",
      "Dep. Variable:                      y   No. Observations:                 6000\n",
      "Model:                          Logit   Df Residuals:                     5992\n",
      "Method:                           MLE   Df Model:                            7\n",
      "Date:                Mon, 05 Nov 2018   Pseudo R-squ.:                0.004268\n",
      "Time:                        15:52:05   Log-Likelihood:                -4141.1\n",
      "converged:                       True   LL-Null:                       -4158.9\n",
      "                                        LLR p-value:                 9.017e-06\n",
      "==============================================================================\n",
      "                 coef    std err          z      P>|z|      [0.025      0.975]\n",
      "------------------------------------------------------------------------------\n",
      "const          0.0202      0.028      0.721      0.471      -0.035       0.075\n",
      "x1            -0.2542      0.062     -4.112      0.000      -0.375      -0.133\n",
      "x2             0.4155      0.236      1.761      0.078      -0.047       0.878\n",
      "x3            -0.6081      0.294     -2.067      0.039      -1.185      -0.031\n",
      "x4             0.1364      0.155      0.880      0.379      -0.167       0.440\n",
      "x5             0.0060      0.199      0.030      0.976      -0.384       0.396\n",
      "x6            -0.1913      0.339     -0.565      0.572      -0.856       0.473\n",
      "x7             0.1791      0.209      0.858      0.391      -0.230       0.588\n",
      "==============================================================================\n",
      "            chi2                 P>chi2  df constraint\n",
      "const   0.519920     0.4708759367874066              8\n",
      "x1     16.908324  3.922918176560923e-05              8\n",
      "x2      3.102385    0.07817770468138945              8\n",
      "x3      4.271582    0.03875482616898702              8\n",
      "x4      0.774685     0.3787715262920839              8\n",
      "x5      0.000895     0.9761342516777425              8\n",
      "x6      0.318728     0.5723729101417001              8\n",
      "x7      0.736856     0.3906700278793629              8\n"
     ]
    },
    {
     "data": {
      "text/plain": [
       "<Container object of 3 artists>"
      ]
     },
     "execution_count": 48,
     "metadata": {},
     "output_type": "execute_result"
    },
    {
     "data": {
      "image/png": "[encoded data removed]",
      "text/plain": [
       "<matplotlib.figure.Figure at 0x7fd1458da6a0>"
      ]
     },
     "metadata": {},
     "output_type": "display_data"
    }
   ],
   "source": [
    "N1=X1.shape[0]\n",
    "N2=X2.shape[0]\n",
    "logr_labels = np.concatenate((np.ones(N1),np.zeros(N2)),axis=0)\n",
    "\n",
    "X1_ecidx=X1[:,ecidx].todense()\n",
    "X2_ecidx=X2[:,ecidx].todense()\n",
    "c=np.concatenate([X1_ecidx,X2_ecidx])\n",
    "c=np.concatenate([np.ones((N1+N2,1)),c],axis=1)\n",
    "logit = sm.Logit( logr_labels,c)\n",
    "\n",
    "\n",
    "# fit the model\n",
    "result = logit.fit()\n",
    "print( result.summary())\n",
    "print(result.wald_test_terms())\n",
    "plt.stem(np.log(result.pvalues))"
   ]
  },
  {
   "cell_type": "code",
   "execution_count": 49,
   "metadata": {},
   "outputs": [
    {
     "name": "stdout",
     "output_type": "stream",
     "text": [
      "(3000, 342638)\n",
      "(3000, 342638)\n",
      "pval= 0.721686604101\n"
     ]
    },
    {
     "data": {
      "image/png": "[encoded data removed]",
      "text/plain": [
       "<matplotlib.figure.Figure at 0x7fd1a4292c50>"
      ]
     },
     "metadata": {},
     "output_type": "display_data"
    },
    {
     "data": {
      "image/png": "[encoded data removed]",
      "text/plain": [
       "<matplotlib.figure.Figure at 0x7fd19c8043c8>"
      ]
     },
     "metadata": {},
     "output_type": "display_data"
    },
    {
     "data": {
      "image/png": "[encoded data removed]",
      "text/plain": [
       "<matplotlib.figure.Figure at 0x7fd19c7baef0>"
      ]
     },
     "metadata": {},
     "output_type": "display_data"
    }
   ],
   "source": [
    "#negative control \n",
    "\n",
    "X1=X_naive[randperm1[:samples],:]\n",
    "X2=X_cyto[randperm3[:samples],:]\n",
    "\n",
    "\n",
    "print(X1.shape)\n",
    "print(X2.shape)\n",
    "\n",
    "N1=X1.shape[0]\n",
    "N2=X2.shape[0]\n",
    "\n",
    "\n",
    "A=logr_ecidx(ecidx,X1,X2)\n",
    "print('pval=',A[1])\n",
    "\n",
    "\n",
    "X1_ecidx=X1[:,ecidx].todense()\n",
    "X2_ecidx=X2[:,ecidx].todense()\n",
    "\n",
    "\n",
    "E_cyto_mean = np.array(np.mean(X2[:,ecidx],axis=0))[0]\n",
    "\n",
    "P1=pd.DataFrame(X1_ecidx,columns=nonzero_ec[ecidx])\n",
    "P1['cluster'] = 'CD4+/CD45RA+/CD25- Naive T-cells'\n",
    "P2=pd.DataFrame(X2_ecidx,columns=nonzero_ec[ecidx])\n",
    "P2['cluster'] = 'CD8+/CD45RA+ Naive Cytotoxic T-cells'\n",
    "P=P1.append(P2)\n",
    "df = pd.melt(P,  id_vars='cluster')\n",
    "\n",
    "plt.figure(figsize=(8,5))\n",
    "ax=sns.barplot(x='variable', y='value', hue='cluster',palette=[\"#FF1493\", \"#66dd5c\"], data=df)\n",
    "ax.set(xlabel='Equivalence Classes', ylabel='mean counts (TCCs)')\n",
    "plt.title(gene)\n",
    "plt.setp(ax.get_legend().get_texts(), fontsize='13') \n",
    "plt.setp(ax.get_legend().get_title(), fontsize='0')\n",
    "plt.show()\n",
    "\n",
    "\n",
    "Gexp1=np.array(X1_ecidx.T.sum(axis=0))[0]\n",
    "Gexp2=np.array(X2_ecidx.T.sum(axis=0))[0]\n",
    "\n",
    "G_cyto_mean = np.mean(Gexp2)\n",
    "\n",
    "P1=pd.DataFrame(Gexp1.T,)\n",
    "P1['cluster'] = 'CD4+/CD45RA+/CD25- Naive T-cells'\n",
    "P2=pd.DataFrame(Gexp2.T)\n",
    "P2['cluster'] = 'CD8+/CD45RA+ Naive Cytotoxic T-cells'\n",
    "P=P1.append(P2)\n",
    "df = pd.melt(P,  id_vars='cluster')\n",
    "\n",
    "plt.figure(figsize=(1,5))\n",
    "ax=sns.barplot(x='variable', y='value', hue='cluster',palette=[\"#FF1493\", \"#66dd5c\"], data=df)\n",
    "ax.set(xlabel='', ylabel='mean counts (Gene)')\n",
    "ax.legend_.remove()\n",
    "plt.title(gene)\n",
    "plt.show()\n",
    "\n",
    "\n",
    "A1=np.array(np.dot(X1_ecidx,A[0].coef_[0]))[0]\n",
    "A2=np.array(np.dot(X2_ecidx,A[0].coef_[0]))[0]\n",
    "\n",
    "P1=pd.DataFrame(A1.T,)\n",
    "P1['cluster'] = 'CD4+/CD45RA+/CD25- Naive T-cells'\n",
    "P2=pd.DataFrame(A2.T)\n",
    "P2['cluster'] = 'CD8+/CD45RA+ Naive Cytotoxic T-cells'\n",
    "P=P1.append(P2)\n",
    "df = pd.melt(P,  id_vars='cluster')\n",
    "\n",
    "\n",
    "plt.figure(figsize=(1,5))\n",
    "ax=sns.barplot(x='variable', y='value', hue='cluster',palette=[\"#FF1493\", \"#66dd5c\"], data=df)\n",
    "ax.set(xlabel='', ylabel='')\n",
    "ax.legend_.remove()\n",
    "plt.title(\"LogR\")\n",
    "plt.show()"
   ]
  },
  {
   "cell_type": "code",
   "execution_count": 50,
   "metadata": {},
   "outputs": [
    {
     "name": "stdout",
     "output_type": "stream",
     "text": [
      "Optimization terminated successfully.\n",
      "         Current function value: 0.692772\n",
      "         Iterations 4\n",
      "                           Logit Regression Results                           \n",
      "==============================================================================\n",
      "Dep. Variable:                      y   No. Observations:                 6000\n",
      "Model:                          Logit   Df Residuals:                     5992\n",
      "Method:                           MLE   Df Model:                            7\n",
      "Date:                Mon, 05 Nov 2018   Pseudo R-squ.:               0.0005414\n",
      "Time:                        15:52:08   Log-Likelihood:                -4156.6\n",
      "converged:                       True   LL-Null:                       -4158.9\n",
      "                                        LLR p-value:                    0.7203\n",
      "==============================================================================\n",
      "                 coef    std err          z      P>|z|      [0.025      0.975]\n",
      "------------------------------------------------------------------------------\n",
      "const         -0.0054      0.028     -0.193      0.847      -0.060       0.049\n",
      "x1            -0.0283      0.066     -0.431      0.666      -0.157       0.100\n",
      "x2             0.0388      0.213      0.182      0.855      -0.378       0.456\n",
      "x3             0.1563      0.380      0.411      0.681      -0.589       0.902\n",
      "x4            -0.0672      0.136     -0.493      0.622      -0.334       0.200\n",
      "x5             0.0879      0.181      0.485      0.628      -0.267       0.443\n",
      "x6             0.2390      0.362      0.659      0.510      -0.471       0.949\n",
      "x7             0.2444      0.202      1.210      0.226      -0.152       0.640\n",
      "==============================================================================\n",
      "           chi2              P>chi2  df constraint\n",
      "const  0.037185  0.8470890092588096              8\n",
      "x1     0.185844  0.6663984752755834              8\n",
      "x2     0.033287  0.8552322026096061              8\n",
      "x3     0.168805  0.6811763101389022              8\n",
      "x4     0.243389  0.6217693949379512              8\n",
      "x5     0.235399  0.6275492478591272              8\n",
      "x6     0.434610  0.5097356400285986              8\n",
      "x7     1.463184  0.2264242471817239              8\n"
     ]
    },
    {
     "data": {
      "text/plain": [
       "<Container object of 3 artists>"
      ]
     },
     "execution_count": 50,
     "metadata": {},
     "output_type": "execute_result"
    },
    {
     "data": {
      "image/png": "[encoded data removed]",
      "text/plain": [
       "<matplotlib.figure.Figure at 0x7fd144feca20>"
      ]
     },
     "metadata": {},
     "output_type": "display_data"
    }
   ],
   "source": [
    "N1=X1.shape[0]\n",
    "N2=X2.shape[0]\n",
    "logr_labels = np.concatenate((np.ones(N1),np.zeros(N2)),axis=0)\n",
    "\n",
    "X1_ecidx=X1[:,ecidx].todense()\n",
    "X2_ecidx=X2[:,ecidx].todense()\n",
    "c=np.concatenate([X1_ecidx,X2_ecidx])\n",
    "c=np.concatenate([np.ones((N1+N2,1)),c],axis=1)\n",
    "logit = sm.Logit( logr_labels,c)\n",
    "\n",
    "\n",
    "# fit the model\n",
    "result = logit.fit()\n",
    "print( result.summary())\n",
    "print(result.wald_test_terms())\n",
    "plt.stem(np.log(result.pvalues))"
   ]
  },
  {
   "cell_type": "code",
   "execution_count": 51,
   "metadata": {},
   "outputs": [
    {
     "name": "stdout",
     "output_type": "stream",
     "text": [
      "(3000, 342638)\n",
      "(3000, 342638)\n",
      "pval= 0.000279477161797\n"
     ]
    },
    {
     "data": {
      "image/png": "[encoded data removed]",
      "text/plain": [
       "<matplotlib.figure.Figure at 0x7fd19dc1b7f0>"
      ]
     },
     "metadata": {},
     "output_type": "display_data"
    },
    {
     "data": {
      "image/png": "[encoded data removed]",
      "text/plain": [
       "<matplotlib.figure.Figure at 0x7fd144fb4198>"
      ]
     },
     "metadata": {},
     "output_type": "display_data"
    },
    {
     "data": {
      "image/png": "[encoded data removed]",
      "text/plain": [
       "<matplotlib.figure.Figure at 0x7fd19d9bd978>"
      ]
     },
     "metadata": {},
     "output_type": "display_data"
    }
   ],
   "source": [
    "#positive control \n",
    "\n",
    "X1=X_cyto[randperm3[:samples],:]\n",
    "X2=X_mem[randperm2[:samples],:]\n",
    "\n",
    "\n",
    "\n",
    "print(X1.shape)\n",
    "print(X2.shape)\n",
    "\n",
    "N1=X1.shape[0]\n",
    "N2=X2.shape[0]\n",
    "\n",
    "\n",
    "A=logr_ecidx(ecidx,X1,X2)\n",
    "print('pval=',A[1])\n",
    "\n",
    "\n",
    "X1_ecidx=X1[:,ecidx].todense()\n",
    "X2_ecidx=X2[:,ecidx].todense()\n",
    "\n",
    "P1=pd.DataFrame(X1_ecidx,columns=nonzero_ec[ecidx])\n",
    "P1['cluster'] = 'CD8+/CD45RA+ Naive Cytotoxic T-cells'\n",
    "P2=pd.DataFrame(X2_ecidx,columns=nonzero_ec[ecidx])\n",
    "P2['cluster'] = 'CD4+/CD45RO+ Memory T-cells'\n",
    "P=P1.append(P2)\n",
    "df = pd.melt(P,  id_vars='cluster')\n",
    "\n",
    "plt.figure(figsize=(8,5))\n",
    "ax=sns.barplot(x='variable', y='value', hue='cluster',palette=[\"#66dd5c\",\"#6495ED\"], data=df)\n",
    "ax.set(xlabel='Equivalence Classes', ylabel='mean counts (TCCs)')\n",
    "plt.title(gene)\n",
    "plt.setp(ax.get_legend().get_texts(), fontsize='13') \n",
    "plt.setp(ax.get_legend().get_title(), fontsize='0')\n",
    "plt.show()\n",
    "\n",
    "\n",
    "Gexp1=np.array(X1_ecidx.T.sum(axis=0))[0]\n",
    "Gexp2=np.array(X2_ecidx.T.sum(axis=0))[0]\n",
    "\n",
    "P1=pd.DataFrame(Gexp1.T,)\n",
    "P1['cluster'] = 'CD8+/CD45RA+ Naive Cytotoxic T-cells'\n",
    "P2=pd.DataFrame(Gexp2.T)\n",
    "P2['cluster'] = 'CD4+/CD45RO+ Memory T-cells'\n",
    "P=P1.append(P2)\n",
    "df = pd.melt(P,  id_vars='cluster')\n",
    "\n",
    "plt.figure(figsize=(1,5))\n",
    "ax=sns.barplot(x='variable', y='value', hue='cluster',palette=[\"#66dd5c\",\"#6495ED\"], data=df)\n",
    "ax.set(xlabel='', ylabel='mean counts (Gene)')\n",
    "ax.legend_.remove()\n",
    "plt.title(gene)\n",
    "plt.show()\n",
    "\n",
    "\n",
    "A1=np.array(np.dot(X1_ecidx,-A[0].coef_[0]))[0]\n",
    "A2=np.array(np.dot(X2_ecidx,-A[0].coef_[0]))[0]\n",
    "\n",
    "P1=pd.DataFrame(A1.T,)\n",
    "P1['cluster'] = 'CD8+/CD45RA+ Naive Cytotoxic T-cells'\n",
    "P2=pd.DataFrame(A2.T)\n",
    "P2['cluster'] = 'CD4+/CD45RO+ Memory T-cells'\n",
    "P=P1.append(P2)\n",
    "df = pd.melt(P,  id_vars='cluster')\n",
    "\n",
    "\n",
    "plt.figure(figsize=(1,5))\n",
    "ax=sns.barplot(x='variable', y='value', hue='cluster',palette=[\"#66dd5c\",\"#6495ED\"], data=df)\n",
    "ax.set(xlabel='', ylabel='')\n",
    "ax.legend_.remove()\n",
    "plt.title(\"LogR\")\n",
    "plt.show()"
   ]
  },
  {
   "cell_type": "code",
   "execution_count": 52,
   "metadata": {},
   "outputs": [
    {
     "name": "stdout",
     "output_type": "stream",
     "text": [
      "Optimization terminated successfully.\n",
      "         Current function value: 0.690856\n",
      "         Iterations 5\n",
      "                           Logit Regression Results                           \n",
      "==============================================================================\n",
      "Dep. Variable:                      y   No. Observations:                 6000\n",
      "Model:                          Logit   Df Residuals:                     5992\n",
      "Method:                           MLE   Df Model:                            7\n",
      "Date:                Mon, 05 Nov 2018   Pseudo R-squ.:                0.003305\n",
      "Time:                        15:52:11   Log-Likelihood:                -4145.1\n",
      "converged:                       True   LL-Null:                       -4158.9\n",
      "                                        LLR p-value:                 0.0002715\n",
      "==============================================================================\n",
      "                 coef    std err          z      P>|z|      [0.025      0.975]\n",
      "------------------------------------------------------------------------------\n",
      "const          0.0243      0.028      0.864      0.388      -0.031       0.079\n",
      "x1            -0.2274      0.061     -3.705      0.000      -0.348      -0.107\n",
      "x2             0.3724      0.246      1.516      0.130      -0.109       0.854\n",
      "x3            -0.7320      0.310     -2.363      0.018      -1.339      -0.125\n",
      "x4             0.2163      0.148      1.457      0.145      -0.075       0.507\n",
      "x5            -0.1007      0.194     -0.519      0.604      -0.481       0.279\n",
      "x6            -0.3966      0.361     -1.097      0.273      -1.105       0.312\n",
      "x7            -0.0052      0.221     -0.024      0.981      -0.438       0.428\n",
      "==============================================================================\n",
      "            chi2                  P>chi2  df constraint\n",
      "const   0.746729     0.38751386813396094              8\n",
      "x1     13.727969  0.00021128454239669365              8\n",
      "x2      2.297919      0.1295474813879886              8\n",
      "x3      5.584868     0.01811630258233338              8\n",
      "x4      2.123301     0.14507353664480577              8\n",
      "x5      0.269633      0.6035780601181442              8\n",
      "x6      1.203747      0.2725739973329874              8\n",
      "x7      0.000555      0.9812125757770924              8\n"
     ]
    },
    {
     "data": {
      "text/plain": [
       "<Container object of 3 artists>"
      ]
     },
     "execution_count": 52,
     "metadata": {},
     "output_type": "execute_result"
    },
    {
     "data": {
      "image/png": "[encoded data removed]",
      "text/plain": [
       "<matplotlib.figure.Figure at 0x7fd14594ea58>"
      ]
     },
     "metadata": {},
     "output_type": "display_data"
    }
   ],
   "source": [
    "N1=X1.shape[0]\n",
    "N2=X2.shape[0]\n",
    "logr_labels = np.concatenate((np.ones(N1),np.zeros(N2)),axis=0)\n",
    "\n",
    "X1_ecidx=X1[:,ecidx].todense()\n",
    "X2_ecidx=X2[:,ecidx].todense()\n",
    "c=np.concatenate([X1_ecidx,X2_ecidx])\n",
    "c=np.concatenate([np.ones((N1+N2,1)),c],axis=1)\n",
    "logit = sm.Logit( logr_labels,c)\n",
    "\n",
    "\n",
    "# fit the model\n",
    "result = logit.fit()\n",
    "print( result.summary())\n",
    "print(result.wald_test_terms())\n",
    "plt.stem(np.log(result.pvalues))"
   ]
  },
  {
   "cell_type": "code",
   "execution_count": null,
   "metadata": {
    "collapsed": true
   },
   "outputs": [],
   "source": []
  },
  {
   "cell_type": "code",
   "execution_count": 53,
   "metadata": {
    "collapsed": true
   },
   "outputs": [],
   "source": [
    "from scipy.stats import ttest_ind\n",
    "\n",
    "def ttest_ecidx(ecidx,X1,X2):\n",
    "    \n",
    "    N1=X1.shape[0]\n",
    "    N2=X2.shape[0]\n",
    "    logr_labels = np.concatenate((np.ones(N1),np.zeros(N2)),axis=0)\n",
    "    \n",
    "    k=len(ecidx)\n",
    "    \n",
    "    X1_ecidx=X1[:,ecidx].todense()\n",
    "    X2_ecidx=X2[:,ecidx].todense()\n",
    "    \n",
    "    pvals=[]\n",
    "    for j in range(k):\n",
    "        a=X1_ecidx[:,j]\n",
    "        b=X2_ecidx[:,j]\n",
    "        [o,p]=ttest_ind(a,b,equal_var=False)\n",
    "        pvals+=[p]\n",
    "    pval=np.min([1,np.min(np.array(pvals))*k])\n",
    "    g1=np.sum(X1_ecidx,axis=1)\n",
    "    g2=np.sum(X2_ecidx,axis=1)\n",
    "    [o,gene_pval]=ttest_ind(g1,g2,equal_var=False)\n",
    "    all_pvals=np.array([np.min([1,k*p]) for p in pvals])\n",
    "    return pval,all_pvals,gene_pval[0]\n",
    "\n",
    "\n",
    "def logr_gene(ecidx,X1,X2):\n",
    "    \n",
    "    N1=X1.shape[0]\n",
    "    N2=X2.shape[0]\n",
    "    logr_labels = np.concatenate((np.ones(N1),np.zeros(N2)),axis=0)\n",
    "    logr = LogisticRegression()\n",
    "    p_of_1=N1/float(N1+N2)\n",
    "    llnull=(N1+N2)*(p_of_1*np.log(p_of_1) + (1-p_of_1)*np.log(1-p_of_1))\n",
    "  \n",
    "    k=1\n",
    "    \n",
    "    X1_ecidx=X1[:,ecidx].todense()\n",
    "    X2_ecidx=X2[:,ecidx].todense()\n",
    "    \n",
    "    g1=np.sum(X1_ecidx,axis=1)\n",
    "    g2=np.sum(X2_ecidx,axis=1)\n",
    "    \n",
    "    c=np.concatenate([g1,g2])\n",
    "    logr.fit(c,logr_labels)\n",
    "    pred=np.array(logr.predict_proba(c)[:,1])\n",
    "    gene_score=log_loss(logr_labels,pred)\n",
    "    llf=-gene_score*(N1+N2)\n",
    "    llr=llf-llnull\n",
    "    llr_pval = 1-stats.chi2.cdf(2*llr,k)\n",
    "    \n",
    "    return [logr,llr_pval]\n",
    "\n",
    "\n",
    "def logr_indep(ecidx,X1,X2):\n",
    "    pvals_tmp=[]\n",
    "    for j in ecidx:\n",
    "        B=logr_ecidx([j],X1,X2)\n",
    "        pvals_tmp+=[B[1]]\n",
    "    pval_sep=np.min([1,np.min(np.array(pvals_tmp))*len(ecidx)])\n",
    "    all_pvals=np.array([np.min([1,p*len(ecidx)]) for p in pvals_tmp])\n",
    "    \n",
    "    return [all_pvals,pval_sep]"
   ]
  },
  {
   "cell_type": "code",
   "execution_count": 54,
   "metadata": {},
   "outputs": [
    {
     "name": "stdout",
     "output_type": "stream",
     "text": [
      "--------mem/naive----------\n",
      "-log10_GENE-pval= 0.18785945293\n",
      "-log10_LOGR-pval= 5.03786965161\n",
      "-log10_INDT-pval_min= 3.49600728797\n",
      "-log10_INDT-pvals=\n",
      " [ 3.49600729  2.08457768  0.6778492  -0.         -0.         -0.\n",
      "  1.66164603]\n",
      "--------cyto/mem----------\n",
      "-log10_GENE-pval= 0.605083243201\n",
      "-log10_LOGR-pval= 3.55365367583\n",
      "-log10_INDT-pval_min= 2.75675369807\n",
      "-log10_INDT-pvals=\n",
      " [ 2.7567537   0.3816539   1.06005474  0.00644869 -0.         -0.         -0.        ]\n",
      "--------naive/cyto----------\n",
      "-log10_GENE-pval= 0.299542855175\n",
      "-log10_LOGR-pval= 0.141651355973\n",
      "-log10_INDT-pval_min= 0.322907578562\n",
      "-log10_INDT-pvals=\n",
      " [-0.         -0.         -0.         -0.         -0.         -0.\n",
      "  0.32290758]\n"
     ]
    }
   ],
   "source": [
    "print('--------mem/naive----------')\n",
    "X1=X_naive[randperm1[:samples],:]\n",
    "X2=X_mem[randperm2[:samples],:]\n",
    "aA1=logr_ecidx(ecidx,X1,X2)\n",
    "bB1=logr_gene(ecidx,X1,X2)\n",
    "cC1=logr_indep(ecidx,X1,X2)\n",
    "print('-log10_GENE-pval=',-np.log10(bB1[1]))\n",
    "print('-log10_LOGR-pval=',-np.log10(aA1[1]))\n",
    "print('-log10_INDT-pval_min=',-np.log10(cC1[1]))\n",
    "print('-log10_INDT-pvals=\\n',-np.log10(cC1[0]))\n",
    "\n",
    "print('--------cyto/mem----------')\n",
    "X1=X_cyto[randperm3[:samples],:]\n",
    "X2=X_mem[randperm2[:samples],:]\n",
    "aA2=logr_ecidx(ecidx,X1,X2)\n",
    "bB2=logr_gene(ecidx,X1,X2)\n",
    "cC2=logr_indep(ecidx,X1,X2)\n",
    "print('-log10_GENE-pval=',-np.log10(bB2[1]))\n",
    "print('-log10_LOGR-pval=',-np.log10(aA2[1]))\n",
    "print('-log10_INDT-pval_min=',-np.log10(cC2[1]))\n",
    "print('-log10_INDT-pvals=\\n',-np.log10(cC2[0]))\n",
    "\n",
    "print('--------naive/cyto----------')\n",
    "X1=X_naive[randperm1[:samples],:]\n",
    "X2=X_cyto[randperm3[:samples],:]\n",
    "aA3=logr_ecidx(ecidx,X1,X2)\n",
    "bB3=logr_gene(ecidx,X1,X2)\n",
    "cC3=logr_indep(ecidx,X1,X2)\n",
    "print('-log10_GENE-pval=',-np.log10(bB3[1]))\n",
    "print('-log10_LOGR-pval=',-np.log10(aA3[1]))\n",
    "print('-log10_INDT-pval_min=',-np.log10(cC3[1]))\n",
    "print('-log10_INDT-pvals=\\n',-np.log10(cC3[0]))"
   ]
  },
  {
   "cell_type": "markdown",
   "metadata": {},
   "source": [
    "### Mem-Naive"
   ]
  },
  {
   "cell_type": "code",
   "execution_count": 55,
   "metadata": {
    "scrolled": true
   },
   "outputs": [
    {
     "name": "stdout",
     "output_type": "stream",
     "text": [
      "0 \t logr pval= 9.16495524228e-06 \t sepLR pval= 0.000319148429779 \t gene pval= 0.648844379623\n",
      "1 \t logr pval= 9.13170923578e-06 \t sepLR pval= 5.83746445515e-07 \t gene pval= 0.021772128785\n",
      "2 \t logr pval= 0.000148094002777 \t sepLR pval= 0.00320678007969 \t gene pval= 0.478495587257\n",
      "3 \t logr pval= 0.000429046499225 \t sepLR pval= 0.00763794596729 \t gene pval= 0.746753980203\n",
      "4 \t logr pval= 5.17134131406e-07 \t sepLR pval= 1.0486494525e-06 \t gene pval= 0.447571019378\n",
      "5 \t logr pval= 0.130618082316 \t sepLR pval= 0.377871204256 \t gene pval= 0.733042039003\n",
      "6 \t logr pval= 5.00753412069e-08 \t sepLR pval= 1.66550985958e-05 \t gene pval= 0.250225521813\n",
      "7 \t logr pval= 0.000316304960972 \t sepLR pval= 0.0105580870864 \t gene pval= 0.851440893018\n",
      "8 \t logr pval= 0.0308109939978 \t sepLR pval= 0.0216296145039 \t gene pval= 0.440758273738\n",
      "9 \t logr pval= 0.0004694632142 \t sepLR pval= 0.00949098373315 \t gene pval= 0.460451546417\n",
      "10 \t logr pval= 0.00348643181666 \t sepLR pval= 0.00537606408993 \t gene pval= 0.42446892374\n",
      "11 \t logr pval= 0.000249558948148 \t sepLR pval= 0.00141611121601 \t gene pval= 0.235591381852\n",
      "12 \t logr pval= 6.45824321756e-05 \t sepLR pval= 0.00353590785566 \t gene pval= 0.142845969298\n",
      "13 \t logr pval= 0.000966172097742 \t sepLR pval= 0.00841766827657 \t gene pval= 0.835049420592\n",
      "14 \t logr pval= 1.55391495871e-05 \t sepLR pval= 0.00938608738995 \t gene pval= 0.608642219334\n",
      "15 \t logr pval= 0.00483623564526 \t sepLR pval= 0.0213561447421 \t gene pval= 0.312167218447\n",
      "16 \t logr pval= 8.78239595226e-06 \t sepLR pval= 0.000380875179437 \t gene pval= 0.776775114709\n",
      "17 \t logr pval= 5.19657318443e-06 \t sepLR pval= 0.00622787876429 \t gene pval= 0.67658843535\n",
      "18 \t logr pval= 0.000164567490564 \t sepLR pval= 0.0102943747238 \t gene pval= 0.880357579398\n",
      "19 \t logr pval= 9.72369199821e-05 \t sepLR pval= 0.00376425744584 \t gene pval= 0.54840310555\n",
      "20 \t logr pval= 0.000182239273077 \t sepLR pval= 0.00501816047365 \t gene pval= 0.986168746574\n",
      "21 \t logr pval= 9.77691215308e-05 \t sepLR pval= 0.000461854906228 \t gene pval= 0.930348772249\n",
      "22 \t logr pval= 0.000149282562089 \t sepLR pval= 0.0337379839655 \t gene pval= 0.689741422814\n",
      "23 \t logr pval= 0.00046779718586 \t sepLR pval= 0.0239504636218 \t gene pval= 0.774256676427\n",
      "24 \t logr pval= 0.000488819493606 \t sepLR pval= 0.000203443436154 \t gene pval= 0.0386667112782\n",
      "25 \t logr pval= 1.30864047454e-06 \t sepLR pval= 0.00209453090218 \t gene pval= 0.839904030344\n",
      "26 \t logr pval= 8.82413240147e-05 \t sepLR pval= 0.00182582013168 \t gene pval= 0.813111141141\n",
      "27 \t logr pval= 7.75156836421e-05 \t sepLR pval= 0.00118489231325 \t gene pval= 0.337834877395\n",
      "28 \t logr pval= 9.38747199541e-06 \t sepLR pval= 1.70068288774e-06 \t gene pval= 0.0146435280074\n",
      "29 \t logr pval= 0.00120775830206 \t sepLR pval= 0.00856569638593 \t gene pval= 0.621008671\n",
      "30 \t logr pval= 1.39377210995e-07 \t sepLR pval= 0.000239289838287 \t gene pval= 0.847298785686\n",
      "31 \t logr pval= 0.011215010295 \t sepLR pval= 0.00579941680938 \t gene pval= 0.827501717552\n",
      "32 \t logr pval= 3.28622543595e-05 \t sepLR pval= 0.0126627785846 \t gene pval= 0.288590313028\n",
      "33 \t logr pval= 1.30759595032e-05 \t sepLR pval= 0.00744169725126 \t gene pval= 0.186919641796\n",
      "34 \t logr pval= 8.04427731549e-06 \t sepLR pval= 0.000641806988731 \t gene pval= 0.197946223128\n",
      "35 \t logr pval= 4.33090823146e-05 \t sepLR pval= 0.00446534421772 \t gene pval= 0.216579271839\n",
      "36 \t logr pval= 1.25778875989e-05 \t sepLR pval= 0.00392386489259 \t gene pval= 0.357991338595\n",
      "37 \t logr pval= 0.000141049540736 \t sepLR pval= 0.0131407275309 \t gene pval= 0.97284389794\n",
      "38 \t logr pval= 0.000485314204751 \t sepLR pval= 0.00112286519159 \t gene pval= 0.573403541769\n",
      "39 \t logr pval= 6.07501386667e-05 \t sepLR pval= 0.00186583351029 \t gene pval= 0.0924131850384\n",
      "40 \t logr pval= 4.67825535195e-05 \t sepLR pval= 0.00833852057553 \t gene pval= 0.622162057208\n",
      "41 \t logr pval= 0.000925193441675 \t sepLR pval= 0.0033123635892 \t gene pval= 0.812040190712\n",
      "42 \t logr pval= 0.000327092386817 \t sepLR pval= 0.00311089998146 \t gene pval= 0.452231213306\n",
      "43 \t logr pval= 2.55354533129e-05 \t sepLR pval= 0.00850247313845 \t gene pval= 0.690746370897\n",
      "44 \t logr pval= 1.11366348921e-06 \t sepLR pval= 0.000824103148559 \t gene pval= 0.78579629741\n",
      "45 \t logr pval= 2.55289082923e-05 \t sepLR pval= 0.00554921875032 \t gene pval= 0.959419752255\n",
      "46 \t logr pval= 9.6545382321e-06 \t sepLR pval= 0.00117091709276 \t gene pval= 0.480136811657\n",
      "47 \t logr pval= 3.23427649995e-07 \t sepLR pval= 0.00220665501563 \t gene pval= 0.298708110915\n",
      "48 \t logr pval= 1.37413509793e-07 \t sepLR pval= 1.65895485471e-06 \t gene pval= 0.0664750996969\n",
      "49 \t logr pval= 0.0212732276306 \t sepLR pval= 0.0834904272444 \t gene pval= 0.71100180136\n",
      "50 \t logr pval= 1.36530821797e-05 \t sepLR pval= 0.000650929640147 \t gene pval= 0.54737846299\n",
      "51 \t logr pval= 0.0106926622375 \t sepLR pval= 0.0243050813663 \t gene pval= 0.541893477507\n",
      "52 \t logr pval= 0.000718619180496 \t sepLR pval= 0.0249768760358 \t gene pval= 0.138804574492\n",
      "53 \t logr pval= 0.00033052422576 \t sepLR pval= 0.0022174822677 \t gene pval= 0.226843350317\n",
      "54 \t logr pval= 0.000122573508162 \t sepLR pval= 0.00185924370968 \t gene pval= 0.198210021734\n",
      "55 \t logr pval= 7.19168719092e-05 \t sepLR pval= 0.00271673470766 \t gene pval= 0.679011733114\n",
      "56 \t logr pval= 1.66581120467e-05 \t sepLR pval= 0.000943113734462 \t gene pval= 0.93252160649\n",
      "57 \t logr pval= 1.70198228057e-05 \t sepLR pval= 0.000437511844471 \t gene pval= 0.319567135341\n",
      "58 \t logr pval= 0.00044112662128 \t sepLR pval= 0.000458674615451 \t gene pval= 0.620632686038\n",
      "59 \t logr pval= 5.27497018895e-05 \t sepLR pval= 0.00084956922358 \t gene pval= 0.49621106544\n",
      "60 \t logr pval= 0.000881310857213 \t sepLR pval= 0.000783393913916 \t gene pval= 0.877297905475\n",
      "61 \t logr pval= 0.00480916443636 \t sepLR pval= 0.00752791996868 \t gene pval= 0.31317071181\n",
      "62 \t logr pval= 5.88112384161e-05 \t sepLR pval= 9.86120164588e-05 \t gene pval= 0.0375886918761\n",
      "63 \t logr pval= 2.64824223553e-05 \t sepLR pval= 0.00165278549251 \t gene pval= 0.852149105724\n",
      "64 \t logr pval= 0.000448925629414 \t sepLR pval= 0.000949999890691 \t gene pval= 0.231123829271\n",
      "65 \t logr pval= 0.000745897289443 \t sepLR pval= 0.0394844079732 \t gene pval= 0.143919314322\n",
      "66 \t logr pval= 2.63826977777e-05 \t sepLR pval= 0.00190055338582 \t gene pval= 0.715187716454\n",
      "67 \t logr pval= 7.31035300061e-06 \t sepLR pval= 0.00305704617544 \t gene pval= 0.448402639637\n",
      "68 \t logr pval= 0.00274479643971 \t sepLR pval= 0.00425748215709 \t gene pval= 0.20631984283\n",
      "69 \t logr pval= 0.011053039836 \t sepLR pval= 0.0373046827125 \t gene pval= 0.823254697173\n",
      "70 \t logr pval= 0.00276055679896 \t sepLR pval= 0.0402066305853 \t gene pval= 0.702143434508\n",
      "71 \t logr pval= 0.000785738021161 \t sepLR pval= 0.0135720994251 \t gene pval= 0.738844828866\n",
      "72 \t logr pval= 4.59430302424e-06 \t sepLR pval= 0.00384184164469 \t gene pval= 0.127435592012\n",
      "73 \t logr pval= 3.43259203828e-05 \t sepLR pval= 0.00259096069785 \t gene pval= 0.441257106414\n",
      "74 \t logr pval= 5.43218556158e-05 \t sepLR pval= 0.00136541433946 \t gene pval= 0.943092287427\n",
      "75 \t logr pval= 5.78438234977e-07 \t sepLR pval= 2.57352502375e-06 \t gene pval= 0.115684064348\n",
      "76 \t logr pval= 6.30851921514e-05 \t sepLR pval= 0.00355170988303 \t gene pval= 0.958279559477\n",
      "77 \t logr pval= 0.243610272382 \t sepLR pval= 0.047435858758 \t gene pval= 0.234321706074\n",
      "78 \t logr pval= 1.80212714751e-07 \t sepLR pval= 4.32906390113e-06 \t gene pval= 0.0485951193791\n",
      "79 \t logr pval= 6.14610107991e-05 \t sepLR pval= 0.00280435893673 \t gene pval= 0.209730155758\n",
      "80 \t logr pval= 0.0033636154112 \t sepLR pval= 0.00250129585563 \t gene pval= 0.423978441945\n",
      "81 \t logr pval= 0.00317642167606 \t sepLR pval= 0.0019294057979 \t gene pval= 0.309945962556\n",
      "82 \t logr pval= 0.00201075881747 \t sepLR pval= 0.000805101697729 \t gene pval= 0.151701228316\n",
      "83 \t logr pval= 2.81017542844e-05 \t sepLR pval= 0.000187716959757 \t gene pval= 0.0488729777378\n",
      "84 \t logr pval= 0.0370001772412 \t sepLR pval= 0.161034165894 \t gene pval= 0.759917209403\n",
      "85 \t logr pval= 1.4345749435e-06 \t sepLR pval= 0.000122538552956 \t gene pval= 0.971647222791\n",
      "86 \t logr pval= 0.00382314077615 \t sepLR pval= 0.121225778789 \t gene pval= 0.675423809935\n",
      "87 \t logr pval= 0.000487110800678 \t sepLR pval= 0.0106896366422 \t gene pval= 0.483174116306\n",
      "88 \t logr pval= 0.00482865038945 \t sepLR pval= 0.0309779147535 \t gene pval= 0.35929705978\n"
     ]
    },
    {
     "name": "stdout",
     "output_type": "stream",
     "text": [
      "89 \t logr pval= 0.0263482953589 \t sepLR pval= 0.111364587151 \t gene pval= 0.882571060242\n",
      "90 \t logr pval= 1.41982338631e-06 \t sepLR pval= 0.00103365843661 \t gene pval= 0.974433673963\n",
      "91 \t logr pval= 1.15194971295e-06 \t sepLR pval= 0.000144965008518 \t gene pval= 0.103201100892\n",
      "92 \t logr pval= 0.00414296836762 \t sepLR pval= 0.0285484197325 \t gene pval= 0.574903517486\n",
      "93 \t logr pval= 0.000472571894866 \t sepLR pval= 0.00281036079483 \t gene pval= 0.207346831911\n",
      "94 \t logr pval= 0.0036964020036 \t sepLR pval= 0.0110371995128 \t gene pval= 0.402238579996\n",
      "95 \t logr pval= 1.0084050957e-05 \t sepLR pval= 6.14576779161e-05 \t gene pval= 0.43179395465\n",
      "96 \t logr pval= 7.06989136936e-05 \t sepLR pval= 0.00186724276373 \t gene pval= 0.218692876787\n",
      "97 \t logr pval= 0.00273156048164 \t sepLR pval= 0.0149246943374 \t gene pval= 0.587222539499\n",
      "98 \t logr pval= 0.000383280953541 \t sepLR pval= 0.0160333713028 \t gene pval= 0.779706705354\n",
      "99 \t logr pval= 0.00520800369818 \t sepLR pval= 0.00199656292543 \t gene pval= 0.0384486556378\n",
      "100 \t logr pval= 0.00460476398397 \t sepLR pval= 0.00259577198596 \t gene pval= 0.194011194756\n",
      "101 \t logr pval= 0.000661748209808 \t sepLR pval= 0.00171831129225 \t gene pval= 0.309268410033\n",
      "102 \t logr pval= 2.5854707264e-10 \t sepLR pval= 4.45940540406e-06 \t gene pval= 0.636605719033\n",
      "103 \t logr pval= 0.000949556555301 \t sepLR pval= 0.00583775762017 \t gene pval= 0.865060933947\n",
      "104 \t logr pval= 4.92632212937e-05 \t sepLR pval= 0.000596700657095 \t gene pval= 0.315953709581\n",
      "105 \t logr pval= 3.08413697826e-05 \t sepLR pval= 0.00969271015709 \t gene pval= 0.48690732285\n",
      "106 \t logr pval= 0.000658575375127 \t sepLR pval= 0.00873086150196 \t gene pval= 0.416236261477\n",
      "107 \t logr pval= 0.00024800919864 \t sepLR pval= 0.0350795327853 \t gene pval= 0.504589522457\n",
      "108 \t logr pval= 0.000874372628501 \t sepLR pval= 0.00259614978622 \t gene pval= 0.0455296606405\n",
      "109 \t logr pval= 1.95927007627e-05 \t sepLR pval= 0.00110085744356 \t gene pval= 0.447522526861\n",
      "110 \t logr pval= 0.000235079331283 \t sepLR pval= 0.0135861339891 \t gene pval= 0.776059719753\n",
      "111 \t logr pval= 0.0128396606649 \t sepLR pval= 0.0797181222916 \t gene pval= 0.551995105561\n",
      "112 \t logr pval= 0.000203767512367 \t sepLR pval= 0.0114525281606 \t gene pval= 0.931937669712\n",
      "113 \t logr pval= 0.000133785532523 \t sepLR pval= 0.00593097101195 \t gene pval= 0.429774661622\n",
      "114 \t logr pval= 1.37198329808e-07 \t sepLR pval= 0.000112112264279 \t gene pval= 0.28429291647\n",
      "115 \t logr pval= 6.89157087014e-05 \t sepLR pval= 0.00704273159052 \t gene pval= 0.555773819115\n",
      "116 \t logr pval= 4.30205710999e-06 \t sepLR pval= 0.00124611867917 \t gene pval= 0.986500475002\n",
      "117 \t logr pval= 0.00246225017337 \t sepLR pval= 0.0139333852945 \t gene pval= 0.405310814671\n",
      "118 \t logr pval= 1.16175834283e-05 \t sepLR pval= 0.000620035752446 \t gene pval= 0.680341017229\n",
      "119 \t logr pval= 0.00150760848944 \t sepLR pval= 0.0212721777704 \t gene pval= 0.944404687303\n",
      "120 \t logr pval= 4.06961051259e-05 \t sepLR pval= 0.00115787308441 \t gene pval= 0.594784350804\n",
      "121 \t logr pval= 9.87185178596e-05 \t sepLR pval= 0.00204785231455 \t gene pval= 0.0143795136512\n",
      "122 \t logr pval= 0.000285424252157 \t sepLR pval= 0.00114427581468 \t gene pval= 0.0671531386046\n",
      "123 \t logr pval= 0.00900990025751 \t sepLR pval= 0.0795086434884 \t gene pval= 0.337050501299\n",
      "124 \t logr pval= 0.000797545571834 \t sepLR pval= 0.0261743813334 \t gene pval= 0.71139523918\n",
      "125 \t logr pval= 0.000107444097482 \t sepLR pval= 0.00185895476119 \t gene pval= 0.564793846572\n",
      "126 \t logr pval= 5.83232550477e-07 \t sepLR pval= 0.00403427913947 \t gene pval= 0.430622198634\n",
      "127 \t logr pval= 0.000109637398348 \t sepLR pval= 0.00132669456085 \t gene pval= 0.095824096734\n",
      "128 \t logr pval= 0.0479389264539 \t sepLR pval= 0.274279197339 \t gene pval= 0.488857762277\n",
      "129 \t logr pval= 9.88135329782e-07 \t sepLR pval= 6.95126219852e-06 \t gene pval= 0.435525441062\n",
      "130 \t logr pval= 6.83337027929e-06 \t sepLR pval= 0.000902519431157 \t gene pval= 0.175500462211\n",
      "131 \t logr pval= 0.000393358660421 \t sepLR pval= 0.000984120518354 \t gene pval= 0.402923008687\n",
      "132 \t logr pval= 0.00203125256276 \t sepLR pval= 0.00300428013658 \t gene pval= 0.375096950838\n",
      "133 \t logr pval= 1.53300428417e-05 \t sepLR pval= 0.000204041910007 \t gene pval= 0.715055752565\n",
      "134 \t logr pval= 7.46553155184e-06 \t sepLR pval= 0.00209998279222 \t gene pval= 0.172216051565\n",
      "135 \t logr pval= 7.35037350974e-06 \t sepLR pval= 0.000136903681288 \t gene pval= 0.1373044449\n",
      "136 \t logr pval= 0.00407564366711 \t sepLR pval= 0.0324805251688 \t gene pval= 0.640041438741\n",
      "137 \t logr pval= 0.00370452718774 \t sepLR pval= 0.0104597803252 \t gene pval= 0.257500270623\n",
      "138 \t logr pval= 8.34031423385e-05 \t sepLR pval= 5.10436276672e-05 \t gene pval= 0.0168233992133\n",
      "139 \t logr pval= 0.000102466954294 \t sepLR pval= 0.000975846505934 \t gene pval= 0.0513473988847\n",
      "140 \t logr pval= 0.000496437193496 \t sepLR pval= 0.000313055515274 \t gene pval= 0.570455437808\n",
      "141 \t logr pval= 1.16236563041e-06 \t sepLR pval= 0.00146290335669 \t gene pval= 0.946422283815\n",
      "142 \t logr pval= 3.3977924816e-06 \t sepLR pval= 0.00144963758618 \t gene pval= 0.498249514308\n",
      "143 \t logr pval= 4.9948388513e-06 \t sepLR pval= 1.40328242071e-05 \t gene pval= 0.221535809839\n",
      "144 \t logr pval= 3.83492585154e-06 \t sepLR pval= 0.000836177952689 \t gene pval= 0.152179280145\n",
      "145 \t logr pval= 0.00675649491353 \t sepLR pval= 0.023647353669 \t gene pval= 0.0515125460392\n",
      "146 \t logr pval= 0.00508278285019 \t sepLR pval= 0.0232169565826 \t gene pval= 0.298368283528\n",
      "147 \t logr pval= 0.00202871294485 \t sepLR pval= 0.0372122310943 \t gene pval= 0.477202698289\n",
      "148 \t logr pval= 0.0049455092119 \t sepLR pval= 0.0116672032988 \t gene pval= 0.883134739391\n",
      "149 \t logr pval= 4.13499973728e-05 \t sepLR pval= 0.00190055338582 \t gene pval= 0.917983584934\n",
      "150 \t logr pval= 0.000202533119384 \t sepLR pval= 0.000640722460371 \t gene pval= 0.435696983774\n",
      "151 \t logr pval= 1.63707560001e-05 \t sepLR pval= 0.00435957232971 \t gene pval= 0.658408858683\n",
      "152 \t logr pval= 6.34500036414e-05 \t sepLR pval= 0.00747196588904 \t gene pval= 0.822998382864\n",
      "153 \t logr pval= 0.000120951413978 \t sepLR pval= 0.0180104686881 \t gene pval= 0.370380086553\n",
      "154 \t logr pval= 0.000115150803802 \t sepLR pval= 0.00223070360427 \t gene pval= 0.548588690201\n",
      "155 \t logr pval= 3.01587466112e-07 \t sepLR pval= 3.39078523481e-05 \t gene pval= 0.615109890097\n",
      "156 \t logr pval= 1.42883104348e-07 \t sepLR pval= 6.27518223332e-05 \t gene pval= 0.667635504642\n",
      "157 \t logr pval= 0.00228261402903 \t sepLR pval= 0.00442546428227 \t gene pval= 0.415536588801\n",
      "158 \t logr pval= 0.00781782380443 \t sepLR pval= 0.0063214353094 \t gene pval= 0.0858781903409\n",
      "159 \t logr pval= 0.0122577124723 \t sepLR pval= 0.00486760326483 \t gene pval= 0.453341298645\n",
      "160 \t logr pval= 0.260149117074 \t sepLR pval= 0.56743993746 \t gene pval= 0.510631063422\n",
      "161 \t logr pval= 4.58640063621e-05 \t sepLR pval= 1.88949306427e-05 \t gene pval= 0.156558229505\n",
      "162 \t logr pval= 1.06318822621e-05 \t sepLR pval= 0.000907147347862 \t gene pval= 0.17222044149\n",
      "163 \t logr pval= 0.000884069794241 \t sepLR pval= 0.00522266902375 \t gene pval= 0.850854401556\n",
      "164 \t logr pval= 0.000324961193922 \t sepLR pval= 0.00357658529122 \t gene pval= 0.428071924397\n",
      "165 \t logr pval= 1.95381803447e-06 \t sepLR pval= 0.000148510241088 \t gene pval= 0.0943937258317\n",
      "166 \t logr pval= 0.000130437844973 \t sepLR pval= 0.0100969176298 \t gene pval= 0.280669758274\n",
      "167 \t logr pval= 7.49580662096e-06 \t sepLR pval= 0.00219859798138 \t gene pval= 0.683015718018\n",
      "168 \t logr pval= 0.000345113443482 \t sepLR pval= 0.00359010764841 \t gene pval= 0.0368309361883\n",
      "169 \t logr pval= 0.00935215930811 \t sepLR pval= 0.026108620017 \t gene pval= 0.370987029305\n",
      "170 \t logr pval= 5.10839305368e-06 \t sepLR pval= 0.0055312349934 \t gene pval= 0.619471556567\n",
      "171 \t logr pval= 0.00957723320738 \t sepLR pval= 0.0751326111394 \t gene pval= 0.866366743369\n",
      "172 \t logr pval= 1.39269436961e-06 \t sepLR pval= 1.00771325264e-05 \t gene pval= 0.124357887927\n",
      "173 \t logr pval= 0.00560648178221 \t sepLR pval= 0.0247826434094 \t gene pval= 0.915338589815\n",
      "174 \t logr pval= 0.00048292596686 \t sepLR pval= 0.000187418554148 \t gene pval= 0.174707039072\n",
      "175 \t logr pval= 0.00194826054454 \t sepLR pval= 0.00670145761073 \t gene pval= 0.56727192341\n",
      "176 \t logr pval= 0.00181442886141 \t sepLR pval= 0.0392008675033 \t gene pval= 0.571452323315\n"
     ]
    },
    {
     "name": "stdout",
     "output_type": "stream",
     "text": [
      "177 \t logr pval= 0.00042914406326 \t sepLR pval= 0.00158122079981 \t gene pval= 0.8126858424\n",
      "178 \t logr pval= 8.36083206183e-05 \t sepLR pval= 0.0009953447146 \t gene pval= 0.66151254961\n",
      "179 \t logr pval= 0.00238819850769 \t sepLR pval= 0.0431416533099 \t gene pval= 0.849832599208\n",
      "180 \t logr pval= 6.98999083282e-07 \t sepLR pval= 1.02128756949e-05 \t gene pval= 0.45701244697\n",
      "181 \t logr pval= 0.000299230177391 \t sepLR pval= 0.00214306342158 \t gene pval= 0.138725329957\n",
      "182 \t logr pval= 0.00109735706098 \t sepLR pval= 0.000579880591184 \t gene pval= 0.332917718878\n",
      "183 \t logr pval= 0.000408901537191 \t sepLR pval= 0.00125666477454 \t gene pval= 0.193386879426\n",
      "184 \t logr pval= 0.000280939481283 \t sepLR pval= 0.00289753337145 \t gene pval= 0.171274215666\n",
      "185 \t logr pval= 2.02489584862e-05 \t sepLR pval= 1.52230498207e-06 \t gene pval= 0.0514848882508\n",
      "186 \t logr pval= 2.05708495049e-06 \t sepLR pval= 0.000772364454817 \t gene pval= 0.732918199439\n",
      "187 \t logr pval= 1.97221433854e-05 \t sepLR pval= 0.000162303353363 \t gene pval= 0.884842529653\n",
      "188 \t logr pval= 6.56527135617e-05 \t sepLR pval= 0.00160682516247 \t gene pval= 0.298493740124\n",
      "189 \t logr pval= 6.14633725771e-06 \t sepLR pval= 3.21746867074e-05 \t gene pval= 0.483145522226\n",
      "190 \t logr pval= 0.0115713720903 \t sepLR pval= 0.0101150678385 \t gene pval= 0.709226452814\n",
      "191 \t logr pval= 4.97164976743e-07 \t sepLR pval= 0.000138860800828 \t gene pval= 0.455390084872\n",
      "192 \t logr pval= 8.39569664856e-05 \t sepLR pval= 0.00375278892482 \t gene pval= 0.972123237775\n",
      "193 \t logr pval= 0.000329155836924 \t sepLR pval= 2.80804656284e-05 \t gene pval= 0.0315254477094\n",
      "194 \t logr pval= 0.00166872882387 \t sepLR pval= 0.00704456993792 \t gene pval= 0.53471627855\n",
      "195 \t logr pval= 5.99110749899e-09 \t sepLR pval= 3.64139813069e-06 \t gene pval= 0.388893215578\n",
      "196 \t logr pval= 7.87280447819e-05 \t sepLR pval= 0.00106062552242 \t gene pval= 0.531869939342\n",
      "197 \t logr pval= 1.25527817186e-05 \t sepLR pval= 6.80123341312e-07 \t gene pval= 0.000766764852987\n",
      "198 \t logr pval= 0.0400805000371 \t sepLR pval= 0.226942335504 \t gene pval= 0.958994626155\n",
      "199 \t logr pval= 0.0022805976067 \t sepLR pval= 0.00195683472662 \t gene pval= 0.175265392838\n",
      "\n",
      " logR Avg. p-value:  0.00538540644495\n",
      "\n",
      " seplogR Avg. p-value:  0.0171488780351\n",
      "\n",
      " gene Avg. p-value:  0.480263090728\n"
     ]
    }
   ],
   "source": [
    "np.random.seed(0)\n",
    "samples=3000\n",
    "carlo=200\n",
    "pvals=[]\n",
    "pvals_t_test=[]\n",
    "pvals_sep_logR=[]\n",
    "pvals_t_test_gene=[]\n",
    "pvals_logr_gene=[]\n",
    "for monte in range(carlo):\n",
    "    randperm1A=np.random.permutation(X_naive.shape[0])\n",
    "    randperm2A=np.random.permutation(X_mem.shape[0])\n",
    "    #positive control \n",
    "\n",
    "    X1=X_naive[randperm1A[:samples],:]\n",
    "    X2=X_mem[randperm2A[:samples],:]\n",
    "\n",
    "\n",
    "    # print(X1.shape)\n",
    "    # print(X2.shape)\n",
    "\n",
    "    N1=X1.shape[0]\n",
    "    N2=X2.shape[0]\n",
    "\n",
    "\n",
    "    A=logr_ecidx(ecidx,X1,X2)\n",
    "    \n",
    "    pvals+=[A[1]]\n",
    "    tpval=ttest_ecidx(ecidx,X1,X2)\n",
    "    pvals_t_test+=[tpval[0]]\n",
    "    pvals_t_test_gene+=[tpval[2]]\n",
    "    \n",
    "    Ag=logr_gene(ecidx,X1,X2)\n",
    "    pvals_logr_gene+=[Ag[1]]\n",
    "    \n",
    "    \n",
    "    \n",
    "    \n",
    "    pvals_tmp=[]\n",
    "    for j in ecidx:\n",
    "        B=logr_ecidx([j],X1,X2)\n",
    "        pvals_tmp+=[B[1]]\n",
    "    pval_sep=np.min([1,np.min(np.array(pvals_tmp))*len(ecidx)])\n",
    "    pvals_sep_logR+=[pval_sep]\n",
    "    \n",
    "    print(monte,'\\t logr pval=',A[1],'\\t sepLR pval=',pval_sep,'\\t gene pval=',Ag[1])\n",
    "    \n",
    "    \n",
    "print(\"\\n logR Avg. p-value: \",np.mean(pvals))\n",
    "print(\"\\n seplogR Avg. p-value: \",np.mean(pvals_sep_logR))\n",
    "print(\"\\n gene Avg. p-value: \",np.mean(pvals_logr_gene))"
   ]
  },
  {
   "cell_type": "code",
   "execution_count": 56,
   "metadata": {},
   "outputs": [
    {
     "data": {
      "image/png": "[encoded data removed]",
      "text/plain": [
       "<matplotlib.figure.Figure at 0x7fd144fa23c8>"
      ]
     },
     "metadata": {},
     "output_type": "display_data"
    }
   ],
   "source": [
    "pvals_t_test1=pvals_t_test\n",
    "pvals_sep_logR1=pvals_sep_logR\n",
    "pvals1=pvals\n",
    "\n",
    "plt.figure()\n",
    "pvals_t_test_gene1=pvals_t_test_gene\n",
    "pvals_logr_gene1=pvals_logr_gene\n",
    "# sns.distplot(-np.log10(pvals_t_test_gene1),hist=True,color='r')\n",
    "ax=sns.distplot(-np.log10(pvals_t_test_gene1),hist=True,color='lightcoral',)\n",
    "\n",
    "sns.distplot(-np.log10(pvals_sep_logR1))\n",
    "sns.distplot(-np.log10(pvals1))\n",
    "# sns.distplot(-np.log10(pvals_t_test1),hist=False,color='k')\n",
    "\n",
    "\n",
    "yy=ax.get_ylim()\n",
    "plt.vlines(-np.log10(bB1[1]),ymin=yy[0],ymax=yy[1],color='r',linestyles='--')\n",
    "plt.vlines(-np.log10(cC1[1]),ymin=yy[0],ymax=yy[1],color='royalblue',linestyles='--')\n",
    "plt.vlines(-np.log10(aA1[1]),ymin=yy[0],ymax=yy[1],color='darkorange',linestyles='--')\n",
    "\n",
    "plt.ylim(yy)\n",
    "plt.xlim([-0.05,10])\n",
    "\n",
    "plt.show()"
   ]
  },
  {
   "cell_type": "markdown",
   "metadata": {},
   "source": [
    "### Cyto-Mem"
   ]
  },
  {
   "cell_type": "code",
   "execution_count": 57,
   "metadata": {
    "scrolled": true
   },
   "outputs": [
    {
     "name": "stdout",
     "output_type": "stream",
     "text": [
      "0 \t logr pval= 2.7329784812e-05 \t sepLR pval= 0.000609626570837 \t gene pval= 0.222188366933\n",
      "1 \t logr pval= 0.00129116845909 \t sepLR pval= 0.00468769789242 \t gene pval= 0.0559887164623\n",
      "2 \t logr pval= 0.000521702483422 \t sepLR pval= 0.00235780804015 \t gene pval= 0.303842208609\n",
      "3 \t logr pval= 2.04984977004e-06 \t sepLR pval= 0.000120073826321 \t gene pval= 0.246102822612\n",
      "4 \t logr pval= 1.41181811797e-08 \t sepLR pval= 5.86117619783e-06 \t gene pval= 0.287367946938\n",
      "5 \t logr pval= 0.0096978334312 \t sepLR pval= 0.00428961934134 \t gene pval= 0.681366508482\n",
      "6 \t logr pval= 1.07610502509e-07 \t sepLR pval= 2.36275675491e-06 \t gene pval= 0.0412535941716\n",
      "7 \t logr pval= 0.000188532329811 \t sepLR pval= 0.0023076874539 \t gene pval= 0.0293299230759\n",
      "8 \t logr pval= 0.000316623473745 \t sepLR pval= 0.00102663475403 \t gene pval= 0.512911534916\n",
      "9 \t logr pval= 0.0181693986214 \t sepLR pval= 0.065848023231 \t gene pval= 0.219318730931\n",
      "10 \t logr pval= 4.50927284343e-05 \t sepLR pval= 0.00333555688988 \t gene pval= 0.0136456635905\n",
      "11 \t logr pval= 0.000250141377691 \t sepLR pval= 0.000774877684896 \t gene pval= 0.00844364682288\n",
      "12 \t logr pval= 0.000218815240733 \t sepLR pval= 0.000207867444069 \t gene pval= 0.00276967013691\n",
      "13 \t logr pval= 0.00455391827502 \t sepLR pval= 0.0117727285758 \t gene pval= 0.528075916427\n",
      "14 \t logr pval= 0.00366790315582 \t sepLR pval= 0.0394428596427 \t gene pval= 0.444324161751\n",
      "15 \t logr pval= 0.0164864593525 \t sepLR pval= 0.0260679320261 \t gene pval= 0.539399809603\n",
      "16 \t logr pval= 8.36890813716e-06 \t sepLR pval= 0.000549178963992 \t gene pval= 0.062183866968\n",
      "17 \t logr pval= 3.31115454398e-05 \t sepLR pval= 0.00049839418062 \t gene pval= 0.151329345658\n",
      "18 \t logr pval= 9.70688158108e-06 \t sepLR pval= 0.000180994426304 \t gene pval= 0.821798029063\n",
      "19 \t logr pval= 0.000188463877541 \t sepLR pval= 0.00216800572565 \t gene pval= 0.00389447200906\n",
      "20 \t logr pval= 0.0574944468771 \t sepLR pval= 0.202885402764 \t gene pval= 0.210168939841\n",
      "21 \t logr pval= 0.000423878981027 \t sepLR pval= 0.00259571957509 \t gene pval= 0.0190136147623\n",
      "22 \t logr pval= 0.046318185315 \t sepLR pval= 0.119928525514 \t gene pval= 0.327712951411\n",
      "23 \t logr pval= 0.00207504706241 \t sepLR pval= 0.0276164407172 \t gene pval= 0.0259748916322\n",
      "24 \t logr pval= 0.000250653178702 \t sepLR pval= 0.0121118617957 \t gene pval= 0.633510618064\n",
      "25 \t logr pval= 6.44428428589e-05 \t sepLR pval= 0.00468660942052 \t gene pval= 0.202214450744\n",
      "26 \t logr pval= 0.146914772585 \t sepLR pval= 0.20596393132 \t gene pval= 0.729860748157\n",
      "27 \t logr pval= 9.42655857605e-06 \t sepLR pval= 0.000208428586272 \t gene pval= 0.817378639367\n",
      "28 \t logr pval= 0.00405828974652 \t sepLR pval= 0.0284911694797 \t gene pval= 0.281867015279\n",
      "29 \t logr pval= 5.80071879596e-05 \t sepLR pval= 0.00222680562223 \t gene pval= 0.145871912166\n",
      "30 \t logr pval= 4.45002721428e-06 \t sepLR pval= 0.00066214380746 \t gene pval= 0.526808863268\n",
      "31 \t logr pval= 0.00218615824285 \t sepLR pval= 0.00934126445457 \t gene pval= 0.900690865494\n",
      "32 \t logr pval= 0.00238696168714 \t sepLR pval= 0.00132606890396 \t gene pval= 0.0917786188495\n",
      "33 \t logr pval= 0.000267254809144 \t sepLR pval= 0.000480069976925 \t gene pval= 0.057628581082\n",
      "34 \t logr pval= 0.000908561429543 \t sepLR pval= 0.0154977975355 \t gene pval= 0.446473354734\n",
      "35 \t logr pval= 0.000353084887101 \t sepLR pval= 0.00985472525284 \t gene pval= 0.798238536016\n",
      "36 \t logr pval= 4.47852512986e-06 \t sepLR pval= 0.000930278845824 \t gene pval= 0.489604037276\n",
      "37 \t logr pval= 0.00153410386527 \t sepLR pval= 0.00252407346275 \t gene pval= 0.088915159722\n",
      "38 \t logr pval= 0.00245496424233 \t sepLR pval= 0.000665310886328 \t gene pval= 0.0950660311873\n",
      "39 \t logr pval= 0.00785050656659 \t sepLR pval= 0.041704447057 \t gene pval= 0.103675387209\n",
      "40 \t logr pval= 0.000284783501774 \t sepLR pval= 0.00366314271987 \t gene pval= 0.0882783159006\n",
      "41 \t logr pval= 0.000149543109778 \t sepLR pval= 0.00355259045558 \t gene pval= 0.232972694255\n",
      "42 \t logr pval= 0.00125216481416 \t sepLR pval= 0.00482381082112 \t gene pval= 0.102643597669\n",
      "43 \t logr pval= 8.01873871998e-05 \t sepLR pval= 1.4849931114e-05 \t gene pval= 0.00393125527737\n",
      "44 \t logr pval= 0.000223017228533 \t sepLR pval= 0.00157752538562 \t gene pval= 0.329466846725\n",
      "45 \t logr pval= 9.22610814048e-05 \t sepLR pval= 0.000177775363542 \t gene pval= 0.77512627759\n",
      "46 \t logr pval= 0.0208867632106 \t sepLR pval= 0.0143846805972 \t gene pval= 0.0584246725356\n",
      "47 \t logr pval= 5.72749152283e-06 \t sepLR pval= 0.000234503919854 \t gene pval= 0.161271589185\n",
      "48 \t logr pval= 2.78790242003e-08 \t sepLR pval= 0.000991263026075 \t gene pval= 0.0964486684666\n",
      "49 \t logr pval= 0.00738083094541 \t sepLR pval= 0.00243392406055 \t gene pval= 0.101542956387\n",
      "50 \t logr pval= 5.89125677598e-05 \t sepLR pval= 0.00672125078667 \t gene pval= 0.301446012858\n",
      "51 \t logr pval= 0.000119843604336 \t sepLR pval= 0.00767130401173 \t gene pval= 0.68673004799\n",
      "52 \t logr pval= 4.99216326706e-05 \t sepLR pval= 0.000774209699074 \t gene pval= 0.167241283297\n",
      "53 \t logr pval= 0.000549016610597 \t sepLR pval= 0.00128929752121 \t gene pval= 0.341075157292\n",
      "54 \t logr pval= 0.00419135974369 \t sepLR pval= 0.011203294019 \t gene pval= 0.270259874749\n",
      "55 \t logr pval= 0.00223061501316 \t sepLR pval= 0.0132494504604 \t gene pval= 0.0859104405064\n",
      "56 \t logr pval= 0.000133343718271 \t sepLR pval= 3.19924690155e-05 \t gene pval= 0.0657621889568\n",
      "57 \t logr pval= 0.00180280656287 \t sepLR pval= 0.016552882197 \t gene pval= 0.0728943350034\n",
      "58 \t logr pval= 1.07744680325e-05 \t sepLR pval= 7.98069595278e-05 \t gene pval= 0.189982779097\n",
      "59 \t logr pval= 0.00187313810977 \t sepLR pval= 0.00316971802714 \t gene pval= 0.616358629777\n",
      "60 \t logr pval= 0.00181690325908 \t sepLR pval= 0.00388273690746 \t gene pval= 0.898923067442\n",
      "61 \t logr pval= 0.000199504108105 \t sepLR pval= 0.00105345788124 \t gene pval= 0.122025206924\n",
      "62 \t logr pval= 0.000683052831201 \t sepLR pval= 0.0289776222548 \t gene pval= 0.0550187919129\n",
      "63 \t logr pval= 4.29286817385e-05 \t sepLR pval= 0.00121123101549 \t gene pval= 0.313900944264\n",
      "64 \t logr pval= 0.00490043598898 \t sepLR pval= 0.0119651250775 \t gene pval= 0.155563866564\n",
      "65 \t logr pval= 0.00109258384149 \t sepLR pval= 0.00226270805703 \t gene pval= 0.00421744215169\n",
      "66 \t logr pval= 1.76448032985e-06 \t sepLR pval= 0.00011722958378 \t gene pval= 0.0279677302919\n",
      "67 \t logr pval= 4.19270052404e-05 \t sepLR pval= 0.00276506846821 \t gene pval= 0.288697934826\n",
      "68 \t logr pval= 0.00425049600695 \t sepLR pval= 0.0169478870722 \t gene pval= 0.173427818462\n",
      "69 \t logr pval= 2.11361366927e-05 \t sepLR pval= 0.000177524008302 \t gene pval= 0.00447450985736\n",
      "70 \t logr pval= 1.13953054948e-06 \t sepLR pval= 0.000256270562616 \t gene pval= 0.230112677521\n",
      "71 \t logr pval= 0.0274563780628 \t sepLR pval= 0.0148413467772 \t gene pval= 0.0845072804251\n",
      "72 \t logr pval= 3.14202734875e-06 \t sepLR pval= 0.000897390812419 \t gene pval= 0.0619600093238\n",
      "73 \t logr pval= 3.21360005562e-06 \t sepLR pval= 0.00099071616139 \t gene pval= 0.248068370904\n",
      "74 \t logr pval= 1.57251973392e-05 \t sepLR pval= 0.00555239159363 \t gene pval= 0.0827593641845\n",
      "75 \t logr pval= 4.23385960732e-05 \t sepLR pval= 0.00161437760591 \t gene pval= 0.082202052809\n",
      "76 \t logr pval= 0.000195410743035 \t sepLR pval= 0.00730300115627 \t gene pval= 0.130902512837\n",
      "77 \t logr pval= 0.000576545191875 \t sepLR pval= 0.000357367785562 \t gene pval= 0.849726098776\n",
      "78 \t logr pval= 0.000273193518616 \t sepLR pval= 0.00408842106457 \t gene pval= 0.559867394516\n",
      "79 \t logr pval= 0.0219292349802 \t sepLR pval= 0.0583897590134 \t gene pval= 0.0159822692811\n",
      "80 \t logr pval= 0.0175305270368 \t sepLR pval= 0.0805650926622 \t gene pval= 0.35188737015\n",
      "81 \t logr pval= 2.68079361948e-05 \t sepLR pval= 9.27073922773e-05 \t gene pval= 0.0795214337542\n",
      "82 \t logr pval= 0.000872475246809 \t sepLR pval= 0.0277808999608 \t gene pval= 0.583168047846\n",
      "83 \t logr pval= 0.00118386830642 \t sepLR pval= 0.00790777323125 \t gene pval= 0.234096869453\n",
      "84 \t logr pval= 7.35275845765e-08 \t sepLR pval= 0.000599227934837 \t gene pval= 0.424102331083\n",
      "85 \t logr pval= 2.22108833769e-07 \t sepLR pval= 0.000906494140726 \t gene pval= 0.0814328014985\n",
      "86 \t logr pval= 2.00315044273e-05 \t sepLR pval= 0.000986957019724 \t gene pval= 0.380590730766\n",
      "87 \t logr pval= 0.0027046600773 \t sepLR pval= 0.0224232194382 \t gene pval= 0.375974922393\n",
      "88 \t logr pval= 1.90503591846e-06 \t sepLR pval= 3.05695846115e-06 \t gene pval= 0.0149794507456\n"
     ]
    },
    {
     "name": "stdout",
     "output_type": "stream",
     "text": [
      "89 \t logr pval= 7.43763601263e-07 \t sepLR pval= 1.11514091472e-05 \t gene pval= 0.0462672220451\n",
      "90 \t logr pval= 3.27304664548e-05 \t sepLR pval= 0.000123524540845 \t gene pval= 0.0343817429853\n",
      "91 \t logr pval= 8.21156764808e-09 \t sepLR pval= 9.91596266176e-06 \t gene pval= 0.098097875174\n",
      "92 \t logr pval= 0.0132442446898 \t sepLR pval= 0.0588827377827 \t gene pval= 0.46097242037\n",
      "93 \t logr pval= 3.29507531571e-06 \t sepLR pval= 0.000316357774972 \t gene pval= 0.0614870903723\n",
      "94 \t logr pval= 0.00130964040671 \t sepLR pval= 0.0242227724617 \t gene pval= 0.0050999229343\n",
      "95 \t logr pval= 0.0297709106455 \t sepLR pval= 0.0318065854031 \t gene pval= 0.418880320377\n",
      "96 \t logr pval= 0.00666685373869 \t sepLR pval= 0.0422664274372 \t gene pval= 0.095485134471\n",
      "97 \t logr pval= 0.0241414396111 \t sepLR pval= 0.0176701978305 \t gene pval= 0.0213334411176\n",
      "98 \t logr pval= 4.63172639792e-05 \t sepLR pval= 0.00118884871294 \t gene pval= 0.163753309174\n",
      "99 \t logr pval= 0.00686722357778 \t sepLR pval= 0.0413659665365 \t gene pval= 0.0165271912485\n",
      "100 \t logr pval= 3.39026199585e-05 \t sepLR pval= 4.25348829346e-05 \t gene pval= 0.00197031545729\n",
      "101 \t logr pval= 0.00116149410372 \t sepLR pval= 0.0327116896973 \t gene pval= 0.21995917219\n",
      "102 \t logr pval= 2.50201357489e-05 \t sepLR pval= 0.000234386788091 \t gene pval= 0.00572165865309\n",
      "103 \t logr pval= 0.00348423198764 \t sepLR pval= 0.103117847428 \t gene pval= 0.872282439392\n",
      "104 \t logr pval= 0.000431928885103 \t sepLR pval= 0.00311673378904 \t gene pval= 0.191807593358\n",
      "105 \t logr pval= 0.000294918027149 \t sepLR pval= 0.00142258311796 \t gene pval= 0.172395195284\n",
      "106 \t logr pval= 1.25410414071e-05 \t sepLR pval= 0.000269645558743 \t gene pval= 0.236368874452\n",
      "107 \t logr pval= 0.00350007787273 \t sepLR pval= 0.0188537761237 \t gene pval= 0.515541665873\n",
      "108 \t logr pval= 0.0143823430279 \t sepLR pval= 0.0581354284153 \t gene pval= 0.302285416243\n",
      "109 \t logr pval= 3.1119540241e-05 \t sepLR pval= 0.00095145983008 \t gene pval= 0.170952852066\n",
      "110 \t logr pval= 0.0122055542075 \t sepLR pval= 0.0252979009012 \t gene pval= 0.703662022732\n",
      "111 \t logr pval= 0.000100636433294 \t sepLR pval= 0.000531373381957 \t gene pval= 0.515991053689\n",
      "112 \t logr pval= 0.000379300166187 \t sepLR pval= 0.00230910599684 \t gene pval= 0.0794260813181\n",
      "113 \t logr pval= 0.00119005403243 \t sepLR pval= 0.0082110371923 \t gene pval= 0.0627870160682\n",
      "114 \t logr pval= 2.76393174605e-05 \t sepLR pval= 0.000672769315038 \t gene pval= 0.0408939125942\n",
      "115 \t logr pval= 0.000730532581619 \t sepLR pval= 0.00912158472386 \t gene pval= 0.150504712886\n",
      "116 \t logr pval= 5.58922085503e-07 \t sepLR pval= 0.000262773428719 \t gene pval= 0.0929374669632\n",
      "117 \t logr pval= 0.000866461086505 \t sepLR pval= 0.0199393397783 \t gene pval= 0.0727475715725\n",
      "118 \t logr pval= 8.29625853563e-05 \t sepLR pval= 0.000588841719021 \t gene pval= 0.523650129558\n",
      "119 \t logr pval= 1.52223503469e-07 \t sepLR pval= 4.3387036937e-05 \t gene pval= 0.415711855486\n",
      "120 \t logr pval= 0.00613231545867 \t sepLR pval= 0.0378730006549 \t gene pval= 0.179384106336\n",
      "121 \t logr pval= 5.90486472918e-06 \t sepLR pval= 2.74397600386e-05 \t gene pval= 0.0350388804165\n",
      "122 \t logr pval= 2.38759132543e-06 \t sepLR pval= 6.47292061418e-06 \t gene pval= 0.0150501278439\n",
      "123 \t logr pval= 0.000553959818975 \t sepLR pval= 0.0117536040004 \t gene pval= 0.148583896249\n",
      "124 \t logr pval= 0.0406703000575 \t sepLR pval= 0.047818939457 \t gene pval= 0.300673599687\n",
      "125 \t logr pval= 0.0012634439105 \t sepLR pval= 0.00200439893958 \t gene pval= 0.00914793848876\n",
      "126 \t logr pval= 2.76683450137e-05 \t sepLR pval= 0.000121397914225 \t gene pval= 0.00663641467677\n",
      "127 \t logr pval= 0.0222480288232 \t sepLR pval= 0.0731109872434 \t gene pval= 0.380237458125\n",
      "128 \t logr pval= 2.35756521625e-05 \t sepLR pval= 8.75849346559e-05 \t gene pval= 0.388991347448\n",
      "129 \t logr pval= 0.00442829673991 \t sepLR pval= 0.00718417815748 \t gene pval= 0.184858803723\n",
      "130 \t logr pval= 6.9593369074e-05 \t sepLR pval= 0.00284415085153 \t gene pval= 0.334893915496\n",
      "131 \t logr pval= 0.00832843320878 \t sepLR pval= 0.00946371473752 \t gene pval= 0.0926140672168\n",
      "132 \t logr pval= 1.45634694627e-05 \t sepLR pval= 0.00134642264971 \t gene pval= 0.0298666472019\n",
      "133 \t logr pval= 0.00148622611703 \t sepLR pval= 0.00752236419423 \t gene pval= 0.527075656368\n",
      "134 \t logr pval= 0.00614602141395 \t sepLR pval= 0.0100425554457 \t gene pval= 0.0261993181242\n",
      "135 \t logr pval= 8.02016234536e-07 \t sepLR pval= 1.69930090078e-05 \t gene pval= 0.177199723894\n",
      "136 \t logr pval= 0.0291574461728 \t sepLR pval= 0.0956825597002 \t gene pval= 0.307864488365\n",
      "137 \t logr pval= 0.00257528938909 \t sepLR pval= 0.000737996842567 \t gene pval= 0.0105077123741\n",
      "138 \t logr pval= 0.000559575672473 \t sepLR pval= 0.0258475791867 \t gene pval= 0.781396427602\n",
      "139 \t logr pval= 1.42013286619e-05 \t sepLR pval= 0.00126823257775 \t gene pval= 0.195737368268\n",
      "140 \t logr pval= 0.00105780187495 \t sepLR pval= 0.00224642243282 \t gene pval= 0.162931022714\n",
      "141 \t logr pval= 0.00213189377829 \t sepLR pval= 0.022201412196 \t gene pval= 0.147562942049\n",
      "142 \t logr pval= 5.49176774056e-08 \t sepLR pval= 6.18764259679e-05 \t gene pval= 0.124429007124\n",
      "143 \t logr pval= 0.00224390723443 \t sepLR pval= 0.0046394945176 \t gene pval= 0.0321738341539\n",
      "144 \t logr pval= 0.000403247761003 \t sepLR pval= 0.000279201523207 \t gene pval= 0.106576223564\n",
      "145 \t logr pval= 1.15556824631e-06 \t sepLR pval= 5.02711564436e-05 \t gene pval= 0.0512044260979\n",
      "146 \t logr pval= 4.85746078427e-06 \t sepLR pval= 0.000250356414542 \t gene pval= 0.985553890066\n",
      "147 \t logr pval= 0.00113315675593 \t sepLR pval= 0.00376986568571 \t gene pval= 0.101065969168\n",
      "148 \t logr pval= 0.00206350617021 \t sepLR pval= 0.000781800474906 \t gene pval= 0.0228613632399\n",
      "149 \t logr pval= 1.08055784243e-05 \t sepLR pval= 0.00331498498539 \t gene pval= 0.461576301222\n",
      "150 \t logr pval= 2.97965455154e-06 \t sepLR pval= 0.00117324612617 \t gene pval= 0.0388392244339\n",
      "151 \t logr pval= 1.70239482926e-05 \t sepLR pval= 0.00188580951198 \t gene pval= 0.0885228930297\n",
      "152 \t logr pval= 0.0154295823184 \t sepLR pval= 0.00910530882723 \t gene pval= 0.191442941193\n",
      "153 \t logr pval= 0.000166468118953 \t sepLR pval= 0.0101556100241 \t gene pval= 0.902345608648\n",
      "154 \t logr pval= 6.72856041528e-06 \t sepLR pval= 0.00287175646009 \t gene pval= 0.0539286294958\n",
      "155 \t logr pval= 1.69536230166e-07 \t sepLR pval= 0.000314934651795 \t gene pval= 0.00270050616897\n",
      "156 \t logr pval= 0.00176590092377 \t sepLR pval= 0.00661375287658 \t gene pval= 0.00835157307315\n",
      "157 \t logr pval= 0.00751933366753 \t sepLR pval= 0.0356274034467 \t gene pval= 0.045173118508\n",
      "158 \t logr pval= 0.00355979625407 \t sepLR pval= 0.0264399636823 \t gene pval= 0.0754877781904\n",
      "159 \t logr pval= 0.00279479818499 \t sepLR pval= 0.00306424428652 \t gene pval= 0.155440592654\n",
      "160 \t logr pval= 0.000920824372015 \t sepLR pval= 0.00353188382982 \t gene pval= 0.756117006003\n",
      "161 \t logr pval= 0.00027150255795 \t sepLR pval= 0.000118055446146 \t gene pval= 0.0393988363199\n",
      "162 \t logr pval= 0.00246240435241 \t sepLR pval= 0.0922154618489 \t gene pval= 0.10156429893\n",
      "163 \t logr pval= 4.79260480999e-05 \t sepLR pval= 0.00111214586417 \t gene pval= 0.172464755\n",
      "164 \t logr pval= 1.65654240588e-05 \t sepLR pval= 0.00331989114583 \t gene pval= 0.0829650549786\n",
      "165 \t logr pval= 3.25331386608e-07 \t sepLR pval= 0.000182200042772 \t gene pval= 0.0372584044644\n",
      "166 \t logr pval= 0.000274520877794 \t sepLR pval= 0.00287395309037 \t gene pval= 0.135834375399\n",
      "167 \t logr pval= 1.26155873285e-05 \t sepLR pval= 8.84764539952e-05 \t gene pval= 0.0459179766684\n",
      "168 \t logr pval= 1.18193496332e-05 \t sepLR pval= 0.00033641868302 \t gene pval= 0.802943725974\n",
      "169 \t logr pval= 0.0032508399341 \t sepLR pval= 0.00685970496957 \t gene pval= 0.00714828837697\n",
      "170 \t logr pval= 0.0326898451999 \t sepLR pval= 0.0955978129071 \t gene pval= 0.393991724982\n",
      "171 \t logr pval= 1.83275723759e-05 \t sepLR pval= 5.08758564799e-06 \t gene pval= 0.0128715922787\n",
      "172 \t logr pval= 7.38728088395e-05 \t sepLR pval= 1.68132102968e-05 \t gene pval= 0.912036085789\n",
      "173 \t logr pval= 1.39389939391e-06 \t sepLR pval= 0.000140043647137 \t gene pval= 0.278516081487\n",
      "174 \t logr pval= 0.012075540809 \t sepLR pval= 0.0264496261152 \t gene pval= 0.97220662915\n",
      "175 \t logr pval= 0.127009813563 \t sepLR pval= 0.305359174006 \t gene pval= 0.376160848827\n",
      "176 \t logr pval= 1.73691649075e-06 \t sepLR pval= 0.000351370958989 \t gene pval= 0.337995598482\n"
     ]
    },
    {
     "name": "stdout",
     "output_type": "stream",
     "text": [
      "177 \t logr pval= 0.00243535943629 \t sepLR pval= 0.0095472609835 \t gene pval= 0.0210569378282\n",
      "178 \t logr pval= 0.00509023693556 \t sepLR pval= 0.00399170076464 \t gene pval= 0.308001868023\n",
      "179 \t logr pval= 4.93007758792e-05 \t sepLR pval= 0.000505434750909 \t gene pval= 0.192643608777\n",
      "180 \t logr pval= 0.000821793521376 \t sepLR pval= 0.0488300472898 \t gene pval= 0.0705265169045\n",
      "181 \t logr pval= 0.000269351840782 \t sepLR pval= 0.00331236358921 \t gene pval= 0.00499212609565\n",
      "182 \t logr pval= 6.68356931799e-07 \t sepLR pval= 1.93686801312e-05 \t gene pval= 0.803875942592\n",
      "183 \t logr pval= 0.000707114313311 \t sepLR pval= 0.000139083991411 \t gene pval= 0.028859306272\n",
      "184 \t logr pval= 2.05334293243e-05 \t sepLR pval= 9.91542741584e-05 \t gene pval= 0.832764228326\n",
      "185 \t logr pval= 0.0115930343781 \t sepLR pval= 0.00329934820836 \t gene pval= 0.808140439877\n",
      "186 \t logr pval= 0.000834688380972 \t sepLR pval= 0.0221357977841 \t gene pval= 0.88675105535\n",
      "187 \t logr pval= 0.00502241717186 \t sepLR pval= 0.0140396819264 \t gene pval= 0.169152220032\n",
      "188 \t logr pval= 0.0161212382659 \t sepLR pval= 0.0320841340032 \t gene pval= 0.831850831127\n",
      "189 \t logr pval= 1.05170435508e-05 \t sepLR pval= 0.00422273934283 \t gene pval= 0.0283282072128\n",
      "190 \t logr pval= 0.000805554135054 \t sepLR pval= 0.00595281068948 \t gene pval= 0.0226868909344\n",
      "191 \t logr pval= 0.000300985727877 \t sepLR pval= 0.0152857155254 \t gene pval= 0.232265607835\n",
      "192 \t logr pval= 0.02855320558 \t sepLR pval= 0.067089371362 \t gene pval= 0.257243652455\n",
      "193 \t logr pval= 0.001235895491 \t sepLR pval= 0.000523248563531 \t gene pval= 0.00281806096782\n",
      "194 \t logr pval= 0.0115528815719 \t sepLR pval= 0.0120956870647 \t gene pval= 0.084779598382\n",
      "195 \t logr pval= 0.052455042609 \t sepLR pval= 0.112146045085 \t gene pval= 0.137581933133\n",
      "196 \t logr pval= 6.17258378061e-05 \t sepLR pval= 0.00825799368959 \t gene pval= 0.219542271062\n",
      "197 \t logr pval= 0.000374996132434 \t sepLR pval= 0.00718417815748 \t gene pval= 0.0341014480163\n",
      "198 \t logr pval= 1.38496926594e-06 \t sepLR pval= 0.00141506698049 \t gene pval= 0.0158297465314\n",
      "199 \t logr pval= 0.00449554966636 \t sepLR pval= 0.01159374728 \t gene pval= 0.382571885365\n",
      "\n",
      " logR Avg. p-value:  0.0053277823374\n",
      "\n",
      " seplogR Avg. p-value:  0.0157455213662\n",
      "\n",
      " gene Avg. p-value:  0.365965493266\n"
     ]
    }
   ],
   "source": [
    "np.random.seed(0)\n",
    "samples=3000\n",
    "carlo=200\n",
    "pvals=[]\n",
    "pvals_t_test=[]\n",
    "pvals_sep_logR=[]\n",
    "for monte in range(carlo):\n",
    "    randperm1A=np.random.permutation(X_cyto.shape[0])\n",
    "    randperm2A=np.random.permutation(X_mem.shape[0])\n",
    "    #positive control \n",
    "\n",
    "    X1=X_cyto[randperm1A[:samples],:]\n",
    "    X2=X_mem[randperm2A[:samples],:]\n",
    "\n",
    "\n",
    "    # print(X1.shape)\n",
    "    # print(X2.shape)\n",
    "\n",
    "    N1=X1.shape[0]\n",
    "    N2=X2.shape[0]\n",
    "\n",
    "\n",
    "    A=logr_ecidx(ecidx,X1,X2)\n",
    "    \n",
    "    pvals+=[A[1]]\n",
    "    tpval=ttest_ecidx(ecidx,X1,X2)\n",
    "    pvals_t_test+=[tpval[0]]\n",
    "    pvals_t_test_gene+=[tpval[2]]\n",
    "    \n",
    "    Ag=logr_gene(ecidx,X1,X2)\n",
    "    pvals_logr_gene+=[Ag[1]]\n",
    "    \n",
    "    \n",
    "    \n",
    "    \n",
    "    pvals_tmp=[]\n",
    "    for j in ecidx:\n",
    "        B=logr_ecidx([j],X1,X2)\n",
    "        pvals_tmp+=[B[1]]\n",
    "    pval_sep=np.min([1,np.min(np.array(pvals_tmp))*len(ecidx)])\n",
    "    pvals_sep_logR+=[pval_sep]\n",
    "    \n",
    "    print(monte,'\\t logr pval=',A[1],'\\t sepLR pval=',pval_sep,'\\t gene pval=',Ag[1])\n",
    "    \n",
    "    \n",
    "print(\"\\n logR Avg. p-value: \",np.mean(pvals))\n",
    "print(\"\\n seplogR Avg. p-value: \",np.mean(pvals_sep_logR))\n",
    "print(\"\\n gene Avg. p-value: \",np.mean(pvals_logr_gene))"
   ]
  },
  {
   "cell_type": "code",
   "execution_count": 58,
   "metadata": {},
   "outputs": [
    {
     "data": {
      "image/png": "[encoded data removed]",
      "text/plain": [
       "<matplotlib.figure.Figure at 0x7fd19d73e0b8>"
      ]
     },
     "metadata": {},
     "output_type": "display_data"
    }
   ],
   "source": [
    "pvals_t_test2=pvals_t_test\n",
    "pvals_sep_logR2=pvals_sep_logR\n",
    "pvals2=pvals\n",
    "\n",
    "plt.figure()\n",
    "pvals_t_test_gene2=pvals_t_test_gene\n",
    "pvals_logr_gene2=pvals_logr_gene\n",
    "# sns.distplot(-np.log10(pvals_t_test_gene2),hist=True,color='r')\n",
    "sns.distplot(-np.log10(pvals_t_test_gene2),hist=True,color='lightcoral',)\n",
    "\n",
    "sns.distplot(-np.log10(pvals_sep_logR2))\n",
    "sns.distplot(-np.log10(pvals2))\n",
    "# sns.distplot(-np.log10(pvals_t_test2),hist=False,color='k')\n",
    "\n",
    "\n",
    "yy=ax.get_ylim()\n",
    "plt.vlines(-np.log10(bB2[1]),ymin=yy[0],ymax=yy[1],color='r',linestyles='--')\n",
    "plt.vlines(-np.log10(cC2[1]),ymin=yy[0],ymax=yy[1],color='royalblue',linestyles='--')\n",
    "plt.vlines(-np.log10(aA2[1]),ymin=yy[0],ymax=yy[1],color='darkorange',linestyles='--')\n",
    "\n",
    "plt.ylim(yy)\n",
    "plt.xlim([-0.05,10])\n",
    "\n",
    "plt.show()"
   ]
  },
  {
   "cell_type": "markdown",
   "metadata": {},
   "source": [
    "### Naive-Cyto"
   ]
  },
  {
   "cell_type": "code",
   "execution_count": 59,
   "metadata": {
    "scrolled": true
   },
   "outputs": [
    {
     "name": "stdout",
     "output_type": "stream",
     "text": [
      "0 \t logr pval= 0.57502595545 \t sepLR pval= 1.0 \t gene pval= 0.504434803328\n",
      "1 \t logr pval= 0.0777614729913 \t sepLR pval= 0.0859931867579 \t gene pval= 0.0972102907334\n",
      "2 \t logr pval= 0.00393769336652 \t sepLR pval= 0.00265442540594 \t gene pval= 0.0958060217212\n",
      "3 \t logr pval= 0.91843938914 \t sepLR pval= 1.0 \t gene pval= 0.971703582844\n",
      "4 \t logr pval= 0.484117148015 \t sepLR pval= 1.0 \t gene pval= 0.325385865806\n",
      "5 \t logr pval= 0.00084777051335 \t sepLR pval= 0.00259290730091 \t gene pval= 0.151085562562\n",
      "6 \t logr pval= 0.715177816476 \t sepLR pval= 0.649484270649 \t gene pval= 0.118748550901\n",
      "7 \t logr pval= 0.149481366587 \t sepLR pval= 0.331157173329 \t gene pval= 0.276345326101\n",
      "8 \t logr pval= 0.0945154063646 \t sepLR pval= 0.259575054502 \t gene pval= 0.460808739561\n",
      "9 \t logr pval= 0.293425020021 \t sepLR pval= 0.415910654877 \t gene pval= 0.362844726897\n",
      "10 \t logr pval= 0.00331581235081 \t sepLR pval= 0.0241561610355 \t gene pval= 0.0453559315504\n",
      "11 \t logr pval= 0.0108407729978 \t sepLR pval= 0.00317346581735 \t gene pval= 0.592425180635\n",
      "12 \t logr pval= 0.0089792228534 \t sepLR pval= 0.142626644693 \t gene pval= 0.0211738904762\n",
      "13 \t logr pval= 0.420606359076 \t sepLR pval= 0.131062565406 \t gene pval= 0.701321678761\n",
      "14 \t logr pval= 0.124610613796 \t sepLR pval= 0.0437930142133 \t gene pval= 0.89481187433\n",
      "15 \t logr pval= 0.0407450717313 \t sepLR pval= 0.023300926493 \t gene pval= 0.07368648268\n",
      "16 \t logr pval= 0.0286050013595 \t sepLR pval= 0.0125010585283 \t gene pval= 0.1677673613\n",
      "17 \t logr pval= 0.0780261357085 \t sepLR pval= 0.0193948660252 \t gene pval= 0.192995037505\n",
      "18 \t logr pval= 0.546312620709 \t sepLR pval= 0.579796151741 \t gene pval= 0.366252569116\n",
      "19 \t logr pval= 0.0346113043961 \t sepLR pval= 0.361112145393 \t gene pval= 0.341638940578\n",
      "20 \t logr pval= 0.0200584361821 \t sepLR pval= 0.0336320845187 \t gene pval= 0.172843598929\n",
      "21 \t logr pval= 0.172478015937 \t sepLR pval= 0.136521038042 \t gene pval= 0.0901386968464\n",
      "22 \t logr pval= 0.140465034879 \t sepLR pval= 0.320847184949 \t gene pval= 0.958049191185\n",
      "23 \t logr pval= 0.25632339474 \t sepLR pval= 0.391264586136 \t gene pval= 0.122695502716\n",
      "24 \t logr pval= 0.852307411559 \t sepLR pval= 1.0 \t gene pval= 0.403313733213\n",
      "25 \t logr pval= 0.0306097386645 \t sepLR pval= 0.0399854024864 \t gene pval= 0.985523359808\n",
      "26 \t logr pval= 0.296157219323 \t sepLR pval= 0.434322733217 \t gene pval= 0.364262219215\n",
      "27 \t logr pval= 0.480527720975 \t sepLR pval= 0.81369072518 \t gene pval= 0.583902052268\n",
      "28 \t logr pval= 0.0198625945741 \t sepLR pval= 0.00814044996203 \t gene pval= 0.107890843088\n",
      "29 \t logr pval= 0.0215377141234 \t sepLR pval= 0.0492070875724 \t gene pval= 0.682559114626\n",
      "30 \t logr pval= 0.0638952972198 \t sepLR pval= 0.199620954927 \t gene pval= 0.139925026422\n",
      "31 \t logr pval= 0.014711254054 \t sepLR pval= 0.000605659418417 \t gene pval= 0.37754752735\n",
      "32 \t logr pval= 0.372838786788 \t sepLR pval= 0.309105782388 \t gene pval= 0.529241763398\n",
      "33 \t logr pval= 0.0308403996998 \t sepLR pval= 0.0141465928774 \t gene pval= 0.510124542636\n",
      "34 \t logr pval= 0.0279153969073 \t sepLR pval= 0.0520603892463 \t gene pval= 0.630399128442\n",
      "35 \t logr pval= 0.106117219991 \t sepLR pval= 0.310727789915 \t gene pval= 0.153934337932\n",
      "36 \t logr pval= 0.203223622786 \t sepLR pval= 0.252576204047 \t gene pval= 0.31851752101\n",
      "37 \t logr pval= 0.0677443605822 \t sepLR pval= 0.146535235899 \t gene pval= 0.80829034786\n",
      "38 \t logr pval= 0.240108550747 \t sepLR pval= 0.448228342606 \t gene pval= 0.267510702124\n",
      "39 \t logr pval= 0.421873771111 \t sepLR pval= 0.417324562825 \t gene pval= 0.517827938917\n",
      "40 \t logr pval= 0.0773184242864 \t sepLR pval= 0.0807344357896 \t gene pval= 0.588081339503\n",
      "41 \t logr pval= 0.17012482563 \t sepLR pval= 0.0721754096069 \t gene pval= 0.295420226383\n",
      "42 \t logr pval= 0.388911281029 \t sepLR pval= 0.783733096846 \t gene pval= 0.845424797621\n",
      "43 \t logr pval= 0.0793080474386 \t sepLR pval= 0.267522272822 \t gene pval= 0.349090761557\n",
      "44 \t logr pval= 0.120569595051 \t sepLR pval= 0.397687263916 \t gene pval= 1.0\n",
      "45 \t logr pval= 0.0355280316435 \t sepLR pval= 0.142936905551 \t gene pval= 0.362671630249\n",
      "46 \t logr pval= 0.00560044765592 \t sepLR pval= 0.0344957434065 \t gene pval= 0.191492123349\n",
      "47 \t logr pval= 0.0417170272813 \t sepLR pval= 0.0268843545131 \t gene pval= 0.214957955583\n",
      "48 \t logr pval= 0.102736422941 \t sepLR pval= 0.111872245626 \t gene pval= 0.287037384935\n",
      "49 \t logr pval= 0.205593287249 \t sepLR pval= 0.057436801284 \t gene pval= 0.0737879060537\n",
      "50 \t logr pval= 0.0090538964015 \t sepLR pval= 0.0485980195049 \t gene pval= 0.00733901625619\n",
      "51 \t logr pval= 0.00852861550629 \t sepLR pval= 0.0580141898828 \t gene pval= 0.0334999939328\n",
      "52 \t logr pval= 0.00569447785896 \t sepLR pval= 0.00591441338076 \t gene pval= 0.103078072415\n",
      "53 \t logr pval= 0.281905808438 \t sepLR pval= 0.890048549855 \t gene pval= 0.58435711902\n",
      "54 \t logr pval= 0.792855677529 \t sepLR pval= 1.0 \t gene pval= 0.472424464845\n",
      "55 \t logr pval= 0.911370769736 \t sepLR pval= 1.0 \t gene pval= 0.941227289318\n",
      "56 \t logr pval= 0.000948258134287 \t sepLR pval= 6.55093517175e-05 \t gene pval= 0.0654668653962\n",
      "57 \t logr pval= 0.0246644781983 \t sepLR pval= 0.0226469845394 \t gene pval= 0.532885477698\n",
      "58 \t logr pval= 0.0260220025956 \t sepLR pval= 0.0569382781519 \t gene pval= 0.753436816961\n",
      "59 \t logr pval= 0.0433191737802 \t sepLR pval= 0.124305956139 \t gene pval= 0.156509780945\n",
      "60 \t logr pval= 0.098797968882 \t sepLR pval= 0.55740928903 \t gene pval= 0.450923875719\n",
      "61 \t logr pval= 0.000301220757788 \t sepLR pval= 0.00279885123569 \t gene pval= 0.428386137475\n",
      "62 \t logr pval= 0.198976849309 \t sepLR pval= 0.243357399654 \t gene pval= 0.490973116721\n",
      "63 \t logr pval= 0.0258120940678 \t sepLR pval= 0.00368715455063 \t gene pval= 0.00169481695677\n",
      "64 \t logr pval= 0.146937292879 \t sepLR pval= 0.115927597327 \t gene pval= 0.0401051558404\n",
      "65 \t logr pval= 0.0190720274485 \t sepLR pval= 0.0450592801738 \t gene pval= 0.0968522749367\n",
      "66 \t logr pval= 0.0025062195361 \t sepLR pval= 0.00946372558566 \t gene pval= 0.0138266205741\n",
      "67 \t logr pval= 0.0317332016884 \t sepLR pval= 0.075069104172 \t gene pval= 0.8454047227\n",
      "68 \t logr pval= 0.549243162551 \t sepLR pval= 0.457173283141 \t gene pval= 0.411819109224\n",
      "69 \t logr pval= 0.00755591269675 \t sepLR pval= 0.00931037517518 \t gene pval= 0.0167130062396\n",
      "70 \t logr pval= 0.128423091111 \t sepLR pval= 0.397844133902 \t gene pval= 0.405684583067\n",
      "71 \t logr pval= 0.000473046494801 \t sepLR pval= 0.00438163682683 \t gene pval= 0.121701609572\n",
      "72 \t logr pval= 0.858953732362 \t sepLR pval= 1.0 \t gene pval= 0.417689637061\n",
      "73 \t logr pval= 0.00672110843265 \t sepLR pval= 0.0226469845394 \t gene pval= 0.303081248916\n",
      "74 \t logr pval= 0.44152788503 \t sepLR pval= 1.0 \t gene pval= 0.667239308665\n",
      "75 \t logr pval= 0.725511331206 \t sepLR pval= 0.764000930074 \t gene pval= 0.162985921746\n",
      "76 \t logr pval= 0.740719193095 \t sepLR pval= 1.0 \t gene pval= 0.945354441165\n",
      "77 \t logr pval= 0.000312883590655 \t sepLR pval= 0.017953906422 \t gene pval= 0.140365568604\n",
      "78 \t logr pval= 0.0678785259151 \t sepLR pval= 0.378862756847 \t gene pval= 0.518200245048\n",
      "79 \t logr pval= 0.613401695575 \t sepLR pval= 0.444275270513 \t gene pval= 0.575081716675\n",
      "80 \t logr pval= 0.591004841162 \t sepLR pval= 1.0 \t gene pval= 0.394761374477\n",
      "81 \t logr pval= 0.0766700237666 \t sepLR pval= 0.107324519817 \t gene pval= 0.0358399798492\n",
      "82 \t logr pval= 0.497593996458 \t sepLR pval= 0.642429780233 \t gene pval= 0.916819209933\n",
      "83 \t logr pval= 0.0842103444408 \t sepLR pval= 0.181765048362 \t gene pval= 0.484448875303\n",
      "84 \t logr pval= 0.0974174231785 \t sepLR pval= 0.254645293624 \t gene pval= 0.942632486129\n",
      "85 \t logr pval= 0.0252274024747 \t sepLR pval= 0.0356026250456 \t gene pval= 0.6660726781\n",
      "86 \t logr pval= 0.00210070315591 \t sepLR pval= 0.00751019069462 \t gene pval= 0.320021492866\n",
      "87 \t logr pval= 0.131103366095 \t sepLR pval= 0.343784804359 \t gene pval= 0.632668188764\n",
      "88 \t logr pval= 0.800240344226 \t sepLR pval= 0.748946975519 \t gene pval= 0.144877756667\n",
      "89 \t logr pval= 0.694111846068 \t sepLR pval= 0.51417614266 \t gene pval= 0.211827390176\n",
      "90 \t logr pval= 0.0809897720671 \t sepLR pval= 0.0570094567695 \t gene pval= 0.584080539575\n",
      "91 \t logr pval= 0.063795382787 \t sepLR pval= 0.0487429564076 \t gene pval= 0.595529011548\n",
      "92 \t logr pval= 0.546218073233 \t sepLR pval= 0.602104142671 \t gene pval= 0.337957041241\n",
      "93 \t logr pval= 0.31963786612 \t sepLR pval= 0.18901410323 \t gene pval= 0.0711622822291\n"
     ]
    },
    {
     "name": "stdout",
     "output_type": "stream",
     "text": [
      "94 \t logr pval= 0.431743571679 \t sepLR pval= 0.379219987228 \t gene pval= 0.629318284672\n",
      "95 \t logr pval= 0.634364715043 \t sepLR pval= 1.0 \t gene pval= 1.0\n",
      "96 \t logr pval= 0.0619596203286 \t sepLR pval= 0.123420494702 \t gene pval= 0.685312492482\n",
      "97 \t logr pval= 0.23969686549 \t sepLR pval= 0.0715577683543 \t gene pval= 0.324226433221\n",
      "98 \t logr pval= 0.0112886854696 \t sepLR pval= 0.0234227351523 \t gene pval= 0.244464500843\n",
      "99 \t logr pval= 0.428648775852 \t sepLR pval= 0.12107412454 \t gene pval= 0.34297752549\n",
      "100 \t logr pval= 0.0348300540484 \t sepLR pval= 0.0257602313539 \t gene pval= 0.791108259564\n",
      "101 \t logr pval= 0.558163621537 \t sepLR pval= 0.589492594347 \t gene pval= 0.912213723813\n",
      "102 \t logr pval= 0.00592989643403 \t sepLR pval= 0.0376697244113 \t gene pval= 0.111401609726\n",
      "103 \t logr pval= 0.895379922667 \t sepLR pval= 1.0 \t gene pval= 0.845631635857\n",
      "104 \t logr pval= 0.000269256885358 \t sepLR pval= 0.00125876099476 \t gene pval= 0.260213571906\n",
      "105 \t logr pval= 0.0335378170422 \t sepLR pval= 0.0859931867577 \t gene pval= 0.161868998312\n",
      "106 \t logr pval= 0.166951235531 \t sepLR pval= 0.388056348523 \t gene pval= 0.58689050009\n",
      "107 \t logr pval= 0.0125519902345 \t sepLR pval= 0.00676392525022 \t gene pval= 0.176569085615\n",
      "108 \t logr pval= 0.177732760549 \t sepLR pval= 0.285312815486 \t gene pval= 0.302044291091\n",
      "109 \t logr pval= 0.020576477104 \t sepLR pval= 0.0399583974932 \t gene pval= 0.547891716454\n",
      "110 \t logr pval= 0.00276058917557 \t sepLR pval= 0.0040583545084 \t gene pval= 0.664993064624\n",
      "111 \t logr pval= 0.0818520956096 \t sepLR pval= 0.0800947182094 \t gene pval= 0.0179952917012\n",
      "112 \t logr pval= 0.0762931000367 \t sepLR pval= 0.267522272822 \t gene pval= 0.760236490658\n",
      "113 \t logr pval= 0.320694156073 \t sepLR pval= 0.27085957483 \t gene pval= 0.367054503442\n",
      "114 \t logr pval= 0.0279338792302 \t sepLR pval= 0.0460903306404 \t gene pval= 0.180530598566\n",
      "115 \t logr pval= 0.154008982432 \t sepLR pval= 0.0918398843731 \t gene pval= 0.858322943559\n",
      "116 \t logr pval= 0.00354014606948 \t sepLR pval= 0.0124212946648 \t gene pval= 0.149142898675\n",
      "117 \t logr pval= 0.147268034758 \t sepLR pval= 0.239412366175 \t gene pval= 0.607452984621\n",
      "118 \t logr pval= 0.235042821412 \t sepLR pval= 0.259309587125 \t gene pval= 0.114818091988\n",
      "119 \t logr pval= 0.588873230173 \t sepLR pval= 0.857497182984 \t gene pval= 0.264750253393\n",
      "120 \t logr pval= 0.356318795048 \t sepLR pval= 1.0 \t gene pval= 0.300896507198\n",
      "121 \t logr pval= 0.208204963707 \t sepLR pval= 0.483585700742 \t gene pval= 0.928603540821\n",
      "122 \t logr pval= 0.123348506733 \t sepLR pval= 0.0644412809146 \t gene pval= 0.0917727237429\n",
      "123 \t logr pval= 0.074537133162 \t sepLR pval= 0.0297477722457 \t gene pval= 0.97200485872\n",
      "124 \t logr pval= 0.0717214482618 \t sepLR pval= 0.20288167862 \t gene pval= 0.595585807172\n",
      "125 \t logr pval= 0.0133534537799 \t sepLR pval= 0.00671936150277 \t gene pval= 0.000221638298751\n",
      "126 \t logr pval= 0.178938256195 \t sepLR pval= 0.219255099694 \t gene pval= 0.594545344504\n",
      "127 \t logr pval= 0.00454356700843 \t sepLR pval= 0.0171243293202 \t gene pval= 0.28186532474\n",
      "128 \t logr pval= 0.306157464459 \t sepLR pval= 0.195576187339 \t gene pval= 0.117719955955\n",
      "129 \t logr pval= 0.0508450617111 \t sepLR pval= 0.0479342456676 \t gene pval= 0.18937011772\n",
      "130 \t logr pval= 0.186142390659 \t sepLR pval= 0.200646043626 \t gene pval= 0.986076646218\n",
      "131 \t logr pval= 0.012012452199 \t sepLR pval= 0.00298201902312 \t gene pval= 0.0330590782244\n",
      "132 \t logr pval= 0.00474302001297 \t sepLR pval= 0.00616288409135 \t gene pval= 0.774568927116\n",
      "133 \t logr pval= 0.0255327429964 \t sepLR pval= 0.0220085909354 \t gene pval= 0.0374474413909\n",
      "134 \t logr pval= 0.0028988700672 \t sepLR pval= 0.017704826274 \t gene pval= 0.0541018543367\n",
      "135 \t logr pval= 0.153546751078 \t sepLR pval= 0.126087185889 \t gene pval= 0.693482544201\n",
      "136 \t logr pval= 0.00162326794968 \t sepLR pval= 0.0145670333182 \t gene pval= 0.301190140414\n",
      "137 \t logr pval= 0.204308208105 \t sepLR pval= 0.123624175933 \t gene pval= 0.876053179932\n",
      "138 \t logr pval= 0.0922642509164 \t sepLR pval= 0.0386537262132 \t gene pval= 0.543820403321\n",
      "139 \t logr pval= 0.328632537528 \t sepLR pval= 0.296957574725 \t gene pval= 0.734373199589\n",
      "140 \t logr pval= 0.298017977887 \t sepLR pval= 0.243606831934 \t gene pval= 0.491876196339\n",
      "141 \t logr pval= 0.448405486995 \t sepLR pval= 0.531505560317 \t gene pval= 0.302748377089\n",
      "142 \t logr pval= 0.0129872525416 \t sepLR pval= 0.13273656366 \t gene pval= 0.900805553841\n",
      "143 \t logr pval= 0.6456776475 \t sepLR pval= 1.0 \t gene pval= 0.618778866242\n",
      "144 \t logr pval= 0.244805084932 \t sepLR pval= 0.102235024495 \t gene pval= 0.325668099865\n",
      "145 \t logr pval= 0.129913015728 \t sepLR pval= 0.43282371218 \t gene pval= 0.914083260019\n",
      "146 \t logr pval= 0.218000224976 \t sepLR pval= 0.890048549855 \t gene pval= 0.640065983488\n",
      "147 \t logr pval= 0.0154980167979 \t sepLR pval= 0.00717937721141 \t gene pval= 0.481991814776\n",
      "148 \t logr pval= 0.142493043699 \t sepLR pval= 0.0415079836029 \t gene pval= 0.309225466753\n",
      "149 \t logr pval= 0.0434598196058 \t sepLR pval= 0.073055794475 \t gene pval= 0.394518370189\n",
      "150 \t logr pval= 0.00345015664931 \t sepLR pval= 0.00182789030134 \t gene pval= 0.00194232827932\n",
      "151 \t logr pval= 0.0300198848567 \t sepLR pval= 0.167368508795 \t gene pval= 0.00259881820619\n",
      "152 \t logr pval= 0.000704977056678 \t sepLR pval= 0.000509912238699 \t gene pval= 0.0291565598078\n",
      "153 \t logr pval= 0.126922431025 \t sepLR pval= 0.205263653977 \t gene pval= 0.505760957442\n",
      "154 \t logr pval= 0.197213795644 \t sepLR pval= 0.0985825493197 \t gene pval= 0.139503168447\n",
      "155 \t logr pval= 0.279489959149 \t sepLR pval= 0.183742624514 \t gene pval= 0.0869719583461\n",
      "156 \t logr pval= 0.0739090869888 \t sepLR pval= 0.300355670493 \t gene pval= 0.957317381672\n",
      "157 \t logr pval= 0.0179477685576 \t sepLR pval= 0.00214117018019 \t gene pval= 0.0239663830234\n",
      "158 \t logr pval= 0.535030450664 \t sepLR pval= 1.0 \t gene pval= 0.598235446284\n",
      "159 \t logr pval= 0.0931898228255 \t sepLR pval= 0.0322350438161 \t gene pval= 0.158859440258\n",
      "160 \t logr pval= 0.0146069888175 \t sepLR pval= 0.0882832002881 \t gene pval= 0.252465858004\n",
      "161 \t logr pval= 0.0678333422412 \t sepLR pval= 0.0511765467066 \t gene pval= 0.191901491794\n",
      "162 \t logr pval= 0.309922732519 \t sepLR pval= 0.589492594347 \t gene pval= 0.357356077518\n",
      "163 \t logr pval= 0.499520646019 \t sepLR pval= 0.396399417903 \t gene pval= 0.222846539648\n",
      "164 \t logr pval= 0.182811142969 \t sepLR pval= 0.0832662816122 \t gene pval= 0.186032815355\n",
      "165 \t logr pval= 0.546238160606 \t sepLR pval= 1.0 \t gene pval= 0.620859938704\n",
      "166 \t logr pval= 0.358900967148 \t sepLR pval= 0.589492594347 \t gene pval= 0.887619433129\n",
      "167 \t logr pval= 0.0860484183794 \t sepLR pval= 0.145263379377 \t gene pval= 0.278393848181\n",
      "168 \t logr pval= 0.125866459831 \t sepLR pval= 0.0077973379917 \t gene pval= 0.0239390523654\n",
      "169 \t logr pval= 0.280973488181 \t sepLR pval= 0.0612070921841 \t gene pval= 0.179246574332\n",
      "170 \t logr pval= 0.413191541941 \t sepLR pval= 0.288433578517 \t gene pval= 0.287158800655\n",
      "171 \t logr pval= 0.338767355141 \t sepLR pval= 0.0679361025519 \t gene pval= 0.28023829056\n",
      "172 \t logr pval= 0.0486063982391 \t sepLR pval= 0.0403703096239 \t gene pval= 0.97098635931\n",
      "173 \t logr pval= 0.355801806172 \t sepLR pval= 0.642429780233 \t gene pval= 0.429548955112\n",
      "174 \t logr pval= 0.196633418878 \t sepLR pval= 0.164651433263 \t gene pval= 0.61185865159\n",
      "175 \t logr pval= 0.00553413268645 \t sepLR pval= 0.0269526073615 \t gene pval= 0.356352164317\n",
      "176 \t logr pval= 0.405722226441 \t sepLR pval= 0.700893454567 \t gene pval= 0.504851057455\n",
      "177 \t logr pval= 0.100579178844 \t sepLR pval= 0.0168825846284 \t gene pval= 0.148953281351\n",
      "178 \t logr pval= 0.0952727443192 \t sepLR pval= 0.0875872556223 \t gene pval= 0.500946900595\n",
      "179 \t logr pval= 0.00803944953134 \t sepLR pval= 0.0694147955048 \t gene pval= 0.0337901242205\n",
      "180 \t logr pval= 0.0157132412879 \t sepLR pval= 0.00938201648725 \t gene pval= 0.680086349134\n",
      "181 \t logr pval= 0.225447297322 \t sepLR pval= 0.135438264552 \t gene pval= 0.560436137574\n",
      "182 \t logr pval= 0.0444317303679 \t sepLR pval= 0.0607634944288 \t gene pval= 0.141437286259\n",
      "183 \t logr pval= 0.0978340491252 \t sepLR pval= 0.0674088425117 \t gene pval= 0.49091694017\n",
      "184 \t logr pval= 0.000971617626016 \t sepLR pval= 0.00334640348102 \t gene pval= 0.187938737776\n",
      "185 \t logr pval= 0.268298565079 \t sepLR pval= 0.279085961085 \t gene pval= 0.430965333662\n"
     ]
    },
    {
     "name": "stdout",
     "output_type": "stream",
     "text": [
      "186 \t logr pval= 0.0399344045446 \t sepLR pval= 0.106265072353 \t gene pval= 0.528914480771\n",
      "187 \t logr pval= 0.0271515420076 \t sepLR pval= 0.00683570923331 \t gene pval= 0.0207422280679\n",
      "188 \t logr pval= 0.136438032973 \t sepLR pval= 0.867556058906 \t gene pval= 0.857760644794\n",
      "189 \t logr pval= 0.200321076002 \t sepLR pval= 0.195246901552 \t gene pval= 0.559455097257\n",
      "190 \t logr pval= 0.268125008644 \t sepLR pval= 0.388477898599 \t gene pval= 0.162080321145\n",
      "191 \t logr pval= 0.000481852775444 \t sepLR pval= 0.00752931794404 \t gene pval= 0.0647868075666\n",
      "192 \t logr pval= 0.178606661458 \t sepLR pval= 0.0476687980407 \t gene pval= 0.183096969215\n",
      "193 \t logr pval= 0.00333597803511 \t sepLR pval= 0.0268436562143 \t gene pval= 0.208254313424\n",
      "194 \t logr pval= 0.532031104738 \t sepLR pval= 0.483585700742 \t gene pval= 0.448695445299\n",
      "195 \t logr pval= 0.0853657852874 \t sepLR pval= 0.0287701464085 \t gene pval= 0.161034794706\n",
      "196 \t logr pval= 0.476234063953 \t sepLR pval= 0.524236188896 \t gene pval= 0.831707764714\n",
      "197 \t logr pval= 0.0494722973058 \t sepLR pval= 0.0875872556223 \t gene pval= 0.362753933577\n",
      "198 \t logr pval= 0.273737389783 \t sepLR pval= 0.29891777831 \t gene pval= 0.276449372291\n",
      "199 \t logr pval= 0.273363373043 \t sepLR pval= 0.483585700742 \t gene pval= 0.55306548508\n",
      "\n",
      " logR Avg. p-value:  0.197013976439\n",
      "\n",
      " seplogR Avg. p-value:  0.260145149691\n",
      "\n",
      " gene Avg. p-value:  0.378429425648\n"
     ]
    }
   ],
   "source": [
    "np.random.seed(0)\n",
    "samples=3000\n",
    "carlo=200\n",
    "pvals=[]\n",
    "pvals_t_test=[]\n",
    "pvals_sep_logR=[]\n",
    "for monte in range(carlo):\n",
    "    randperm1A=np.random.permutation(X_naive.shape[0])\n",
    "    randperm2A=np.random.permutation(X_cyto.shape[0])\n",
    "    #positive control \n",
    "\n",
    "    X1=X_naive[randperm1A[:samples],:]\n",
    "    X2=X_cyto[randperm2A[:samples],:]\n",
    "\n",
    "\n",
    "    # print(X1.shape)\n",
    "    # print(X2.shape)\n",
    "\n",
    "    N1=X1.shape[0]\n",
    "    N2=X2.shape[0]\n",
    "\n",
    "\n",
    "    A=logr_ecidx(ecidx,X1,X2)\n",
    "    \n",
    "    pvals+=[A[1]]\n",
    "    tpval=ttest_ecidx(ecidx,X1,X2)\n",
    "    pvals_t_test+=[tpval[0]]\n",
    "    pvals_t_test_gene+=[tpval[2]]\n",
    "    \n",
    "    Ag=logr_gene(ecidx,X1,X2)\n",
    "    pvals_logr_gene+=[Ag[1]]\n",
    "    \n",
    "    \n",
    "    \n",
    "    \n",
    "    pvals_tmp=[]\n",
    "    for j in ecidx:\n",
    "        B=logr_ecidx([j],X1,X2)\n",
    "        pvals_tmp+=[B[1]]\n",
    "    pval_sep=np.min([1,np.min(np.array(pvals_tmp))*len(ecidx)])\n",
    "    pvals_sep_logR+=[pval_sep]\n",
    "    \n",
    "    print(monte,'\\t logr pval=',A[1],'\\t sepLR pval=',pval_sep,'\\t gene pval=',Ag[1])\n",
    "    \n",
    "    \n",
    "print(\"\\n logR Avg. p-value: \",np.mean(pvals))\n",
    "print(\"\\n seplogR Avg. p-value: \",np.mean(pvals_sep_logR))\n",
    "print(\"\\n gene Avg. p-value: \",np.mean(pvals_logr_gene))"
   ]
  },
  {
   "cell_type": "code",
   "execution_count": 60,
   "metadata": {
    "scrolled": true
   },
   "outputs": [
    {
     "data": {
      "image/png": "[encoded data removed]",
      "text/plain": [
       "<matplotlib.figure.Figure at 0x7fd19d5a64a8>"
      ]
     },
     "metadata": {},
     "output_type": "display_data"
    }
   ],
   "source": [
    "pvals_t_test3=pvals_t_test\n",
    "pvals_sep_logR3=pvals_sep_logR\n",
    "pvals3=pvals\n",
    "\n",
    "plt.figure()\n",
    "pvals_t_test_gene3=pvals_t_test_gene\n",
    "pvals_logr_gene3=pvals_logr_gene\n",
    "# sns.distplot(-np.log10(pvals_t_test_gene3),hist=True,color='r')\n",
    "sns.distplot(-np.log10(pvals_t_test_gene3),hist=True,color='lightcoral',)\n",
    "\n",
    "sns.distplot(-np.log10(pvals_sep_logR3))\n",
    "sns.distplot(-np.log10(pvals3))\n",
    "# sns.distplot(-np.log10(pvals_t_test3),hist=False,color='k')\n",
    "\n",
    "\n",
    "yy=ax.get_ylim()\n",
    "plt.vlines(-np.log10(bB3[1]),ymin=yy[0],ymax=yy[1],color='r',linestyles='--')\n",
    "plt.vlines(-np.log10(cC3[1]),ymin=yy[0],ymax=yy[1],color='royalblue',linestyles='--')\n",
    "plt.vlines(-np.log10(aA3[1]),ymin=yy[0],ymax=yy[1],color='darkorange',linestyles='--')\n",
    "\n",
    "plt.ylim(yy)\n",
    "plt.xlim([-0.05,10])\n",
    "\n",
    "plt.show()"
   ]
  },
  {
   "cell_type": "code",
   "execution_count": null,
   "metadata": {
    "collapsed": true
   },
   "outputs": [],
   "source": []
  }
 ],
 "metadata": {
  "kernelspec": {
   "display_name": "py36",
   "language": "python",
   "name": "python3"
  },
  "language_info": {
   "codemirror_mode": {
    "name": "ipython",
    "version": 3
   },
   "file_extension": ".py",
   "mimetype": "text/x-python",
   "name": "python",
   "nbconvert_exporter": "python",
   "pygments_lexer": "ipython3",
   "version": "3.6.2"
  }
 },
 "nbformat": 4,
 "nbformat_minor": 2
}
